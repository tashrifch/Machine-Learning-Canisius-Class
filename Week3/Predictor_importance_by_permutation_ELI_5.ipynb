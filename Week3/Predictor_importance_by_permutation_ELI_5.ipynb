{
  "cells": [
    {
      "cell_type": "markdown",
      "id": "de6bae35",
      "metadata": {
        "id": "de6bae35"
      },
      "source": [
        " # Predictor importance using Permutation methods\n",
        "    \n",
        "    Based off of a neural net predictor for diabetes progression, which is a built in example data\n",
        "    set\n",
        "\n",
        "    See\n",
        "\n",
        "    https://scikit-learn.org/stable/datasets/toy_dataset.html\n",
        "    \n",
        "    The eli5 package makes global estimates of predictor importance and interaction\n",
        "    \n",
        "    Eli 5 can be a bit hard to install, the command is\n",
        "    \n",
        "        conda install -c conda-forge eli5"
      ]
    },
    {
      "cell_type": "code",
      "source": [
        "#install eli5 when running in google colab\n",
        "\n",
        "!pip install eli5"
      ],
      "metadata": {
        "colab": {
          "base_uri": "https://localhost:8080/"
        },
        "id": "PeE30k1uk9Oq",
        "outputId": "a406bd47-6f09-4fe0-ee99-a1a02200c711"
      },
      "id": "PeE30k1uk9Oq",
      "execution_count": 2,
      "outputs": [
        {
          "output_type": "stream",
          "name": "stdout",
          "text": [
            "Collecting eli5\n",
            "  Downloading eli5-0.13.0.tar.gz (216 kB)\n",
            "\u001b[2K     \u001b[90m━━━━━━━━━━━━━━━━━━━━━━━━━━━━━━━━━━━━━━━━\u001b[0m \u001b[32m216.2/216.2 kB\u001b[0m \u001b[31m2.8 MB/s\u001b[0m eta \u001b[36m0:00:00\u001b[0m\n",
            "\u001b[?25h  Preparing metadata (setup.py) ... \u001b[?25l\u001b[?25hdone\n",
            "Requirement already satisfied: attrs>17.1.0 in /usr/local/lib/python3.10/dist-packages (from eli5) (23.2.0)\n",
            "Requirement already satisfied: jinja2>=3.0.0 in /usr/local/lib/python3.10/dist-packages (from eli5) (3.1.2)\n",
            "Requirement already satisfied: numpy>=1.9.0 in /usr/local/lib/python3.10/dist-packages (from eli5) (1.23.5)\n",
            "Requirement already satisfied: scipy in /usr/local/lib/python3.10/dist-packages (from eli5) (1.11.4)\n",
            "Requirement already satisfied: six in /usr/local/lib/python3.10/dist-packages (from eli5) (1.16.0)\n",
            "Requirement already satisfied: scikit-learn>=0.20 in /usr/local/lib/python3.10/dist-packages (from eli5) (1.2.2)\n",
            "Requirement already satisfied: graphviz in /usr/local/lib/python3.10/dist-packages (from eli5) (0.20.1)\n",
            "Requirement already satisfied: tabulate>=0.7.7 in /usr/local/lib/python3.10/dist-packages (from eli5) (0.9.0)\n",
            "Requirement already satisfied: MarkupSafe>=2.0 in /usr/local/lib/python3.10/dist-packages (from jinja2>=3.0.0->eli5) (2.1.3)\n",
            "Requirement already satisfied: joblib>=1.1.1 in /usr/local/lib/python3.10/dist-packages (from scikit-learn>=0.20->eli5) (1.3.2)\n",
            "Requirement already satisfied: threadpoolctl>=2.0.0 in /usr/local/lib/python3.10/dist-packages (from scikit-learn>=0.20->eli5) (3.2.0)\n",
            "Building wheels for collected packages: eli5\n",
            "  Building wheel for eli5 (setup.py) ... \u001b[?25l\u001b[?25hdone\n",
            "  Created wheel for eli5: filename=eli5-0.13.0-py2.py3-none-any.whl size=107717 sha256=895b4daf156429963fd492f17b79ab5092305f3350663eb4fbd6a974587662e5\n",
            "  Stored in directory: /root/.cache/pip/wheels/b8/58/ef/2cf4c306898c2338d51540e0922c8e0d6028e07007085c0004\n",
            "Successfully built eli5\n",
            "Installing collected packages: eli5\n",
            "Successfully installed eli5-0.13.0\n"
          ]
        }
      ]
    },
    {
      "cell_type": "code",
      "execution_count": 3,
      "id": "e42d12b5",
      "metadata": {
        "id": "e42d12b5"
      },
      "outputs": [],
      "source": [
        "# Loading data, dividing, modeling and EDA below\n",
        "\n",
        "from sklearn.preprocessing import StandardScaler\n",
        "from sklearn.neural_network import MLPRegressor\n",
        "from sklearn.pipeline import make_pipeline\n",
        "\n",
        "from sklearn.datasets import load_diabetes\n",
        "from sklearn.model_selection import train_test_split\n",
        "import numpy as np\n",
        "import time\n",
        "import pandas as pd\n",
        "import matplotlib\n",
        "import eli5\n",
        "from eli5.sklearn import PermutationImportance\n",
        "\n",
        "\n",
        "X,y = load_diabetes(return_X_y=True)\n",
        "features = load_diabetes()['feature_names']"
      ]
    },
    {
      "cell_type": "code",
      "execution_count": 4,
      "id": "2dbf27ac",
      "metadata": {
        "colab": {
          "base_uri": "https://localhost:8080/"
        },
        "id": "2dbf27ac",
        "outputId": "a40a6d63-35d2-409a-b432-790f73db3388"
      },
      "outputs": [
        {
          "output_type": "execute_result",
          "data": {
            "text/plain": [
              "['age', 'sex', 'bmi', 'bp', 's1', 's2', 's3', 's4', 's5', 's6']"
            ]
          },
          "metadata": {},
          "execution_count": 4
        }
      ],
      "source": [
        "features"
      ]
    },
    {
      "cell_type": "code",
      "execution_count": 5,
      "id": "de3453a4",
      "metadata": {
        "id": "de3453a4"
      },
      "outputs": [],
      "source": [
        "X?"
      ]
    },
    {
      "cell_type": "markdown",
      "id": "4767c987",
      "metadata": {
        "id": "4767c987"
      },
      "source": [
        "Looking at the sklearn manual at\n",
        "\n",
        "https://scikit-learn.org/stable/datasets/toy_dataset.html#diabetes-dataset\n",
        "\n",
        "Column 11 is a quantitative measure of disease progression one year after baseline- it is a float\n",
        "\n",
        "Here are the predictors, all of which are floats\n",
        "\n",
        "age age in years\n",
        "\n",
        "sex\n",
        "\n",
        "bmi body mass index\n",
        "\n",
        "bp average blood pressure\n",
        "\n",
        "s1 tc, total serum cholesterol\n",
        "\n",
        "s2 ldl, low-density lipoproteins\n",
        "\n",
        "s3 hdl, high-density lipoproteins\n",
        "\n",
        "s4 tch, total cholesterol / HDL\n",
        "\n",
        "s5 ltg, possibly log of serum triglycerides level\n",
        "\n",
        "s6 glu, blood sugar level\n",
        "\n",
        "Below I used X? to find out a bit about X, it is an ndarray, with 442 elements"
      ]
    },
    {
      "cell_type": "markdown",
      "id": "bc6f9fe9",
      "metadata": {
        "id": "bc6f9fe9"
      },
      "source": [
        "Here we convert the input data,  which were numpy matrices to pandas dataframes\n",
        "\n",
        "sklearn accepts either, but some of the permuation plot material does not"
      ]
    },
    {
      "cell_type": "code",
      "execution_count": 6,
      "id": "78f73d2f",
      "metadata": {
        "scrolled": true,
        "id": "78f73d2f"
      },
      "outputs": [],
      "source": [
        "X_train, X_test, y_train, y_test = train_test_split(pd.DataFrame(X,columns=features), y, test_size=0.33, random_state=42)"
      ]
    },
    {
      "cell_type": "markdown",
      "id": "78c708f4",
      "metadata": {
        "id": "78c708f4"
      },
      "source": [
        "This is a pipelined model,  more on that later\n",
        "\n",
        "The scaler and the model are combined into a single operation\n",
        "\n",
        "We are modifying the data by standard scaling it,  sometimes also called z scaling\n",
        "\n",
        "    Scaled data   =  (original data-mean)/(standard deviation of original data)\n",
        "    \n",
        "The correlation structure and predictive power of the variables is not changed, but all the scaled variables now have a mean value of zero and a standard deviation of 1\n",
        "\n",
        "It is typically easier to train neural networks on scaled data\n",
        "\n",
        "A pipeline is combination of data transformations, where the data is passed to each operation in turn,  so we can combine data formatting, scaled and then creation of a model all into one operation."
      ]
    },
    {
      "cell_type": "code",
      "execution_count": 7,
      "id": "5be0debc",
      "metadata": {
        "id": "5be0debc"
      },
      "outputs": [],
      "source": [
        "model = make_pipeline(\n",
        "    StandardScaler(),\n",
        "    MLPRegressor(hidden_layer_sizes=(5,3,),activation='logistic', max_iter=50000,learning_rate='invscaling',random_state=0)\n",
        ")"
      ]
    },
    {
      "cell_type": "markdown",
      "id": "68bfaa81-87ed-4ae5-a909-114471e27526",
      "metadata": {
        "id": "68bfaa81-87ed-4ae5-a909-114471e27526"
      },
      "source": [
        "# Question\n",
        "\n",
        "What type of predictive model is being used here?   What are it's characteristics?\n",
        "\n",
        "What type of data is being predicted in the label or target variable y?\n",
        "\n",
        "How is this different from most of our earlier models?\n",
        "\n",
        "What loss function is in use\n",
        "\n",
        "Look up MLPRegressor (figure out what library it is in, then google it).\n",
        "\n",
        "What operational parameters can you change?   Try one"
      ]
    },
    {
      "cell_type": "markdown",
      "id": "c9ea9576",
      "metadata": {
        "id": "c9ea9576"
      },
      "source": [
        "Fit the model"
      ]
    },
    {
      "cell_type": "code",
      "execution_count": 8,
      "id": "d9d33fd7",
      "metadata": {
        "colab": {
          "base_uri": "https://localhost:8080/",
          "height": 128
        },
        "id": "d9d33fd7",
        "outputId": "9fac4b65-0eac-4c75-95f2-61ce9e8fc43e"
      },
      "outputs": [
        {
          "output_type": "execute_result",
          "data": {
            "text/plain": [
              "Pipeline(steps=[('standardscaler', StandardScaler()),\n",
              "                ('mlpregressor',\n",
              "                 MLPRegressor(activation='logistic', hidden_layer_sizes=(5, 3),\n",
              "                              learning_rate='invscaling', max_iter=50000,\n",
              "                              random_state=0))])"
            ],
            "text/html": [
              "<style>#sk-container-id-1 {color: black;background-color: white;}#sk-container-id-1 pre{padding: 0;}#sk-container-id-1 div.sk-toggleable {background-color: white;}#sk-container-id-1 label.sk-toggleable__label {cursor: pointer;display: block;width: 100%;margin-bottom: 0;padding: 0.3em;box-sizing: border-box;text-align: center;}#sk-container-id-1 label.sk-toggleable__label-arrow:before {content: \"▸\";float: left;margin-right: 0.25em;color: #696969;}#sk-container-id-1 label.sk-toggleable__label-arrow:hover:before {color: black;}#sk-container-id-1 div.sk-estimator:hover label.sk-toggleable__label-arrow:before {color: black;}#sk-container-id-1 div.sk-toggleable__content {max-height: 0;max-width: 0;overflow: hidden;text-align: left;background-color: #f0f8ff;}#sk-container-id-1 div.sk-toggleable__content pre {margin: 0.2em;color: black;border-radius: 0.25em;background-color: #f0f8ff;}#sk-container-id-1 input.sk-toggleable__control:checked~div.sk-toggleable__content {max-height: 200px;max-width: 100%;overflow: auto;}#sk-container-id-1 input.sk-toggleable__control:checked~label.sk-toggleable__label-arrow:before {content: \"▾\";}#sk-container-id-1 div.sk-estimator input.sk-toggleable__control:checked~label.sk-toggleable__label {background-color: #d4ebff;}#sk-container-id-1 div.sk-label input.sk-toggleable__control:checked~label.sk-toggleable__label {background-color: #d4ebff;}#sk-container-id-1 input.sk-hidden--visually {border: 0;clip: rect(1px 1px 1px 1px);clip: rect(1px, 1px, 1px, 1px);height: 1px;margin: -1px;overflow: hidden;padding: 0;position: absolute;width: 1px;}#sk-container-id-1 div.sk-estimator {font-family: monospace;background-color: #f0f8ff;border: 1px dotted black;border-radius: 0.25em;box-sizing: border-box;margin-bottom: 0.5em;}#sk-container-id-1 div.sk-estimator:hover {background-color: #d4ebff;}#sk-container-id-1 div.sk-parallel-item::after {content: \"\";width: 100%;border-bottom: 1px solid gray;flex-grow: 1;}#sk-container-id-1 div.sk-label:hover label.sk-toggleable__label {background-color: #d4ebff;}#sk-container-id-1 div.sk-serial::before {content: \"\";position: absolute;border-left: 1px solid gray;box-sizing: border-box;top: 0;bottom: 0;left: 50%;z-index: 0;}#sk-container-id-1 div.sk-serial {display: flex;flex-direction: column;align-items: center;background-color: white;padding-right: 0.2em;padding-left: 0.2em;position: relative;}#sk-container-id-1 div.sk-item {position: relative;z-index: 1;}#sk-container-id-1 div.sk-parallel {display: flex;align-items: stretch;justify-content: center;background-color: white;position: relative;}#sk-container-id-1 div.sk-item::before, #sk-container-id-1 div.sk-parallel-item::before {content: \"\";position: absolute;border-left: 1px solid gray;box-sizing: border-box;top: 0;bottom: 0;left: 50%;z-index: -1;}#sk-container-id-1 div.sk-parallel-item {display: flex;flex-direction: column;z-index: 1;position: relative;background-color: white;}#sk-container-id-1 div.sk-parallel-item:first-child::after {align-self: flex-end;width: 50%;}#sk-container-id-1 div.sk-parallel-item:last-child::after {align-self: flex-start;width: 50%;}#sk-container-id-1 div.sk-parallel-item:only-child::after {width: 0;}#sk-container-id-1 div.sk-dashed-wrapped {border: 1px dashed gray;margin: 0 0.4em 0.5em 0.4em;box-sizing: border-box;padding-bottom: 0.4em;background-color: white;}#sk-container-id-1 div.sk-label label {font-family: monospace;font-weight: bold;display: inline-block;line-height: 1.2em;}#sk-container-id-1 div.sk-label-container {text-align: center;}#sk-container-id-1 div.sk-container {/* jupyter's `normalize.less` sets `[hidden] { display: none; }` but bootstrap.min.css set `[hidden] { display: none !important; }` so we also need the `!important` here to be able to override the default hidden behavior on the sphinx rendered scikit-learn.org. See: https://github.com/scikit-learn/scikit-learn/issues/21755 */display: inline-block !important;position: relative;}#sk-container-id-1 div.sk-text-repr-fallback {display: none;}</style><div id=\"sk-container-id-1\" class=\"sk-top-container\"><div class=\"sk-text-repr-fallback\"><pre>Pipeline(steps=[(&#x27;standardscaler&#x27;, StandardScaler()),\n",
              "                (&#x27;mlpregressor&#x27;,\n",
              "                 MLPRegressor(activation=&#x27;logistic&#x27;, hidden_layer_sizes=(5, 3),\n",
              "                              learning_rate=&#x27;invscaling&#x27;, max_iter=50000,\n",
              "                              random_state=0))])</pre><b>In a Jupyter environment, please rerun this cell to show the HTML representation or trust the notebook. <br />On GitHub, the HTML representation is unable to render, please try loading this page with nbviewer.org.</b></div><div class=\"sk-container\" hidden><div class=\"sk-item sk-dashed-wrapped\"><div class=\"sk-label-container\"><div class=\"sk-label sk-toggleable\"><input class=\"sk-toggleable__control sk-hidden--visually\" id=\"sk-estimator-id-1\" type=\"checkbox\" ><label for=\"sk-estimator-id-1\" class=\"sk-toggleable__label sk-toggleable__label-arrow\">Pipeline</label><div class=\"sk-toggleable__content\"><pre>Pipeline(steps=[(&#x27;standardscaler&#x27;, StandardScaler()),\n",
              "                (&#x27;mlpregressor&#x27;,\n",
              "                 MLPRegressor(activation=&#x27;logistic&#x27;, hidden_layer_sizes=(5, 3),\n",
              "                              learning_rate=&#x27;invscaling&#x27;, max_iter=50000,\n",
              "                              random_state=0))])</pre></div></div></div><div class=\"sk-serial\"><div class=\"sk-item\"><div class=\"sk-estimator sk-toggleable\"><input class=\"sk-toggleable__control sk-hidden--visually\" id=\"sk-estimator-id-2\" type=\"checkbox\" ><label for=\"sk-estimator-id-2\" class=\"sk-toggleable__label sk-toggleable__label-arrow\">StandardScaler</label><div class=\"sk-toggleable__content\"><pre>StandardScaler()</pre></div></div></div><div class=\"sk-item\"><div class=\"sk-estimator sk-toggleable\"><input class=\"sk-toggleable__control sk-hidden--visually\" id=\"sk-estimator-id-3\" type=\"checkbox\" ><label for=\"sk-estimator-id-3\" class=\"sk-toggleable__label sk-toggleable__label-arrow\">MLPRegressor</label><div class=\"sk-toggleable__content\"><pre>MLPRegressor(activation=&#x27;logistic&#x27;, hidden_layer_sizes=(5, 3),\n",
              "             learning_rate=&#x27;invscaling&#x27;, max_iter=50000, random_state=0)</pre></div></div></div></div></div></div></div>"
            ]
          },
          "metadata": {},
          "execution_count": 8
        }
      ],
      "source": [
        "model.fit(X_train,y_train)"
      ]
    },
    {
      "cell_type": "markdown",
      "id": "2a58510a",
      "metadata": {
        "id": "2a58510a"
      },
      "source": [
        "Now we will compute the impact of the different features by permutation,  randomizing one factor at a time and studying the impact of each on the prediction\n",
        "\n",
        "We can then get an output table,  the weight"
      ]
    },
    {
      "cell_type": "code",
      "execution_count": 9,
      "id": "24b7f3ec",
      "metadata": {
        "scrolled": true,
        "id": "24b7f3ec"
      },
      "outputs": [],
      "source": [
        "perm = PermutationImportance(model, random_state=1).fit(X_train, y_train)"
      ]
    },
    {
      "cell_type": "markdown",
      "id": "2de324bc-2fd5-4103-a14d-f0a619140a68",
      "metadata": {
        "id": "2de324bc-2fd5-4103-a14d-f0a619140a68"
      },
      "source": [
        "Now we can use eli5 to show the permutation weights"
      ]
    },
    {
      "cell_type": "code",
      "execution_count": 10,
      "id": "5bf895af",
      "metadata": {
        "scrolled": true,
        "colab": {
          "base_uri": "https://localhost:8080/",
          "height": 208
        },
        "id": "5bf895af",
        "outputId": "29ab669a-895b-4ca5-a7da-df940e34b7a2"
      },
      "outputs": [
        {
          "output_type": "execute_result",
          "data": {
            "text/plain": [
              "<IPython.core.display.HTML object>"
            ],
            "text/html": [
              "\n",
              "    <style>\n",
              "    table.eli5-weights tr:hover {\n",
              "        filter: brightness(85%);\n",
              "    }\n",
              "</style>\n",
              "\n",
              "\n",
              "\n",
              "    \n",
              "\n",
              "    \n",
              "\n",
              "    \n",
              "\n",
              "    \n",
              "\n",
              "    \n",
              "\n",
              "    \n",
              "\n",
              "\n",
              "    \n",
              "\n",
              "    \n",
              "\n",
              "    \n",
              "\n",
              "    \n",
              "\n",
              "    \n",
              "\n",
              "    \n",
              "\n",
              "\n",
              "    \n",
              "\n",
              "    \n",
              "\n",
              "    \n",
              "\n",
              "    \n",
              "\n",
              "    \n",
              "        <table class=\"eli5-weights eli5-feature-importances\" style=\"border-collapse: collapse; border: none; margin-top: 0em; table-layout: auto;\">\n",
              "    <thead>\n",
              "    <tr style=\"border: none;\">\n",
              "        <th style=\"padding: 0 1em 0 0.5em; text-align: right; border: none;\">Weight</th>\n",
              "        <th style=\"padding: 0 0.5em 0 0.5em; text-align: left; border: none;\">Feature</th>\n",
              "    </tr>\n",
              "    </thead>\n",
              "    <tbody>\n",
              "    \n",
              "        <tr style=\"background-color: hsl(120, 100.00%, 80.00%); border: none;\">\n",
              "            <td style=\"padding: 0 1em 0 0.5em; text-align: right; border: none;\">\n",
              "                0.5144\n",
              "                \n",
              "                    &plusmn; 0.1036\n",
              "                \n",
              "            </td>\n",
              "            <td style=\"padding: 0 0.5em 0 0.5em; text-align: left; border: none;\">\n",
              "                bmi\n",
              "            </td>\n",
              "        </tr>\n",
              "    \n",
              "        <tr style=\"background-color: hsl(120, 100.00%, 84.82%); border: none;\">\n",
              "            <td style=\"padding: 0 1em 0 0.5em; text-align: right; border: none;\">\n",
              "                0.3470\n",
              "                \n",
              "                    &plusmn; 0.0441\n",
              "                \n",
              "            </td>\n",
              "            <td style=\"padding: 0 0.5em 0 0.5em; text-align: left; border: none;\">\n",
              "                s5\n",
              "            </td>\n",
              "        </tr>\n",
              "    \n",
              "        <tr style=\"background-color: hsl(120, 100.00%, 86.95%); border: none;\">\n",
              "            <td style=\"padding: 0 1em 0 0.5em; text-align: right; border: none;\">\n",
              "                0.2794\n",
              "                \n",
              "                    &plusmn; 0.0424\n",
              "                \n",
              "            </td>\n",
              "            <td style=\"padding: 0 0.5em 0 0.5em; text-align: left; border: none;\">\n",
              "                s3\n",
              "            </td>\n",
              "        </tr>\n",
              "    \n",
              "        <tr style=\"background-color: hsl(120, 100.00%, 87.18%); border: none;\">\n",
              "            <td style=\"padding: 0 1em 0 0.5em; text-align: right; border: none;\">\n",
              "                0.2725\n",
              "                \n",
              "                    &plusmn; 0.0945\n",
              "                \n",
              "            </td>\n",
              "            <td style=\"padding: 0 0.5em 0 0.5em; text-align: left; border: none;\">\n",
              "                bp\n",
              "            </td>\n",
              "        </tr>\n",
              "    \n",
              "        <tr style=\"background-color: hsl(120, 100.00%, 89.96%); border: none;\">\n",
              "            <td style=\"padding: 0 1em 0 0.5em; text-align: right; border: none;\">\n",
              "                0.1923\n",
              "                \n",
              "                    &plusmn; 0.0578\n",
              "                \n",
              "            </td>\n",
              "            <td style=\"padding: 0 0.5em 0 0.5em; text-align: left; border: none;\">\n",
              "                s4\n",
              "            </td>\n",
              "        </tr>\n",
              "    \n",
              "        <tr style=\"background-color: hsl(120, 100.00%, 90.12%); border: none;\">\n",
              "            <td style=\"padding: 0 1em 0 0.5em; text-align: right; border: none;\">\n",
              "                0.1879\n",
              "                \n",
              "                    &plusmn; 0.0298\n",
              "                \n",
              "            </td>\n",
              "            <td style=\"padding: 0 0.5em 0 0.5em; text-align: left; border: none;\">\n",
              "                s2\n",
              "            </td>\n",
              "        </tr>\n",
              "    \n",
              "        <tr style=\"background-color: hsl(120, 100.00%, 90.66%); border: none;\">\n",
              "            <td style=\"padding: 0 1em 0 0.5em; text-align: right; border: none;\">\n",
              "                0.1734\n",
              "                \n",
              "                    &plusmn; 0.0683\n",
              "                \n",
              "            </td>\n",
              "            <td style=\"padding: 0 0.5em 0 0.5em; text-align: left; border: none;\">\n",
              "                sex\n",
              "            </td>\n",
              "        </tr>\n",
              "    \n",
              "        <tr style=\"background-color: hsl(120, 100.00%, 90.68%); border: none;\">\n",
              "            <td style=\"padding: 0 1em 0 0.5em; text-align: right; border: none;\">\n",
              "                0.1728\n",
              "                \n",
              "                    &plusmn; 0.0531\n",
              "                \n",
              "            </td>\n",
              "            <td style=\"padding: 0 0.5em 0 0.5em; text-align: left; border: none;\">\n",
              "                age\n",
              "            </td>\n",
              "        </tr>\n",
              "    \n",
              "        <tr style=\"background-color: hsl(120, 100.00%, 91.16%); border: none;\">\n",
              "            <td style=\"padding: 0 1em 0 0.5em; text-align: right; border: none;\">\n",
              "                0.1602\n",
              "                \n",
              "                    &plusmn; 0.0456\n",
              "                \n",
              "            </td>\n",
              "            <td style=\"padding: 0 0.5em 0 0.5em; text-align: left; border: none;\">\n",
              "                s1\n",
              "            </td>\n",
              "        </tr>\n",
              "    \n",
              "        <tr style=\"background-color: hsl(120, 100.00%, 91.42%); border: none;\">\n",
              "            <td style=\"padding: 0 1em 0 0.5em; text-align: right; border: none;\">\n",
              "                0.1536\n",
              "                \n",
              "                    &plusmn; 0.0651\n",
              "                \n",
              "            </td>\n",
              "            <td style=\"padding: 0 0.5em 0 0.5em; text-align: left; border: none;\">\n",
              "                s6\n",
              "            </td>\n",
              "        </tr>\n",
              "    \n",
              "    \n",
              "    </tbody>\n",
              "</table>\n",
              "    \n",
              "\n",
              "    \n",
              "\n",
              "\n",
              "    \n",
              "\n",
              "    \n",
              "\n",
              "    \n",
              "\n",
              "    \n",
              "\n",
              "    \n",
              "\n",
              "    \n",
              "\n",
              "\n",
              "\n"
            ]
          },
          "metadata": {},
          "execution_count": 10
        }
      ],
      "source": [
        "eli5.show_weights(perm, feature_names = features)"
      ]
    },
    {
      "cell_type": "markdown",
      "id": "b4503a88-df2d-47a3-a3d5-bd631f170e66",
      "metadata": {
        "id": "b4503a88-df2d-47a3-a3d5-bd631f170e66"
      },
      "source": [
        "# Question:\n",
        "    \n",
        "Look up in Eli5 how the weights are determined, and explain it here\n",
        "\n"
      ]
    },
    {
      "cell_type": "markdown",
      "source": [
        "#Partial Dependence Plots"
      ],
      "metadata": {
        "id": "UD56TJXDxfcn"
      },
      "id": "UD56TJXDxfcn"
    },
    {
      "cell_type": "code",
      "source": [
        "# just checking the feature order\n",
        "features"
      ],
      "metadata": {
        "colab": {
          "base_uri": "https://localhost:8080/"
        },
        "id": "KpyzD17Af8Jr",
        "outputId": "60497acb-062c-4b8a-9080-316c21d9ad9b"
      },
      "id": "KpyzD17Af8Jr",
      "execution_count": 30,
      "outputs": [
        {
          "output_type": "execute_result",
          "data": {
            "text/plain": [
              "['age', 'sex', 'bmi', 'bp', 's1', 's2', 's3', 's4', 's5', 's6']"
            ]
          },
          "metadata": {},
          "execution_count": 30
        }
      ]
    },
    {
      "cell_type": "code",
      "source": [
        "from sklearn.inspection import PartialDependenceDisplay\n",
        "from sklearn.inspection import partial_dependence\n",
        "\n",
        "#bmi was the most important\n",
        "\n",
        "target=2\n",
        "nsteps=20\n",
        "\n",
        "dpfeatures=[(target,)]\n",
        "\n",
        "\n",
        "\n",
        "# we already have the list of feature names in a variable called features\n",
        "\n",
        "#dpfeature_names= features\n",
        "\n",
        "#dpfeature_names=[f\"Features #{i}\" for i in range(X_train.shape[1])]\n",
        "\n",
        "dpfeature_names=[f\"Feature: {i }\" for i in features]\n",
        "\n",
        "deciles = {0: np.linspace(X_train.iloc[target].min(),X_train.iloc[target].max() , num=nsteps)}\n",
        "\n",
        "\n",
        "pd_results=partial_dependence(model,X_train,features=dpfeatures,kind='average',grid_resolution=nsteps)\n",
        "\n",
        "\n",
        "display=PartialDependenceDisplay([pd_results],features=dpfeatures,feature_names=dpfeature_names,deciles=deciles,target_idx=0)\n",
        "\n",
        "display.plot()\n",
        "\n"
      ],
      "metadata": {
        "colab": {
          "base_uri": "https://localhost:8080/",
          "height": 466
        },
        "id": "9UWE9t0ryAdN",
        "outputId": "019f398c-7931-47fd-86bc-a3a23dbc9ea9"
      },
      "id": "9UWE9t0ryAdN",
      "execution_count": 67,
      "outputs": [
        {
          "output_type": "execute_result",
          "data": {
            "text/plain": [
              "<sklearn.inspection._plot.partial_dependence.PartialDependenceDisplay at 0x7ff8228f91b0>"
            ]
          },
          "metadata": {},
          "execution_count": 67
        },
        {
          "output_type": "display_data",
          "data": {
            "text/plain": [
              "<Figure size 640x480 with 2 Axes>"
            ],
            "image/png": "[encoded data removed]"
          },
          "metadata": {}
        }
      ]
    },
    {
      "cell_type": "code",
      "source": [
        "PartialDependenceDisplay.from_estimator(model,X_train,[(0,1)])"
      ],
      "metadata": {
        "colab": {
          "base_uri": "https://localhost:8080/",
          "height": 466
        },
        "id": "ztscs6IK1SfO",
        "outputId": "b29a2ce4-f00a-4d0b-d814-ca4d45d82bc5"
      },
      "id": "ztscs6IK1SfO",
      "execution_count": 60,
      "outputs": [
        {
          "output_type": "execute_result",
          "data": {
            "text/plain": [
              "<sklearn.inspection._plot.partial_dependence.PartialDependenceDisplay at 0x7ff8228f8f70>"
            ]
          },
          "metadata": {},
          "execution_count": 60
        },
        {
          "output_type": "display_data",
          "data": {
            "text/plain": [
              "<Figure size 640x480 with 2 Axes>"
            ],
            "image/png": "[encoded data removed]"
          },
          "metadata": {}
        }
      ]
    },
    {
      "cell_type": "markdown",
      "source": [
        "Alter the dual dependence plot above to show the two most important variables in the model as determined by your ELI5 results"
      ],
      "metadata": {
        "id": "xqpbA0Teps43"
      },
      "id": "xqpbA0Teps43"
    }
  ],
  "metadata": {
    "kernelspec": {
      "display_name": "Python 3 (ipykernel)",
      "language": "python",
      "name": "python3"
    },
    "language_info": {
      "codemirror_mode": {
        "name": "ipython",
        "version": 3
      },
      "file_extension": ".py",
      "mimetype": "text/x-python",
      "name": "python",
      "nbconvert_exporter": "python",
      "pygments_lexer": "ipython3",
      "version": "3.10.9"
    },
    "colab": {
      "provenance": []
    }
  },
  "nbformat": 4,
  "nbformat_minor": 5
}