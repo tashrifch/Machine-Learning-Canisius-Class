{
 "cells": [
  {
   "cell_type": "markdown",
   "id": "b2f274a9-af9b-42e4-ad30-a95637410546",
   "metadata": {},
   "source": [
    "### Predicting Medical Insurance Claims\n",
    "\n",
    "New Steps\n",
    "\n",
    "- One Hot Encoding of categorical predictor variables\n",
    "\n",
    "-Standardization of continuous output variables\n",
    "\n",
    "-Neural Nets for regression\n",
    "\n",
    "-Performance metrics for regression models\n",
    "\n",
    "-Classic linear regression in sckikit-learn\n",
    "\n",
    "-The nearest-neighbor predictive model\n",
    "\n",
    "Previous ideas used again:\n",
    "\n",
    "-Cross validation to look for evidence of overfitting and estimate expected performance with new data\n",
    "\n",
    "-Use of permutation methods (ELI5) to understand what the important predictor variables are"
   ]
  },
  {
   "cell_type": "code",
   "execution_count": null,
   "id": "d933d476-3b16-46be-9a9a-9fcc304989e5",
   "metadata": {},
   "outputs": [],
   "source": []
  },
  {
   "cell_type": "code",
   "execution_count": 1,
   "id": "dba13413-75d2-4e8f-8308-df0755aa09e5",
   "metadata": {},
   "outputs": [],
   "source": [
    "import pandas as pd\n",
    "import numpy as np\n",
    "import matplotlib.pyplot as plt\n",
    "import seaborn as sns"
   ]
  },
  {
   "cell_type": "markdown",
   "id": "f19f5183-6913-455a-b710-5e5e213da107",
   "metadata": {},
   "source": [
    "Here is where this data set came from\n",
    "\n",
    "https://www.kaggle.com/mirichoi0218/insurance?select=insurance.csv"
   ]
  },
  {
   "cell_type": "markdown",
   "id": "a32d5552-547d-4a74-b46a-0bfc99b6d41a",
   "metadata": {},
   "source": [
    "The easiest way to load is typically using pandas,   we can convert values into numpy as necessary"
   ]
  },
  {
   "cell_type": "code",
   "execution_count": 2,
   "id": "c81a2b31-0a5c-48b1-aa47-6272a34ab945",
   "metadata": {},
   "outputs": [],
   "source": [
    "# Change your infile value\n",
    "\n",
    "infile=\"C:\\\\Users\\\\hdavi\\\\Dropbox\\\\Data_Analytics\\\\DAT_514_Machine_Learning\\\\Example_data\\\\Insurance_costs\\\\insurance.csv\"\n",
    "med_bills=pd.read_csv(infile)"
   ]
  },
  {
   "cell_type": "markdown",
   "id": "ad02614e-a3dd-4023-bfc9-f4c70e87dc3c",
   "metadata": {},
   "source": [
    "# Just a bit of exploratory analysis so we know what we are dealing with here"
   ]
  },
  {
   "cell_type": "markdown",
   "id": "2c470177-008f-4a90-96fa-01d54435d410",
   "metadata": {},
   "source": [
    "Content\n",
    "Columns\n",
    "\n",
    "age: age of primary beneficiary\n",
    "\n",
    "sex: insurance contractor gender, female, male\n",
    "\n",
    "bmi: Body mass index, providing an understanding of body, weights that are relatively high or low relative to height,\n",
    "objective index of body weight (kg / m ^ 2) using the ratio of height to weight, ideally 18.5 to 24.9\n",
    "\n",
    "children: Number of children covered by health insurance / Number of dependents\n",
    "\n",
    "smoker: Smoking\n",
    "\n",
    "region: the beneficiary's residential area in the US, northeast, southeast, southwest, northwest.\n",
    "\n",
    "charges: Individual medical costs billed by health insurance"
   ]
  },
  {
   "cell_type": "code",
   "execution_count": 3,
   "id": "aa0ce21d-da6c-47ed-8f71-8dd4e55caf92",
   "metadata": {},
   "outputs": [
    {
     "data": {
      "text/html": [
       "<div>\n",
       "<style scoped>\n",
       "    .dataframe tbody tr th:only-of-type {\n",
       "        vertical-align: middle;\n",
       "    }\n",
       "\n",
       "    .dataframe tbody tr th {\n",
       "        vertical-align: top;\n",
       "    }\n",
       "\n",
       "    .dataframe thead th {\n",
       "        text-align: right;\n",
       "    }\n",
       "</style>\n",
       "<table border=\"1\" class=\"dataframe\">\n",
       "  <thead>\n",
       "    <tr style=\"text-align: right;\">\n",
       "      <th></th>\n",
       "      <th>age</th>\n",
       "      <th>sex</th>\n",
       "      <th>bmi</th>\n",
       "      <th>children</th>\n",
       "      <th>smoker</th>\n",
       "      <th>region</th>\n",
       "      <th>charges</th>\n",
       "    </tr>\n",
       "  </thead>\n",
       "  <tbody>\n",
       "    <tr>\n",
       "      <th>0</th>\n",
       "      <td>19</td>\n",
       "      <td>female</td>\n",
       "      <td>27.90</td>\n",
       "      <td>0</td>\n",
       "      <td>yes</td>\n",
       "      <td>southwest</td>\n",
       "      <td>16884.9240</td>\n",
       "    </tr>\n",
       "    <tr>\n",
       "      <th>1</th>\n",
       "      <td>18</td>\n",
       "      <td>male</td>\n",
       "      <td>33.77</td>\n",
       "      <td>1</td>\n",
       "      <td>no</td>\n",
       "      <td>southeast</td>\n",
       "      <td>1725.5523</td>\n",
       "    </tr>\n",
       "    <tr>\n",
       "      <th>2</th>\n",
       "      <td>28</td>\n",
       "      <td>male</td>\n",
       "      <td>33.00</td>\n",
       "      <td>3</td>\n",
       "      <td>no</td>\n",
       "      <td>southeast</td>\n",
       "      <td>4449.4620</td>\n",
       "    </tr>\n",
       "  </tbody>\n",
       "</table>\n",
       "</div>"
      ],
      "text/plain": [
       "   age     sex    bmi  children smoker     region     charges\n",
       "0   19  female  27.90         0    yes  southwest  16884.9240\n",
       "1   18    male  33.77         1     no  southeast   1725.5523\n",
       "2   28    male  33.00         3     no  southeast   4449.4620"
      ]
     },
     "execution_count": 3,
     "metadata": {},
     "output_type": "execute_result"
    }
   ],
   "source": [
    "med_bills.head(3)"
   ]
  },
  {
   "cell_type": "code",
   "execution_count": 4,
   "id": "6a83e06a-3e4c-4ee5-a0ef-a8d1cbb6e667",
   "metadata": {},
   "outputs": [
    {
     "data": {
      "text/plain": [
       "(1338, 7)"
      ]
     },
     "execution_count": 4,
     "metadata": {},
     "output_type": "execute_result"
    }
   ],
   "source": [
    "med_bills.shape"
   ]
  },
  {
   "cell_type": "code",
   "execution_count": 5,
   "id": "89ec059f-04d8-43d5-8db4-f045c3499834",
   "metadata": {},
   "outputs": [
    {
     "data": {
      "text/html": [
       "<div>\n",
       "<style scoped>\n",
       "    .dataframe tbody tr th:only-of-type {\n",
       "        vertical-align: middle;\n",
       "    }\n",
       "\n",
       "    .dataframe tbody tr th {\n",
       "        vertical-align: top;\n",
       "    }\n",
       "\n",
       "    .dataframe thead th {\n",
       "        text-align: right;\n",
       "    }\n",
       "</style>\n",
       "<table border=\"1\" class=\"dataframe\">\n",
       "  <thead>\n",
       "    <tr style=\"text-align: right;\">\n",
       "      <th></th>\n",
       "      <th>age</th>\n",
       "      <th>bmi</th>\n",
       "      <th>children</th>\n",
       "      <th>charges</th>\n",
       "    </tr>\n",
       "  </thead>\n",
       "  <tbody>\n",
       "    <tr>\n",
       "      <th>count</th>\n",
       "      <td>1338.000000</td>\n",
       "      <td>1338.000000</td>\n",
       "      <td>1338.000000</td>\n",
       "      <td>1338.000000</td>\n",
       "    </tr>\n",
       "    <tr>\n",
       "      <th>mean</th>\n",
       "      <td>39.207025</td>\n",
       "      <td>30.663397</td>\n",
       "      <td>1.094918</td>\n",
       "      <td>13270.422265</td>\n",
       "    </tr>\n",
       "    <tr>\n",
       "      <th>std</th>\n",
       "      <td>14.049960</td>\n",
       "      <td>6.098187</td>\n",
       "      <td>1.205493</td>\n",
       "      <td>12110.011237</td>\n",
       "    </tr>\n",
       "    <tr>\n",
       "      <th>min</th>\n",
       "      <td>18.000000</td>\n",
       "      <td>15.960000</td>\n",
       "      <td>0.000000</td>\n",
       "      <td>1121.873900</td>\n",
       "    </tr>\n",
       "    <tr>\n",
       "      <th>25%</th>\n",
       "      <td>27.000000</td>\n",
       "      <td>26.296250</td>\n",
       "      <td>0.000000</td>\n",
       "      <td>4740.287150</td>\n",
       "    </tr>\n",
       "    <tr>\n",
       "      <th>50%</th>\n",
       "      <td>39.000000</td>\n",
       "      <td>30.400000</td>\n",
       "      <td>1.000000</td>\n",
       "      <td>9382.033000</td>\n",
       "    </tr>\n",
       "    <tr>\n",
       "      <th>75%</th>\n",
       "      <td>51.000000</td>\n",
       "      <td>34.693750</td>\n",
       "      <td>2.000000</td>\n",
       "      <td>16639.912515</td>\n",
       "    </tr>\n",
       "    <tr>\n",
       "      <th>max</th>\n",
       "      <td>64.000000</td>\n",
       "      <td>53.130000</td>\n",
       "      <td>5.000000</td>\n",
       "      <td>63770.428010</td>\n",
       "    </tr>\n",
       "  </tbody>\n",
       "</table>\n",
       "</div>"
      ],
      "text/plain": [
       "               age          bmi     children       charges\n",
       "count  1338.000000  1338.000000  1338.000000   1338.000000\n",
       "mean     39.207025    30.663397     1.094918  13270.422265\n",
       "std      14.049960     6.098187     1.205493  12110.011237\n",
       "min      18.000000    15.960000     0.000000   1121.873900\n",
       "25%      27.000000    26.296250     0.000000   4740.287150\n",
       "50%      39.000000    30.400000     1.000000   9382.033000\n",
       "75%      51.000000    34.693750     2.000000  16639.912515\n",
       "max      64.000000    53.130000     5.000000  63770.428010"
      ]
     },
     "execution_count": 5,
     "metadata": {},
     "output_type": "execute_result"
    }
   ],
   "source": [
    "#Notice that the categorical variables don't appear in the describe() function\n",
    "\n",
    "med_bills.describe()"
   ]
  },
  {
   "cell_type": "markdown",
   "id": "8f440ab5-ec2a-4a1a-93c1-fe8abbf212f5",
   "metadata": {},
   "source": [
    "pandas data frames can be indexed using the iloc method\n",
    "\n",
    "the loc member function indexes by the column indices (ie column names) and row names\n"
   ]
  },
  {
   "cell_type": "code",
   "execution_count": 6,
   "id": "b8a38b7d-1777-4fb3-98f1-926ed24320d7",
   "metadata": {},
   "outputs": [
    {
     "data": {
      "text/html": [
       "<div>\n",
       "<style scoped>\n",
       "    .dataframe tbody tr th:only-of-type {\n",
       "        vertical-align: middle;\n",
       "    }\n",
       "\n",
       "    .dataframe tbody tr th {\n",
       "        vertical-align: top;\n",
       "    }\n",
       "\n",
       "    .dataframe thead th {\n",
       "        text-align: right;\n",
       "    }\n",
       "</style>\n",
       "<table border=\"1\" class=\"dataframe\">\n",
       "  <thead>\n",
       "    <tr style=\"text-align: right;\">\n",
       "      <th></th>\n",
       "      <th>age</th>\n",
       "      <th>sex</th>\n",
       "      <th>bmi</th>\n",
       "      <th>children</th>\n",
       "      <th>smoker</th>\n",
       "      <th>region</th>\n",
       "    </tr>\n",
       "  </thead>\n",
       "  <tbody>\n",
       "    <tr>\n",
       "      <th>0</th>\n",
       "      <td>19</td>\n",
       "      <td>female</td>\n",
       "      <td>27.90</td>\n",
       "      <td>0</td>\n",
       "      <td>yes</td>\n",
       "      <td>southwest</td>\n",
       "    </tr>\n",
       "    <tr>\n",
       "      <th>1</th>\n",
       "      <td>18</td>\n",
       "      <td>male</td>\n",
       "      <td>33.77</td>\n",
       "      <td>1</td>\n",
       "      <td>no</td>\n",
       "      <td>southeast</td>\n",
       "    </tr>\n",
       "    <tr>\n",
       "      <th>2</th>\n",
       "      <td>28</td>\n",
       "      <td>male</td>\n",
       "      <td>33.00</td>\n",
       "      <td>3</td>\n",
       "      <td>no</td>\n",
       "      <td>southeast</td>\n",
       "    </tr>\n",
       "  </tbody>\n",
       "</table>\n",
       "</div>"
      ],
      "text/plain": [
       "   age     sex    bmi  children smoker     region\n",
       "0   19  female  27.90         0    yes  southwest\n",
       "1   18    male  33.77         1     no  southeast\n",
       "2   28    male  33.00         3     no  southeast"
      ]
     },
     "execution_count": 6,
     "metadata": {},
     "output_type": "execute_result"
    }
   ],
   "source": [
    "X=med_bills.iloc[:,0:6]\n",
    "X.head(3)"
   ]
  },
  {
   "cell_type": "markdown",
   "id": "2e4b1903-a4e0-45e4-867c-cbd0a6c8d885",
   "metadata": {},
   "source": [
    "Set up the target or label for the regresion model"
   ]
  },
  {
   "cell_type": "code",
   "execution_count": 7,
   "id": "a83937ea-883f-4206-9743-54228fcc7ab2",
   "metadata": {},
   "outputs": [
    {
     "data": {
      "text/plain": [
       "0    16884.92400\n",
       "1     1725.55230\n",
       "2     4449.46200\n",
       "3    21984.47061\n",
       "4     3866.85520\n",
       "Name: charges, dtype: float64"
      ]
     },
     "execution_count": 7,
     "metadata": {},
     "output_type": "execute_result"
    }
   ],
   "source": [
    "y=med_bills.loc[:,'charges']\n",
    "y.head()"
   ]
  },
  {
   "cell_type": "markdown",
   "id": "e1fc4bea-b3dd-45bf-8580-97e49f68f01d",
   "metadata": {},
   "source": [
    "## Encoding the categorical variables\n",
    "\n",
    "We have 3 columns which are categorical in nature,   sex, smoker, region,   and we need to encode these as one-hot variables\n",
    "\n",
    "The idea is to:\n",
    "\n",
    "-extract the categorical columns one a time\n",
    "\n",
    "-Convert them to numpy form   (pandas.to_numpy)\n",
    "\n",
    "-Use the sklearn one-hot-encoder\n",
    "\n",
    "-Convert the data back into pandas data frames,   using the labels from the encoder for the columns\n",
    "\n",
    "-Concatenate the data frames from the one-hot-encoding back together\n",
    "\n",
    "I ran into some odd problems with the way the output of the one hot encoder listed the variable names\n",
    "\n",
    "If you haven't seen Pandas and numpy before,  let me know I can point you to some resources on these.   Numpy is the matrix structure package,   pandas allows for DataFrames like the ones\n",
    "that appear in R,   or as tables in SSL\n"
   ]
  },
  {
   "cell_type": "markdown",
   "id": "72ef917d-1ffb-4a61-a417-de858994d79d",
   "metadata": {},
   "source": [
    "What do we have for groups within these categories"
   ]
  },
  {
   "cell_type": "code",
   "execution_count": 8,
   "id": "d8856372-4d5c-40be-a62d-457a0af09d03",
   "metadata": {},
   "outputs": [
    {
     "data": {
      "text/plain": [
       "array(['female', 'male'], dtype=object)"
      ]
     },
     "execution_count": 8,
     "metadata": {},
     "output_type": "execute_result"
    }
   ],
   "source": [
    "med_bills[\"sex\"].unique()"
   ]
  },
  {
   "cell_type": "code",
   "execution_count": 9,
   "id": "5687d583-fee7-4a53-9589-299b70d23cd8",
   "metadata": {},
   "outputs": [
    {
     "data": {
      "text/plain": [
       "array(['yes', 'no'], dtype=object)"
      ]
     },
     "execution_count": 9,
     "metadata": {},
     "output_type": "execute_result"
    }
   ],
   "source": [
    "med_bills[\"smoker\"].unique()"
   ]
  },
  {
   "cell_type": "code",
   "execution_count": 10,
   "id": "cf8aa953-4d1c-4025-9590-35d2c50601bf",
   "metadata": {},
   "outputs": [
    {
     "data": {
      "text/plain": [
       "array(['southwest', 'southeast', 'northwest', 'northeast'], dtype=object)"
      ]
     },
     "execution_count": 10,
     "metadata": {},
     "output_type": "execute_result"
    }
   ],
   "source": [
    "med_bills[\"region\"].unique()"
   ]
  },
  {
   "cell_type": "markdown",
   "id": "63dfefa1-bcf1-4ed7-90a8-29b5b98c2e35",
   "metadata": {},
   "source": [
    "# This is a one-hot encoding\n",
    "\n",
    "We create an instance of a OneHotEncoder and then use it to both fit the data med_bills['sex'] and carry out the one-hot encoding\n",
    "\n",
    "There are a number of pitfalls in this process, which seems so simple.\n",
    "\n",
    "First, the encoder will try t use numpy sparse matrix encoding by default,  this is sometimes handy, but it will cause some unexpected results due to the way\n",
    "the np sparse matrix storage works.  \n",
    "\n",
    "Set sparse in False when you create the instance of the encoder.\n",
    "\n",
    "Note:This is also called \"dummy\" coding the variables.\n"
   ]
  },
  {
   "cell_type": "markdown",
   "id": "1ef63aa5-1149-40a3-8a93-734f440b2d7e",
   "metadata": {},
   "source": [
    "Note that if we have k categories (or levels or groups),    we could actually use (k-1) columns,  since if the specimen is not in the first (k-1) groups it must be in group k.\n",
    "\n",
    "I seldom bother to remove the last column, but one could.   Removing it may make it more difficult to see variable interactions using permutation or other methods"
   ]
  },
  {
   "cell_type": "code",
   "execution_count": 11,
   "id": "0d680739-95bf-4248-a3d7-664b49bd3d5b",
   "metadata": {},
   "outputs": [],
   "source": [
    "from sklearn.preprocessing import OneHotEncoder\n",
    "\n",
    "#create an encoder instance\n",
    "\n",
    "encode_sex=OneHotEncoder(sparse=False)\n",
    "\n",
    "# extend sex as onehotcolumns.  The conversion to numpy here allows use of the numpy reshape to go to a single complumn variable\n",
    "\n",
    "mat_sex=encode_sex.fit_transform(med_bills[\"sex\"].to_numpy().reshape(-1,1))\n",
    "\n",
    "\n",
    "\n"
   ]
  },
  {
   "cell_type": "code",
   "execution_count": 12,
   "id": "13a9bc59-e217-4105-bdfe-ce6d3b898c4f",
   "metadata": {},
   "outputs": [
    {
     "data": {
      "text/plain": [
       "array([[1., 0.],\n",
       "       [0., 1.],\n",
       "       [0., 1.],\n",
       "       [0., 1.],\n",
       "       [0., 1.]])"
      ]
     },
     "execution_count": 12,
     "metadata": {},
     "output_type": "execute_result"
    }
   ],
   "source": [
    "# the output here is a numpy matrix\n",
    "# this uses row and column position indexing\n",
    "\n",
    "mat_sex[0:5,:]"
   ]
  },
  {
   "cell_type": "markdown",
   "id": "c1bebf1a-1cc7-4e8e-843e-2c52afa4eb1e",
   "metadata": {},
   "source": [
    "We will put this into a pandas dataframe.\n",
    "\n",
    "The column names are the names used by the encoder,  we can see these by looking at the categories_ in the encoder instance\n",
    "\n",
    "Here comes a weird and annoying point,   if we look at this variable, it is a list of one list"
   ]
  },
  {
   "cell_type": "code",
   "execution_count": 13,
   "id": "3c42ed4a-c8ab-4d55-a968-b3761a9c1163",
   "metadata": {},
   "outputs": [
    {
     "data": {
      "text/plain": [
       "[array(['female', 'male'], dtype=object)]"
      ]
     },
     "execution_count": 13,
     "metadata": {},
     "output_type": "execute_result"
    }
   ],
   "source": [
    "encode_sex.categories_\n"
   ]
  },
  {
   "cell_type": "code",
   "execution_count": 14,
   "id": "81908b73-08a6-424d-9579-5f1ef7f26ea1",
   "metadata": {},
   "outputs": [
    {
     "data": {
      "text/plain": [
       "list"
      ]
     },
     "execution_count": 14,
     "metadata": {},
     "output_type": "execute_result"
    }
   ],
   "source": [
    "type(encode_sex.categories_)"
   ]
  },
  {
   "cell_type": "code",
   "execution_count": 15,
   "id": "b94583a5-9006-47e7-9eec-8f9bfc81a285",
   "metadata": {},
   "outputs": [
    {
     "data": {
      "text/plain": [
       "1"
      ]
     },
     "execution_count": 15,
     "metadata": {},
     "output_type": "execute_result"
    }
   ],
   "source": [
    "# notice the oddness right here, the length of encode_sex.categories is 1, but we have two labels.   Look close at the categories_ variable, what is it?\n",
    "\n",
    "\n",
    "len(encode_sex.categories_)"
   ]
  },
  {
   "cell_type": "code",
   "execution_count": 16,
   "id": "7f27fc3e-bed5-4843-8638-b1e4da8f11e6",
   "metadata": {},
   "outputs": [
    {
     "data": {
      "text/plain": [
       "'female'"
      ]
     },
     "execution_count": 16,
     "metadata": {},
     "output_type": "execute_result"
    }
   ],
   "source": [
    "encode_sex.categories_[0][0]"
   ]
  },
  {
   "cell_type": "markdown",
   "id": "4d2cbc78-5774-46aa-9dd1-379c5c01e09f",
   "metadata": {},
   "source": [
    "Why does this matter?   I want to use these titles as the column labels,but if I use a list of list for the columns, we creata a Multiindex,   a new\n",
    "feature in the pandas dataframes\n",
    "\n",
    "a Multiindex is a hierarchical column name,   which probably has uses\n",
    "\n",
    "Watch what happens here if we set the column names to encode_sex.categories_"
   ]
  },
  {
   "cell_type": "code",
   "execution_count": 17,
   "id": "c29a9f72-0ed4-4e48-b6ca-7b8400d6141c",
   "metadata": {},
   "outputs": [],
   "source": [
    "df_sex=pd.DataFrame(mat_sex,columns=encode_sex.categories_)"
   ]
  },
  {
   "cell_type": "code",
   "execution_count": 18,
   "id": "2b1392b8-94be-43a9-b3a4-10eddeddc524",
   "metadata": {},
   "outputs": [
    {
     "data": {
      "text/plain": [
       "MultiIndex([('female',),\n",
       "            (  'male',)],\n",
       "           )"
      ]
     },
     "execution_count": 18,
     "metadata": {},
     "output_type": "execute_result"
    }
   ],
   "source": [
    "df_sex.columns"
   ]
  },
  {
   "cell_type": "markdown",
   "id": "1bd604e8-33fb-44fd-900f-58be113f7e0f",
   "metadata": {},
   "source": [
    "Instead of the column numes being just a list, they are a thing called a Multiindex by setting the column names to a list of lists\n",
    "\n",
    "We don't want this,  so here's the syntax to get only the first time in the list"
   ]
  },
  {
   "cell_type": "code",
   "execution_count": 19,
   "id": "d3f1d0c8-c4e3-409d-9e2b-8592aeb5d6aa",
   "metadata": {},
   "outputs": [],
   "source": [
    "df_sex=pd.DataFrame(mat_sex,columns=encode_sex.categories_[0])"
   ]
  },
  {
   "cell_type": "code",
   "execution_count": 20,
   "id": "cebcdd69-660d-49ef-a8ba-d98ad0f98565",
   "metadata": {},
   "outputs": [
    {
     "data": {
      "text/plain": [
       "Index(['female', 'male'], dtype='object')"
      ]
     },
     "execution_count": 20,
     "metadata": {},
     "output_type": "execute_result"
    }
   ],
   "source": [
    "df_sex.columns"
   ]
  },
  {
   "cell_type": "markdown",
   "id": "e9fd16fb-d6e8-4d21-80db-aabaa2651348",
   "metadata": {},
   "source": [
    "I spent a long time figuring out what was happening here,  really annoying"
   ]
  },
  {
   "cell_type": "code",
   "execution_count": 21,
   "id": "c8cac4ca-7249-49f0-b6d8-b4a9dbffc4a1",
   "metadata": {},
   "outputs": [
    {
     "data": {
      "text/html": [
       "<div>\n",
       "<style scoped>\n",
       "    .dataframe tbody tr th:only-of-type {\n",
       "        vertical-align: middle;\n",
       "    }\n",
       "\n",
       "    .dataframe tbody tr th {\n",
       "        vertical-align: top;\n",
       "    }\n",
       "\n",
       "    .dataframe thead th {\n",
       "        text-align: right;\n",
       "    }\n",
       "</style>\n",
       "<table border=\"1\" class=\"dataframe\">\n",
       "  <thead>\n",
       "    <tr style=\"text-align: right;\">\n",
       "      <th></th>\n",
       "      <th>female</th>\n",
       "      <th>male</th>\n",
       "    </tr>\n",
       "  </thead>\n",
       "  <tbody>\n",
       "    <tr>\n",
       "      <th>0</th>\n",
       "      <td>1.0</td>\n",
       "      <td>0.0</td>\n",
       "    </tr>\n",
       "    <tr>\n",
       "      <th>1</th>\n",
       "      <td>0.0</td>\n",
       "      <td>1.0</td>\n",
       "    </tr>\n",
       "    <tr>\n",
       "      <th>2</th>\n",
       "      <td>0.0</td>\n",
       "      <td>1.0</td>\n",
       "    </tr>\n",
       "    <tr>\n",
       "      <th>3</th>\n",
       "      <td>0.0</td>\n",
       "      <td>1.0</td>\n",
       "    </tr>\n",
       "    <tr>\n",
       "      <th>4</th>\n",
       "      <td>0.0</td>\n",
       "      <td>1.0</td>\n",
       "    </tr>\n",
       "  </tbody>\n",
       "</table>\n",
       "</div>"
      ],
      "text/plain": [
       "   female  male\n",
       "0     1.0   0.0\n",
       "1     0.0   1.0\n",
       "2     0.0   1.0\n",
       "3     0.0   1.0\n",
       "4     0.0   1.0"
      ]
     },
     "execution_count": 21,
     "metadata": {},
     "output_type": "execute_result"
    }
   ],
   "source": [
    "# check to see df_sex has what we want\n",
    "df_sex.head()"
   ]
  },
  {
   "cell_type": "code",
   "execution_count": 22,
   "id": "1f839dc7-b5e8-4c76-978b-e8565ad2ff8e",
   "metadata": {},
   "outputs": [],
   "source": [
    "encode_smoker=OneHotEncoder()\n",
    "\n",
    "mat_smoker=encode_smoker.fit_transform(med_bills[\"smoker\"].to_numpy().reshape(-1,1))\n",
    "\n",
    "df_smoker=pd.DataFrame(mat_smoker.toarray(),columns=encode_smoker.categories_)"
   ]
  },
  {
   "cell_type": "code",
   "execution_count": 23,
   "id": "5bd5a6f8-4312-4c10-a7aa-fd646b72061e",
   "metadata": {},
   "outputs": [
    {
     "data": {
      "text/plain": [
       "[array(['no', 'yes'], dtype=object)]"
      ]
     },
     "execution_count": 23,
     "metadata": {},
     "output_type": "execute_result"
    }
   ],
   "source": [
    "encode_smoker.categories_"
   ]
  },
  {
   "cell_type": "code",
   "execution_count": 24,
   "id": "3c71e8f8-aa96-4f1c-aacd-05a47ea5d59b",
   "metadata": {},
   "outputs": [],
   "source": [
    "# manually set column names,  \"no\" and \"yes\" don't mean much,   we want more informative column names\n",
    "df_smoker.columns=[\"Non_smoker\",\"Smoker\"]"
   ]
  },
  {
   "cell_type": "code",
   "execution_count": 25,
   "id": "d6e88d2a-f4eb-4534-801c-72568d247acd",
   "metadata": {},
   "outputs": [
    {
     "data": {
      "text/html": [
       "<div>\n",
       "<style scoped>\n",
       "    .dataframe tbody tr th:only-of-type {\n",
       "        vertical-align: middle;\n",
       "    }\n",
       "\n",
       "    .dataframe tbody tr th {\n",
       "        vertical-align: top;\n",
       "    }\n",
       "\n",
       "    .dataframe thead th {\n",
       "        text-align: right;\n",
       "    }\n",
       "</style>\n",
       "<table border=\"1\" class=\"dataframe\">\n",
       "  <thead>\n",
       "    <tr style=\"text-align: right;\">\n",
       "      <th></th>\n",
       "      <th>Non_smoker</th>\n",
       "      <th>Smoker</th>\n",
       "    </tr>\n",
       "  </thead>\n",
       "  <tbody>\n",
       "    <tr>\n",
       "      <th>0</th>\n",
       "      <td>0.0</td>\n",
       "      <td>1.0</td>\n",
       "    </tr>\n",
       "    <tr>\n",
       "      <th>1</th>\n",
       "      <td>1.0</td>\n",
       "      <td>0.0</td>\n",
       "    </tr>\n",
       "    <tr>\n",
       "      <th>2</th>\n",
       "      <td>1.0</td>\n",
       "      <td>0.0</td>\n",
       "    </tr>\n",
       "    <tr>\n",
       "      <th>3</th>\n",
       "      <td>1.0</td>\n",
       "      <td>0.0</td>\n",
       "    </tr>\n",
       "    <tr>\n",
       "      <th>4</th>\n",
       "      <td>1.0</td>\n",
       "      <td>0.0</td>\n",
       "    </tr>\n",
       "  </tbody>\n",
       "</table>\n",
       "</div>"
      ],
      "text/plain": [
       "   Non_smoker  Smoker\n",
       "0         0.0     1.0\n",
       "1         1.0     0.0\n",
       "2         1.0     0.0\n",
       "3         1.0     0.0\n",
       "4         1.0     0.0"
      ]
     },
     "execution_count": 25,
     "metadata": {},
     "output_type": "execute_result"
    }
   ],
   "source": [
    "# just checking!\n",
    "df_smoker.head()"
   ]
  },
  {
   "cell_type": "code",
   "execution_count": 26,
   "id": "878b79b6-3fbc-4c3b-a5a8-d08146212863",
   "metadata": {},
   "outputs": [
    {
     "data": {
      "text/html": [
       "<div>\n",
       "<style scoped>\n",
       "    .dataframe tbody tr th:only-of-type {\n",
       "        vertical-align: middle;\n",
       "    }\n",
       "\n",
       "    .dataframe tbody tr th {\n",
       "        vertical-align: top;\n",
       "    }\n",
       "\n",
       "    .dataframe thead th {\n",
       "        text-align: right;\n",
       "    }\n",
       "</style>\n",
       "<table border=\"1\" class=\"dataframe\">\n",
       "  <thead>\n",
       "    <tr style=\"text-align: right;\">\n",
       "      <th></th>\n",
       "      <th>northeast</th>\n",
       "      <th>northwest</th>\n",
       "      <th>southeast</th>\n",
       "      <th>southwest</th>\n",
       "    </tr>\n",
       "  </thead>\n",
       "  <tbody>\n",
       "    <tr>\n",
       "      <th>0</th>\n",
       "      <td>0.0</td>\n",
       "      <td>0.0</td>\n",
       "      <td>0.0</td>\n",
       "      <td>1.0</td>\n",
       "    </tr>\n",
       "    <tr>\n",
       "      <th>1</th>\n",
       "      <td>0.0</td>\n",
       "      <td>0.0</td>\n",
       "      <td>1.0</td>\n",
       "      <td>0.0</td>\n",
       "    </tr>\n",
       "    <tr>\n",
       "      <th>2</th>\n",
       "      <td>0.0</td>\n",
       "      <td>0.0</td>\n",
       "      <td>1.0</td>\n",
       "      <td>0.0</td>\n",
       "    </tr>\n",
       "    <tr>\n",
       "      <th>3</th>\n",
       "      <td>0.0</td>\n",
       "      <td>1.0</td>\n",
       "      <td>0.0</td>\n",
       "      <td>0.0</td>\n",
       "    </tr>\n",
       "    <tr>\n",
       "      <th>4</th>\n",
       "      <td>0.0</td>\n",
       "      <td>1.0</td>\n",
       "      <td>0.0</td>\n",
       "      <td>0.0</td>\n",
       "    </tr>\n",
       "  </tbody>\n",
       "</table>\n",
       "</div>"
      ],
      "text/plain": [
       "   northeast  northwest  southeast  southwest\n",
       "0        0.0        0.0        0.0        1.0\n",
       "1        0.0        0.0        1.0        0.0\n",
       "2        0.0        0.0        1.0        0.0\n",
       "3        0.0        1.0        0.0        0.0\n",
       "4        0.0        1.0        0.0        0.0"
      ]
     },
     "execution_count": 26,
     "metadata": {},
     "output_type": "execute_result"
    }
   ],
   "source": [
    "encode_region=OneHotEncoder()\n",
    "\n",
    "mat_region=encode_region.fit_transform(med_bills[\"region\"].to_numpy().reshape(-1,1))\n",
    "\n",
    "df_region=pd.DataFrame(mat_region.toarray(),columns=encode_region.categories_[0])\n",
    "\n",
    "df_region.head()"
   ]
  },
  {
   "cell_type": "code",
   "execution_count": 27,
   "id": "94d99a52-92dc-49d0-9bf9-5f0e83710bc7",
   "metadata": {},
   "outputs": [
    {
     "data": {
      "text/plain": [
       "Index(['northeast', 'northwest', 'southeast', 'southwest'], dtype='object')"
      ]
     },
     "execution_count": 27,
     "metadata": {},
     "output_type": "execute_result"
    }
   ],
   "source": [
    "df_region.columns"
   ]
  },
  {
   "cell_type": "code",
   "execution_count": 28,
   "id": "54c1763d-6e06-466b-9f22-f83659a99921",
   "metadata": {},
   "outputs": [
    {
     "data": {
      "text/html": [
       "<div>\n",
       "<style scoped>\n",
       "    .dataframe tbody tr th:only-of-type {\n",
       "        vertical-align: middle;\n",
       "    }\n",
       "\n",
       "    .dataframe tbody tr th {\n",
       "        vertical-align: top;\n",
       "    }\n",
       "\n",
       "    .dataframe thead th {\n",
       "        text-align: right;\n",
       "    }\n",
       "</style>\n",
       "<table border=\"1\" class=\"dataframe\">\n",
       "  <thead>\n",
       "    <tr style=\"text-align: right;\">\n",
       "      <th></th>\n",
       "      <th>female</th>\n",
       "      <th>male</th>\n",
       "      <th>Non_smoker</th>\n",
       "      <th>Smoker</th>\n",
       "      <th>northeast</th>\n",
       "      <th>northwest</th>\n",
       "      <th>southeast</th>\n",
       "      <th>southwest</th>\n",
       "    </tr>\n",
       "  </thead>\n",
       "  <tbody>\n",
       "    <tr>\n",
       "      <th>0</th>\n",
       "      <td>1.0</td>\n",
       "      <td>0.0</td>\n",
       "      <td>0.0</td>\n",
       "      <td>1.0</td>\n",
       "      <td>0.0</td>\n",
       "      <td>0.0</td>\n",
       "      <td>0.0</td>\n",
       "      <td>1.0</td>\n",
       "    </tr>\n",
       "    <tr>\n",
       "      <th>1</th>\n",
       "      <td>0.0</td>\n",
       "      <td>1.0</td>\n",
       "      <td>1.0</td>\n",
       "      <td>0.0</td>\n",
       "      <td>0.0</td>\n",
       "      <td>0.0</td>\n",
       "      <td>1.0</td>\n",
       "      <td>0.0</td>\n",
       "    </tr>\n",
       "    <tr>\n",
       "      <th>2</th>\n",
       "      <td>0.0</td>\n",
       "      <td>1.0</td>\n",
       "      <td>1.0</td>\n",
       "      <td>0.0</td>\n",
       "      <td>0.0</td>\n",
       "      <td>0.0</td>\n",
       "      <td>1.0</td>\n",
       "      <td>0.0</td>\n",
       "    </tr>\n",
       "    <tr>\n",
       "      <th>3</th>\n",
       "      <td>0.0</td>\n",
       "      <td>1.0</td>\n",
       "      <td>1.0</td>\n",
       "      <td>0.0</td>\n",
       "      <td>0.0</td>\n",
       "      <td>1.0</td>\n",
       "      <td>0.0</td>\n",
       "      <td>0.0</td>\n",
       "    </tr>\n",
       "    <tr>\n",
       "      <th>4</th>\n",
       "      <td>0.0</td>\n",
       "      <td>1.0</td>\n",
       "      <td>1.0</td>\n",
       "      <td>0.0</td>\n",
       "      <td>0.0</td>\n",
       "      <td>1.0</td>\n",
       "      <td>0.0</td>\n",
       "      <td>0.0</td>\n",
       "    </tr>\n",
       "  </tbody>\n",
       "</table>\n",
       "</div>"
      ],
      "text/plain": [
       "   female  male  Non_smoker  Smoker  northeast  northwest  southeast  \\\n",
       "0     1.0   0.0         0.0     1.0        0.0        0.0        0.0   \n",
       "1     0.0   1.0         1.0     0.0        0.0        0.0        1.0   \n",
       "2     0.0   1.0         1.0     0.0        0.0        0.0        1.0   \n",
       "3     0.0   1.0         1.0     0.0        0.0        1.0        0.0   \n",
       "4     0.0   1.0         1.0     0.0        0.0        1.0        0.0   \n",
       "\n",
       "   southwest  \n",
       "0        1.0  \n",
       "1        0.0  \n",
       "2        0.0  \n",
       "3        0.0  \n",
       "4        0.0  "
      ]
     },
     "execution_count": 28,
     "metadata": {},
     "output_type": "execute_result"
    }
   ],
   "source": [
    "# concatenate these one-hot-encoded versions of the categorical variables, and check them\n",
    "\n",
    "df_cats=pd.concat([df_sex,df_smoker,df_region], axis=1)\n",
    "df_cats.head()"
   ]
  },
  {
   "cell_type": "code",
   "execution_count": 29,
   "id": "c4c5e170-6472-4e15-9289-009b3c9484db",
   "metadata": {},
   "outputs": [
    {
     "data": {
      "text/plain": [
       "Index(['female', 'male', 'Non_smoker', 'Smoker', 'northeast', 'northwest',\n",
       "       'southeast', 'southwest'],\n",
       "      dtype='object')"
      ]
     },
     "execution_count": 29,
     "metadata": {},
     "output_type": "execute_result"
    }
   ],
   "source": [
    "df_cats.columns"
   ]
  },
  {
   "cell_type": "markdown",
   "id": "79c834be-fbd2-47ad-aa2b-0332535a26cd",
   "metadata": {},
   "source": [
    "It looks like we now have to be a bit careful about this issue of Multiindexes,  this is a new \"feature\".  "
   ]
  },
  {
   "cell_type": "markdown",
   "id": "8673aca8-9cc3-4cab-b727-f4837f083493",
   "metadata": {
    "tags": []
   },
   "source": [
    "## Standardization\n",
    "\n",
    "We will standardize the continuous variables within a pipeline.    A pipeline carries out the action requested on each column of the data input\n",
    "\n",
    "A pipeline can contain many cleaning and formatting operations,  we will both standardize and impute here.  We don't really need to imputer in this case,\n",
    "the impute was added as an example\n",
    "\n",
    "In the standard scaler, we will subtract the mean value from each column, and then divide the column by its own standard deviation.\n",
    "\n",
    "This forces all the variables to be on the same \"scale\" and keeps them all close to zero where rounding errors are lowest.\n"
   ]
  },
  {
   "cell_type": "code",
   "execution_count": 30,
   "id": "057ab012-7b80-49fe-b154-41a844e125ff",
   "metadata": {},
   "outputs": [
    {
     "data": {
      "text/html": [
       "<div>\n",
       "<style scoped>\n",
       "    .dataframe tbody tr th:only-of-type {\n",
       "        vertical-align: middle;\n",
       "    }\n",
       "\n",
       "    .dataframe tbody tr th {\n",
       "        vertical-align: top;\n",
       "    }\n",
       "\n",
       "    .dataframe thead th {\n",
       "        text-align: right;\n",
       "    }\n",
       "</style>\n",
       "<table border=\"1\" class=\"dataframe\">\n",
       "  <thead>\n",
       "    <tr style=\"text-align: right;\">\n",
       "      <th></th>\n",
       "      <th>age</th>\n",
       "      <th>sex</th>\n",
       "      <th>bmi</th>\n",
       "      <th>children</th>\n",
       "      <th>smoker</th>\n",
       "      <th>region</th>\n",
       "      <th>charges</th>\n",
       "    </tr>\n",
       "  </thead>\n",
       "  <tbody>\n",
       "    <tr>\n",
       "      <th>0</th>\n",
       "      <td>19</td>\n",
       "      <td>female</td>\n",
       "      <td>27.900</td>\n",
       "      <td>0</td>\n",
       "      <td>yes</td>\n",
       "      <td>southwest</td>\n",
       "      <td>16884.92400</td>\n",
       "    </tr>\n",
       "    <tr>\n",
       "      <th>1</th>\n",
       "      <td>18</td>\n",
       "      <td>male</td>\n",
       "      <td>33.770</td>\n",
       "      <td>1</td>\n",
       "      <td>no</td>\n",
       "      <td>southeast</td>\n",
       "      <td>1725.55230</td>\n",
       "    </tr>\n",
       "    <tr>\n",
       "      <th>2</th>\n",
       "      <td>28</td>\n",
       "      <td>male</td>\n",
       "      <td>33.000</td>\n",
       "      <td>3</td>\n",
       "      <td>no</td>\n",
       "      <td>southeast</td>\n",
       "      <td>4449.46200</td>\n",
       "    </tr>\n",
       "    <tr>\n",
       "      <th>3</th>\n",
       "      <td>33</td>\n",
       "      <td>male</td>\n",
       "      <td>22.705</td>\n",
       "      <td>0</td>\n",
       "      <td>no</td>\n",
       "      <td>northwest</td>\n",
       "      <td>21984.47061</td>\n",
       "    </tr>\n",
       "    <tr>\n",
       "      <th>4</th>\n",
       "      <td>32</td>\n",
       "      <td>male</td>\n",
       "      <td>28.880</td>\n",
       "      <td>0</td>\n",
       "      <td>no</td>\n",
       "      <td>northwest</td>\n",
       "      <td>3866.85520</td>\n",
       "    </tr>\n",
       "  </tbody>\n",
       "</table>\n",
       "</div>"
      ],
      "text/plain": [
       "   age     sex     bmi  children smoker     region      charges\n",
       "0   19  female  27.900         0    yes  southwest  16884.92400\n",
       "1   18    male  33.770         1     no  southeast   1725.55230\n",
       "2   28    male  33.000         3     no  southeast   4449.46200\n",
       "3   33    male  22.705         0     no  northwest  21984.47061\n",
       "4   32    male  28.880         0     no  northwest   3866.85520"
      ]
     },
     "execution_count": 30,
     "metadata": {},
     "output_type": "execute_result"
    }
   ],
   "source": [
    "med_bills.head()"
   ]
  },
  {
   "cell_type": "code",
   "execution_count": 31,
   "id": "e09a16f9-000e-4eb2-aaa1-81cac81012f8",
   "metadata": {},
   "outputs": [],
   "source": [
    "from sklearn.pipeline import Pipeline\n",
    "from sklearn.preprocessing import StandardScaler\n",
    "from sklearn.impute import SimpleImputer\n",
    "\n",
    "num_pipeline = Pipeline([\n",
    "        ('imputer', SimpleImputer(strategy=\"median\")),\n",
    "        ('std_scaler', StandardScaler()),\n",
    "    ])\n",
    "\n",
    "# pipeline only the continuous data\n",
    "\n",
    "med_bill_continuous= num_pipeline.fit_transform(med_bills[['age','bmi','children']])\n",
    "\n",
    "# put the resulting numpy matrix back into a dataframe\n",
    "\n",
    "med_bill_continuous=pd.DataFrame(med_bill_continuous,columns=['age','bmi','children'])\n"
   ]
  },
  {
   "cell_type": "code",
   "execution_count": 32,
   "id": "b6bf1d77-b297-4a0f-b50c-739b639ec8c6",
   "metadata": {},
   "outputs": [
    {
     "data": {
      "text/html": [
       "<div>\n",
       "<style scoped>\n",
       "    .dataframe tbody tr th:only-of-type {\n",
       "        vertical-align: middle;\n",
       "    }\n",
       "\n",
       "    .dataframe tbody tr th {\n",
       "        vertical-align: top;\n",
       "    }\n",
       "\n",
       "    .dataframe thead th {\n",
       "        text-align: right;\n",
       "    }\n",
       "</style>\n",
       "<table border=\"1\" class=\"dataframe\">\n",
       "  <thead>\n",
       "    <tr style=\"text-align: right;\">\n",
       "      <th></th>\n",
       "      <th>age</th>\n",
       "      <th>bmi</th>\n",
       "      <th>children</th>\n",
       "    </tr>\n",
       "  </thead>\n",
       "  <tbody>\n",
       "    <tr>\n",
       "      <th>0</th>\n",
       "      <td>-1.438764</td>\n",
       "      <td>-0.453320</td>\n",
       "      <td>-0.908614</td>\n",
       "    </tr>\n",
       "    <tr>\n",
       "      <th>1</th>\n",
       "      <td>-1.509965</td>\n",
       "      <td>0.509621</td>\n",
       "      <td>-0.078767</td>\n",
       "    </tr>\n",
       "    <tr>\n",
       "      <th>2</th>\n",
       "      <td>-0.797954</td>\n",
       "      <td>0.383307</td>\n",
       "      <td>1.580926</td>\n",
       "    </tr>\n",
       "    <tr>\n",
       "      <th>3</th>\n",
       "      <td>-0.441948</td>\n",
       "      <td>-1.305531</td>\n",
       "      <td>-0.908614</td>\n",
       "    </tr>\n",
       "    <tr>\n",
       "      <th>4</th>\n",
       "      <td>-0.513149</td>\n",
       "      <td>-0.292556</td>\n",
       "      <td>-0.908614</td>\n",
       "    </tr>\n",
       "  </tbody>\n",
       "</table>\n",
       "</div>"
      ],
      "text/plain": [
       "        age       bmi  children\n",
       "0 -1.438764 -0.453320 -0.908614\n",
       "1 -1.509965  0.509621 -0.078767\n",
       "2 -0.797954  0.383307  1.580926\n",
       "3 -0.441948 -1.305531 -0.908614\n",
       "4 -0.513149 -0.292556 -0.908614"
      ]
     },
     "execution_count": 32,
     "metadata": {},
     "output_type": "execute_result"
    }
   ],
   "source": [
    "# check to be sure this worked right\n",
    "\n",
    "med_bill_continuous.head()"
   ]
  },
  {
   "cell_type": "code",
   "execution_count": 33,
   "id": "32780747-07ff-4e5c-961f-4009cb3cb916",
   "metadata": {},
   "outputs": [],
   "source": [
    "#concatenate with the categorical variables\n",
    "\n",
    "med_bill_final=pd.concat([med_bill_continuous,df_cats],axis=1)"
   ]
  },
  {
   "cell_type": "code",
   "execution_count": 34,
   "id": "580eb67e-643e-4256-a1f0-3b6e7e07d317",
   "metadata": {},
   "outputs": [
    {
     "data": {
      "text/html": [
       "<div>\n",
       "<style scoped>\n",
       "    .dataframe tbody tr th:only-of-type {\n",
       "        vertical-align: middle;\n",
       "    }\n",
       "\n",
       "    .dataframe tbody tr th {\n",
       "        vertical-align: top;\n",
       "    }\n",
       "\n",
       "    .dataframe thead th {\n",
       "        text-align: right;\n",
       "    }\n",
       "</style>\n",
       "<table border=\"1\" class=\"dataframe\">\n",
       "  <thead>\n",
       "    <tr style=\"text-align: right;\">\n",
       "      <th></th>\n",
       "      <th>age</th>\n",
       "      <th>bmi</th>\n",
       "      <th>children</th>\n",
       "      <th>female</th>\n",
       "      <th>male</th>\n",
       "      <th>Non_smoker</th>\n",
       "      <th>Smoker</th>\n",
       "      <th>northeast</th>\n",
       "      <th>northwest</th>\n",
       "      <th>southeast</th>\n",
       "      <th>southwest</th>\n",
       "    </tr>\n",
       "  </thead>\n",
       "  <tbody>\n",
       "    <tr>\n",
       "      <th>0</th>\n",
       "      <td>-1.438764</td>\n",
       "      <td>-0.453320</td>\n",
       "      <td>-0.908614</td>\n",
       "      <td>1.0</td>\n",
       "      <td>0.0</td>\n",
       "      <td>0.0</td>\n",
       "      <td>1.0</td>\n",
       "      <td>0.0</td>\n",
       "      <td>0.0</td>\n",
       "      <td>0.0</td>\n",
       "      <td>1.0</td>\n",
       "    </tr>\n",
       "    <tr>\n",
       "      <th>1</th>\n",
       "      <td>-1.509965</td>\n",
       "      <td>0.509621</td>\n",
       "      <td>-0.078767</td>\n",
       "      <td>0.0</td>\n",
       "      <td>1.0</td>\n",
       "      <td>1.0</td>\n",
       "      <td>0.0</td>\n",
       "      <td>0.0</td>\n",
       "      <td>0.0</td>\n",
       "      <td>1.0</td>\n",
       "      <td>0.0</td>\n",
       "    </tr>\n",
       "    <tr>\n",
       "      <th>2</th>\n",
       "      <td>-0.797954</td>\n",
       "      <td>0.383307</td>\n",
       "      <td>1.580926</td>\n",
       "      <td>0.0</td>\n",
       "      <td>1.0</td>\n",
       "      <td>1.0</td>\n",
       "      <td>0.0</td>\n",
       "      <td>0.0</td>\n",
       "      <td>0.0</td>\n",
       "      <td>1.0</td>\n",
       "      <td>0.0</td>\n",
       "    </tr>\n",
       "    <tr>\n",
       "      <th>3</th>\n",
       "      <td>-0.441948</td>\n",
       "      <td>-1.305531</td>\n",
       "      <td>-0.908614</td>\n",
       "      <td>0.0</td>\n",
       "      <td>1.0</td>\n",
       "      <td>1.0</td>\n",
       "      <td>0.0</td>\n",
       "      <td>0.0</td>\n",
       "      <td>1.0</td>\n",
       "      <td>0.0</td>\n",
       "      <td>0.0</td>\n",
       "    </tr>\n",
       "    <tr>\n",
       "      <th>4</th>\n",
       "      <td>-0.513149</td>\n",
       "      <td>-0.292556</td>\n",
       "      <td>-0.908614</td>\n",
       "      <td>0.0</td>\n",
       "      <td>1.0</td>\n",
       "      <td>1.0</td>\n",
       "      <td>0.0</td>\n",
       "      <td>0.0</td>\n",
       "      <td>1.0</td>\n",
       "      <td>0.0</td>\n",
       "      <td>0.0</td>\n",
       "    </tr>\n",
       "  </tbody>\n",
       "</table>\n",
       "</div>"
      ],
      "text/plain": [
       "        age       bmi  children  female  male  Non_smoker  Smoker  northeast  \\\n",
       "0 -1.438764 -0.453320 -0.908614     1.0   0.0         0.0     1.0        0.0   \n",
       "1 -1.509965  0.509621 -0.078767     0.0   1.0         1.0     0.0        0.0   \n",
       "2 -0.797954  0.383307  1.580926     0.0   1.0         1.0     0.0        0.0   \n",
       "3 -0.441948 -1.305531 -0.908614     0.0   1.0         1.0     0.0        0.0   \n",
       "4 -0.513149 -0.292556 -0.908614     0.0   1.0         1.0     0.0        0.0   \n",
       "\n",
       "   northwest  southeast  southwest  \n",
       "0        0.0        0.0        1.0  \n",
       "1        0.0        1.0        0.0  \n",
       "2        0.0        1.0        0.0  \n",
       "3        1.0        0.0        0.0  \n",
       "4        1.0        0.0        0.0  "
      ]
     },
     "execution_count": 34,
     "metadata": {},
     "output_type": "execute_result"
    }
   ],
   "source": [
    "med_bill_final.head()"
   ]
  },
  {
   "cell_type": "markdown",
   "id": "5027daad-7fb0-4ce7-9b35-8fe934cb3313",
   "metadata": {},
   "source": [
    "# test and train split\n",
    "\n",
    "We have the data set \"munged\" (formatted really) the way we want it,  scaled and one-hot-encoded,   we can now form the test and train set."
   ]
  },
  {
   "cell_type": "code",
   "execution_count": 35,
   "id": "aeb4eced-bd33-471a-a7ef-fb2c51c66a7d",
   "metadata": {},
   "outputs": [],
   "source": [
    "from sklearn.model_selection import train_test_split\n",
    "X_train, X_test, y_train, y_test = train_test_split(med_bill_final, y,train_size=0.8,random_state=1)"
   ]
  },
  {
   "cell_type": "markdown",
   "id": "f36aaad7-b54e-4455-b0e3-d2ee1cc31850",
   "metadata": {},
   "source": [
    "# Save the data\n",
    "\n",
    "At this point on a serious project,  I would save the test and train data separately,  and close the file.   I'd start the modeling in a new notebook or file, just to avoid any chance of contaminating\n",
    "the project wit the test data\n",
    "\n",
    "I'd also do an exploratory data analysis, to see what is going on in the data set, and only then go on to building predictive models.\n",
    "\n",
    "To save time, we are just going to dig into the models\n",
    "\n",
    "-Neural Net regressor\n",
    "\n",
    "-a linear regression model\n",
    "\n",
    "-a nearest-neighbor model"
   ]
  },
  {
   "cell_type": "markdown",
   "id": "a73a7bc5-bd9c-42f8-b160-653d1814ea89",
   "metadata": {},
   "source": [
    "# Build the model\n",
    "\n",
    "In scikit learn,   all models work the same way, in terms of setup\n",
    "\n",
    "-create a model instance\n",
    "\n",
    "-fit or train it\n",
    "\n",
    "-make predictions\n",
    "\n",
    "The MLPRegressor uses a mean squared error (MSE) criterion for the Loss\n",
    "\n",
    "We can make use of a variety of performance metrics to understand how the model is doing.   These are resubstitution estimates made on the training data, which tend to be over-optimistic\n",
    "due to the prevalence of overfitting"
   ]
  },
  {
   "cell_type": "code",
   "execution_count": 36,
   "id": "7280cc55-1c77-4afc-9a18-20197e62dd6b",
   "metadata": {},
   "outputs": [],
   "source": [
    "from sklearn.neural_network import MLPRegressor\n",
    "\n",
    "regr = MLPRegressor(hidden_layer_sizes=(6,3,),random_state=1, max_iter=50000, verbose=False)\n",
    "regr.fit(X_train, y_train)\n",
    "y_pred=regr.predict(X_train)\n",
    "\n"
   ]
  },
  {
   "cell_type": "code",
   "execution_count": 43,
   "id": "f0957b07-10a4-41f9-96c6-d668ac562eda",
   "metadata": {},
   "outputs": [
    {
     "data": {
      "text/plain": [
       "0.84175188769289"
      ]
     },
     "execution_count": 43,
     "metadata": {},
     "output_type": "execute_result"
    }
   ],
   "source": [
    "from sklearn.metrics import explained_variance_score\n",
    "\n",
    "explained_variance_score(y_train,y_pred)"
   ]
  },
  {
   "cell_type": "code",
   "execution_count": 37,
   "id": "623769b5-a732-4df9-940c-95e998d1fc75",
   "metadata": {},
   "outputs": [
    {
     "data": {
      "text/plain": [
       "23081098.96018704"
      ]
     },
     "execution_count": 37,
     "metadata": {},
     "output_type": "execute_result"
    }
   ],
   "source": [
    "from sklearn.metrics import mean_squared_error\n",
    "\n",
    "mean_squared_error(y_train, y_pred)"
   ]
  },
  {
   "cell_type": "code",
   "execution_count": 38,
   "id": "1b825aff-dfe6-4d2a-94aa-8e09535332fa",
   "metadata": {},
   "outputs": [
    {
     "data": {
      "text/plain": [
       "0.2882433763829543"
      ]
     },
     "execution_count": 38,
     "metadata": {},
     "output_type": "execute_result"
    }
   ],
   "source": [
    " from sklearn.metrics import mean_absolute_percentage_error\n",
    "\n",
    "mean_absolute_percentage_error(y_train, y_pred)"
   ]
  },
  {
   "cell_type": "code",
   "execution_count": 39,
   "id": "c3533d1a-5a1c-429e-b8e5-5a62bb4e34ed",
   "metadata": {},
   "outputs": [
    {
     "data": {
      "text/plain": [
       "0.8417465281140448"
      ]
     },
     "execution_count": 39,
     "metadata": {},
     "output_type": "execute_result"
    }
   ],
   "source": [
    "from sklearn.metrics import r2_score\n",
    "r2_score(y_train, y_pred)"
   ]
  },
  {
   "cell_type": "markdown",
   "id": "48e3618d-1516-48d3-9f1c-d8cca406f823",
   "metadata": {},
   "source": [
    "# Try a linear regresion model,   classic least square regression\n",
    "\n",
    "Again it fits and trains the same way"
   ]
  },
  {
   "cell_type": "code",
   "execution_count": 40,
   "id": "ef7a5c32-1dcb-47aa-a8c6-78df3ac0b955",
   "metadata": {},
   "outputs": [],
   "source": [
    "\n",
    "from sklearn.linear_model import LinearRegression\n",
    "\n",
    "reg = LinearRegression().fit(X_train,y_train)\n",
    "y_pred_lin=reg.predict(X_train)"
   ]
  },
  {
   "cell_type": "code",
   "execution_count": 45,
   "id": "59e77818-6d68-40ef-870a-2f81e6cc54a9",
   "metadata": {
    "tags": []
   },
   "outputs": [
    {
     "data": {
      "text/plain": [
       "0.7477680686451551"
      ]
     },
     "execution_count": 45,
     "metadata": {},
     "output_type": "execute_result"
    }
   ],
   "source": [
    "explained_variance_score(y_train,y_pred_lin)"
   ]
  },
  {
   "cell_type": "markdown",
   "id": "2ffcd126-e723-4e0f-86a5-3decbc0a4407",
   "metadata": {},
   "source": [
    "# Try nearest neighbor regression\n",
    "\n",
    "This almost isn't a model,  it simply finds the k specimens closest to a specimens and uses the average value of the k nearest neighbors as the regression value- Note that you can build classifers this\n",
    "way as well.\n",
    "\n",
    "The k value used here was 8,   this is a hyperparamenter"
   ]
  },
  {
   "cell_type": "code",
   "execution_count": 46,
   "id": "0a988be5-649c-4a85-9250-2aa4d88ceda1",
   "metadata": {},
   "outputs": [
    {
     "data": {
      "text/plain": [
       "0.8055459624821658"
      ]
     },
     "execution_count": 46,
     "metadata": {},
     "output_type": "execute_result"
    }
   ],
   "source": [
    "from sklearn.neighbors import KNeighborsRegressor\n",
    "\n",
    "neigh = KNeighborsRegressor(n_neighbors=8)\n",
    "neigh.fit(X_train, y_train)\n",
    "\n",
    "y_pred_nn=neigh.predict(X_train)\n",
    "\n",
    "explained_variance_score(y_train,y_pred_nn)"
   ]
  },
  {
   "cell_type": "code",
   "execution_count": 47,
   "id": "dbc53f9c-ed05-4220-a72b-eaada53efdfe",
   "metadata": {},
   "outputs": [
    {
     "data": {
      "text/plain": [
       "0.8031959620565939"
      ]
     },
     "execution_count": 47,
     "metadata": {},
     "output_type": "execute_result"
    }
   ],
   "source": [
    "r2_score(y_train,y_pred_nn)"
   ]
  },
  {
   "cell_type": "markdown",
   "id": "8c69c46e-acfb-4879-a335-fba23a0be9ae",
   "metadata": {},
   "source": [
    "## Cross validation\n",
    "\n",
    "Use cross validation to determine what the expected r2 value would be on new data\n",
    "\n",
    "An example is shown for the nearest neighbor model"
   ]
  },
  {
   "cell_type": "code",
   "execution_count": 48,
   "id": "144fd3ba-bac8-427f-b7b0-245d2ea2a913",
   "metadata": {},
   "outputs": [],
   "source": [
    "from sklearn.model_selection import cross_val_score\n",
    "\n",
    "neigh2 = KNeighborsRegressor(n_neighbors=8)\n",
    "scores = cross_val_score(neigh2, X_train, y_train, cv=10,scoring='r2')"
   ]
  },
  {
   "cell_type": "code",
   "execution_count": 49,
   "id": "6d2a3c25-c71b-41fc-b272-94a7bbcadabe",
   "metadata": {},
   "outputs": [
    {
     "data": {
      "text/plain": [
       "0.7229553759141347"
      ]
     },
     "execution_count": 49,
     "metadata": {},
     "output_type": "execute_result"
    }
   ],
   "source": [
    "np.mean(scores)"
   ]
  },
  {
   "cell_type": "code",
   "execution_count": 50,
   "id": "711ef7a8-4f33-455d-9f4d-e1afa7c8bda4",
   "metadata": {},
   "outputs": [
    {
     "data": {
      "text/plain": [
       "0.050203059757298704"
      ]
     },
     "execution_count": 50,
     "metadata": {},
     "output_type": "execute_result"
    }
   ],
   "source": [
    "np.std(scores)"
   ]
  },
  {
   "cell_type": "markdown",
   "id": "c2456f8a-11fe-4498-9e68-05d74d10a58c",
   "metadata": {},
   "source": [
    "# Question:   Use cross validation to examine the performance of the 2 other models,   linear regression and the Neural net.\n",
    "\n",
    "Which models seem to be overfit?    Can you adjust them slightly to improve performance (don't spend all night on this!)"
   ]
  },
  {
   "cell_type": "markdown",
   "id": "fe750177-dcfe-452c-acf1-eec0ee40e57d",
   "metadata": {},
   "source": [
    "# Question: Permutation estimates of variable importance\n",
    "\n",
    "For each of the three models, use the permutation tools to determine the importance of the different variables.\n",
    "\n",
    "Can you find strong evidence of interaction of variables?"
   ]
  },
  {
   "cell_type": "code",
   "execution_count": null,
   "id": "90cf8bef-0b6d-476a-b8c3-45d55d57bff0",
   "metadata": {},
   "outputs": [],
   "source": []
  }
 ],
 "metadata": {
  "kernelspec": {
   "display_name": "Python 3 (ipykernel)",
   "language": "python",
   "name": "python3"
  },
  "language_info": {
   "codemirror_mode": {
    "name": "ipython",
    "version": 3
   },
   "file_extension": ".py",
   "mimetype": "text/x-python",
   "name": "python",
   "nbconvert_exporter": "python",
   "pygments_lexer": "ipython3",
   "version": "3.11.5"
  }
 },
 "nbformat": 4,
 "nbformat_minor": 5
}
