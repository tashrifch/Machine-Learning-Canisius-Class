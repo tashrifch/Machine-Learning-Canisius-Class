{
  "cells": [
    {
      "cell_type": "markdown",
      "metadata": {
        "id": "XCKbl_Q43ZEO"
      },
      "source": [
        "## Boston Housing Price Models- Discussed in Chollet section 3.6 page 85\n",
        "\n",
        "Building a regression model in Tensorflow\n",
        "\n",
        "This data set is now generally recognized as being problematic\n",
        "There is an unpleasant racial bias embedded in one variable, and the complete data behind this variable cannot be seen.  Those are problems.\n",
        "\n"
      ]
    },
    {
      "cell_type": "code",
      "execution_count": 1,
      "metadata": {
        "colab": {
          "base_uri": "https://localhost:8080/"
        },
        "id": "a6dm9cdV3ZEP",
        "outputId": "4ca558cf-9267-47f9-d499-40dc39af1c36"
      },
      "outputs": [
        {
          "output_type": "stream",
          "name": "stdout",
          "text": [
            "Downloading data from https://storage.googleapis.com/tensorflow/tf-keras-datasets/boston_housing.npz\n",
            "57026/57026 [==============================] - 0s 0us/step\n"
          ]
        }
      ],
      "source": [
        "import tensorflow as tf\n",
        "from tensorflow.keras.datasets import boston_housing\n",
        "\n",
        "(train_data,train_targets),(test_data,test_targets) =boston_housing.load_data()"
      ]
    },
    {
      "cell_type": "code",
      "execution_count": 2,
      "metadata": {
        "colab": {
          "base_uri": "https://localhost:8080/"
        },
        "id": "jjnKeawR3ZEQ",
        "outputId": "327c227e-abf3-41d6-91fc-f1b28871b142"
      },
      "outputs": [
        {
          "output_type": "execute_result",
          "data": {
            "text/plain": [
              "[PhysicalDevice(name='/physical_device:CPU:0', device_type='CPU')]"
            ]
          },
          "metadata": {},
          "execution_count": 2
        }
      ],
      "source": [
        "tf.config.list_physical_devices()"
      ]
    },
    {
      "cell_type": "code",
      "execution_count": 4,
      "metadata": {
        "id": "CkH-3CJH3ZEQ"
      },
      "outputs": [],
      "source": [
        "gpus = tf.config.experimental.list_physical_devices('GPU')\n",
        "if gpus:\n",
        "    try:\n",
        "        # Currently, memory growth needs to be the same across GPUs\n",
        "        for gpu in gpus:\n",
        "            tf.config.experimental.set_memory_growth(gpu, True)\n",
        "        logical_gpus = tf.config.experimental.list_logical_devices('GPU')\n",
        "        print(len(gpus), \"Physical GPUs,\", len(logical_gpus), \"Logical GPUs\")\n",
        "    except RuntimeError as e:\n",
        "        # Memory growth must be set before GPUs have been initialized\n",
        "        print(e)"
      ]
    },
    {
      "cell_type": "code",
      "execution_count": 5,
      "metadata": {
        "colab": {
          "base_uri": "https://localhost:8080/"
        },
        "id": "OufK_7rm3ZEQ",
        "outputId": "f3e9de06-9f98-42a6-fce1-daa95c52c684"
      },
      "outputs": [
        {
          "output_type": "execute_result",
          "data": {
            "text/plain": [
              "(404, 13)"
            ]
          },
          "metadata": {},
          "execution_count": 5
        }
      ],
      "source": [
        "train_data.shape"
      ]
    },
    {
      "cell_type": "code",
      "execution_count": 6,
      "metadata": {
        "colab": {
          "base_uri": "https://localhost:8080/"
        },
        "id": "ywqn28up3ZER",
        "outputId": "aad89ba1-2662-46ac-da9b-ce20ffde08ed"
      },
      "outputs": [
        {
          "output_type": "execute_result",
          "data": {
            "text/plain": [
              "(102, 13)"
            ]
          },
          "metadata": {},
          "execution_count": 6
        }
      ],
      "source": [
        "test_data.shape"
      ]
    },
    {
      "cell_type": "code",
      "execution_count": 7,
      "metadata": {
        "scrolled": true,
        "colab": {
          "base_uri": "https://localhost:8080/"
        },
        "id": "aTxMsI2M3ZER",
        "outputId": "c53bac73-1b51-416c-88cd-451993dcdcd2"
      },
      "outputs": [
        {
          "output_type": "execute_result",
          "data": {
            "text/plain": [
              "array([[8.2500e+01, 2.0300e+00, 0.0000e+00, 4.1500e-01, 7.6100e+00,\n",
              "        1.5700e+01, 6.2700e+00, 2.0000e+00, 3.4800e+02, 1.4700e+01,\n",
              "        3.9538e+02, 3.1100e+00],\n",
              "       [0.0000e+00, 1.8100e+01, 0.0000e+00, 6.3100e-01, 4.9700e+00,\n",
              "        1.0000e+02, 1.3325e+00, 2.4000e+01, 6.6600e+02, 2.0200e+01,\n",
              "        3.7552e+02, 3.2600e+00],\n",
              "       [0.0000e+00, 5.1900e+00, 0.0000e+00, 5.1500e-01, 6.0370e+00,\n",
              "        3.4500e+01, 5.9853e+00, 5.0000e+00, 2.2400e+02, 2.0200e+01,\n",
              "        3.9690e+02, 8.0100e+00],\n",
              "       [0.0000e+00, 1.8100e+01, 0.0000e+00, 7.1300e-01, 6.3760e+00,\n",
              "        8.8400e+01, 2.5671e+00, 2.4000e+01, 6.6600e+02, 2.0200e+01,\n",
              "        3.9143e+02, 1.4650e+01]])"
            ]
          },
          "metadata": {},
          "execution_count": 7
        }
      ],
      "source": [
        "train_data[1:5,1:13]"
      ]
    },
    {
      "cell_type": "code",
      "execution_count": 8,
      "metadata": {
        "colab": {
          "base_uri": "https://localhost:8080/"
        },
        "id": "cJAETU4F3ZER",
        "outputId": "366be00f-2c90-4fca-f259-d0c2537e9884"
      },
      "outputs": [
        {
          "output_type": "execute_result",
          "data": {
            "text/plain": [
              "numpy.ndarray"
            ]
          },
          "metadata": {},
          "execution_count": 8
        }
      ],
      "source": [
        "type(train_data)"
      ]
    },
    {
      "cell_type": "markdown",
      "metadata": {
        "id": "qvAtp9qW3ZER"
      },
      "source": [
        "http://lib.stat.cmu.edu/datasets/boston\n",
        "\n",
        "\n",
        "The Boston house-price data of Harrison, D. and Rubinfeld, D.L. 'Hedonic\n",
        " prices and the demand for clean air', J. Environ. Economics & Management,\n",
        " vol.5, 81-102, 1978.   Used in Belsley, Kuh & Welsch, 'Regression diagnostics\n",
        " ...', Wiley, 1980.   N.B. Various transformations are used in the table on\n",
        " pages 244-261 of the latter.\n",
        "\n",
        " Variables in order:\n",
        " CRIM     per capita crime rate by town\n",
        "\n",
        " ZN       proportion of residential land zoned for lots over 25,000 sq.ft.\n",
        "\n",
        " INDUS    proportion of non-retail business acres per town\n",
        "\n",
        " CHAS     Charles River dummy variable (= 1 if tract bounds river; 0 otherwise)\n",
        "\n",
        " NOX      nitric oxides concentration (parts per 10 million)\n",
        "\n",
        " RM       average number of rooms per dwelling\n",
        "\n",
        " AGE      proportion of owner-occupied units built prior to 1940\n",
        "\n",
        " DIS      weighted distances to five Boston employment centres\n",
        "\n",
        " RAD      index of accessibility to radial highways\n",
        "\n",
        " TAX      full-value property-tax rate per $10,000\n",
        "\n",
        " PTRATIO  pupil-teacher ratio by town\n",
        "\n",
        " B        1000(Bk - 0.63)^2 where Bk is the proportion of blacks by town\n",
        "\n",
        " LSTAT    % lower status of the population\n",
        "\n",
        " MEDV     Median value of owner-occupied homes in $1000's"
      ]
    },
    {
      "cell_type": "markdown",
      "metadata": {
        "id": "gHpe8ESC3ZER"
      },
      "source": [
        "the targets are the house price sin thousands of dollars"
      ]
    },
    {
      "cell_type": "markdown",
      "metadata": {
        "id": "qipynksf3ZER"
      },
      "source": [
        "# Question/Task\n",
        "\n",
        "Remove the variable B from the data set at this point, before the test-train split\n",
        "\n",
        "Create yourself a list of the variable names as well"
      ]
    },
    {
      "cell_type": "code",
      "execution_count": null,
      "metadata": {
        "id": "iBerqMv23ZES"
      },
      "outputs": [],
      "source": []
    },
    {
      "cell_type": "markdown",
      "metadata": {
        "id": "O0bT7lUj3ZES"
      },
      "source": [
        "Standardize the data, subtracting the mean and dividing by the standard deviation,  this is a \"Z standardization\", and could be done with scikit learn functions, there may be built-in functions in tensorflow as well\n",
        "\n",
        "Note use of the mean and std of the train data to standardardize the test data, the same standardization is used"
      ]
    },
    {
      "cell_type": "code",
      "execution_count": 9,
      "metadata": {
        "id": "aeiqQS3A3ZES"
      },
      "outputs": [],
      "source": [
        "mean=train_data.mean(axis=0)\n",
        "train_data-=mean\n",
        "std=train_data.std(axis=0)\n",
        "train_data=train_data/std\n",
        "\n",
        "test_data -= mean\n",
        "test_data /= std"
      ]
    },
    {
      "cell_type": "markdown",
      "metadata": {
        "id": "bahudLco3ZES"
      },
      "source": [
        "Create a validation set from the training data"
      ]
    },
    {
      "cell_type": "code",
      "execution_count": 10,
      "metadata": {
        "id": "Re5nyLks3ZES"
      },
      "outputs": [],
      "source": [
        "# split off a validation set from the training data\n",
        "from sklearn.model_selection import train_test_split\n",
        "\n",
        "X_train2, X_valid, y_train2, y_valid = train_test_split(train_data, train_targets, test_size=0.2, random_state=42)"
      ]
    },
    {
      "cell_type": "markdown",
      "metadata": {
        "id": "ikB9EZRk3ZES"
      },
      "source": [
        "Build a function to create models"
      ]
    },
    {
      "cell_type": "markdown",
      "metadata": {
        "id": "wlR8BbA93ZES"
      },
      "source": [
        "# Questions:\n",
        "\n",
        "What is the structure of this model?\n",
        "    \n",
        "How many layers?    \n",
        "\n",
        "Why no activation on the output layer?\n",
        "\n",
        "Notice that build_model is a function to create copies of this particular model,  used in the K-fold cross validation used later"
      ]
    },
    {
      "cell_type": "code",
      "execution_count": 11,
      "metadata": {
        "id": "lteM6wkE3ZES"
      },
      "outputs": [],
      "source": [
        "from tensorflow.keras import models\n",
        "from tensorflow.keras import layers\n",
        "\n",
        "def build_model():\n",
        "    model=models.Sequential()\n",
        "    model.add(layers.Dense(64,activation=\"relu\",input_shape=(train_data.shape[1],)))\n",
        "    model.add(layers.Dense(64,activation=\"relu\"))\n",
        "    model.add(layers.Dense(1))\n",
        "\n",
        "    model.compile(optimizer='rmsprop',loss='mse',metrics=['mse','mae'])\n",
        "    return(model)"
      ]
    },
    {
      "cell_type": "code",
      "execution_count": 12,
      "metadata": {
        "id": "TfCWC9W33ZET"
      },
      "outputs": [],
      "source": [
        "from tensorflow.keras.callbacks import History\n",
        "history = History()"
      ]
    },
    {
      "cell_type": "code",
      "execution_count": 13,
      "metadata": {
        "colab": {
          "base_uri": "https://localhost:8080/"
        },
        "id": "3jYA6Cdd3ZET",
        "outputId": "7d3f5ec8-bfdb-4899-85f9-6dead2f93906"
      },
      "outputs": [
        {
          "output_type": "stream",
          "name": "stdout",
          "text": [
            "Epoch 1/60\n",
            "6/6 [==============================] - 2s 113ms/step - loss: 590.3481 - mse: 590.3481 - mae: 22.3283 - val_loss: 422.8787 - val_mse: 422.8787 - val_mae: 19.2543\n",
            "Epoch 2/60\n",
            "6/6 [==============================] - 0s 29ms/step - loss: 538.7151 - mse: 538.7151 - mae: 21.1808 - val_loss: 389.0669 - val_mse: 389.0669 - val_mae: 18.3653\n",
            "Epoch 3/60\n",
            "6/6 [==============================] - 0s 19ms/step - loss: 496.2740 - mse: 496.2740 - mae: 20.2083 - val_loss: 358.7016 - val_mse: 358.7016 - val_mae: 17.5033\n",
            "Epoch 4/60\n",
            "6/6 [==============================] - 0s 17ms/step - loss: 456.0855 - mse: 456.0855 - mae: 19.2131 - val_loss: 321.7866 - val_mse: 321.7866 - val_mae: 16.4049\n",
            "Epoch 5/60\n",
            "6/6 [==============================] - 0s 16ms/step - loss: 407.0539 - mse: 407.0539 - mae: 17.9738 - val_loss: 285.1277 - val_mse: 285.1277 - val_mae: 15.3464\n",
            "Epoch 6/60\n",
            "6/6 [==============================] - 0s 18ms/step - loss: 358.4237 - mse: 358.4237 - mae: 16.6768 - val_loss: 245.8997 - val_mse: 245.8997 - val_mae: 14.1446\n",
            "Epoch 7/60\n",
            "6/6 [==============================] - 0s 17ms/step - loss: 307.3488 - mse: 307.3488 - mae: 15.2351 - val_loss: 210.8076 - val_mse: 210.8076 - val_mae: 12.9721\n",
            "Epoch 8/60\n",
            "6/6 [==============================] - 0s 22ms/step - loss: 261.8179 - mse: 261.8179 - mae: 13.8250 - val_loss: 177.0356 - val_mse: 177.0356 - val_mae: 11.7537\n",
            "Epoch 9/60\n",
            "6/6 [==============================] - 0s 19ms/step - loss: 216.1147 - mse: 216.1147 - mae: 12.3776 - val_loss: 144.1539 - val_mse: 144.1539 - val_mae: 10.4145\n",
            "Epoch 10/60\n",
            "6/6 [==============================] - 0s 16ms/step - loss: 172.8526 - mse: 172.8526 - mae: 10.7891 - val_loss: 114.0553 - val_mse: 114.0553 - val_mae: 9.0859\n",
            "Epoch 11/60\n",
            "6/6 [==============================] - 0s 16ms/step - loss: 136.0417 - mse: 136.0417 - mae: 9.2388 - val_loss: 88.1744 - val_mse: 88.1744 - val_mae: 7.8793\n",
            "Epoch 12/60\n",
            "6/6 [==============================] - 0s 19ms/step - loss: 105.3420 - mse: 105.3420 - mae: 7.9061 - val_loss: 70.7215 - val_mse: 70.7215 - val_mae: 6.9639\n",
            "Epoch 13/60\n",
            "6/6 [==============================] - 0s 17ms/step - loss: 85.0685 - mse: 85.0685 - mae: 6.9189 - val_loss: 56.3135 - val_mse: 56.3135 - val_mae: 6.1704\n",
            "Epoch 14/60\n",
            "6/6 [==============================] - 0s 21ms/step - loss: 69.7034 - mse: 69.7034 - mae: 6.1833 - val_loss: 46.9464 - val_mse: 46.9464 - val_mae: 5.6488\n",
            "Epoch 15/60\n",
            "6/6 [==============================] - 0s 28ms/step - loss: 59.6228 - mse: 59.6228 - mae: 5.7362 - val_loss: 37.0542 - val_mse: 37.0542 - val_mae: 5.0352\n",
            "Epoch 16/60\n",
            "6/6 [==============================] - 0s 40ms/step - loss: 50.0336 - mse: 50.0336 - mae: 5.2060 - val_loss: 30.8431 - val_mse: 30.8431 - val_mae: 4.5286\n",
            "Epoch 17/60\n",
            "6/6 [==============================] - 0s 31ms/step - loss: 43.8428 - mse: 43.8428 - mae: 4.8296 - val_loss: 27.5640 - val_mse: 27.5640 - val_mae: 4.3011\n",
            "Epoch 18/60\n",
            "6/6 [==============================] - 0s 27ms/step - loss: 39.5596 - mse: 39.5596 - mae: 4.5308 - val_loss: 24.1068 - val_mse: 24.1068 - val_mae: 3.9895\n",
            "Epoch 19/60\n",
            "6/6 [==============================] - 0s 34ms/step - loss: 35.8273 - mse: 35.8273 - mae: 4.2630 - val_loss: 20.8680 - val_mse: 20.8680 - val_mae: 3.6539\n",
            "Epoch 20/60\n",
            "6/6 [==============================] - 0s 21ms/step - loss: 32.1453 - mse: 32.1453 - mae: 4.0279 - val_loss: 19.4257 - val_mse: 19.4257 - val_mae: 3.4243\n",
            "Epoch 21/60\n",
            "6/6 [==============================] - 0s 23ms/step - loss: 29.3543 - mse: 29.3543 - mae: 3.8343 - val_loss: 18.8219 - val_mse: 18.8219 - val_mae: 3.4625\n",
            "Epoch 22/60\n",
            "6/6 [==============================] - 0s 30ms/step - loss: 27.0395 - mse: 27.0395 - mae: 3.6693 - val_loss: 17.5869 - val_mse: 17.5869 - val_mae: 3.2387\n",
            "Epoch 23/60\n",
            "6/6 [==============================] - 0s 22ms/step - loss: 25.6440 - mse: 25.6440 - mae: 3.5241 - val_loss: 17.0377 - val_mse: 17.0377 - val_mae: 3.1742\n",
            "Epoch 24/60\n",
            "6/6 [==============================] - 0s 18ms/step - loss: 24.2556 - mse: 24.2556 - mae: 3.4087 - val_loss: 16.6056 - val_mse: 16.6056 - val_mae: 3.1020\n",
            "Epoch 25/60\n",
            "6/6 [==============================] - 0s 19ms/step - loss: 23.2738 - mse: 23.2738 - mae: 3.3234 - val_loss: 17.5748 - val_mse: 17.5748 - val_mae: 3.2116\n",
            "Epoch 26/60\n",
            "6/6 [==============================] - 0s 19ms/step - loss: 22.0942 - mse: 22.0942 - mae: 3.3014 - val_loss: 17.4940 - val_mse: 17.4940 - val_mae: 3.2190\n",
            "Epoch 27/60\n",
            "6/6 [==============================] - 0s 24ms/step - loss: 21.6033 - mse: 21.6033 - mae: 3.2701 - val_loss: 16.3207 - val_mse: 16.3207 - val_mae: 3.1266\n",
            "Epoch 28/60\n",
            "6/6 [==============================] - 0s 20ms/step - loss: 20.4275 - mse: 20.4275 - mae: 3.1439 - val_loss: 15.8158 - val_mse: 15.8158 - val_mae: 3.0214\n",
            "Epoch 29/60\n",
            "6/6 [==============================] - 0s 24ms/step - loss: 20.3136 - mse: 20.3136 - mae: 3.0905 - val_loss: 15.4276 - val_mse: 15.4276 - val_mae: 2.9685\n",
            "Epoch 30/60\n",
            "6/6 [==============================] - 0s 16ms/step - loss: 19.5060 - mse: 19.5060 - mae: 3.0071 - val_loss: 16.5642 - val_mse: 16.5642 - val_mae: 3.0972\n",
            "Epoch 31/60\n",
            "6/6 [==============================] - 0s 15ms/step - loss: 19.4159 - mse: 19.4159 - mae: 3.0948 - val_loss: 15.0356 - val_mse: 15.0356 - val_mae: 2.9106\n",
            "Epoch 32/60\n",
            "6/6 [==============================] - 0s 15ms/step - loss: 18.7575 - mse: 18.7575 - mae: 2.9403 - val_loss: 14.8635 - val_mse: 14.8635 - val_mae: 2.8954\n",
            "Epoch 33/60\n",
            "6/6 [==============================] - 0s 26ms/step - loss: 18.0508 - mse: 18.0508 - mae: 2.9232 - val_loss: 19.1971 - val_mse: 19.1971 - val_mae: 3.4193\n",
            "Epoch 34/60\n",
            "6/6 [==============================] - 0s 25ms/step - loss: 18.5970 - mse: 18.5970 - mae: 3.1360 - val_loss: 16.9214 - val_mse: 16.9214 - val_mae: 3.1159\n",
            "Epoch 35/60\n",
            "6/6 [==============================] - 0s 18ms/step - loss: 17.2146 - mse: 17.2146 - mae: 2.9666 - val_loss: 15.4065 - val_mse: 15.4065 - val_mae: 2.9138\n",
            "Epoch 36/60\n",
            "6/6 [==============================] - 0s 27ms/step - loss: 16.8587 - mse: 16.8587 - mae: 2.8927 - val_loss: 15.8543 - val_mse: 15.8543 - val_mae: 2.9906\n",
            "Epoch 37/60\n",
            "6/6 [==============================] - 0s 31ms/step - loss: 16.5777 - mse: 16.5777 - mae: 2.9055 - val_loss: 15.5376 - val_mse: 15.5376 - val_mae: 2.9554\n",
            "Epoch 38/60\n",
            "6/6 [==============================] - 0s 63ms/step - loss: 16.3555 - mse: 16.3555 - mae: 2.8645 - val_loss: 14.6789 - val_mse: 14.6789 - val_mae: 2.8545\n",
            "Epoch 39/60\n",
            "6/6 [==============================] - 0s 24ms/step - loss: 16.1429 - mse: 16.1429 - mae: 2.8284 - val_loss: 14.3994 - val_mse: 14.3994 - val_mae: 2.8113\n",
            "Epoch 40/60\n",
            "6/6 [==============================] - 0s 55ms/step - loss: 15.7399 - mse: 15.7399 - mae: 2.7820 - val_loss: 17.4691 - val_mse: 17.4691 - val_mae: 3.1851\n",
            "Epoch 41/60\n",
            "6/6 [==============================] - 0s 46ms/step - loss: 15.6319 - mse: 15.6319 - mae: 2.8511 - val_loss: 14.4291 - val_mse: 14.4291 - val_mae: 2.8191\n",
            "Epoch 42/60\n",
            "6/6 [==============================] - 0s 46ms/step - loss: 15.0527 - mse: 15.0527 - mae: 2.7287 - val_loss: 14.0960 - val_mse: 14.0960 - val_mae: 2.8293\n",
            "Epoch 43/60\n",
            "6/6 [==============================] - 0s 45ms/step - loss: 14.8749 - mse: 14.8749 - mae: 2.7384 - val_loss: 13.5510 - val_mse: 13.5510 - val_mae: 2.7744\n",
            "Epoch 44/60\n",
            "6/6 [==============================] - 0s 42ms/step - loss: 15.0350 - mse: 15.0350 - mae: 2.7432 - val_loss: 12.9139 - val_mse: 12.9139 - val_mae: 2.6765\n",
            "Epoch 45/60\n",
            "6/6 [==============================] - 0s 37ms/step - loss: 14.6362 - mse: 14.6362 - mae: 2.6764 - val_loss: 12.6247 - val_mse: 12.6247 - val_mae: 2.5874\n",
            "Epoch 46/60\n",
            "6/6 [==============================] - 0s 26ms/step - loss: 14.2480 - mse: 14.2480 - mae: 2.6435 - val_loss: 13.4118 - val_mse: 13.4118 - val_mae: 2.7064\n",
            "Epoch 47/60\n",
            "6/6 [==============================] - 0s 42ms/step - loss: 13.8834 - mse: 13.8834 - mae: 2.6450 - val_loss: 12.4658 - val_mse: 12.4658 - val_mae: 2.5825\n",
            "Epoch 48/60\n",
            "6/6 [==============================] - 0s 30ms/step - loss: 13.8307 - mse: 13.8307 - mae: 2.6299 - val_loss: 13.9808 - val_mse: 13.9808 - val_mae: 2.7751\n",
            "Epoch 49/60\n",
            "6/6 [==============================] - 0s 37ms/step - loss: 13.4611 - mse: 13.4611 - mae: 2.6195 - val_loss: 12.5063 - val_mse: 12.5063 - val_mae: 2.5668\n",
            "Epoch 50/60\n",
            "6/6 [==============================] - 0s 34ms/step - loss: 13.6561 - mse: 13.6561 - mae: 2.5596 - val_loss: 12.0993 - val_mse: 12.0993 - val_mae: 2.5267\n",
            "Epoch 51/60\n",
            "6/6 [==============================] - 0s 29ms/step - loss: 13.1095 - mse: 13.1095 - mae: 2.5337 - val_loss: 12.0357 - val_mse: 12.0357 - val_mae: 2.5396\n",
            "Epoch 52/60\n",
            "6/6 [==============================] - 0s 25ms/step - loss: 12.8347 - mse: 12.8347 - mae: 2.5213 - val_loss: 11.5643 - val_mse: 11.5643 - val_mae: 2.4471\n",
            "Epoch 53/60\n",
            "6/6 [==============================] - 0s 15ms/step - loss: 13.1072 - mse: 13.1072 - mae: 2.4957 - val_loss: 11.1931 - val_mse: 11.1931 - val_mae: 2.4439\n",
            "Epoch 54/60\n",
            "6/6 [==============================] - 0s 13ms/step - loss: 12.7932 - mse: 12.7932 - mae: 2.4874 - val_loss: 12.2910 - val_mse: 12.2910 - val_mae: 2.6216\n",
            "Epoch 55/60\n",
            "6/6 [==============================] - 0s 14ms/step - loss: 12.2933 - mse: 12.2933 - mae: 2.5058 - val_loss: 12.0844 - val_mse: 12.0844 - val_mae: 2.6513\n",
            "Epoch 56/60\n",
            "6/6 [==============================] - 0s 14ms/step - loss: 13.7293 - mse: 13.7293 - mae: 2.6691 - val_loss: 10.7882 - val_mse: 10.7882 - val_mae: 2.4355\n",
            "Epoch 57/60\n",
            "6/6 [==============================] - 0s 10ms/step - loss: 12.1720 - mse: 12.1720 - mae: 2.4732 - val_loss: 11.3233 - val_mse: 11.3233 - val_mae: 2.5198\n",
            "Epoch 58/60\n",
            "6/6 [==============================] - 0s 11ms/step - loss: 12.0280 - mse: 12.0280 - mae: 2.4604 - val_loss: 11.2245 - val_mse: 11.2245 - val_mae: 2.5151\n",
            "Epoch 59/60\n",
            "6/6 [==============================] - 0s 13ms/step - loss: 12.4390 - mse: 12.4390 - mae: 2.4857 - val_loss: 9.9869 - val_mse: 9.9869 - val_mae: 2.2913\n",
            "Epoch 60/60\n",
            "6/6 [==============================] - 0s 9ms/step - loss: 12.0984 - mse: 12.0984 - mae: 2.4193 - val_loss: 10.1853 - val_mse: 10.1853 - val_mae: 2.3335\n"
          ]
        }
      ],
      "source": [
        "model = build_model()\n",
        "# Train the model (in silent mode, verbose=0)\n",
        "num_epochs=60\n",
        "\n",
        "history= model.fit(X_train2, y_train2,epochs=num_epochs, batch_size=64, verbose=1, validation_data=(X_valid, y_valid))"
      ]
    },
    {
      "cell_type": "code",
      "execution_count": 14,
      "metadata": {
        "scrolled": true,
        "id": "bKJlPnzI3ZET"
      },
      "outputs": [],
      "source": [
        "history_dict=history.history"
      ]
    },
    {
      "cell_type": "code",
      "execution_count": 15,
      "metadata": {
        "colab": {
          "base_uri": "https://localhost:8080/"
        },
        "id": "qEPa-ZGW3ZET",
        "outputId": "ebacdd8a-225d-4d63-b40b-1de7d9eef6f4"
      },
      "outputs": [
        {
          "output_type": "execute_result",
          "data": {
            "text/plain": [
              "dict_keys(['loss', 'mse', 'mae', 'val_loss', 'val_mse', 'val_mae'])"
            ]
          },
          "metadata": {},
          "execution_count": 15
        }
      ],
      "source": [
        "history_dict.keys()"
      ]
    },
    {
      "cell_type": "code",
      "execution_count": 16,
      "metadata": {
        "scrolled": true,
        "colab": {
          "base_uri": "https://localhost:8080/",
          "height": 472
        },
        "id": "fdp-6ZsY3ZET",
        "outputId": "acce4d83-3437-48ef-8d4e-9b2dfe168744"
      },
      "outputs": [
        {
          "output_type": "display_data",
          "data": {
            "text/plain": [
              "<Figure size 640x480 with 1 Axes>"
            ],
            "image/png": "[encoded data removed]"
          },
          "metadata": {}
        }
      ],
      "source": [
        "import matplotlib.pyplot as plt\n",
        "\n",
        "mse_values=history_dict['mse']\n",
        "val_mse_values=history_dict['val_mse']\n",
        "epoch=range(1,len(mse_values)+1)\n",
        "\n",
        "plt.plot(epoch,mse_values,label='Training mse')\n",
        "plt.plot(epoch,val_mse_values,label=\"Validation mse\")\n",
        "plt.title(\"Traing and Validation MSE\")\n",
        "plt.xlabel(\"epochs\")\n",
        "plt.ylabel(\"Loss\")\n",
        "#plt.ylim(0,100)\n",
        "plt.legend()\n",
        "plt.show()"
      ]
    },
    {
      "cell_type": "markdown",
      "metadata": {
        "id": "-pU-FxSp3ZET"
      },
      "source": [
        "# Question/Test\n",
        "\n",
        "is there any indication of overfitting here?\n",
        "\n",
        "What does that indicate about model complexity?\n",
        "\n",
        "Create a more complex model (another layer maybe???) and check on it's performance and evidence of overfitting"
      ]
    },
    {
      "cell_type": "code",
      "execution_count": null,
      "metadata": {
        "id": "BdR2TA2N3ZET"
      },
      "outputs": [],
      "source": []
    },
    {
      "cell_type": "markdown",
      "source": [
        "# Questions/Operation,  \n",
        "\n",
        "** Run Eli5 and Shap on this model to identify the important variables**\n"
      ],
      "metadata": {
        "id": "2Yzw2Qm54XrI"
      }
    },
    {
      "cell_type": "code",
      "source": [],
      "metadata": {
        "id": "jlJQWf824fqg"
      },
      "execution_count": null,
      "outputs": []
    },
    {
      "cell_type": "markdown",
      "source": [
        "**Question**\n",
        "\n",
        "What is the F value for this model?\n",
        "\n",
        "What is the R^2 or the adjusted R^2 for the model?"
      ],
      "metadata": {
        "id": "-CJxmCwk4gqQ"
      }
    },
    {
      "cell_type": "markdown",
      "metadata": {
        "id": "TxOnC3ub3ZET"
      },
      "source": [
        "# K-fold validation\n",
        "\n",
        "Omit 1/k of the data at a time, build and train the model, then evaluate the performance on the omitted portion\n",
        "\n",
        "This is from an older k-fold validation model,  there are some easier ways to do this"
      ]
    },
    {
      "cell_type": "code",
      "execution_count": 17,
      "metadata": {
        "colab": {
          "base_uri": "https://localhost:8080/"
        },
        "id": "IZJ3a9PS3ZEU",
        "outputId": "b6e52f95-7daf-4c0e-f630-8ca24c9a8b2f"
      },
      "outputs": [
        {
          "output_type": "stream",
          "name": "stdout",
          "text": [
            "processing fold # 0\n",
            "Epoch 1/10\n",
            "303/303 [==============================] - 1s 3ms/step - loss: 192.2112 - mse: 192.2112 - mae: 10.3000\n",
            "Epoch 2/10\n",
            "303/303 [==============================] - 2s 6ms/step - loss: 32.0249 - mse: 32.0249 - mae: 3.9512\n",
            "Epoch 3/10\n",
            "303/303 [==============================] - 2s 6ms/step - loss: 22.2305 - mse: 22.2305 - mae: 3.2974\n",
            "Epoch 4/10\n",
            "303/303 [==============================] - 1s 4ms/step - loss: 18.8852 - mse: 18.8852 - mae: 2.9323\n",
            "Epoch 5/10\n",
            "303/303 [==============================] - 1s 4ms/step - loss: 16.8977 - mse: 16.8977 - mae: 2.7817\n",
            "Epoch 6/10\n",
            "303/303 [==============================] - 2s 6ms/step - loss: 15.8971 - mse: 15.8971 - mae: 2.6626\n",
            "Epoch 7/10\n",
            "303/303 [==============================] - 1s 4ms/step - loss: 14.7676 - mse: 14.7676 - mae: 2.5567\n",
            "Epoch 8/10\n",
            "303/303 [==============================] - 1s 2ms/step - loss: 14.1075 - mse: 14.1075 - mae: 2.4862\n",
            "Epoch 9/10\n",
            "303/303 [==============================] - 1s 2ms/step - loss: 13.2840 - mse: 13.2840 - mae: 2.3382\n",
            "Epoch 10/10\n",
            "303/303 [==============================] - 1s 2ms/step - loss: 12.6316 - mse: 12.6316 - mae: 2.3703\n",
            "processing fold # 1\n",
            "Epoch 1/10\n",
            "303/303 [==============================] - 1s 3ms/step - loss: 222.8136 - mse: 222.8136 - mae: 11.6006\n",
            "Epoch 2/10\n",
            "303/303 [==============================] - 1s 2ms/step - loss: 30.7350 - mse: 30.7350 - mae: 3.6390\n",
            "Epoch 3/10\n",
            "303/303 [==============================] - 1s 2ms/step - loss: 22.2488 - mse: 22.2488 - mae: 3.0728\n",
            "Epoch 4/10\n",
            "303/303 [==============================] - 1s 2ms/step - loss: 18.4069 - mse: 18.4069 - mae: 2.8358\n",
            "Epoch 5/10\n",
            "303/303 [==============================] - 1s 2ms/step - loss: 15.4727 - mse: 15.4727 - mae: 2.6039\n",
            "Epoch 6/10\n",
            "303/303 [==============================] - 1s 2ms/step - loss: 13.9017 - mse: 13.9017 - mae: 2.5549\n",
            "Epoch 7/10\n",
            "303/303 [==============================] - 1s 3ms/step - loss: 13.6196 - mse: 13.6196 - mae: 2.3892\n",
            "Epoch 8/10\n",
            "303/303 [==============================] - 1s 2ms/step - loss: 13.0294 - mse: 13.0294 - mae: 2.3805\n",
            "Epoch 9/10\n",
            "303/303 [==============================] - 1s 2ms/step - loss: 11.6787 - mse: 11.6787 - mae: 2.3008\n",
            "Epoch 10/10\n",
            "303/303 [==============================] - 1s 2ms/step - loss: 11.8461 - mse: 11.8461 - mae: 2.2748\n",
            "processing fold # 2\n",
            "Epoch 1/10\n",
            "303/303 [==============================] - 2s 2ms/step - loss: 217.3954 - mse: 217.3954 - mae: 10.6662\n",
            "Epoch 2/10\n",
            "303/303 [==============================] - 1s 2ms/step - loss: 28.3716 - mse: 28.3716 - mae: 3.5473\n",
            "Epoch 3/10\n",
            "303/303 [==============================] - 1s 2ms/step - loss: 19.8897 - mse: 19.8897 - mae: 3.0027\n",
            "Epoch 4/10\n",
            "303/303 [==============================] - 1s 2ms/step - loss: 15.9478 - mse: 15.9478 - mae: 2.7210\n",
            "Epoch 5/10\n",
            "303/303 [==============================] - 1s 2ms/step - loss: 13.5544 - mse: 13.5544 - mae: 2.6288\n",
            "Epoch 6/10\n",
            "303/303 [==============================] - 1s 2ms/step - loss: 12.6149 - mse: 12.6149 - mae: 2.4858\n",
            "Epoch 7/10\n",
            "303/303 [==============================] - 1s 2ms/step - loss: 11.4476 - mse: 11.4476 - mae: 2.4182\n",
            "Epoch 8/10\n",
            "303/303 [==============================] - 1s 2ms/step - loss: 11.0312 - mse: 11.0312 - mae: 2.3476\n",
            "Epoch 9/10\n",
            "303/303 [==============================] - 1s 2ms/step - loss: 9.7736 - mse: 9.7736 - mae: 2.2884\n",
            "Epoch 10/10\n",
            "303/303 [==============================] - 1s 4ms/step - loss: 9.6405 - mse: 9.6405 - mae: 2.2198\n",
            "processing fold # 3\n",
            "Epoch 1/10\n",
            "303/303 [==============================] - 1s 2ms/step - loss: 208.8017 - mse: 208.8017 - mae: 10.8163\n",
            "Epoch 2/10\n",
            "303/303 [==============================] - 1s 2ms/step - loss: 28.9994 - mse: 28.9994 - mae: 3.5922\n",
            "Epoch 3/10\n",
            "303/303 [==============================] - 1s 2ms/step - loss: 21.1468 - mse: 21.1468 - mae: 2.9462\n",
            "Epoch 4/10\n",
            "303/303 [==============================] - 1s 2ms/step - loss: 17.7209 - mse: 17.7209 - mae: 2.6895\n",
            "Epoch 5/10\n",
            "303/303 [==============================] - 1s 2ms/step - loss: 15.6330 - mse: 15.6330 - mae: 2.5183\n",
            "Epoch 6/10\n",
            "303/303 [==============================] - 1s 3ms/step - loss: 13.8156 - mse: 13.8156 - mae: 2.3284\n",
            "Epoch 7/10\n",
            "303/303 [==============================] - 1s 3ms/step - loss: 13.2116 - mse: 13.2116 - mae: 2.3545\n",
            "Epoch 8/10\n",
            "303/303 [==============================] - 1s 3ms/step - loss: 12.7861 - mse: 12.7861 - mae: 2.2959\n",
            "Epoch 9/10\n",
            "303/303 [==============================] - 1s 2ms/step - loss: 11.6307 - mse: 11.6307 - mae: 2.2256\n",
            "Epoch 10/10\n",
            "303/303 [==============================] - 1s 2ms/step - loss: 11.3628 - mse: 11.3628 - mae: 2.1827\n"
          ]
        }
      ],
      "source": [
        "import numpy as np\n",
        "\n",
        "k=4\n",
        "num_val_samples=len(train_data)//k\n",
        "num_epochs=10\n",
        "all_scores=[]\n",
        "\n",
        "for i in range(k):\n",
        "    print('processing fold #', i)\n",
        "    # Prepare the validation data: data from partition # k\n",
        "    val_data = train_data[i * num_val_samples: (i + 1) * num_val_samples]\n",
        "    val_targets = train_targets[i * num_val_samples: (i + 1) * num_val_samples]\n",
        "\n",
        "    # Prepare the training data: data from all other partitions\n",
        "    partial_train_data = np.concatenate(\n",
        "        [train_data[:i * num_val_samples],\n",
        "         train_data[(i + 1) * num_val_samples:]],\n",
        "        axis=0)\n",
        "    partial_train_targets = np.concatenate(\n",
        "        [train_targets[:i * num_val_samples],\n",
        "         train_targets[(i + 1) * num_val_samples:]],\n",
        "        axis=0)\n",
        "\n",
        "    # Build the Keras model (already compiled)\n",
        "    model = build_model()\n",
        "    # Train the model (in silent mode, verbose=0)\n",
        "    model.fit(partial_train_data, partial_train_targets,\n",
        "              epochs=num_epochs, batch_size=1, verbose=1)          # alter the batch size to change speed here\n",
        "    # Evaluate the model on the validation data\n",
        "    val_mse, val_mae, val_loss = model.evaluate(val_data, val_targets, verbose=0)\n",
        "    all_scores.append(val_mae)"
      ]
    },
    {
      "cell_type": "code",
      "execution_count": 18,
      "metadata": {
        "colab": {
          "base_uri": "https://localhost:8080/"
        },
        "id": "qc7EGhZd3ZEU",
        "outputId": "ee64e928-9210-4ba6-b365-e74e2c2fe733"
      },
      "outputs": [
        {
          "output_type": "execute_result",
          "data": {
            "text/plain": [
              "[10.39367389678955, 11.188405990600586, 18.38371467590332, 20.39292335510254]"
            ]
          },
          "metadata": {},
          "execution_count": 18
        }
      ],
      "source": [
        "all_scores"
      ]
    },
    {
      "cell_type": "code",
      "execution_count": 19,
      "metadata": {
        "colab": {
          "base_uri": "https://localhost:8080/"
        },
        "id": "RQxGdPa03ZEU",
        "outputId": "8865f1d5-02ae-4eee-bd77-5932154db3e3"
      },
      "outputs": [
        {
          "output_type": "execute_result",
          "data": {
            "text/plain": [
              "15.089679479598999"
            ]
          },
          "metadata": {},
          "execution_count": 19
        }
      ],
      "source": [
        "np.mean(all_scores)"
      ]
    },
    {
      "cell_type": "code",
      "execution_count": 20,
      "metadata": {
        "colab": {
          "base_uri": "https://localhost:8080/"
        },
        "id": "DuFiKhLp3ZEU",
        "outputId": "f8281a5c-4781-4981-b2c5-86ff8bcccb1b"
      },
      "outputs": [
        {
          "output_type": "execute_result",
          "data": {
            "text/plain": [
              "4.365989771726934"
            ]
          },
          "metadata": {},
          "execution_count": 20
        }
      ],
      "source": [
        "np.std(all_scores)"
      ]
    },
    {
      "cell_type": "markdown",
      "metadata": {
        "id": "aP5qvmCz3ZEU"
      },
      "source": [
        "Tracking training performance over the k-folds- in other words, the average training curve over the folds- this is going to take a while\n",
        "\n",
        "setting verbose=1 turns off the training feedback"
      ]
    },
    {
      "cell_type": "code",
      "execution_count": 21,
      "metadata": {
        "colab": {
          "base_uri": "https://localhost:8080/"
        },
        "id": "TyG5SHbM3ZEU",
        "outputId": "4a8749ce-62dc-44f9-84ca-ff67e41993e3"
      },
      "outputs": [
        {
          "output_type": "stream",
          "name": "stdout",
          "text": [
            "processing fold # 0\n",
            "processing fold # 1\n",
            "processing fold # 2\n",
            "processing fold # 3\n"
          ]
        }
      ],
      "source": [
        "num_epochs = 10   # book uses 500 here-see how much run time you can tolerate, also change the batch size\n",
        "all_mae_histories = []\n",
        "for i in range(k):\n",
        "    print('processing fold #', i)\n",
        "    # Prepare the validation data: data from partition # k\n",
        "    val_data = train_data[i * num_val_samples: (i + 1) * num_val_samples]\n",
        "    val_targets = train_targets[i * num_val_samples: (i + 1) * num_val_samples]\n",
        "\n",
        "    # Prepare the training data: data from all other partitions\n",
        "    partial_train_data = np.concatenate(\n",
        "        [train_data[:i * num_val_samples],\n",
        "         train_data[(i + 1) * num_val_samples:]],\n",
        "        axis=0)\n",
        "    partial_train_targets = np.concatenate(\n",
        "        [train_targets[:i * num_val_samples],\n",
        "         train_targets[(i + 1) * num_val_samples:]],\n",
        "        axis=0)\n",
        "\n",
        "    # Build the Keras model (already compiled)\n",
        "    model = build_model()\n",
        "    # Train the model (in silent mode, verbose=0)\n",
        "    history = model.fit(partial_train_data, partial_train_targets,\n",
        "                        validation_data=(val_data, val_targets),\n",
        "                        epochs=num_epochs, batch_size=16, verbose=0)     #note I changed batch size from 1 to 16 here\n",
        "    mae_history = history.history['val_mae']\n",
        "    all_mae_histories.append(mae_history)"
      ]
    },
    {
      "cell_type": "code",
      "execution_count": 22,
      "metadata": {
        "scrolled": true,
        "colab": {
          "base_uri": "https://localhost:8080/"
        },
        "id": "ND3MSjqC3ZEU",
        "outputId": "671dc3b3-2db7-402a-e9dd-b877b30ad9e3"
      },
      "outputs": [
        {
          "output_type": "execute_result",
          "data": {
            "text/plain": [
              "dict_keys(['loss', 'mse', 'mae', 'val_loss', 'val_mse', 'val_mae'])"
            ]
          },
          "metadata": {},
          "execution_count": 22
        }
      ],
      "source": [
        "history.history.keys()"
      ]
    },
    {
      "cell_type": "code",
      "execution_count": 23,
      "metadata": {
        "id": "8DcvHRCF3ZEV"
      },
      "outputs": [],
      "source": [
        "average_mae_history = [\n",
        "    np.mean([x[i] for x in all_mae_histories]) for i in range(num_epochs)]"
      ]
    },
    {
      "cell_type": "code",
      "execution_count": 24,
      "metadata": {
        "scrolled": true,
        "colab": {
          "base_uri": "https://localhost:8080/",
          "height": 449
        },
        "id": "4pNyBdWt3ZEV",
        "outputId": "0c93bfec-2a47-4be5-8750-924394039a19"
      },
      "outputs": [
        {
          "output_type": "display_data",
          "data": {
            "text/plain": [
              "<Figure size 640x480 with 1 Axes>"
            ],
            "image/png": "[encoded data removed]"
          },
          "metadata": {}
        }
      ],
      "source": [
        "import matplotlib.pyplot as plt\n",
        "\n",
        "plt.plot(range(1, len(average_mae_history) + 1), average_mae_history)\n",
        "plt.xlabel('Epochs')\n",
        "plt.ylabel('Validation MAE')\n",
        "plt.show()"
      ]
    },
    {
      "cell_type": "markdown",
      "metadata": {
        "id": "WSgIbfp43ZEV"
      },
      "source": [
        "Replot, but remove the first 10 points, and then smooth the data"
      ]
    },
    {
      "cell_type": "code",
      "execution_count": null,
      "metadata": {
        "id": "wYPFMGND3ZEV"
      },
      "outputs": [],
      "source": []
    }
  ],
  "metadata": {
    "kernelspec": {
      "display_name": "Python 3 (ipykernel)",
      "language": "python",
      "name": "python3"
    },
    "language_info": {
      "codemirror_mode": {
        "name": "ipython",
        "version": 3
      },
      "file_extension": ".py",
      "mimetype": "text/x-python",
      "name": "python",
      "nbconvert_exporter": "python",
      "pygments_lexer": "ipython3",
      "version": "3.7.13"
    },
    "colab": {
      "provenance": []
    }
  },
  "nbformat": 4,
  "nbformat_minor": 0
}