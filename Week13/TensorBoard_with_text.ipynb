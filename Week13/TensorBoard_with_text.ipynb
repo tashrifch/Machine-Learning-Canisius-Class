{
 "cells": [
  {
   "cell_type": "markdown",
   "id": "b0776f1f-ddd9-4ee8-af1d-730f147b7952",
   "metadata": {},
   "source": [
    "# Passing Text Material to Tensorboard\n",
    "\n",
    "This is really about logging data in a project\n",
    "\n",
    "Given how fussy TensorBoard is in Windows, I'd use something else.   If you are in Linux this might make more sense\n",
    "\n",
    "You can also pass images, and probably graphics, from python code to TensorBoard.  Not clear to me that it's worth the effort."
   ]
  },
  {
   "cell_type": "markdown",
   "id": "9600c973-9a65-4280-8e3e-04d20f070fde",
   "metadata": {},
   "source": [
    "https://www.tensorflow.org/tensorboard/text_summaries"
   ]
  },
  {
   "cell_type": "code",
   "execution_count": 1,
   "id": "02b92dac-e364-4ec1-83a2-96d46701ad65",
   "metadata": {},
   "outputs": [],
   "source": [
    "import os\n",
    "# tensorboard does not shut down cleanly on it's own.  You have to manually delete a file so that it does not restart\n",
    "# using the previous data set.  Clean it up (on Windows) using this command,   you need to change the user name from hdavi to your\n",
    "# user name\n",
    "\n",
    "dir = \"C:\\\\Users\\\\hdavi\\\\AppData\\\\Local\\\\Temp\\\\.tensorboard-info\"\n",
    "for f in os.listdir(dir):\n",
    "    os.remove(os.path.join(dir, f))"
   ]
  },
  {
   "cell_type": "code",
   "execution_count": 2,
   "id": "6688e96c-f94f-4fe3-b00f-54bc609d8d0b",
   "metadata": {},
   "outputs": [
    {
     "ename": "OSError",
     "evalue": "[WinError 123] The filename, directory name, or volume label syntax is incorrect: \"C:\\\\Users\\\\hdavi\\\\Dropbox\\\\Data_Analytics\\\\DAT_514_Machine_Learning\\\\Python_Code_2022''C:\\\\Users\\\\hdavi\\\\Dropbox\\\\Data_Analytics\\\\DAT_514_Machine_Learning\\\\Python_Code_2022\\\\logs_tb\"",
     "output_type": "error",
     "traceback": [
      "\u001b[1;31m---------------------------------------------------------------------------\u001b[0m",
      "\u001b[1;31mOSError\u001b[0m                                   Traceback (most recent call last)",
      "Input \u001b[1;32mIn [2]\u001b[0m, in \u001b[0;36m<cell line: 8>\u001b[1;34m()\u001b[0m\n\u001b[0;32m      1\u001b[0m \u001b[38;5;66;03m# attempt to automatically delete old log files,  works if TensorBoard is not running anywhere\u001b[39;00m\n\u001b[0;32m      2\u001b[0m \n\u001b[0;32m      3\u001b[0m \u001b[38;5;66;03m# you won't be able to remove these if there is an instance of TensorBoard is running, so check for these dang log files carefully before starting TensorBoard\u001b[39;00m\n\u001b[0;32m      4\u001b[0m \n\u001b[0;32m      5\u001b[0m \u001b[38;5;66;03m# if log files won't erase,   shut down the jupyter server and delete them all manually, then restart the server\u001b[39;00m\n\u001b[0;32m      7\u001b[0m \u001b[38;5;28mdir\u001b[39m \u001b[38;5;241m=\u001b[39m \u001b[38;5;124m\"\u001b[39m\u001b[38;5;124mC:\u001b[39m\u001b[38;5;130;01m\\\\\u001b[39;00m\u001b[38;5;124mUsers\u001b[39m\u001b[38;5;130;01m\\\\\u001b[39;00m\u001b[38;5;124mhdavi\u001b[39m\u001b[38;5;130;01m\\\\\u001b[39;00m\u001b[38;5;124mDropbox\u001b[39m\u001b[38;5;130;01m\\\\\u001b[39;00m\u001b[38;5;124mData_Analytics\u001b[39m\u001b[38;5;130;01m\\\\\u001b[39;00m\u001b[38;5;124mDAT_514_Machine_Learning\u001b[39m\u001b[38;5;130;01m\\\\\u001b[39;00m\u001b[38;5;124mPython_Code_2022\u001b[39m\u001b[38;5;124m'\u001b[39m\u001b[38;5;124m'\u001b[39m\u001b[38;5;124mC:\u001b[39m\u001b[38;5;130;01m\\\\\u001b[39;00m\u001b[38;5;124mUsers\u001b[39m\u001b[38;5;130;01m\\\\\u001b[39;00m\u001b[38;5;124mhdavi\u001b[39m\u001b[38;5;130;01m\\\\\u001b[39;00m\u001b[38;5;124mDropbox\u001b[39m\u001b[38;5;130;01m\\\\\u001b[39;00m\u001b[38;5;124mData_Analytics\u001b[39m\u001b[38;5;130;01m\\\\\u001b[39;00m\u001b[38;5;124mDAT_514_Machine_Learning\u001b[39m\u001b[38;5;130;01m\\\\\u001b[39;00m\u001b[38;5;124mPython_Code_2022\u001b[39m\u001b[38;5;130;01m\\\\\u001b[39;00m\u001b[38;5;124mlogs_tb\u001b[39m\u001b[38;5;124m\"\u001b[39m\n\u001b[1;32m----> 8\u001b[0m \u001b[38;5;28;01mfor\u001b[39;00m f \u001b[38;5;129;01min\u001b[39;00m \u001b[43mos\u001b[49m\u001b[38;5;241;43m.\u001b[39;49m\u001b[43mlistdir\u001b[49m\u001b[43m(\u001b[49m\u001b[38;5;28;43mdir\u001b[39;49m\u001b[43m)\u001b[49m:\n\u001b[0;32m      9\u001b[0m     os\u001b[38;5;241m.\u001b[39mremove(os\u001b[38;5;241m.\u001b[39mpath\u001b[38;5;241m.\u001b[39mjoin(\u001b[38;5;28mdir\u001b[39m, f))\n",
      "\u001b[1;31mOSError\u001b[0m: [WinError 123] The filename, directory name, or volume label syntax is incorrect: \"C:\\\\Users\\\\hdavi\\\\Dropbox\\\\Data_Analytics\\\\DAT_514_Machine_Learning\\\\Python_Code_2022''C:\\\\Users\\\\hdavi\\\\Dropbox\\\\Data_Analytics\\\\DAT_514_Machine_Learning\\\\Python_Code_2022\\\\logs_tb\""
     ]
    }
   ],
   "source": [
    "# attempt to automatically delete old log files,  works if TensorBoard is not running anywhere\n",
    "\n",
    "# you won't be able to remove these if there is an instance of TensorBoard is running, so check for these dang log files carefully before starting TensorBoard\n",
    "\n",
    "# if log files won't erase,   shut down the jupyter server and delete them all manually, then restart the server\n",
    "\n",
    "dir = \"C:\\\\Users\\\\hdavi\\\\Dropbox\\\\Data_Analytics\\\\DAT_514_Machine_Learning\\\\Python_Code_2022''C:\\\\Users\\\\hdavi\\\\Dropbox\\\\Data_Analytics\\\\DAT_514_Machine_Learning\\\\Python_Code_2022\\\\logs_tb\"\n",
    "for f in os.listdir(dir):\n",
    "    os.remove(os.path.join(dir, f))\n",
    "\n",
    "# check your current working directory as well for the log files- you have to get rid of them...."
   ]
  },
  {
   "cell_type": "code",
   "execution_count": 3,
   "id": "cf7977bd-379f-47b9-b594-6a536f2212f9",
   "metadata": {},
   "outputs": [
    {
     "data": {
      "text/plain": [
       "'C:\\\\Users\\\\hdavi\\\\Dropbox\\\\Data_Analytics\\\\DAT_514_Machine_Learning\\\\Python_Code_2022'"
      ]
     },
     "execution_count": 3,
     "metadata": {},
     "output_type": "execute_result"
    }
   ],
   "source": [
    "os.getcwd()"
   ]
  },
  {
   "cell_type": "code",
   "execution_count": 4,
   "id": "884ce52c-568f-48f0-ab12-d3fde30f5cf9",
   "metadata": {},
   "outputs": [
    {
     "name": "stdout",
     "output_type": "stream",
     "text": [
      "TensorFlow version:  2.6.0\n"
     ]
    }
   ],
   "source": [
    "import tensorflow as tf\n",
    "\n",
    "from datetime import datetime\n",
    "import json\n",
    "from packaging import version\n",
    "import tempfile\n",
    "\n",
    "print(\"TensorFlow version: \", tf.__version__)"
   ]
  },
  {
   "cell_type": "code",
   "execution_count": 5,
   "id": "bfd6aa08-1cc8-48c5-bcbf-80842e8d62aa",
   "metadata": {},
   "outputs": [
    {
     "data": {
      "text/plain": [
       "[PhysicalDevice(name='/physical_device:CPU:0', device_type='CPU'),\n",
       " PhysicalDevice(name='/physical_device:XLA_CPU:0', device_type='XLA_CPU'),\n",
       " PhysicalDevice(name='/physical_device:GPU:0', device_type='GPU'),\n",
       " PhysicalDevice(name='/physical_device:XLA_GPU:0', device_type='XLA_GPU')]"
      ]
     },
     "execution_count": 5,
     "metadata": {},
     "output_type": "execute_result"
    }
   ],
   "source": [
    "tf.config.list_physical_devices()"
   ]
  },
  {
   "cell_type": "code",
   "execution_count": 6,
   "id": "853dbea0-0ea7-4bce-bd5d-88aa382d0088",
   "metadata": {},
   "outputs": [],
   "source": [
    "my_text = \"Hello world! 😃\""
   ]
  },
  {
   "cell_type": "markdown",
   "id": "501d100a-226b-47a2-bccd-9b65261ba60b",
   "metadata": {},
   "source": [
    "### Manually delete the logs directory where this code is stored before running the next steps!\n",
    "\n",
    "I"
   ]
  },
  {
   "cell_type": "code",
   "execution_count": 7,
   "id": "cb31d7a9-6a2c-4262-af65-6feca0537a9a",
   "metadata": {},
   "outputs": [],
   "source": [
    "# check and delete those log files before running this cell!\n",
    "\n",
    "# Load the TensorBoard notebook extension.\n",
    "%load_ext tensorboard"
   ]
  },
  {
   "cell_type": "code",
   "execution_count": 8,
   "id": "459c4149-092b-400e-b9d7-590b965b1d6e",
   "metadata": {},
   "outputs": [],
   "source": [
    "# Sets up a timestamped log directory.\n",
    "logdir = \"logs_tb/text_basics/\" + datetime.now().strftime(\"%Y%m%d-%H%M%S\")\n",
    "# Creates a file writer for the log directory.\n",
    "file_writer = tf.summary.create_file_writer(logdir)\n",
    "\n",
    "# Using the file writer, log the text.\n",
    "with file_writer.as_default():\n",
    "  tf.summary.text(\"first_text\", my_text, step=0)"
   ]
  },
  {
   "cell_type": "code",
   "execution_count": 9,
   "id": "6e7909c1-8b26-424f-b75d-3863f7528d09",
   "metadata": {},
   "outputs": [
    {
     "data": {
      "text/html": [
       "\n",
       "      <iframe id=\"tensorboard-frame-3b52ae45874d8fc3\" width=\"100%\" height=\"800\" frameborder=\"0\">\n",
       "      </iframe>\n",
       "      <script>\n",
       "        (function() {\n",
       "          const frame = document.getElementById(\"tensorboard-frame-3b52ae45874d8fc3\");\n",
       "          const url = new URL(\"/\", window.location);\n",
       "          const port = 6006;\n",
       "          if (port) {\n",
       "            url.port = port;\n",
       "          }\n",
       "          frame.src = url;\n",
       "        })();\n",
       "      </script>\n",
       "    "
      ],
      "text/plain": [
       "<IPython.core.display.HTML object>"
      ]
     },
     "metadata": {},
     "output_type": "display_data"
    }
   ],
   "source": [
    "# check to see if the logdir match the call\n",
    "%tensorboard --logdir logs_tb"
   ]
  },
  {
   "cell_type": "code",
   "execution_count": 10,
   "id": "1b742984-d226-40c1-9a83-ff329027f0d9",
   "metadata": {},
   "outputs": [],
   "source": [
    "# Sets up a second directory to not overwrite the first one.\n",
    "logdir = \"logs_tb/multiple_texts/\" + datetime.now().strftime(\"%Y%m%d-%H%M%S\")\n",
    "# Creates a file writer for the log directory.\n",
    "file_writer = tf.summary.create_file_writer(logdir)\n",
    "\n",
    "# Using the file writer, log the text.\n",
    "with file_writer.as_default():\n",
    "  with tf.name_scope(\"name_scope_1\"):\n",
    "    for step in range(20):\n",
    "      tf.summary.text(\"a_stream_of_text\", f\"Hello from step {step}\", step=step)\n",
    "      tf.summary.text(\"another_stream_of_text\", f\"This can be kept separate {step}\", step=step)\n",
    "  with tf.name_scope(\"name_scope_2\"):\n",
    "    tf.summary.text(\"just_from_step_0\", \"This is an important announcement from step 0\", step=0)"
   ]
  },
  {
   "cell_type": "code",
   "execution_count": 11,
   "id": "65fe342c-5eac-46de-9004-e28350456a7e",
   "metadata": {},
   "outputs": [
    {
     "data": {
      "text/html": [
       "\n",
       "      <iframe id=\"tensorboard-frame-86d0138c835056f9\" width=\"100%\" height=\"800\" frameborder=\"0\">\n",
       "      </iframe>\n",
       "      <script>\n",
       "        (function() {\n",
       "          const frame = document.getElementById(\"tensorboard-frame-86d0138c835056f9\");\n",
       "          const url = new URL(\"/\", window.location);\n",
       "          const port = 6006;\n",
       "          if (port) {\n",
       "            url.port = port;\n",
       "          }\n",
       "          frame.src = url;\n",
       "        })();\n",
       "      </script>\n",
       "    "
      ],
      "text/plain": [
       "<IPython.core.display.HTML object>"
      ]
     },
     "metadata": {},
     "output_type": "display_data"
    }
   ],
   "source": [
    "# run this repeatedly if it doesn't start immediately\n",
    "\n",
    "%tensorboard --logdir logs/multiple_texts --samples_per_plugin 'text=5'"
   ]
  },
  {
   "cell_type": "code",
   "execution_count": 12,
   "id": "26d8df32-99b0-4e8b-be80-3a58d3f42034",
   "metadata": {},
   "outputs": [],
   "source": [
    "# Sets up a third timestamped log directory under \"logs\"\n",
    "logdir = \"logs_tb/markdown/\" + datetime.now().strftime(\"%Y%m%d-%H%M%S\")\n",
    "# Creates a file writer for the log directory.\n",
    "file_writer = tf.summary.create_file_writer(logdir)\n",
    "\n",
    "some_obj_worth_noting = {\n",
    "  \"tfds_training_data\": {\n",
    "      \"name\": \"mnist\",\n",
    "      \"split\": \"train\",\n",
    "      \"shuffle_files\": \"True\",\n",
    "  },\n",
    "  \"keras_optimizer\": {\n",
    "      \"name\": \"Adagrad\",\n",
    "      \"learning_rate\": \"0.001\",\n",
    "      \"epsilon\": 1e-07,\n",
    "  },\n",
    "  \"hardware\": \"Cloud TPU\",\n",
    "}\n",
    "\n",
    "\n",
    "# TODO: Update this example when TensorBoard is released with\n",
    "# https://github.com/tensorflow/tensorboard/pull/4585\n",
    "# which supports fenced codeblocks in Markdown.\n",
    "def pretty_json(hp):\n",
    "  json_hp = json.dumps(hp, indent=2)\n",
    "  return \"\".join(\"\\t\" + line for line in json_hp.splitlines(True))\n",
    "\n",
    "markdown_text = \"\"\"\n",
    "### Markdown Text\n",
    "\n",
    "TensorBoard supports basic markdown syntax, including:\n",
    "\n",
    "    preformatted code\n",
    "\n",
    "**bold text**\n",
    "\n",
    "| and | tables |\n",
    "| ---- | ---------- |\n",
    "| among | others |\n",
    "\"\"\"\n",
    "\n",
    "with file_writer.as_default():\n",
    "  tf.summary.text(\"run_params\", pretty_json(some_obj_worth_noting), step=0)\n",
    "  tf.summary.text(\"markdown_jubiliee\", markdown_text, step=0)"
   ]
  },
  {
   "cell_type": "code",
   "execution_count": 13,
   "id": "c9dcf16d-ecfc-4fa8-8b5f-00d81b36017b",
   "metadata": {},
   "outputs": [
    {
     "data": {
      "text/html": [
       "\n",
       "      <iframe id=\"tensorboard-frame-ffbf9c4413316f3b\" width=\"100%\" height=\"800\" frameborder=\"0\">\n",
       "      </iframe>\n",
       "      <script>\n",
       "        (function() {\n",
       "          const frame = document.getElementById(\"tensorboard-frame-ffbf9c4413316f3b\");\n",
       "          const url = new URL(\"/\", window.location);\n",
       "          const port = 6006;\n",
       "          if (port) {\n",
       "            url.port = port;\n",
       "          }\n",
       "          frame.src = url;\n",
       "        })();\n",
       "      </script>\n",
       "    "
      ],
      "text/plain": [
       "<IPython.core.display.HTML object>"
      ]
     },
     "metadata": {},
     "output_type": "display_data"
    }
   ],
   "source": [
    "%tensorboard --logdir logs/markdown"
   ]
  },
  {
   "cell_type": "code",
   "execution_count": 14,
   "id": "ae1cc7be-00ec-4497-8da7-686e665f389a",
   "metadata": {},
   "outputs": [],
   "source": [
    "# tensorboard does not shut down cleanly on it's own.  You have to manually delete a file so that it does not restart\n",
    "# using the previous data set.   Shut it down (on Windows) using this command,   you need to change the user name from hdavi to your\n",
    "# user name\n",
    "\n",
    "dir = \"C:\\\\Users\\\\hdavi\\\\AppData\\\\Local\\\\Temp\\\\.tensorboard-info\"\n",
    "for f in os.listdir(dir):\n",
    "    os.remove(os.path.join(dir, f))"
   ]
  },
  {
   "cell_type": "code",
   "execution_count": null,
   "id": "c8cd391a-3d48-41c1-a5c4-8e91e912728d",
   "metadata": {},
   "outputs": [],
   "source": []
  }
 ],
 "metadata": {
  "kernelspec": {
   "display_name": "Python 3 (ipykernel)",
   "language": "python",
   "name": "python3"
  },
  "language_info": {
   "codemirror_mode": {
    "name": "ipython",
    "version": 3
   },
   "file_extension": ".py",
   "mimetype": "text/x-python",
   "name": "python",
   "nbconvert_exporter": "python",
   "pygments_lexer": "ipython3",
   "version": "3.9.7"
  }
 },
 "nbformat": 4,
 "nbformat_minor": 5
}
