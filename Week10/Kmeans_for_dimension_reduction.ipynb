{
 "cells": [
  {
   "cell_type": "markdown",
   "metadata": {},
   "source": [
    "# Kmeans for pre-processing,  dimensionality reduction\n",
    "\n",
    "We will look at the idea of using K-means to reduce the dimensionality of the data, for the MNIST data set\n",
    "\n",
    "The idea is to work with the kMeans distances instead of the actual data\n",
    "\n",
    "We will load and check the MNIST data first"
   ]
  },
  {
   "cell_type": "code",
   "execution_count": 22,
   "metadata": {},
   "outputs": [
    {
     "data": {
      "text/plain": [
       "dict_keys(['data', 'target', 'frame', 'categories', 'feature_names', 'target_names', 'DESCR', 'details', 'url'])"
      ]
     },
     "execution_count": 22,
     "metadata": {},
     "output_type": "execute_result"
    }
   ],
   "source": [
    "from sklearn.datasets import fetch_openml\n",
    "mnist = fetch_openml('mnist_784', version=1)\n",
    "mnist.keys()"
   ]
  },
  {
   "cell_type": "code",
   "execution_count": 23,
   "metadata": {},
   "outputs": [
    {
     "name": "stdout",
     "output_type": "stream",
     "text": [
      "(70000, 784)\n",
      "(70000,)\n"
     ]
    }
   ],
   "source": [
    "X,y=mnist[\"data\"],mnist[\"target\"]\n",
    "print(X.shape)\n",
    "print (y.shape)"
   ]
  },
  {
   "cell_type": "code",
   "execution_count": 24,
   "metadata": {},
   "outputs": [
    {
     "data": {
      "text/plain": [
       "(70000, 784)"
      ]
     },
     "execution_count": 24,
     "metadata": {},
     "output_type": "execute_result"
    }
   ],
   "source": [
    "X.shape"
   ]
  },
  {
   "cell_type": "code",
   "execution_count": 31,
   "metadata": {},
   "outputs": [],
   "source": [
    "y=y.to_numpy()"
   ]
  },
  {
   "cell_type": "code",
   "execution_count": 29,
   "metadata": {},
   "outputs": [],
   "source": [
    "X=X.to_numpy()"
   ]
  },
  {
   "cell_type": "code",
   "execution_count": 30,
   "metadata": {},
   "outputs": [
    {
     "data": {
      "image/png": "[encoded data removed]",
      "text/plain": [
       "<Figure size 432x288 with 1 Axes>"
      ]
     },
     "metadata": {
      "needs_background": "light"
     },
     "output_type": "display_data"
    }
   ],
   "source": [
    "import matplotlib as mpl\n",
    "import matplotlib.pyplot as plt\n",
    "\n",
    "some_digit = X[0,:]\n",
    "some_digit_image = some_digit.reshape(28, 28)\n",
    "\n",
    "plt.imshow(some_digit_image, cmap=\"binary\")\n",
    "plt.axis(\"off\")\n",
    "plt.show()"
   ]
  },
  {
   "cell_type": "code",
   "execution_count": 32,
   "metadata": {},
   "outputs": [
    {
     "data": {
      "image/png": "[encoded data removed]",
      "text/plain": [
       "<Figure size 432x288 with 1 Axes>"
      ]
     },
     "metadata": {
      "needs_background": "light"
     },
     "output_type": "display_data"
    }
   ],
   "source": [
    "some_digit = X[1,:]\n",
    "some_digit_image = some_digit.reshape(28, 28)\n",
    "\n",
    "plt.imshow(some_digit_image, cmap=\"binary\")\n",
    "plt.axis(\"off\")\n",
    "plt.show()"
   ]
  },
  {
   "cell_type": "code",
   "execution_count": 34,
   "metadata": {},
   "outputs": [
    {
     "data": {
      "text/plain": [
       "'0'"
      ]
     },
     "execution_count": 34,
     "metadata": {},
     "output_type": "execute_result"
    }
   ],
   "source": [
    "y[1]"
   ]
  },
  {
   "cell_type": "code",
   "execution_count": 35,
   "metadata": {},
   "outputs": [],
   "source": [
    "from sklearn.model_selection import train_test_split\n",
    "\n",
    "X_train, X_test, y_train, y_test = train_test_split(X, y)"
   ]
  },
  {
   "cell_type": "markdown",
   "metadata": {},
   "source": [
    "## Now try a logistic regression"
   ]
  },
  {
   "cell_type": "code",
   "execution_count": 36,
   "metadata": {},
   "outputs": [
    {
     "name": "stderr",
     "output_type": "stream",
     "text": [
      "C:\\Users\\hdavi\\Anaconda3\\envs\\base2\\lib\\site-packages\\sklearn\\linear_model\\_logistic.py:814: ConvergenceWarning: lbfgs failed to converge (status=1):\n",
      "STOP: TOTAL NO. of ITERATIONS REACHED LIMIT.\n",
      "\n",
      "Increase the number of iterations (max_iter) or scale the data as shown in:\n",
      "    https://scikit-learn.org/stable/modules/preprocessing.html\n",
      "Please also refer to the documentation for alternative solver options:\n",
      "    https://scikit-learn.org/stable/modules/linear_model.html#logistic-regression\n",
      "  n_iter_i = _check_optimize_result(\n"
     ]
    },
    {
     "data": {
      "text/plain": [
       "LogisticRegression(max_iter=300)"
      ]
     },
     "execution_count": 36,
     "metadata": {},
     "output_type": "execute_result"
    }
   ],
   "source": [
    "from sklearn.linear_model import LogisticRegression\n",
    "\n",
    "log_reg = LogisticRegression(max_iter=300)\n",
    "log_reg.fit(X_train, y_train)"
   ]
  },
  {
   "cell_type": "code",
   "execution_count": 37,
   "metadata": {},
   "outputs": [
    {
     "data": {
      "text/plain": [
       "0.9170285714285714"
      ]
     },
     "execution_count": 37,
     "metadata": {},
     "output_type": "execute_result"
    }
   ],
   "source": [
    "log_reg.score(X_test, y_test)"
   ]
  },
  {
   "cell_type": "code",
   "execution_count": null,
   "metadata": {},
   "outputs": [],
   "source": [
    "# for comparison, a neural net"
   ]
  },
  {
   "cell_type": "code",
   "execution_count": 38,
   "metadata": {},
   "outputs": [
    {
     "name": "stdout",
     "output_type": "stream",
     "text": [
      "Iteration 1, loss = 2.84028374\n",
      "Iteration 2, loss = 2.10891256\n",
      "Iteration 3, loss = 2.02714251\n",
      "Iteration 4, loss = 1.88560736\n",
      "Iteration 5, loss = 1.67665729\n",
      "Iteration 6, loss = 1.54742581\n",
      "Iteration 7, loss = 1.48377237\n",
      "Iteration 8, loss = 1.43197148\n",
      "Iteration 9, loss = 1.37943490\n",
      "Iteration 10, loss = 1.32533034\n",
      "Iteration 11, loss = 1.24980486\n",
      "Iteration 12, loss = 1.19487040\n",
      "Iteration 13, loss = 1.11339322\n",
      "Iteration 14, loss = 1.06984594\n",
      "Iteration 15, loss = 0.90078617\n",
      "Iteration 16, loss = 0.76504085\n",
      "Iteration 17, loss = 0.69650405\n",
      "Iteration 18, loss = 0.63721634\n",
      "Iteration 19, loss = 0.59185986\n",
      "Iteration 20, loss = 0.54908208\n",
      "Iteration 21, loss = 0.49076592\n",
      "Iteration 22, loss = 0.39137189\n",
      "Iteration 23, loss = 0.34363421\n",
      "Iteration 24, loss = 0.31368696\n",
      "Iteration 25, loss = 0.29668660\n",
      "Iteration 26, loss = 0.27952074\n",
      "Iteration 27, loss = 0.26767922\n",
      "Iteration 28, loss = 0.25463018\n",
      "Iteration 29, loss = 0.24430139\n",
      "Iteration 30, loss = 0.23415096\n",
      "Iteration 31, loss = 0.22290621\n",
      "Iteration 32, loss = 0.22058101\n",
      "Iteration 33, loss = 0.20784668\n",
      "Iteration 34, loss = 0.20215277\n",
      "Iteration 35, loss = 0.19937235\n",
      "Iteration 36, loss = 0.19727587\n",
      "Iteration 37, loss = 0.18682090\n",
      "Iteration 38, loss = 0.18105427\n",
      "Iteration 39, loss = 0.17587330\n",
      "Iteration 40, loss = 0.17391044\n",
      "Iteration 41, loss = 0.16784549\n",
      "Iteration 42, loss = 0.16216228\n",
      "Iteration 43, loss = 0.16526482\n",
      "Iteration 44, loss = 0.16282245\n",
      "Iteration 45, loss = 0.15496484\n",
      "Iteration 46, loss = 0.15899115\n",
      "Iteration 47, loss = 0.15317509\n",
      "Iteration 48, loss = 0.15029462\n",
      "Iteration 49, loss = 0.15134789\n",
      "Iteration 50, loss = 0.14372688\n",
      "Iteration 51, loss = 0.13931259\n",
      "Iteration 52, loss = 0.14245052\n",
      "Iteration 53, loss = 0.13902825\n",
      "Iteration 54, loss = 0.13784622\n",
      "Iteration 55, loss = 0.13454792\n",
      "Iteration 56, loss = 0.13387194\n",
      "Iteration 57, loss = 0.13175402\n",
      "Iteration 58, loss = 0.13053324\n",
      "Iteration 59, loss = 0.12860400\n",
      "Iteration 60, loss = 0.12834193\n",
      "Iteration 61, loss = 0.12720763\n",
      "Iteration 62, loss = 0.12426178\n",
      "Iteration 63, loss = 0.12449654\n",
      "Iteration 64, loss = 0.12003925\n",
      "Iteration 65, loss = 0.11774693\n",
      "Iteration 66, loss = 0.11944369\n",
      "Iteration 67, loss = 0.12017850\n",
      "Iteration 68, loss = 0.11789613\n",
      "Iteration 69, loss = 0.11606647\n",
      "Iteration 70, loss = 0.11168812\n",
      "Iteration 71, loss = 0.11704049\n",
      "Iteration 72, loss = 0.11052576\n",
      "Iteration 73, loss = 0.11100563\n",
      "Iteration 74, loss = 0.11183125\n",
      "Iteration 75, loss = 0.11482236\n",
      "Iteration 76, loss = 0.11228221\n",
      "Iteration 77, loss = 0.10776261\n",
      "Iteration 78, loss = 0.10770903\n",
      "Iteration 79, loss = 0.10732611\n",
      "Iteration 80, loss = 0.10868350\n",
      "Iteration 81, loss = 0.10626037\n",
      "Iteration 82, loss = 0.10758630\n",
      "Iteration 83, loss = 0.10365934\n",
      "Iteration 84, loss = 0.10317946\n",
      "Iteration 85, loss = 0.10267968\n",
      "Iteration 86, loss = 0.10474218\n",
      "Iteration 87, loss = 0.09921117\n",
      "Iteration 88, loss = 0.10073021\n",
      "Iteration 89, loss = 0.09979975\n",
      "Iteration 90, loss = 0.10371854\n",
      "Iteration 91, loss = 0.09597937\n",
      "Iteration 92, loss = 0.09584113\n",
      "Iteration 93, loss = 0.09353822\n",
      "Iteration 94, loss = 0.09681439\n",
      "Iteration 95, loss = 0.09884643\n",
      "Iteration 96, loss = 0.09739394\n",
      "Iteration 97, loss = 0.09590449\n",
      "Iteration 98, loss = 0.09427670\n",
      "Iteration 99, loss = 0.09351090\n",
      "Iteration 100, loss = 0.09279244\n",
      "Iteration 101, loss = 0.09490235\n",
      "Iteration 102, loss = 0.09416824\n",
      "Iteration 103, loss = 0.09166193\n",
      "Iteration 104, loss = 0.09516793\n",
      "Iteration 105, loss = 0.08954216\n",
      "Iteration 106, loss = 0.08935963\n",
      "Iteration 107, loss = 0.09706227\n",
      "Iteration 108, loss = 0.09099113\n",
      "Iteration 109, loss = 0.08769610\n",
      "Iteration 110, loss = 0.08761607\n",
      "Iteration 111, loss = 0.08927535\n",
      "Iteration 112, loss = 0.08902350\n",
      "Iteration 113, loss = 0.09174541\n",
      "Iteration 114, loss = 0.08806308\n",
      "Iteration 115, loss = 0.09036409\n",
      "Iteration 116, loss = 0.09084622\n",
      "Iteration 117, loss = 0.08813959\n",
      "Iteration 118, loss = 0.08363704\n",
      "Iteration 119, loss = 0.08629352\n",
      "Iteration 120, loss = 0.08557701\n",
      "Iteration 121, loss = 0.08308135\n",
      "Iteration 122, loss = 0.08708397\n",
      "Iteration 123, loss = 0.08969356\n",
      "Iteration 124, loss = 0.08927235\n",
      "Iteration 125, loss = 0.08573229\n",
      "Iteration 126, loss = 0.08721256\n",
      "Iteration 127, loss = 0.08282878\n",
      "Iteration 128, loss = 0.07958787\n",
      "Iteration 129, loss = 0.08457227\n",
      "Iteration 130, loss = 0.08352421\n",
      "Iteration 131, loss = 0.08448486\n",
      "Iteration 132, loss = 0.08303791\n",
      "Iteration 133, loss = 0.08206986\n",
      "Iteration 134, loss = 0.08110176\n",
      "Iteration 135, loss = 0.08033494\n",
      "Iteration 136, loss = 0.08124799\n",
      "Iteration 137, loss = 0.08005909\n",
      "Iteration 138, loss = 0.08150775\n",
      "Iteration 139, loss = 0.08099685\n",
      "Training loss did not improve more than tol=0.000100 for 10 consecutive epochs. Stopping.\n"
     ]
    },
    {
     "data": {
      "text/plain": [
       "MLPClassifier(alpha=1e-05, hidden_layer_sizes=(20, 10, 5), max_iter=500,\n",
       "              random_state=1, verbose=True)"
      ]
     },
     "execution_count": 38,
     "metadata": {},
     "output_type": "execute_result"
    }
   ],
   "source": [
    "from sklearn.neural_network import MLPClassifier\n",
    "clf = MLPClassifier(solver='adam', alpha=1e-5, random_state=1, max_iter=500,hidden_layer_sizes=(20,10,5), verbose=True, warm_start=False)\n",
    "\n",
    "clf.fit(X_train, y_train)\n"
   ]
  },
  {
   "cell_type": "code",
   "execution_count": 39,
   "metadata": {},
   "outputs": [
    {
     "name": "stdout",
     "output_type": "stream",
     "text": [
      "0.9791238095238095\n"
     ]
    }
   ],
   "source": [
    "y_pred=clf.predict(X_train)\n",
    "\n",
    "\n",
    "print( sum(y_pred==y_train)/len(y_pred) )"
   ]
  },
  {
   "cell_type": "markdown",
   "metadata": {},
   "source": [
    "# Can we reduce the dimensionality of the data and get higher performance in the logisitc regression"
   ]
  },
  {
   "cell_type": "code",
   "execution_count": 40,
   "metadata": {},
   "outputs": [
    {
     "name": "stderr",
     "output_type": "stream",
     "text": [
      "C:\\Users\\hdavi\\Anaconda3\\envs\\base2\\lib\\site-packages\\sklearn\\linear_model\\_logistic.py:814: ConvergenceWarning: lbfgs failed to converge (status=1):\n",
      "STOP: TOTAL NO. of ITERATIONS REACHED LIMIT.\n",
      "\n",
      "Increase the number of iterations (max_iter) or scale the data as shown in:\n",
      "    https://scikit-learn.org/stable/modules/preprocessing.html\n",
      "Please also refer to the documentation for alternative solver options:\n",
      "    https://scikit-learn.org/stable/modules/linear_model.html#logistic-regression\n",
      "  n_iter_i = _check_optimize_result(\n"
     ]
    },
    {
     "data": {
      "text/plain": [
       "Pipeline(steps=[('kmeans', KMeans(n_clusters=50)),\n",
       "                ('log_reg', LogisticRegression(max_iter=300))])"
      ]
     },
     "execution_count": 40,
     "metadata": {},
     "output_type": "execute_result"
    }
   ],
   "source": [
    "from sklearn.pipeline import Pipeline\n",
    "from sklearn.cluster import KMeans\n",
    "\n",
    "pipeline = Pipeline([\n",
    "    (\"kmeans\", KMeans(n_clusters=50)),\n",
    "    (\"log_reg\", LogisticRegression(max_iter=300)),\n",
    "])\n",
    "pipeline.fit(X_train, y_train)"
   ]
  },
  {
   "cell_type": "code",
   "execution_count": 41,
   "metadata": {},
   "outputs": [
    {
     "data": {
      "text/plain": [
       "0.8916"
      ]
     },
     "execution_count": 41,
     "metadata": {},
     "output_type": "execute_result"
    }
   ],
   "source": [
    "pipeline.score(X_test, y_test)"
   ]
  },
  {
   "cell_type": "code",
   "execution_count": 42,
   "metadata": {},
   "outputs": [
    {
     "name": "stderr",
     "output_type": "stream",
     "text": [
      "C:\\Users\\hdavi\\Anaconda3\\envs\\base2\\lib\\site-packages\\sklearn\\linear_model\\_logistic.py:814: ConvergenceWarning: lbfgs failed to converge (status=1):\n",
      "STOP: TOTAL NO. of ITERATIONS REACHED LIMIT.\n",
      "\n",
      "Increase the number of iterations (max_iter) or scale the data as shown in:\n",
      "    https://scikit-learn.org/stable/modules/preprocessing.html\n",
      "Please also refer to the documentation for alternative solver options:\n",
      "    https://scikit-learn.org/stable/modules/linear_model.html#logistic-regression\n",
      "  n_iter_i = _check_optimize_result(\n"
     ]
    },
    {
     "data": {
      "text/plain": [
       "0.9048"
      ]
     },
     "execution_count": 42,
     "metadata": {},
     "output_type": "execute_result"
    }
   ],
   "source": [
    "pipeline = Pipeline([\n",
    "    (\"kmeans\", KMeans(n_clusters=100)),\n",
    "    (\"log_reg\", LogisticRegression(max_iter=300)),\n",
    "])\n",
    "pipeline.fit(X_train, y_train)\n",
    "pipeline.score(X_test, y_test)"
   ]
  },
  {
   "cell_type": "code",
   "execution_count": null,
   "metadata": {},
   "outputs": [],
   "source": [
    "We can do a grid search to optimize the k value used in the k means reduction\n",
    "\n",
    "Warning- this takes a long time to run"
   ]
  },
  {
   "cell_type": "code",
   "execution_count": 45,
   "metadata": {},
   "outputs": [
    {
     "name": "stdout",
     "output_type": "stream",
     "text": [
      "Fitting 3 folds for each of 3 candidates, totalling 9 fits\n"
     ]
    },
    {
     "name": "stderr",
     "output_type": "stream",
     "text": [
      "C:\\Users\\hdavi\\Anaconda3\\envs\\base2\\lib\\site-packages\\sklearn\\linear_model\\_logistic.py:814: ConvergenceWarning: lbfgs failed to converge (status=1):\n",
      "STOP: TOTAL NO. of ITERATIONS REACHED LIMIT.\n",
      "\n",
      "Increase the number of iterations (max_iter) or scale the data as shown in:\n",
      "    https://scikit-learn.org/stable/modules/preprocessing.html\n",
      "Please also refer to the documentation for alternative solver options:\n",
      "    https://scikit-learn.org/stable/modules/linear_model.html#logistic-regression\n",
      "  n_iter_i = _check_optimize_result(\n"
     ]
    },
    {
     "name": "stdout",
     "output_type": "stream",
     "text": [
      "[CV] END .............................kmeans__n_clusters=100; total time=  40.0s\n"
     ]
    },
    {
     "name": "stderr",
     "output_type": "stream",
     "text": [
      "C:\\Users\\hdavi\\Anaconda3\\envs\\base2\\lib\\site-packages\\sklearn\\linear_model\\_logistic.py:814: ConvergenceWarning: lbfgs failed to converge (status=1):\n",
      "STOP: TOTAL NO. of ITERATIONS REACHED LIMIT.\n",
      "\n",
      "Increase the number of iterations (max_iter) or scale the data as shown in:\n",
      "    https://scikit-learn.org/stable/modules/preprocessing.html\n",
      "Please also refer to the documentation for alternative solver options:\n",
      "    https://scikit-learn.org/stable/modules/linear_model.html#logistic-regression\n",
      "  n_iter_i = _check_optimize_result(\n"
     ]
    },
    {
     "name": "stdout",
     "output_type": "stream",
     "text": [
      "[CV] END .............................kmeans__n_clusters=100; total time=  33.9s\n"
     ]
    },
    {
     "name": "stderr",
     "output_type": "stream",
     "text": [
      "C:\\Users\\hdavi\\Anaconda3\\envs\\base2\\lib\\site-packages\\sklearn\\linear_model\\_logistic.py:814: ConvergenceWarning: lbfgs failed to converge (status=1):\n",
      "STOP: TOTAL NO. of ITERATIONS REACHED LIMIT.\n",
      "\n",
      "Increase the number of iterations (max_iter) or scale the data as shown in:\n",
      "    https://scikit-learn.org/stable/modules/preprocessing.html\n",
      "Please also refer to the documentation for alternative solver options:\n",
      "    https://scikit-learn.org/stable/modules/linear_model.html#logistic-regression\n",
      "  n_iter_i = _check_optimize_result(\n"
     ]
    },
    {
     "name": "stdout",
     "output_type": "stream",
     "text": [
      "[CV] END .............................kmeans__n_clusters=100; total time=  37.1s\n"
     ]
    },
    {
     "name": "stderr",
     "output_type": "stream",
     "text": [
      "C:\\Users\\hdavi\\Anaconda3\\envs\\base2\\lib\\site-packages\\sklearn\\linear_model\\_logistic.py:814: ConvergenceWarning: lbfgs failed to converge (status=1):\n",
      "STOP: TOTAL NO. of ITERATIONS REACHED LIMIT.\n",
      "\n",
      "Increase the number of iterations (max_iter) or scale the data as shown in:\n",
      "    https://scikit-learn.org/stable/modules/preprocessing.html\n",
      "Please also refer to the documentation for alternative solver options:\n",
      "    https://scikit-learn.org/stable/modules/linear_model.html#logistic-regression\n",
      "  n_iter_i = _check_optimize_result(\n"
     ]
    },
    {
     "name": "stdout",
     "output_type": "stream",
     "text": [
      "[CV] END .............................kmeans__n_clusters=200; total time=  58.3s\n"
     ]
    },
    {
     "name": "stderr",
     "output_type": "stream",
     "text": [
      "C:\\Users\\hdavi\\Anaconda3\\envs\\base2\\lib\\site-packages\\sklearn\\linear_model\\_logistic.py:814: ConvergenceWarning: lbfgs failed to converge (status=1):\n",
      "STOP: TOTAL NO. of ITERATIONS REACHED LIMIT.\n",
      "\n",
      "Increase the number of iterations (max_iter) or scale the data as shown in:\n",
      "    https://scikit-learn.org/stable/modules/preprocessing.html\n",
      "Please also refer to the documentation for alternative solver options:\n",
      "    https://scikit-learn.org/stable/modules/linear_model.html#logistic-regression\n",
      "  n_iter_i = _check_optimize_result(\n"
     ]
    },
    {
     "name": "stdout",
     "output_type": "stream",
     "text": [
      "[CV] END .............................kmeans__n_clusters=200; total time=  59.5s\n"
     ]
    },
    {
     "name": "stderr",
     "output_type": "stream",
     "text": [
      "C:\\Users\\hdavi\\Anaconda3\\envs\\base2\\lib\\site-packages\\sklearn\\linear_model\\_logistic.py:814: ConvergenceWarning: lbfgs failed to converge (status=1):\n",
      "STOP: TOTAL NO. of ITERATIONS REACHED LIMIT.\n",
      "\n",
      "Increase the number of iterations (max_iter) or scale the data as shown in:\n",
      "    https://scikit-learn.org/stable/modules/preprocessing.html\n",
      "Please also refer to the documentation for alternative solver options:\n",
      "    https://scikit-learn.org/stable/modules/linear_model.html#logistic-regression\n",
      "  n_iter_i = _check_optimize_result(\n"
     ]
    },
    {
     "name": "stdout",
     "output_type": "stream",
     "text": [
      "[CV] END .............................kmeans__n_clusters=200; total time=  56.4s\n"
     ]
    },
    {
     "name": "stderr",
     "output_type": "stream",
     "text": [
      "C:\\Users\\hdavi\\Anaconda3\\envs\\base2\\lib\\site-packages\\sklearn\\linear_model\\_logistic.py:814: ConvergenceWarning: lbfgs failed to converge (status=1):\n",
      "STOP: TOTAL NO. of ITERATIONS REACHED LIMIT.\n",
      "\n",
      "Increase the number of iterations (max_iter) or scale the data as shown in:\n",
      "    https://scikit-learn.org/stable/modules/preprocessing.html\n",
      "Please also refer to the documentation for alternative solver options:\n",
      "    https://scikit-learn.org/stable/modules/linear_model.html#logistic-regression\n",
      "  n_iter_i = _check_optimize_result(\n"
     ]
    },
    {
     "name": "stdout",
     "output_type": "stream",
     "text": [
      "[CV] END .............................kmeans__n_clusters=300; total time= 1.3min\n"
     ]
    },
    {
     "name": "stderr",
     "output_type": "stream",
     "text": [
      "C:\\Users\\hdavi\\Anaconda3\\envs\\base2\\lib\\site-packages\\sklearn\\linear_model\\_logistic.py:814: ConvergenceWarning: lbfgs failed to converge (status=1):\n",
      "STOP: TOTAL NO. of ITERATIONS REACHED LIMIT.\n",
      "\n",
      "Increase the number of iterations (max_iter) or scale the data as shown in:\n",
      "    https://scikit-learn.org/stable/modules/preprocessing.html\n",
      "Please also refer to the documentation for alternative solver options:\n",
      "    https://scikit-learn.org/stable/modules/linear_model.html#logistic-regression\n",
      "  n_iter_i = _check_optimize_result(\n"
     ]
    },
    {
     "name": "stdout",
     "output_type": "stream",
     "text": [
      "[CV] END .............................kmeans__n_clusters=300; total time= 1.2min\n"
     ]
    },
    {
     "name": "stderr",
     "output_type": "stream",
     "text": [
      "C:\\Users\\hdavi\\Anaconda3\\envs\\base2\\lib\\site-packages\\sklearn\\linear_model\\_logistic.py:814: ConvergenceWarning: lbfgs failed to converge (status=1):\n",
      "STOP: TOTAL NO. of ITERATIONS REACHED LIMIT.\n",
      "\n",
      "Increase the number of iterations (max_iter) or scale the data as shown in:\n",
      "    https://scikit-learn.org/stable/modules/preprocessing.html\n",
      "Please also refer to the documentation for alternative solver options:\n",
      "    https://scikit-learn.org/stable/modules/linear_model.html#logistic-regression\n",
      "  n_iter_i = _check_optimize_result(\n"
     ]
    },
    {
     "name": "stdout",
     "output_type": "stream",
     "text": [
      "[CV] END .............................kmeans__n_clusters=300; total time= 1.2min\n"
     ]
    },
    {
     "name": "stderr",
     "output_type": "stream",
     "text": [
      "C:\\Users\\hdavi\\Anaconda3\\envs\\base2\\lib\\site-packages\\sklearn\\linear_model\\_logistic.py:814: ConvergenceWarning: lbfgs failed to converge (status=1):\n",
      "STOP: TOTAL NO. of ITERATIONS REACHED LIMIT.\n",
      "\n",
      "Increase the number of iterations (max_iter) or scale the data as shown in:\n",
      "    https://scikit-learn.org/stable/modules/preprocessing.html\n",
      "Please also refer to the documentation for alternative solver options:\n",
      "    https://scikit-learn.org/stable/modules/linear_model.html#logistic-regression\n",
      "  n_iter_i = _check_optimize_result(\n"
     ]
    },
    {
     "data": {
      "text/plain": [
       "GridSearchCV(cv=3,\n",
       "             estimator=Pipeline(steps=[('kmeans', KMeans(n_clusters=30)),\n",
       "                                       ('log_reg',\n",
       "                                        LogisticRegression(max_iter=300))]),\n",
       "             param_grid={'kmeans__n_clusters': [100, 200, 300]}, verbose=2)"
      ]
     },
     "execution_count": 45,
     "metadata": {},
     "output_type": "execute_result"
    }
   ],
   "source": [
    "pipeline = Pipeline([\n",
    "    (\"kmeans\", KMeans(n_clusters=30)),\n",
    "    (\"log_reg\", LogisticRegression(max_iter=100)),\n",
    "])\n",
    "\n",
    "\n",
    "from sklearn.model_selection import GridSearchCV\n",
    "\n",
    "param_grid = dict(kmeans__n_clusters=[100,200,300])\n",
    "grid_clf = GridSearchCV(pipeline, param_grid, cv=3, verbose=2)\n",
    "grid_clf.fit(X_train, y_train)\n"
   ]
  },
  {
   "cell_type": "code",
   "execution_count": 46,
   "metadata": {},
   "outputs": [
    {
     "data": {
      "text/plain": [
       "{'kmeans__n_clusters': 300}"
      ]
     },
     "execution_count": 46,
     "metadata": {},
     "output_type": "execute_result"
    }
   ],
   "source": [
    "grid_clf.best_params_\n"
   ]
  },
  {
   "cell_type": "code",
   "execution_count": 47,
   "metadata": {},
   "outputs": [
    {
     "data": {
      "text/plain": [
       "{'mean_fit_time': array([37.01760793, 58.07696644, 74.87641048]),\n",
       " 'std_fit_time': array([2.49084427, 1.31884349, 0.55856691]),\n",
       " 'mean_score_time': array([0.06616505, 0.09744596, 0.11469309]),\n",
       " 'std_score_time': array([0.00368324, 0.01087791, 0.0134546 ]),\n",
       " 'param_kmeans__n_clusters': masked_array(data=[100, 200, 300],\n",
       "              mask=[False, False, False],\n",
       "        fill_value='?',\n",
       "             dtype=object),\n",
       " 'params': [{'kmeans__n_clusters': 100},\n",
       "  {'kmeans__n_clusters': 200},\n",
       "  {'kmeans__n_clusters': 300}],\n",
       " 'split0_test_score': array([0.90102857, 0.90771429, 0.91102857]),\n",
       " 'split1_test_score': array([0.90897143, 0.9108    , 0.91005714]),\n",
       " 'split2_test_score': array([0.90302857, 0.91034286, 0.90994286]),\n",
       " 'mean_test_score': array([0.90434286, 0.90961905, 0.91034286]),\n",
       " 'std_test_score': array([0.0033732 , 0.00135974, 0.00048711]),\n",
       " 'rank_test_score': array([3, 2, 1])}"
      ]
     },
     "execution_count": 47,
     "metadata": {},
     "output_type": "execute_result"
    }
   ],
   "source": [
    "grid_clf.cv_results_"
   ]
  },
  {
   "cell_type": "code",
   "execution_count": null,
   "metadata": {},
   "outputs": [],
   "source": []
  }
 ],
 "metadata": {
  "kernelspec": {
   "display_name": "Python 3",
   "language": "python",
   "name": "python3"
  },
  "language_info": {
   "codemirror_mode": {
    "name": "ipython",
    "version": 3
   },
   "file_extension": ".py",
   "mimetype": "text/x-python",
   "name": "python",
   "nbconvert_exporter": "python",
   "pygments_lexer": "ipython3",
   "version": "3.8.5"
  }
 },
 "nbformat": 4,
 "nbformat_minor": 5
}
