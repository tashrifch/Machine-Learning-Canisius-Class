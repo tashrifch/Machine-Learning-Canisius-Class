{
  "nbformat": 4,
  "nbformat_minor": 0,
  "metadata": {
    "colab": {
      "provenance": []
    },
    "kernelspec": {
      "name": "python3",
      "display_name": "Python 3"
    },
    "language_info": {
      "name": "python"
    }
  },
  "cells": [
    {
      "cell_type": "code",
      "execution_count": null,
      "metadata": {
        "id": "kGFZTBLgma4O"
      },
      "outputs": [],
      "source": []
    },
    {
      "cell_type": "markdown",
      "source": [
        "**Semi-supervised learning with Support Vector Machines: Varying the threshold**\n",
        "\n",
        "In semi-supervised learning,   we have a training set with some number of labeled y values, but also many without a known y value\n",
        "\n",
        "The idea of semi-supervised learning is to create a predictor,   a SVM in this case, that is trained on the labeled data.    The predictor is then used to predict the unlabelled data.    \n",
        "\n",
        "The best predictions among the unlabeled data (based on an estimated probability of the classification probability) are then used as labels for the next stage of model training\n",
        "\n",
        "A threshold is used to determine which unlabeled data should be used in each iteration of the estimation.\n",
        "\n",
        "The process is iterated as the classification improves.\n",
        "\n",
        "The concept behind this to make use of the correlation in predictor variables to aid the learning process,  using the easily classified points in the data.\n",
        "\n",
        "\n",
        "Based on\n",
        "https://scikit-learn.org/stable/auto_examples/semi_supervised/plot_self_training_varying_threshold.html#sphx-glr-auto-examples-semi-supervised-plot-self-training-varying-threshold-py"
      ],
      "metadata": {
        "id": "kHh0hjzSmbqj"
      }
    },
    {
      "cell_type": "markdown",
      "source": [
        "# Imports"
      ],
      "metadata": {
        "id": "Tv_0dVXqrFPG"
      }
    },
    {
      "cell_type": "code",
      "source": [
        "# Authors: Oliver Rausch <rauscho@ethz.ch>\n",
        "# License: BSD\n",
        "\n",
        "import matplotlib.pyplot as plt\n",
        "import numpy as np\n",
        "\n",
        "from sklearn import datasets\n",
        "from sklearn.metrics import accuracy_score\n",
        "from sklearn.model_selection import StratifiedKFold\n",
        "from sklearn.semi_supervised import SelfTrainingClassifier\n",
        "from sklearn.svm import SVC\n",
        "from sklearn.utils import shuffle\n"
      ],
      "metadata": {
        "id": "y7iNSYvgrA0U"
      },
      "execution_count": 1,
      "outputs": []
    },
    {
      "cell_type": "markdown",
      "source": [
        "# Setting up data for semi-supervised learning\n",
        "This is using the breast cancer data set\n",
        "\n",
        "The first 50 labels are used\n",
        "\n",
        "Labels for all other specimens (after #50) are all set to -1, which indicates a missing label\n",
        "\n",
        "Notice that we are creating a data set specifically for semi-supervised learning, one would never delete labels in a real world application"
      ],
      "metadata": {
        "id": "wYeLqrcPrIMm"
      }
    },
    {
      "cell_type": "code",
      "source": [
        "# number of cross validation splits used\n",
        "n_splits = 3\n",
        "\n",
        "X, y = datasets.load_breast_cancer(return_X_y=True)\n",
        "X, y = shuffle(X, y, random_state=42)\n",
        "y_true = y.copy()\n",
        "y[50:] = -1\n",
        "total_samples = y.shape[0]"
      ],
      "metadata": {
        "id": "sTrvDBM2rInn"
      },
      "execution_count": 2,
      "outputs": []
    },
    {
      "cell_type": "markdown",
      "source": [
        "# Add some code here\n",
        "\n",
        "To determine the size of this data set\n",
        "\n",
        "Also figure out the fraction that is unlabeled"
      ],
      "metadata": {
        "id": "H6WOYz8mxW_y"
      }
    },
    {
      "cell_type": "markdown",
      "source": [
        "**SVM Classifier**\n",
        "\n",
        "Set up a SVM Classifier\n",
        "\n",
        "set up a list of thresholds to use"
      ],
      "metadata": {
        "id": "tmkGblQErmHz"
      }
    },
    {
      "cell_type": "code",
      "source": [
        "base_classifier = SVC(probability=True, gamma=0.001, random_state=42)\n",
        "\n",
        "# x_values will be the list of probability cutoffs to use for including estimated labels\n",
        "\n",
        "x_values = np.arange(0.4, 1.05, 0.05)\n",
        "x_values = np.append(x_values, 0.99999)\n",
        "\n",
        "#set up storage for the scores obtained for each threshold level for\n",
        "# the n_splits cross validations\n",
        "\n",
        "scores = np.empty((x_values.shape[0], n_splits))\n",
        "\n",
        "#set up storage for the number of labels created in each cross validation split\n",
        "# and the number of iterations at each threshold and split\n",
        "\n",
        "amount_labeled = np.empty((x_values.shape[0], n_splits))\n",
        "amount_iterations = np.empty((x_values.shape[0], n_splits))\n"
      ],
      "metadata": {
        "id": "T552E__RrhWx"
      },
      "execution_count": 4,
      "outputs": []
    },
    {
      "cell_type": "code",
      "source": [
        "# Here is the loop, which we iterate for each threshold level specified\n",
        "# in the list of thresholds in x_values\n",
        "\n",
        "\n",
        "for i, threshold in enumerate(x_values):\n",
        "\n",
        "    # we specified the base classifier to use, there is now a semi-supervised\n",
        "    #learning function that will run the semi-supervised learning at the\n",
        "    # desired threshold\n",
        "\n",
        "    self_training_clf = SelfTrainingClassifier(base_classifier, threshold=threshold)\n",
        "\n",
        "    # We need manual cross validation so that we don't treat -1 as a separate\n",
        "    # class when computing accuracy\n",
        "    skfolds = StratifiedKFold(n_splits=n_splits)\n",
        "    for fold, (train_index, test_index) in enumerate(skfolds.split(X, y)):\n",
        "        X_train = X[train_index]\n",
        "        y_train = y[train_index]\n",
        "        X_test = X[test_index]\n",
        "        y_test = y[test_index]\n",
        "        y_test_true = y_true[test_index]\n",
        "\n",
        "        self_training_clf.fit(X_train, y_train)\n",
        "\n",
        "        # The amount of labeled samples that at the end of fitting\n",
        "        # so at a given threshold this tells us who many could be estimated\n",
        "        amount_labeled[i, fold] = (\n",
        "            total_samples\n",
        "            - np.unique(self_training_clf.labeled_iter_, return_counts=True)[1][0]\n",
        "        )\n",
        "        # The last iteration the classifier labeled a sample in\n",
        "        amount_iterations[i, fold] = np.max(self_training_clf.labeled_iter_)\n",
        "\n",
        "        # compute the accuracy of the classifier at this threshold level\n",
        "        y_pred = self_training_clf.predict(X_test)\n",
        "        scores[i, fold] = accuracy_score(y_test_true, y_pred)\n"
      ],
      "metadata": {
        "id": "kM4pJWRRr61t"
      },
      "execution_count": 5,
      "outputs": []
    },
    {
      "cell_type": "code",
      "source": [
        "\n",
        "ax1 = plt.subplot(211)\n",
        "ax1.errorbar(\n",
        "    x_values, scores.mean(axis=1), yerr=scores.std(axis=1), capsize=2, color=\"b\"\n",
        ")\n",
        "ax1.set_ylabel(\"Accuracy\", color=\"b\")\n",
        "ax1.tick_params(\"y\", colors=\"b\")\n",
        "\n",
        "ax2 = ax1.twinx()\n",
        "ax2.errorbar(\n",
        "    x_values,\n",
        "    amount_labeled.mean(axis=1),\n",
        "    yerr=amount_labeled.std(axis=1),\n",
        "    capsize=2,\n",
        "    color=\"g\",\n",
        ")\n",
        "ax2.set_ylim(bottom=0)\n",
        "ax2.set_ylabel(\"Amount of labeled samples\", color=\"g\")\n",
        "ax2.tick_params(\"y\", colors=\"g\")\n",
        "\n",
        "ax3 = plt.subplot(212, sharex=ax1)\n",
        "ax3.errorbar(\n",
        "    x_values,\n",
        "    amount_iterations.mean(axis=1),\n",
        "    yerr=amount_iterations.std(axis=1),\n",
        "    capsize=2,\n",
        "    color=\"b\",\n",
        ")\n",
        "ax3.set_ylim(bottom=0)\n",
        "ax3.set_ylabel(\"Amount of iterations\")\n",
        "ax3.set_xlabel(\"Threshold\")\n",
        "\n",
        "plt.show()"
      ],
      "metadata": {
        "colab": {
          "base_uri": "https://localhost:8080/",
          "height": 449
        },
        "id": "DbLUySLTsMaD",
        "outputId": "ac440547-ec6f-4d0e-f6c8-12b53ba6a416"
      },
      "execution_count": 7,
      "outputs": [
        {
          "output_type": "display_data",
          "data": {
            "text/plain": [
              "<Figure size 640x480 with 3 Axes>"
            ],
            "image/png": "[encoded data removed]"
          },
          "metadata": {}
        }
      ]
    },
    {
      "cell_type": "markdown",
      "source": [
        "# Question\n",
        "\n",
        "What threshold produced the optimal level of overall accuracy?\n",
        "\n",
        "Why would lower or higher thresholds perform less effectively?  What do you think happens when the threshold is too low?    When it is too high?\n",
        "\n",
        "Why do you think the number of labelled samples falls at high thresholds\n",
        "\n",
        "Why would the number of iterations increase with the threshold?\n",
        "\n",
        "Why would it suddenly fall when the threshold is 1?"
      ],
      "metadata": {
        "id": "DX4hZfbXuG3V"
      }
    },
    {
      "cell_type": "markdown",
      "source": [
        "# Question\n",
        "\n",
        "Reload the data set and determine what the accuracy of the SVC would be using all the labeled data,  ie in a fully supervised learning setting\n",
        "\n",
        "You will need to write (or copy and paste) some code to do this"
      ],
      "metadata": {
        "id": "4DsJYtUjxlII"
      }
    },
    {
      "cell_type": "code",
      "source": [],
      "metadata": {
        "id": "1apiUodduF37"
      },
      "execution_count": null,
      "outputs": []
    }
  ]
}