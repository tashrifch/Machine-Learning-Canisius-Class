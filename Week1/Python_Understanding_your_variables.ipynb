{
  "cells": [
    {
      "cell_type": "markdown",
      "metadata": {
        "id": "WBPJUM0fET_b"
      },
      "source": [
        "# Python,  getting help and identifying variable types\n",
        "\n",
        "*HD Sheets,  last modified 12/27/2023*\n",
        "\n",
        "In your career, you will wind up needing to learn and use many new packages and functions.\n",
        "\n",
        "The first step is always to run the example files or a tutorial for a new package,  and read all the documentation.\n",
        "\n",
        "To then actually use the new tool on your data, you typically need to format your data to load into the tool,   this is often the most tedious and annoying part of the process.\n",
        "\n",
        "There are a huge variety of data storage formats in python,  in addition to the four basic formats,  people keep inventing new ones.   Not all tools use the standard storage formats, you will run into new storage classes like \"blobs\" or even whole memory management systems like Apache Arrow, that are used to manage data from various modeling systems,  not to mention distributed tools like Dask, Spark, Azures, AWS etc.\n",
        "\n",
        "So when you are learning a new modeling or visualization tool, by working through tutorials or examples,  you have to know how the input data is being formatted and stored.\n",
        "\n",
        "Python has many ways of providing information about variables and functions.\n",
        "\n",
        "What you need to learn from this notebook is how to make use of these, and then use them in future notebooks.\n",
        "\n",
        "*Remember- Google is your friend!  You will need to look things up constantly in this course,  getting good at finding information using Google (or other tools) is a key part of this course.   Some of the material below will be review for you,  other concepts may be new,  but you will need to use these ideas constantly during this course.  *\n"
      ]
    },
    {
      "cell_type": "code",
      "execution_count": null,
      "metadata": {
        "id": "eYK6P085ET_c"
      },
      "outputs": [],
      "source": []
    },
    {
      "cell_type": "markdown",
      "metadata": {
        "id": "UGul_fg_ET_c"
      },
      "source": [
        "**Help on Functions**\n",
        "\n",
        "help(function_name),   try help(print) and help(open)"
      ]
    },
    {
      "cell_type": "code",
      "execution_count": 1,
      "metadata": {
        "scrolled": true,
        "colab": {
          "base_uri": "https://localhost:8080/"
        },
        "id": "6FJddahxET_d",
        "outputId": "e40429e7-636a-442a-a9fa-f83864f064f8"
      },
      "outputs": [
        {
          "output_type": "stream",
          "name": "stdout",
          "text": [
            "Help on built-in function print in module builtins:\n",
            "\n",
            "print(...)\n",
            "    print(value, ..., sep=' ', end='\\n', file=sys.stdout, flush=False)\n",
            "    \n",
            "    Prints the values to a stream, or to sys.stdout by default.\n",
            "    Optional keyword arguments:\n",
            "    file:  a file-like object (stream); defaults to the current sys.stdout.\n",
            "    sep:   string inserted between values, default a space.\n",
            "    end:   string appended after the last value, default a newline.\n",
            "    flush: whether to forcibly flush the stream.\n",
            "\n"
          ]
        }
      ],
      "source": [
        "help(print)"
      ]
    },
    {
      "cell_type": "code",
      "execution_count": 2,
      "metadata": {
        "colab": {
          "base_uri": "https://localhost:8080/"
        },
        "id": "pbiXa8drET_d",
        "outputId": "838eee60-463d-4e1a-bb0c-886909660b32"
      },
      "outputs": [
        {
          "output_type": "stream",
          "name": "stdout",
          "text": [
            "Help on built-in function flush:\n",
            "\n",
            "flush() method of _io.TextIOWrapper instance\n",
            "    Flush write buffers, if applicable.\n",
            "    \n",
            "    This is not implemented for read-only and non-blocking streams.\n",
            "\n"
          ]
        }
      ],
      "source": [
        "# use with a member function\n",
        "\n",
        "fo=open(\"foo.txt\",\"w\")\n",
        "help(fo.flush)"
      ]
    },
    {
      "cell_type": "code",
      "execution_count": 3,
      "metadata": {
        "colab": {
          "base_uri": "https://localhost:8080/"
        },
        "id": "7IZz_gVkET_e",
        "outputId": "8314247b-9311-4297-f0b9-de85e2da6261"
      },
      "outputs": [
        {
          "output_type": "stream",
          "name": "stdout",
          "text": [
            "Help on built-in function open in module io:\n",
            "\n",
            "open(file, mode='r', buffering=-1, encoding=None, errors=None, newline=None, closefd=True, opener=None)\n",
            "    Open file and return a stream.  Raise OSError upon failure.\n",
            "    \n",
            "    file is either a text or byte string giving the name (and the path\n",
            "    if the file isn't in the current working directory) of the file to\n",
            "    be opened or an integer file descriptor of the file to be\n",
            "    wrapped. (If a file descriptor is given, it is closed when the\n",
            "    returned I/O object is closed, unless closefd is set to False.)\n",
            "    \n",
            "    mode is an optional string that specifies the mode in which the file\n",
            "    is opened. It defaults to 'r' which means open for reading in text\n",
            "    mode.  Other common values are 'w' for writing (truncating the file if\n",
            "    it already exists), 'x' for creating and writing to a new file, and\n",
            "    'a' for appending (which on some Unix systems, means that all writes\n",
            "    append to the end of the file regardless of the current seek position).\n",
            "    In text mode, if encoding is not specified the encoding used is platform\n",
            "    dependent: locale.getpreferredencoding(False) is called to get the\n",
            "    current locale encoding. (For reading and writing raw bytes use binary\n",
            "    mode and leave encoding unspecified.) The available modes are:\n",
            "    \n",
            "    ========= ===============================================================\n",
            "    Character Meaning\n",
            "    --------- ---------------------------------------------------------------\n",
            "    'r'       open for reading (default)\n",
            "    'w'       open for writing, truncating the file first\n",
            "    'x'       create a new file and open it for writing\n",
            "    'a'       open for writing, appending to the end of the file if it exists\n",
            "    'b'       binary mode\n",
            "    't'       text mode (default)\n",
            "    '+'       open a disk file for updating (reading and writing)\n",
            "    'U'       universal newline mode (deprecated)\n",
            "    ========= ===============================================================\n",
            "    \n",
            "    The default mode is 'rt' (open for reading text). For binary random\n",
            "    access, the mode 'w+b' opens and truncates the file to 0 bytes, while\n",
            "    'r+b' opens the file without truncation. The 'x' mode implies 'w' and\n",
            "    raises an `FileExistsError` if the file already exists.\n",
            "    \n",
            "    Python distinguishes between files opened in binary and text modes,\n",
            "    even when the underlying operating system doesn't. Files opened in\n",
            "    binary mode (appending 'b' to the mode argument) return contents as\n",
            "    bytes objects without any decoding. In text mode (the default, or when\n",
            "    't' is appended to the mode argument), the contents of the file are\n",
            "    returned as strings, the bytes having been first decoded using a\n",
            "    platform-dependent encoding or using the specified encoding if given.\n",
            "    \n",
            "    'U' mode is deprecated and will raise an exception in future versions\n",
            "    of Python.  It has no effect in Python 3.  Use newline to control\n",
            "    universal newlines mode.\n",
            "    \n",
            "    buffering is an optional integer used to set the buffering policy.\n",
            "    Pass 0 to switch buffering off (only allowed in binary mode), 1 to select\n",
            "    line buffering (only usable in text mode), and an integer > 1 to indicate\n",
            "    the size of a fixed-size chunk buffer.  When no buffering argument is\n",
            "    given, the default buffering policy works as follows:\n",
            "    \n",
            "    * Binary files are buffered in fixed-size chunks; the size of the buffer\n",
            "      is chosen using a heuristic trying to determine the underlying device's\n",
            "      \"block size\" and falling back on `io.DEFAULT_BUFFER_SIZE`.\n",
            "      On many systems, the buffer will typically be 4096 or 8192 bytes long.\n",
            "    \n",
            "    * \"Interactive\" text files (files for which isatty() returns True)\n",
            "      use line buffering.  Other text files use the policy described above\n",
            "      for binary files.\n",
            "    \n",
            "    encoding is the name of the encoding used to decode or encode the\n",
            "    file. This should only be used in text mode. The default encoding is\n",
            "    platform dependent, but any encoding supported by Python can be\n",
            "    passed.  See the codecs module for the list of supported encodings.\n",
            "    \n",
            "    errors is an optional string that specifies how encoding errors are to\n",
            "    be handled---this argument should not be used in binary mode. Pass\n",
            "    'strict' to raise a ValueError exception if there is an encoding error\n",
            "    (the default of None has the same effect), or pass 'ignore' to ignore\n",
            "    errors. (Note that ignoring encoding errors can lead to data loss.)\n",
            "    See the documentation for codecs.register or run 'help(codecs.Codec)'\n",
            "    for a list of the permitted encoding error strings.\n",
            "    \n",
            "    newline controls how universal newlines works (it only applies to text\n",
            "    mode). It can be None, '', '\\n', '\\r', and '\\r\\n'.  It works as\n",
            "    follows:\n",
            "    \n",
            "    * On input, if newline is None, universal newlines mode is\n",
            "      enabled. Lines in the input can end in '\\n', '\\r', or '\\r\\n', and\n",
            "      these are translated into '\\n' before being returned to the\n",
            "      caller. If it is '', universal newline mode is enabled, but line\n",
            "      endings are returned to the caller untranslated. If it has any of\n",
            "      the other legal values, input lines are only terminated by the given\n",
            "      string, and the line ending is returned to the caller untranslated.\n",
            "    \n",
            "    * On output, if newline is None, any '\\n' characters written are\n",
            "      translated to the system default line separator, os.linesep. If\n",
            "      newline is '' or '\\n', no translation takes place. If newline is any\n",
            "      of the other legal values, any '\\n' characters written are translated\n",
            "      to the given string.\n",
            "    \n",
            "    If closefd is False, the underlying file descriptor will be kept open\n",
            "    when the file is closed. This does not work when a file name is given\n",
            "    and must be True in that case.\n",
            "    \n",
            "    A custom opener can be used by passing a callable as *opener*. The\n",
            "    underlying file descriptor for the file object is then obtained by\n",
            "    calling *opener* with (*file*, *flags*). *opener* must return an open\n",
            "    file descriptor (passing os.open as *opener* results in functionality\n",
            "    similar to passing None).\n",
            "    \n",
            "    open() returns a file object whose type depends on the mode, and\n",
            "    through which the standard file operations such as reading and writing\n",
            "    are performed. When open() is used to open a file in a text mode ('w',\n",
            "    'r', 'wt', 'rt', etc.), it returns a TextIOWrapper. When used to open\n",
            "    a file in a binary mode, the returned class varies: in read binary\n",
            "    mode, it returns a BufferedReader; in write binary and append binary\n",
            "    modes, it returns a BufferedWriter, and in read/write mode, it returns\n",
            "    a BufferedRandom.\n",
            "    \n",
            "    It is also possible to use a string or bytearray as a file for both\n",
            "    reading and writing. For strings StringIO can be used like a file\n",
            "    opened in a text mode, and for bytes a BytesIO can be used like a file\n",
            "    opened in a binary mode.\n",
            "\n"
          ]
        }
      ],
      "source": [
        "help(open)"
      ]
    },
    {
      "cell_type": "markdown",
      "metadata": {
        "id": "boPrHyu0ET_e"
      },
      "source": [
        "### Docstrings\n",
        "\n",
        "Help() is returning the docstring for the function.\n",
        "\n",
        "If you create functions for your work,  always include a docstring\n",
        "\n",
        "THis is a string inside triple quotes that the help function  will return when you call help() on the function"
      ]
    },
    {
      "cell_type": "code",
      "execution_count": 4,
      "metadata": {
        "id": "zGIgLcqoET_e"
      },
      "outputs": [],
      "source": [
        "def square_me(x):\n",
        "    \"\"\"  square_me(x)\n",
        "    returns x squared\n",
        "    \"\"\"\n",
        "    return x**2"
      ]
    },
    {
      "cell_type": "code",
      "execution_count": 5,
      "metadata": {
        "colab": {
          "base_uri": "https://localhost:8080/"
        },
        "id": "qcb1iDgnET_f",
        "outputId": "0ec2c00c-dd06-4a99-a853-8b2f9f2d541b"
      },
      "outputs": [
        {
          "output_type": "execute_result",
          "data": {
            "text/plain": [
              "25"
            ]
          },
          "metadata": {},
          "execution_count": 5
        }
      ],
      "source": [
        "square_me(5)"
      ]
    },
    {
      "cell_type": "code",
      "execution_count": 6,
      "metadata": {
        "colab": {
          "base_uri": "https://localhost:8080/"
        },
        "id": "DFayW5gHET_f",
        "outputId": "81faf7ce-ef13-4797-a175-ddb57c6b8e92"
      },
      "outputs": [
        {
          "output_type": "stream",
          "name": "stdout",
          "text": [
            "Help on function square_me in module __main__:\n",
            "\n",
            "square_me(x)\n",
            "    square_me(x)\n",
            "    returns x squared\n",
            "\n"
          ]
        }
      ],
      "source": [
        "help(square_me)"
      ]
    },
    {
      "cell_type": "markdown",
      "metadata": {
        "id": "Ngvw9X1GET_f"
      },
      "source": [
        "### Lists and getting information about variables\n",
        "\n",
        "lists are one of the native data structures in Python and one of the most heavily used\n",
        "\n",
        "We will create one and then try to get some information from python about it\n",
        "\n",
        "When you see examples of code in books or online, they often don't tell you what the data structure or form is.  To understand what code is doing and to then use the ideas in your own work, you need to understand how it works.\n",
        "\n",
        "If you go to use the ideas in an example or piece of code, you need to understand the data structure you are dealing with, you will need to format input data properly to input it into a function, or to replicate an example calculation.\n",
        "\n",
        "these are some methods to learn about variables\n"
      ]
    },
    {
      "cell_type": "code",
      "execution_count": null,
      "metadata": {
        "id": "RtMMF7qTET_g"
      },
      "outputs": [],
      "source": [
        "w=[1.4, 2.1, 3.3 ,1.2]"
      ]
    },
    {
      "cell_type": "code",
      "execution_count": null,
      "metadata": {
        "id": "iXVpXtDtET_g"
      },
      "outputs": [],
      "source": [
        "# note that the output appears in the Help window\n",
        "w?"
      ]
    },
    {
      "cell_type": "markdown",
      "metadata": {
        "id": "Ns-SrcjwET_g"
      },
      "source": [
        "What did w? do for you?  Notice that in the Jupyter notebook,  the output of this request appears in a separate window you\n",
        "can close after reading.\n",
        "\n",
        "Below is a list of lists,  what does w2? show you?"
      ]
    },
    {
      "cell_type": "code",
      "execution_count": 7,
      "metadata": {
        "id": "iL5Jjqu0ET_g"
      },
      "outputs": [],
      "source": [
        "w2=[[1,2,3],[4,3]]"
      ]
    },
    {
      "cell_type": "code",
      "execution_count": 8,
      "metadata": {
        "colab": {
          "base_uri": "https://localhost:8080/"
        },
        "id": "OZpbZNPxET_g",
        "outputId": "eb3ed9bb-9980-4538-94ea-31582bdfc275"
      },
      "outputs": [
        {
          "output_type": "execute_result",
          "data": {
            "text/plain": [
              "list"
            ]
          },
          "metadata": {},
          "execution_count": 8
        }
      ],
      "source": [
        "type(w2)"
      ]
    },
    {
      "cell_type": "code",
      "source": [
        "w2?\n",
        "\n",
        "# notice that in Google Colab, the w2? output appears in a Help window of the browser, rather than in the notebook."
      ],
      "metadata": {
        "id": "fPF1MVhaF4__"
      },
      "execution_count": 9,
      "outputs": []
    },
    {
      "cell_type": "markdown",
      "metadata": {
        "id": "JF4m1K1gET_h"
      },
      "source": [
        "## Question/Action\n",
        "\n",
        "When I want you to modify code (an action) or answer a question, I will put in a cell like\n",
        "this one.   Add a cell below it if there isn't one already there, and answer the question,\n",
        "or write the code in.\n",
        "\n",
        "Question:  In the cells above,  we created a list w.   What variable type is each element in w?   \n",
        "\n",
        "We also created a list w2.  What is each element of w2?"
      ]
    },
    {
      "cell_type": "markdown",
      "metadata": {
        "id": "KbNVZJBiET_h"
      },
      "source": [
        "#Answer the question here\n",
        "\n"
      ]
    },
    {
      "cell_type": "code",
      "execution_count": null,
      "metadata": {
        "id": "5vD4wKxNET_h"
      },
      "outputs": [],
      "source": [
        "##Question/Action\n",
        "\n",
        "how would you reference or access the value 3.1 in w?\n",
        "\n",
        "How would you reference the value 4 in w2\n",
        "\n",
        "Remember Python starts indexing at 0,  unlike R which starts at 1"
      ]
    },
    {
      "cell_type": "code",
      "execution_count": null,
      "metadata": {
        "id": "lHY_0Ll2ET_h"
      },
      "outputs": [],
      "source": [
        "# what type of thing is this?\n",
        "\n",
        "a={1,2,3,4}"
      ]
    },
    {
      "cell_type": "markdown",
      "metadata": {
        "id": "osKZo_eRET_h"
      },
      "source": [
        "# Question/Action\n",
        "\n",
        "Build a set with the elements 1,2,3,1,4,2\n",
        "\n",
        "What happens?\n",
        "\n",
        "Sets are useful for testing membership,  it is faster to search a set than a list"
      ]
    },
    {
      "cell_type": "code",
      "execution_count": null,
      "metadata": {
        "id": "U_dbY00vET_h"
      },
      "outputs": [],
      "source": []
    },
    {
      "cell_type": "code",
      "execution_count": null,
      "metadata": {
        "id": "us7rZQUDET_h"
      },
      "outputs": [],
      "source": [
        "# how about this one\n",
        "b=(5,6,7,8)"
      ]
    },
    {
      "cell_type": "code",
      "execution_count": null,
      "metadata": {
        "id": "fLvu4bm7ET_h"
      },
      "outputs": [],
      "source": [
        "b?"
      ]
    },
    {
      "cell_type": "code",
      "execution_count": null,
      "metadata": {
        "id": "YvtF_QbUET_i"
      },
      "outputs": [],
      "source": [
        "# one more basic data type\n",
        "\n",
        "c={'name':'Sue','age':35,'Favorite color':'red, no blue!'}"
      ]
    },
    {
      "cell_type": "code",
      "execution_count": null,
      "metadata": {
        "id": "sPHp3hl9ET_i",
        "outputId": "ea674076-309f-42e4-e64d-e67619ff5179"
      },
      "outputs": [
        {
          "data": {
            "text/plain": [
              "\u001b[1;31mType:\u001b[0m        dict\n",
              "\u001b[1;31mString form:\u001b[0m {'name': 'Sue', 'age': 35, 'Favorite color': 'red, no blue!'}\n",
              "\u001b[1;31mLength:\u001b[0m      3\n",
              "\u001b[1;31mDocstring:\u001b[0m  \n",
              "dict() -> new empty dictionary\n",
              "dict(mapping) -> new dictionary initialized from a mapping object's\n",
              "    (key, value) pairs\n",
              "dict(iterable) -> new dictionary initialized as if via:\n",
              "    d = {}\n",
              "    for k, v in iterable:\n",
              "        d[k] = v\n",
              "dict(**kwargs) -> new dictionary initialized with the name=value pairs\n",
              "    in the keyword argument list.  For example:  dict(one=1, two=2)\n"
            ]
          },
          "metadata": {},
          "output_type": "display_data"
        }
      ],
      "source": [
        "c?"
      ]
    },
    {
      "cell_type": "markdown",
      "metadata": {
        "id": "Pbxe0PS9ET_i"
      },
      "source": [
        "# Question/Action\n",
        "\n",
        "w, a,b,c are examples of the four basic advanced storage types in python\n",
        "\n",
        "In the cell below,   explain what the 4 types are.   For each indicate whether they are mutable or not, and if they are iterable or not\n",
        "\n",
        "What does it mean to be iterable?  What does it mean to be mutable?\n",
        "\n",
        "Remember,  Google is your friend...\n",
        "\n",
        "Also note that each of these storage types can hold entire items from the other classes,  w2 was a list of lists"
      ]
    },
    {
      "cell_type": "markdown",
      "metadata": {
        "id": "w27qLvpDET_i"
      },
      "source": [
        "Insert Student Response here\n",
        "\n"
      ]
    },
    {
      "cell_type": "markdown",
      "metadata": {
        "id": "Sm_KWtldET_i"
      },
      "source": [
        "# Question/Action show an example of iteration or realization of the elements in a list here"
      ]
    },
    {
      "cell_type": "code",
      "execution_count": null,
      "metadata": {
        "id": "IxsIVoXQET_i"
      },
      "outputs": [],
      "source": []
    },
    {
      "cell_type": "markdown",
      "metadata": {
        "id": "E0h_KfbJET_i"
      },
      "source": [
        "###  Getting a list of the atributes of an object\n",
        "\n",
        "In Python,  everything is an object, or an instance of a class.  Each has a number of different attributes.   \n",
        "\n",
        "You can see the attributes using the dir(variable_name) function\n",
        "\n",
        "Many of these are functions (aka methods or member functions of the class),  others are variables.\n",
        "\n",
        "Any name with no double leading underline __,    is a callable member function\n",
        "\n",
        "I find dir very helpful in understanding what I am working with and what member functions might be available\n",
        "and helpful\n",
        "\n"
      ]
    },
    {
      "cell_type": "code",
      "execution_count": null,
      "metadata": {
        "scrolled": true,
        "id": "ygNXX5iXET_i",
        "outputId": "7622074d-b50c-4671-adb6-11b92b735070"
      },
      "outputs": [
        {
          "data": {
            "text/plain": [
              "['__add__',\n",
              " '__class__',\n",
              " '__contains__',\n",
              " '__delattr__',\n",
              " '__delitem__',\n",
              " '__dir__',\n",
              " '__doc__',\n",
              " '__eq__',\n",
              " '__format__',\n",
              " '__ge__',\n",
              " '__getattribute__',\n",
              " '__getitem__',\n",
              " '__gt__',\n",
              " '__hash__',\n",
              " '__iadd__',\n",
              " '__imul__',\n",
              " '__init__',\n",
              " '__init_subclass__',\n",
              " '__iter__',\n",
              " '__le__',\n",
              " '__len__',\n",
              " '__lt__',\n",
              " '__mul__',\n",
              " '__ne__',\n",
              " '__new__',\n",
              " '__reduce__',\n",
              " '__reduce_ex__',\n",
              " '__repr__',\n",
              " '__reversed__',\n",
              " '__rmul__',\n",
              " '__setattr__',\n",
              " '__setitem__',\n",
              " '__sizeof__',\n",
              " '__str__',\n",
              " '__subclasshook__',\n",
              " 'append',\n",
              " 'clear',\n",
              " 'copy',\n",
              " 'count',\n",
              " 'extend',\n",
              " 'index',\n",
              " 'insert',\n",
              " 'pop',\n",
              " 'remove',\n",
              " 'reverse',\n",
              " 'sort']"
            ]
          },
          "execution_count": 17,
          "metadata": {},
          "output_type": "execute_result"
        }
      ],
      "source": [
        "dir(w)"
      ]
    },
    {
      "cell_type": "code",
      "execution_count": null,
      "metadata": {
        "scrolled": true,
        "id": "T1B1sj_iET_i",
        "outputId": "0582c641-02d6-4d51-fee4-7c848e91c7b1"
      },
      "outputs": [
        {
          "data": {
            "text/plain": [
              "list"
            ]
          },
          "execution_count": 18,
          "metadata": {},
          "output_type": "execute_result"
        }
      ],
      "source": [
        "w.__class__"
      ]
    },
    {
      "cell_type": "code",
      "execution_count": null,
      "metadata": {
        "id": "lAir19iFET_j",
        "outputId": "8355aa40-39fb-4193-cc89-3f0903bf6c8e"
      },
      "outputs": [
        {
          "name": "stdout",
          "output_type": "stream",
          "text": [
            "Help on built-in function sort:\n",
            "\n",
            "sort(*, key=None, reverse=False) method of builtins.list instance\n",
            "    Stable sort *IN PLACE*.\n",
            "\n"
          ]
        }
      ],
      "source": [
        "help(w.sort)"
      ]
    },
    {
      "cell_type": "markdown",
      "metadata": {
        "id": "3iEk1sQYET_j"
      },
      "source": [
        "When w is an object, we can use the help function on it, to get a bunch of useful information about it,  this may give us a lot of ideas about how to work with it.\n",
        "\n",
        "When you are looking at example codes,  use these functions to help you understand what is going on in the example\n",
        "\n",
        "In working with an example, you are trying to understand how the example works, so you can modify the ideas and use them in your own work."
      ]
    },
    {
      "cell_type": "code",
      "execution_count": null,
      "metadata": {
        "id": "YTOiaqRvET_j",
        "outputId": "65ce95df-c497-480c-d0d1-4b2cac689183"
      },
      "outputs": [
        {
          "name": "stdout",
          "output_type": "stream",
          "text": [
            "Help on list object:\n",
            "\n",
            "class list(object)\n",
            " |  list(iterable=(), /)\n",
            " |  \n",
            " |  Built-in mutable sequence.\n",
            " |  \n",
            " |  If no argument is given, the constructor creates a new empty list.\n",
            " |  The argument must be an iterable if specified.\n",
            " |  \n",
            " |  Methods defined here:\n",
            " |  \n",
            " |  __add__(self, value, /)\n",
            " |      Return self+value.\n",
            " |  \n",
            " |  __contains__(self, key, /)\n",
            " |      Return key in self.\n",
            " |  \n",
            " |  __delitem__(self, key, /)\n",
            " |      Delete self[key].\n",
            " |  \n",
            " |  __eq__(self, value, /)\n",
            " |      Return self==value.\n",
            " |  \n",
            " |  __ge__(self, value, /)\n",
            " |      Return self>=value.\n",
            " |  \n",
            " |  __getattribute__(self, name, /)\n",
            " |      Return getattr(self, name).\n",
            " |  \n",
            " |  __getitem__(...)\n",
            " |      x.__getitem__(y) <==> x[y]\n",
            " |  \n",
            " |  __gt__(self, value, /)\n",
            " |      Return self>value.\n",
            " |  \n",
            " |  __iadd__(self, value, /)\n",
            " |      Implement self+=value.\n",
            " |  \n",
            " |  __imul__(self, value, /)\n",
            " |      Implement self*=value.\n",
            " |  \n",
            " |  __init__(self, /, *args, **kwargs)\n",
            " |      Initialize self.  See help(type(self)) for accurate signature.\n",
            " |  \n",
            " |  __iter__(self, /)\n",
            " |      Implement iter(self).\n",
            " |  \n",
            " |  __le__(self, value, /)\n",
            " |      Return self<=value.\n",
            " |  \n",
            " |  __len__(self, /)\n",
            " |      Return len(self).\n",
            " |  \n",
            " |  __lt__(self, value, /)\n",
            " |      Return self<value.\n",
            " |  \n",
            " |  __mul__(self, value, /)\n",
            " |      Return self*value.\n",
            " |  \n",
            " |  __ne__(self, value, /)\n",
            " |      Return self!=value.\n",
            " |  \n",
            " |  __repr__(self, /)\n",
            " |      Return repr(self).\n",
            " |  \n",
            " |  __reversed__(self, /)\n",
            " |      Return a reverse iterator over the list.\n",
            " |  \n",
            " |  __rmul__(self, value, /)\n",
            " |      Return value*self.\n",
            " |  \n",
            " |  __setitem__(self, key, value, /)\n",
            " |      Set self[key] to value.\n",
            " |  \n",
            " |  __sizeof__(self, /)\n",
            " |      Return the size of the list in memory, in bytes.\n",
            " |  \n",
            " |  append(self, object, /)\n",
            " |      Append object to the end of the list.\n",
            " |  \n",
            " |  clear(self, /)\n",
            " |      Remove all items from list.\n",
            " |  \n",
            " |  copy(self, /)\n",
            " |      Return a shallow copy of the list.\n",
            " |  \n",
            " |  count(self, value, /)\n",
            " |      Return number of occurrences of value.\n",
            " |  \n",
            " |  extend(self, iterable, /)\n",
            " |      Extend list by appending elements from the iterable.\n",
            " |  \n",
            " |  index(self, value, start=0, stop=9223372036854775807, /)\n",
            " |      Return first index of value.\n",
            " |      \n",
            " |      Raises ValueError if the value is not present.\n",
            " |  \n",
            " |  insert(self, index, object, /)\n",
            " |      Insert object before index.\n",
            " |  \n",
            " |  pop(self, index=-1, /)\n",
            " |      Remove and return item at index (default last).\n",
            " |      \n",
            " |      Raises IndexError if list is empty or index is out of range.\n",
            " |  \n",
            " |  remove(self, value, /)\n",
            " |      Remove first occurrence of value.\n",
            " |      \n",
            " |      Raises ValueError if the value is not present.\n",
            " |  \n",
            " |  reverse(self, /)\n",
            " |      Reverse *IN PLACE*.\n",
            " |  \n",
            " |  sort(self, /, *, key=None, reverse=False)\n",
            " |      Stable sort *IN PLACE*.\n",
            " |  \n",
            " |  ----------------------------------------------------------------------\n",
            " |  Static methods defined here:\n",
            " |  \n",
            " |  __new__(*args, **kwargs) from builtins.type\n",
            " |      Create and return a new object.  See help(type) for accurate signature.\n",
            " |  \n",
            " |  ----------------------------------------------------------------------\n",
            " |  Data and other attributes defined here:\n",
            " |  \n",
            " |  __hash__ = None\n",
            "\n"
          ]
        }
      ],
      "source": [
        "help(w)"
      ]
    },
    {
      "cell_type": "markdown",
      "metadata": {
        "id": "Wq40CFVjET_j"
      },
      "source": [
        "There is a basic type() function like in R, which is some help"
      ]
    },
    {
      "cell_type": "code",
      "execution_count": null,
      "metadata": {
        "id": "pMOU1Ny0ET_j",
        "outputId": "8a57bcb7-7a97-4d1e-e997-f79fabb86004"
      },
      "outputs": [
        {
          "data": {
            "text/plain": [
              "list"
            ]
          },
          "execution_count": 21,
          "metadata": {},
          "output_type": "execute_result"
        }
      ],
      "source": [
        "type(w)"
      ]
    },
    {
      "cell_type": "code",
      "execution_count": null,
      "metadata": {
        "id": "OdtNaawmET_k"
      },
      "outputs": [],
      "source": [
        "Python also has an id function,  this is a major help in some situations\n",
        "\n",
        "What does id actually do?\n"
      ]
    },
    {
      "cell_type": "code",
      "execution_count": null,
      "metadata": {
        "id": "sXmpWL_LET_k",
        "outputId": "5e788913-4b3b-4db5-8360-2c35f5401622"
      },
      "outputs": [
        {
          "data": {
            "text/plain": [
              "2356431427848"
            ]
          },
          "execution_count": 22,
          "metadata": {},
          "output_type": "execute_result"
        }
      ],
      "source": [
        "id(w)"
      ]
    },
    {
      "cell_type": "code",
      "execution_count": null,
      "metadata": {
        "id": "0GhLE45XET_k"
      },
      "outputs": [],
      "source": [
        "d=w"
      ]
    },
    {
      "cell_type": "code",
      "execution_count": null,
      "metadata": {
        "id": "dvnitVzzET_k"
      },
      "outputs": [],
      "source": [
        "e=w.copy()"
      ]
    },
    {
      "cell_type": "code",
      "execution_count": null,
      "metadata": {
        "id": "h5kCH58EET_k",
        "outputId": "9ea33288-6a3f-49a0-81f5-5dd528fc11e0"
      },
      "outputs": [
        {
          "data": {
            "text/plain": [
              "2356431427848"
            ]
          },
          "execution_count": 25,
          "metadata": {},
          "output_type": "execute_result"
        }
      ],
      "source": [
        "id(d)"
      ]
    },
    {
      "cell_type": "code",
      "execution_count": null,
      "metadata": {
        "id": "lB7ncOt_ET_k",
        "outputId": "4ee77258-c64f-4061-c922-dc511d9c9cb9"
      },
      "outputs": [
        {
          "data": {
            "text/plain": [
              "2356430781512"
            ]
          },
          "execution_count": 26,
          "metadata": {},
          "output_type": "execute_result"
        }
      ],
      "source": [
        "id(e)"
      ]
    },
    {
      "cell_type": "markdown",
      "metadata": {
        "id": "Gy3rszlKET_l"
      },
      "source": [
        "Look at the use of id()  on w, d and e\n",
        "\n",
        "Are w and d different ideas or not?    Does e have a different id?   What is happening here"
      ]
    },
    {
      "cell_type": "markdown",
      "metadata": {
        "id": "c-qPdDrFET_l"
      },
      "source": [
        "**Student input required here**\n",
        "\n",
        "Create a summary for later reference,  what are the approaches shown in this example to getting information about a variable?\n",
        "\n",
        "Why is it so important to understand the difference between d=w and e=w.copy?\n"
      ]
    },
    {
      "cell_type": "code",
      "execution_count": null,
      "metadata": {
        "id": "L-CeOi07ET_l",
        "outputId": "051b8edf-fec2-4be8-92ff-e4adccd33917"
      },
      "outputs": [
        {
          "name": "stdout",
          "output_type": "stream",
          "text": [
            "[1.4, 2.1, 0, 1.2]\n",
            "[1.4, 2.1, 3.3, 1.2]\n"
          ]
        }
      ],
      "source": [
        "e[2]=0\n",
        "print(e)\n",
        "print(w)"
      ]
    },
    {
      "cell_type": "code",
      "execution_count": null,
      "metadata": {
        "id": "XeZvAxBDET_l",
        "outputId": "be8aa480-4f49-48c8-b624-ce84ccdb5792"
      },
      "outputs": [
        {
          "name": "stdout",
          "output_type": "stream",
          "text": [
            "[1.4, 2.1, -11, 1.2]\n",
            "[1.4, 2.1, -11, 1.2]\n",
            "[1.4, 2.1, 0, 1.2]\n"
          ]
        }
      ],
      "source": [
        "d[2]=-11\n",
        "print(d)\n",
        "print(w)\n",
        "print(e)"
      ]
    },
    {
      "cell_type": "markdown",
      "metadata": {
        "id": "Pnc77oliET_l"
      },
      "source": [
        "Student Input Required Here\n",
        "\n",
        "Explain what is going on with w, d and e here.  Explain how id() helps your understand this issue.\n",
        "\n"
      ]
    },
    {
      "cell_type": "markdown",
      "metadata": {
        "id": "CWCAB3bDET_l"
      },
      "source": [
        "Student input required here\n",
        "\n",
        "Create a summary for later reference,  what are the approaches shown in this example to getting information about a variable?"
      ]
    },
    {
      "cell_type": "markdown",
      "metadata": {
        "id": "cOaGDts_ET_l"
      },
      "source": [
        "## Pandas and Numpy\n",
        "\n",
        "These are two key packages used in Python to provide data storage classes that handle matrices (Numpy) and dataframes (Pandas)\n",
        "\n",
        "Matrices act like the matrices in linear algebra and Numpy implements most standard linear algebra operations,   it actually\n",
        "works much like Matlab or Octave.   Data in a matrix is homogeneous in data type (often float or complex types)\n",
        "\n",
        "Pandas implement dataframes that act like R dataframes,   or somewhat like tabular data in a database\n",
        "\n",
        "Numpy and Pandas have to be installed using conda or pip,  and then they have to be imported into a Python program, as below\n",
        "\n",
        "The online manuals for numpy and pandas are really good...\n",
        "\n",
        "https://numpy.org/doc/stable/user/absolute_beginners.html\n",
        "\n",
        "https://pandas.pydata.org/"
      ]
    },
    {
      "cell_type": "markdown",
      "metadata": {
        "id": "wR4PMHlOET_l"
      },
      "source": [
        "Pandas makes use of Numpy storage classes, as does DASK\n",
        "\n",
        "If you are taking DAT 512,  we will take the time to really learn Numpy and Pandas\n",
        "\n",
        "If you just in DAT 514 (but not concurrently in DAT 512),  you will pick up Numpy and Pandas on the fly.\n",
        "\n",
        "Most of the sci-kit learn tools we will using in DAT 514 use both Numpy and Pandas,   and it is easy to move between Pandas\n",
        "storage classes and Numpy.    \n",
        "\n",
        "Below are some quick looks at Numpy and Pandas storage classes"
      ]
    },
    {
      "cell_type": "code",
      "execution_count": null,
      "metadata": {
        "id": "_t-STBpCET_l"
      },
      "outputs": [],
      "source": [
        "import pandas as pd\n",
        "import numpy as np\n",
        "\n",
        "# note the use of import..as...\n",
        "# this allows you to assign the aliases pd, and np for Pandas and Numpy\n",
        "# this is a wide-spread practice, using these aliases consistently makes a bit easier"
      ]
    },
    {
      "cell_type": "code",
      "execution_count": null,
      "metadata": {
        "id": "bUl0pedtET_m"
      },
      "outputs": [],
      "source": [
        "# there are other ways to do this, but here's a simple approach\n",
        "\n",
        "x=np.array([[1,2,3],[4,5,6],[7,8,9]])"
      ]
    },
    {
      "cell_type": "markdown",
      "metadata": {
        "id": "8-GHQHg7ET_m"
      },
      "source": [
        "Use the tactics you have for learning info about python objects on this np array x\n",
        "\n",
        "student input required below:"
      ]
    },
    {
      "cell_type": "code",
      "execution_count": null,
      "metadata": {
        "id": "bnZ4h_MnET_m"
      },
      "outputs": [],
      "source": []
    },
    {
      "cell_type": "code",
      "execution_count": null,
      "metadata": {
        "id": "Sxs7Le8-ET_m"
      },
      "outputs": [],
      "source": [
        "#There are many ways to create Pandas data frames,  I'm just going to convert my np matrix to a dataframe\n",
        "\n",
        "xp=pd.DataFrame(x, columns=['A','B','C'])"
      ]
    },
    {
      "cell_type": "markdown",
      "metadata": {
        "id": "4dk-Fu01ET_m"
      },
      "source": [
        "Use the tactics you have for learning info about python objects on this np array x\n",
        "\n",
        "student input required below:"
      ]
    },
    {
      "cell_type": "code",
      "execution_count": null,
      "metadata": {
        "id": "bo4giqPdET_m"
      },
      "outputs": [],
      "source": []
    },
    {
      "cell_type": "markdown",
      "metadata": {
        "id": "TmBtK2t2ET_m"
      },
      "source": [
        "Numpy and Pandas both have a bunch of data loading tools,  we'll see them over the course of the semester\n",
        "\n",
        "In DAT 514,  we will seem np and pd used heavily,  but the emphasis in DAT 514 is building predictive models\n",
        "\n",
        "In DAT 512,  we will spend some substantial time on learning np and pd pretty well\n",
        "\n",
        "If you are in DAT 514 and really want to learn more on np and pd,  see the courses on kaggle, and or do a search on pandas in the O'Reilly platform.  "
      ]
    }
  ],
  "metadata": {
    "kernelspec": {
      "display_name": "Python 3 (ipykernel)",
      "language": "python",
      "name": "python3"
    },
    "language_info": {
      "codemirror_mode": {
        "name": "ipython",
        "version": 3
      },
      "file_extension": ".py",
      "mimetype": "text/x-python",
      "name": "python",
      "nbconvert_exporter": "python",
      "pygments_lexer": "ipython3",
      "version": "3.7.13"
    },
    "colab": {
      "provenance": []
    }
  },
  "nbformat": 4,
  "nbformat_minor": 0
}