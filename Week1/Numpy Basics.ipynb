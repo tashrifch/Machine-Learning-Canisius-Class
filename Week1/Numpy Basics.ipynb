{
 "cells": [
  {
   "cell_type": "markdown",
   "metadata": {},
   "source": [
    "### Numpy Basics\n",
    "\n",
    "based on \n",
    "\n",
    "https://numpy.org/doc/stable/user/absolute_beginners.html\n",
    "\n",
    "and \n",
    "\n",
    "https://learning.oreilly.com/library/view/python-for-data/9781491957653/ch04.html"
   ]
  },
  {
   "cell_type": "code",
   "execution_count": null,
   "metadata": {},
   "outputs": [],
   "source": []
  },
  {
   "cell_type": "code",
   "execution_count": null,
   "metadata": {},
   "outputs": [],
   "source": []
  },
  {
   "cell_type": "markdown",
   "metadata": {},
   "source": [
    "## Creating numpy arrays manually and built-in array creators\n",
    "\n",
    "most of the time, we will want load files from some other source,  a file, a website or a database, but there are times\n",
    "where will need to enter matrics or arrays directly"
   ]
  },
  {
   "cell_type": "code",
   "execution_count": 1,
   "metadata": {
    "tags": []
   },
   "outputs": [],
   "source": [
    "# to use a library,  we need to import it,  or import some portion of it\n",
    "# notice that we can rename the library to some abbreviation, to make it easier to work with\n",
    "# the numpy package is often renamed as np\n",
    "\n",
    "import numpy as np"
   ]
  },
  {
   "cell_type": "code",
   "execution_count": 2,
   "metadata": {
    "tags": []
   },
   "outputs": [
    {
     "name": "stdout",
     "output_type": "stream",
     "text": [
      "[1 2 3 4 5 6 7 8 9]\n"
     ]
    }
   ],
   "source": [
    "# a 1-D array, manually create from a list\n",
    "\n",
    "a=np.array([1,2,3,4,5,6,7,8,9])\n",
    "\n",
    "print(a)\n"
   ]
  },
  {
   "cell_type": "markdown",
   "metadata": {},
   "source": [
    "In the cells below,  find the available member functrions, or methods for a\n",
    "\n",
    "Can you find a member function for the mean of a?   if so, use it in the cell below\n",
    "\n",
    "Hint:  in python, there are some very useful tools for getting information about variables,\n",
    "\n",
    "       type(x) - shows you the data type of the variable x\n",
    "       dir(x)- shows a list of all the member functions (aka methods) associated with the particular data type\n",
    "\n",
    "If you don't know how to call a member function in python,  you can google it quickly.\n",
    "       "
   ]
  },
  {
   "cell_type": "code",
   "execution_count": 7,
   "metadata": {},
   "outputs": [
    {
     "data": {
      "text/plain": [
       "5.0"
      ]
     },
     "execution_count": 7,
     "metadata": {},
     "output_type": "execute_result"
    }
   ],
   "source": [
    "# In this cell,  run the member function of a to calculate the mean of the array\n",
    "\n"
   ]
  },
  {
   "cell_type": "code",
   "execution_count": 4,
   "metadata": {},
   "outputs": [
    {
     "data": {
      "text/plain": [
       "array([[1, 1, 1],\n",
       "       [4, 5, 6],\n",
       "       [2, 3, 4]])"
      ]
     },
     "execution_count": 4,
     "metadata": {},
     "output_type": "execute_result"
    }
   ],
   "source": [
    "## how about a 2D array\n",
    "\n",
    "b=np.array([[1,1,1],[4,5,6],[2,3,4]])\n",
    "\n",
    "b"
   ]
  },
  {
   "cell_type": "markdown",
   "metadata": {},
   "source": [
    "# What does mean do on to the vector b b?   Can you get means along columns? Along rows?   Note that these are vectorized operations\n",
    "\n",
    "\n",
    "Add a code cell below and try it.   Does it do what you expect?"
   ]
  },
  {
   "cell_type": "code",
   "execution_count": 8,
   "metadata": {},
   "outputs": [],
   "source": [
    "# HOw about this thing\n",
    "# How is this structured?\n",
    "# what would be the set of indices for the value 21 in this matrix?\n",
    "\n",
    "c=np.array([[[1,2],[3,4],[5,6]],[[11,12],[13,14],[15,16]] ,[[21,22],[23,24],[25,26]],[[31,22],[33,24],[35,26]] ])"
   ]
  },
  {
   "cell_type": "code",
   "execution_count": 9,
   "metadata": {},
   "outputs": [
    {
     "data": {
      "text/plain": [
       "array([[[ 1,  2],\n",
       "        [ 3,  4],\n",
       "        [ 5,  6]],\n",
       "\n",
       "       [[11, 12],\n",
       "        [13, 14],\n",
       "        [15, 16]],\n",
       "\n",
       "       [[21, 22],\n",
       "        [23, 24],\n",
       "        [25, 26]],\n",
       "\n",
       "       [[31, 22],\n",
       "        [33, 24],\n",
       "        [35, 26]]])"
      ]
     },
     "execution_count": 9,
     "metadata": {},
     "output_type": "execute_result"
    }
   ],
   "source": [
    "c"
   ]
  },
  {
   "cell_type": "code",
   "execution_count": 11,
   "metadata": {},
   "outputs": [
    {
     "name": "stdout",
     "output_type": "stream",
     "text": [
      "1\n",
      "(9,)\n",
      "9\n"
     ]
    }
   ],
   "source": [
    "#sizes and shapes\n",
    "\n",
    "print(a.ndim)\n",
    "print(a.shape)\n",
    "print(a.size)"
   ]
  },
  {
   "cell_type": "markdown",
   "metadata": {},
   "source": [
    "repeat the above cell for arrays b and c,  what are ndim, shape and size telling you?\n",
    "\n",
    "Why would you ever need something like C"
   ]
  },
  {
   "cell_type": "code",
   "execution_count": null,
   "metadata": {},
   "outputs": [],
   "source": []
  },
  {
   "cell_type": "code",
   "execution_count": 12,
   "metadata": {},
   "outputs": [
    {
     "data": {
      "text/plain": [
       "array([[1., 0., 0.],\n",
       "       [0., 1., 0.],\n",
       "       [0., 0., 1.]])"
      ]
     },
     "execution_count": 12,
     "metadata": {},
     "output_type": "execute_result"
    }
   ],
   "source": [
    "# Standard matrix forms,  useful in many contexts\n",
    "# Here is a n identity matrix\n",
    "\n",
    "np.eye(3)"
   ]
  },
  {
   "cell_type": "code",
   "execution_count": 15,
   "metadata": {},
   "outputs": [
    {
     "data": {
      "text/plain": [
       "array([[1., 0., 0.],\n",
       "       [0., 5., 0.],\n",
       "       [0., 0., 4.]])"
      ]
     },
     "execution_count": 15,
     "metadata": {},
     "output_type": "execute_result"
    }
   ],
   "source": [
    "# what operation is this?\n",
    "b*np.eye(3)"
   ]
  },
  {
   "cell_type": "code",
   "execution_count": 16,
   "metadata": {},
   "outputs": [
    {
     "data": {
      "text/plain": [
       "array([[1, 1, 1],\n",
       "       [4, 5, 6],\n",
       "       [2, 3, 4]])"
      ]
     },
     "execution_count": 16,
     "metadata": {},
     "output_type": "execute_result"
    }
   ],
   "source": [
    "b"
   ]
  },
  {
   "cell_type": "code",
   "execution_count": 61,
   "metadata": {},
   "outputs": [
    {
     "data": {
      "text/plain": [
       "array([[1., 1., 1.],\n",
       "       [4., 5., 6.],\n",
       "       [2., 3., 4.]])"
      ]
     },
     "execution_count": 61,
     "metadata": {},
     "output_type": "execute_result"
    }
   ],
   "source": [
    "#what operation is this?   how does it differ from b*np.eye()\n",
    "np.matmul(b,np.eye(3))"
   ]
  },
  {
   "cell_type": "code",
   "execution_count": 18,
   "metadata": {},
   "outputs": [
    {
     "data": {
      "text/plain": [
       "array([[0., 0., 0., 0., 0.],\n",
       "       [0., 0., 0., 0., 0.],\n",
       "       [0., 0., 0., 0., 0.]])"
      ]
     },
     "execution_count": 18,
     "metadata": {},
     "output_type": "execute_result"
    }
   ],
   "source": [
    "np.zeros([3,5])"
   ]
  },
  {
   "cell_type": "code",
   "execution_count": 19,
   "metadata": {},
   "outputs": [
    {
     "data": {
      "text/plain": [
       "array([[1., 1.],\n",
       "       [1., 1.],\n",
       "       [1., 1.],\n",
       "       [1., 1.],\n",
       "       [1., 1.],\n",
       "       [1., 1.]])"
      ]
     },
     "execution_count": 19,
     "metadata": {},
     "output_type": "execute_result"
    }
   ],
   "source": [
    "np.ones([6,2])"
   ]
  },
  {
   "cell_type": "code",
   "execution_count": 20,
   "metadata": {},
   "outputs": [
    {
     "data": {
      "text/plain": [
       "array([[3.02421725, 2.0578535 , 3.04744894, 2.48315621],\n",
       "       [3.10554101, 1.09257019, 1.19168882, 2.60687766]])"
      ]
     },
     "execution_count": 20,
     "metadata": {},
     "output_type": "execute_result"
    }
   ],
   "source": [
    "np.random.normal(2,1,[2,4])"
   ]
  },
  {
   "cell_type": "code",
   "execution_count": null,
   "metadata": {},
   "outputs": [],
   "source": [
    "# in this cell,  create a 5 by 5 matrix of uniformly distributed random values between 3 and 12\n"
   ]
  },
  {
   "cell_type": "code",
   "execution_count": 22,
   "metadata": {
    "scrolled": true
   },
   "outputs": [
    {
     "data": {
      "text/plain": [
       "array([ 1. ,  1.5,  2. ,  2.5,  3. ,  3.5,  4. ,  4.5,  5. ,  5.5,  6. ,\n",
       "        6.5,  7. ,  7.5,  8. ,  8.5,  9. ,  9.5, 10. , 10.5])"
      ]
     },
     "execution_count": 22,
     "metadata": {},
     "output_type": "execute_result"
    }
   ],
   "source": [
    "# what does the function np.arange() do?\n",
    "np.arange(1,11,0.5)"
   ]
  },
  {
   "cell_type": "code",
   "execution_count": null,
   "metadata": {},
   "outputs": [],
   "source": [
    "# creat a matrix of 4 rows,  row one should have 0 to 9 in steps of 1,   row two , two to 10 to 19,  row three 20 to 29\n",
    "# and row four 30 to 39"
   ]
  },
  {
   "cell_type": "markdown",
   "metadata": {},
   "source": [
    "## Speed and Vectorization\n"
   ]
  },
  {
   "cell_type": "code",
   "execution_count": 25,
   "metadata": {},
   "outputs": [],
   "source": [
    "# arrange \n",
    "\n",
    "my_arr = np.arange(1000000)\n",
    "\n",
    "# we can convert this to a standard python list\n",
    "\n",
    "my_list = list(range(1000000))"
   ]
  },
  {
   "cell_type": "code",
   "execution_count": 26,
   "metadata": {},
   "outputs": [
    {
     "name": "stdout",
     "output_type": "stream",
     "text": [
      "10.2 ms ± 31.4 µs per loop (mean ± std. dev. of 7 runs, 100 loops each)\n"
     ]
    }
   ],
   "source": [
    "%timeit for _ in range(10): my_arr2 = my_arr * 2"
   ]
  },
  {
   "cell_type": "code",
   "execution_count": 27,
   "metadata": {},
   "outputs": [
    {
     "name": "stdout",
     "output_type": "stream",
     "text": [
      "120 ms ± 1.25 ms per loop (mean ± std. dev. of 7 runs, 10 loops each)\n"
     ]
    }
   ],
   "source": [
    "%timeit for _ in range(10): my_list2 = my_list * 2"
   ]
  },
  {
   "cell_type": "code",
   "execution_count": null,
   "metadata": {},
   "outputs": [],
   "source": [
    "#calculate how much faster the vector operation on the np array was than on a list using base python\n"
   ]
  },
  {
   "cell_type": "code",
   "execution_count": null,
   "metadata": {},
   "outputs": [],
   "source": []
  },
  {
   "cell_type": "markdown",
   "metadata": {},
   "source": [
    "## Forcing data types\n",
    "\n",
    "also known as \"casting\""
   ]
  },
  {
   "cell_type": "code",
   "execution_count": 29,
   "metadata": {},
   "outputs": [
    {
     "data": {
      "text/plain": [
       "dtype('int32')"
      ]
     },
     "execution_count": 29,
     "metadata": {},
     "output_type": "execute_result"
    }
   ],
   "source": [
    "arr = np.array([1, 2, 3, 4, 5])\n",
    "\n",
    "arr.dtype"
   ]
  },
  {
   "cell_type": "code",
   "execution_count": 32,
   "metadata": {},
   "outputs": [
    {
     "data": {
      "text/plain": [
       "5"
      ]
     },
     "execution_count": 32,
     "metadata": {},
     "output_type": "execute_result"
    }
   ],
   "source": [
    "arr.size"
   ]
  },
  {
   "cell_type": "code",
   "execution_count": 33,
   "metadata": {
    "scrolled": true
   },
   "outputs": [
    {
     "data": {
      "text/plain": [
       "4"
      ]
     },
     "execution_count": 33,
     "metadata": {},
     "output_type": "execute_result"
    }
   ],
   "source": [
    "arr.itemsize"
   ]
  },
  {
   "cell_type": "code",
   "execution_count": 34,
   "metadata": {
    "scrolled": true
   },
   "outputs": [
    {
     "data": {
      "text/plain": [
       "20"
      ]
     },
     "execution_count": 34,
     "metadata": {},
     "output_type": "execute_result"
    }
   ],
   "source": [
    "# memory space used\n",
    "arr.size*arr.itemsize"
   ]
  },
  {
   "cell_type": "code",
   "execution_count": 35,
   "metadata": {},
   "outputs": [],
   "source": [
    "arr2=arr.astype('int8')"
   ]
  },
  {
   "cell_type": "code",
   "execution_count": 36,
   "metadata": {},
   "outputs": [
    {
     "data": {
      "text/plain": [
       "5"
      ]
     },
     "execution_count": 36,
     "metadata": {},
     "output_type": "execute_result"
    }
   ],
   "source": [
    "# memory space used\n",
    "arr2.size*arr2.itemsize"
   ]
  },
  {
   "cell_type": "code",
   "execution_count": null,
   "metadata": {},
   "outputs": [],
   "source": [
    "# create a version of arr that is 64 bit float values"
   ]
  },
  {
   "cell_type": "markdown",
   "metadata": {},
   "source": [
    "## Slicing\n",
    "\n",
    "Works like R,  really"
   ]
  },
  {
   "cell_type": "code",
   "execution_count": 39,
   "metadata": {},
   "outputs": [
    {
     "data": {
      "text/plain": [
       "array([[ 8.36025382, 11.48657722, 12.00928057,  9.94842576, 10.94022325],\n",
       "       [ 6.49006807, 14.14424797, 10.1748488 , 13.12518809,  8.84462997],\n",
       "       [ 9.43326221,  5.83159472,  9.10573176,  8.49507597, 12.14497686],\n",
       "       [ 9.70540957, 11.1783323 ,  7.76947121, 11.87816031,  7.87866124],\n",
       "       [ 9.61634283, 10.75611462, 13.29616797, 10.74722237,  7.50961828],\n",
       "       [10.88517355,  8.88474692,  7.2167862 , 16.54183792, 13.82855099],\n",
       "       [ 9.78981526,  5.9073358 , 10.74568772, 10.89377084,  7.00244654],\n",
       "       [12.88327578,  9.47962355, 10.24702644,  8.81171762, 10.50927866],\n",
       "       [11.08498015,  6.10678709, 10.76467837,  7.23936894, 10.21338471],\n",
       "       [ 8.71065491, 11.34678633,  6.01711344,  7.78796671, 12.30780451]])"
      ]
     },
     "execution_count": 39,
     "metadata": {},
     "output_type": "execute_result"
    }
   ],
   "source": [
    "g=np.random.normal(10,2,[10,5])\n",
    "g"
   ]
  },
  {
   "cell_type": "code",
   "execution_count": 40,
   "metadata": {},
   "outputs": [
    {
     "data": {
      "text/plain": [
       "array([ 8.36025382,  6.49006807,  9.43326221,  9.70540957,  9.61634283,\n",
       "       10.88517355,  9.78981526, 12.88327578, 11.08498015,  8.71065491])"
      ]
     },
     "execution_count": 40,
     "metadata": {},
     "output_type": "execute_result"
    }
   ],
   "source": [
    "# what type of slice is each of these?\n",
    "g[:,0]"
   ]
  },
  {
   "cell_type": "code",
   "execution_count": 41,
   "metadata": {},
   "outputs": [
    {
     "data": {
      "text/plain": [
       "array([ 6.49006807, 14.14424797, 10.1748488 , 13.12518809,  8.84462997])"
      ]
     },
     "execution_count": 41,
     "metadata": {},
     "output_type": "execute_result"
    }
   ],
   "source": [
    "g[1,:]"
   ]
  },
  {
   "cell_type": "code",
   "execution_count": 43,
   "metadata": {},
   "outputs": [
    {
     "data": {
      "text/plain": [
       "array([[8.49507597]])"
      ]
     },
     "execution_count": 43,
     "metadata": {},
     "output_type": "execute_result"
    }
   ],
   "source": [
    "g[2:3,3:4]"
   ]
  },
  {
   "cell_type": "code",
   "execution_count": 44,
   "metadata": {},
   "outputs": [
    {
     "data": {
      "text/plain": [
       "array([[ 8.49507597, 12.14497686],\n",
       "       [11.87816031,  7.87866124]])"
      ]
     },
     "execution_count": 44,
     "metadata": {},
     "output_type": "execute_result"
    }
   ],
   "source": [
    "# notice the slight oddity there?  What happened?\n",
    "g[2:4,3:5]"
   ]
  },
  {
   "cell_type": "markdown",
   "metadata": {},
   "source": [
    "# Selecting with binary arrays\n",
    "\n",
    "much like R again, allows slicing based on the True/False values of expressions"
   ]
  },
  {
   "cell_type": "code",
   "execution_count": 46,
   "metadata": {},
   "outputs": [
    {
     "data": {
      "text/plain": [
       "array([[ 9.94842576, 10.94022325],\n",
       "       [13.12518809,  8.84462997],\n",
       "       [ 8.49507597, 12.14497686],\n",
       "       [11.87816031,  7.87866124],\n",
       "       [10.74722237,  7.50961828]])"
      ]
     },
     "execution_count": 46,
     "metadata": {},
     "output_type": "execute_result"
    }
   ],
   "source": [
    "a=np.random.normal(0,1,5)\n",
    "g[0:5,a>0]"
   ]
  },
  {
   "cell_type": "code",
   "execution_count": 47,
   "metadata": {},
   "outputs": [
    {
     "data": {
      "text/plain": [
       "array([False, False, False,  True,  True])"
      ]
     },
     "execution_count": 47,
     "metadata": {},
     "output_type": "execute_result"
    }
   ],
   "source": [
    "a>0"
   ]
  },
  {
   "cell_type": "markdown",
   "metadata": {},
   "source": [
    "## Transposition and inversion"
   ]
  },
  {
   "cell_type": "code",
   "execution_count": 52,
   "metadata": {},
   "outputs": [
    {
     "data": {
      "text/plain": [
       "array([[ 9.20738452, 10.82666876, 10.29049461],\n",
       "       [11.29048971, 12.29207434,  9.34609115],\n",
       "       [11.20441303, 10.88421883, 12.16335979]])"
      ]
     },
     "execution_count": 52,
     "metadata": {},
     "output_type": "execute_result"
    }
   ],
   "source": [
    "# Transposition\n",
    "g=np.random.normal(10,2,[3,3])\n",
    "g"
   ]
  },
  {
   "cell_type": "code",
   "execution_count": 53,
   "metadata": {},
   "outputs": [
    {
     "data": {
      "text/plain": [
       "array([[ 9.20738452, 11.29048971, 11.20441303],\n",
       "       [10.82666876, 12.29207434, 10.88421883],\n",
       "       [10.29049461,  9.34609115, 12.16335979]])"
      ]
     },
     "execution_count": 53,
     "metadata": {},
     "output_type": "execute_result"
    }
   ],
   "source": [
    "g.T"
   ]
  },
  {
   "cell_type": "code",
   "execution_count": 57,
   "metadata": {
    "scrolled": true
   },
   "outputs": [
    {
     "data": {
      "text/plain": [
       "array([[-0.72660541,  0.29930072,  0.38474873],\n",
       "       [ 0.49587016,  0.0502703 , -0.4581448 ],\n",
       "       [ 0.22559785, -0.32068786,  0.1377633 ]])"
      ]
     },
     "execution_count": 57,
     "metadata": {},
     "output_type": "execute_result"
    }
   ],
   "source": [
    "g_inv=np.linalg.inv(g)\n",
    "g_inv"
   ]
  },
  {
   "cell_type": "code",
   "execution_count": 62,
   "metadata": {},
   "outputs": [
    {
     "data": {
      "text/plain": [
       "array([[ 1.00000000e+00, -6.21389543e-17, -2.91468435e-16],\n",
       "       [-5.12027282e-16,  1.00000000e+00,  1.06460431e-15],\n",
       "       [-1.81628113e-16,  2.23356646e-16,  1.00000000e+00]])"
      ]
     },
     "execution_count": 62,
     "metadata": {},
     "output_type": "execute_result"
    }
   ],
   "source": [
    "# notice the rounding errors here\n",
    "np.matmul(g_inv,g)"
   ]
  },
  {
   "cell_type": "markdown",
   "metadata": {},
   "source": [
    "## Simple operations on arrays\n",
    "\n",
    "Basic operations on an array a\n",
    "a.min(), a.max(), a.sum(), a.var()\n",
    "\n",
    "Cummulative product and cummulative sum ,   a.cumprod(),  a.cumsum()\n",
    "\n"
   ]
  },
  {
   "cell_type": "code",
   "execution_count": 66,
   "metadata": {},
   "outputs": [
    {
     "data": {
      "text/plain": [
       "array([ 8.29810048e-01,  1.09692483e+00,  1.51280317e-01,  2.40142436e-01,\n",
       "       -6.61018631e-01,  7.32860366e-01, -1.66313408e+00, -8.74407650e-02,\n",
       "        1.29829098e+00,  1.26088673e-03])"
      ]
     },
     "execution_count": 66,
     "metadata": {},
     "output_type": "execute_result"
    }
   ],
   "source": [
    "a=np.random.normal(0,1,10)\n",
    "a"
   ]
  },
  {
   "cell_type": "code",
   "execution_count": 65,
   "metadata": {
    "scrolled": true
   },
   "outputs": [],
   "source": [
    "# find the max, min and mean of array a\n",
    "\n"
   ]
  },
  {
   "cell_type": "code",
   "execution_count": null,
   "metadata": {},
   "outputs": [],
   "source": [
    "#find the cummulative sum and product of array a"
   ]
  },
  {
   "cell_type": "code",
   "execution_count": null,
   "metadata": {},
   "outputs": [],
   "source": []
  },
  {
   "cell_type": "markdown",
   "metadata": {
    "tags": []
   },
   "source": [
    "## Reading and writing Files- the easiest approach is to load the file as a pandas data frame\n",
    " similarly convert a number array to a pandas dataframe and use pandas to save the results\n",
    " \n",
    " The pandas data frame format is very much like an R dataframe, or a an SQL table,   each column is a variable and each row is an observation\n",
    " \n",
    " A pandas data frame can have different data types in each column\n",
    " \n",
    " A numpy matrix is like a linear algebra matrix,  each cell must have the same type of data\n",
    " \n",
    " Pandas is actually built using numpy,  each column in a Pandas dataframe is built of numpy matrices\n",
    "\n",
    "\n"
   ]
  },
  {
   "cell_type": "code",
   "execution_count": 73,
   "metadata": {},
   "outputs": [
    {
     "name": "stdout",
     "output_type": "stream",
     "text": [
      "[['Bille Holiday' 'Jazz' 1300000 2700000]\n",
      " ['Jimi Hendrix' 'Rock' 2700000 7000000]\n",
      " ['Miles Davis' 'Jazz' 1500000 4800000]\n",
      " ['SIA' 'Pop' 2000000 7400000]]\n",
      "\n",
      "<class 'numpy.ndarray'>\n",
      "object\n",
      "\n",
      "[['Bille Holiday' 'Jazz']\n",
      " ['Jimi Hendrix' 'Rock']\n",
      " ['Miles Davis' 'Jazz']\n",
      " ['SIA' 'Pop']]\n",
      "object\n"
     ]
    }
   ],
   "source": [
    "import pandas as pd\n",
    "\n",
    "#If all of your columns are the same type:,  this is simple,   it is a bit more complex with multiple data types\n",
    "# pd uses numpy to store values,  so it is easy to extract the values from a pd dataframe and work with them as numpy matrices\n",
    "#\n",
    "\n",
    "# alter this to match your storage location\n",
    "\n",
    "infile='music.csv'\n",
    "\n",
    "x = pd.read_csv(infile, header=0).values\n",
    "print(x)\n",
    "print()\n",
    "print(type(x))\n",
    "print(x.dtype)\n",
    "\n",
    "print()\n",
    "\n",
    "# we can't put this into a numpy array, due to differences in data typs  so this is a list of \n",
    "\n",
    "# You can also simply select the columns you need:\n",
    "x = pd.read_csv(infile, usecols=['Artist', 'Plays']).values\n",
    "print(x)\n",
    "print(x.dtype)\n",
    "\n",
    " "
   ]
  },
  {
   "cell_type": "code",
   "execution_count": 74,
   "metadata": {},
   "outputs": [
    {
     "name": "stdout",
     "output_type": "stream",
     "text": [
      "[[1300000 2700000]\n",
      " [2700000 7000000]\n",
      " [1500000 4800000]\n",
      " [2000000 7400000]]\n",
      "<class 'numpy.ndarray'>\n",
      "int64\n"
     ]
    }
   ],
   "source": [
    "# just the numeric values\n",
    "x = pd.read_csv(infile, usecols=['US_sales', 'Foreign_sales']).values\n",
    "x=np.array(x)\n",
    "print(x)\n",
    "print(type(x))\n",
    "print(x.dtype)"
   ]
  },
  {
   "cell_type": "code",
   "execution_count": 77,
   "metadata": {},
   "outputs": [
    {
     "name": "stdout",
     "output_type": "stream",
     "text": [
      "[[ 9.20738452 10.82666876 10.29049461]\n",
      " [11.29048971 12.29207434  9.34609115]\n",
      " [11.20441303 10.88421883 12.16335979]]\n",
      "<class 'numpy.ndarray'>\n",
      "\n",
      "<class 'pandas.core.frame.DataFrame'>\n"
     ]
    }
   ],
   "source": [
    "# when saving,  convert from numpy to a pandas data frame and use one of the many pandas file saving options\n",
    "print(g)\n",
    "print(type(g))\n",
    "print()\n",
    "\n",
    "g_df=pd.DataFrame(g)\n",
    "print(type(g_df))\n",
    "g_df.to_csv(\"Outfile_matrix_g.csv\")"
   ]
  },
  {
   "cell_type": "markdown",
   "metadata": {},
   "source": [
    "# Reshaping a Matrix\n",
    "\n",
    "Converting the shape or organization of data sets,  without writing loops\n",
    "\n",
    "See the discussion at\n",
    "\n",
    "https://numpy.org/doc/stable/user/absolute_beginners.html"
   ]
  },
  {
   "cell_type": "code",
   "execution_count": 81,
   "metadata": {},
   "outputs": [
    {
     "data": {
      "text/plain": [
       "array([0, 1, 2, 3, 4, 5, 6, 7, 8])"
      ]
     },
     "execution_count": 81,
     "metadata": {},
     "output_type": "execute_result"
    }
   ],
   "source": [
    "# say we start with a 9 element row matrix\n",
    "\n",
    "a=np.arange(9)\n",
    "a"
   ]
  },
  {
   "cell_type": "code",
   "execution_count": 82,
   "metadata": {},
   "outputs": [
    {
     "data": {
      "text/plain": [
       "array([[0, 1, 2],\n",
       "       [3, 4, 5],\n",
       "       [6, 7, 8]])"
      ]
     },
     "execution_count": 82,
     "metadata": {},
     "output_type": "execute_result"
    }
   ],
   "source": [
    "#and now we want to convert it to a 3 x 3 matrix,  filling in by by placing elements along the rows\n",
    "a.reshape([3,3])\n"
   ]
  },
  {
   "cell_type": "markdown",
   "metadata": {},
   "source": [
    "The result above is called a C style conversion.   The row index changes more slowly than the column index,  which means\n",
    "each row is filled in before moving to the next row.\n",
    "\n",
    "There is also a F (Fortran) based approach.   The column index changes more slowly that the row index,  meaning that we will\n",
    "fill in each column, moving down the rows\n",
    "\n",
    "C style conversion is the default"
   ]
  },
  {
   "cell_type": "code",
   "execution_count": 83,
   "metadata": {},
   "outputs": [
    {
     "data": {
      "text/plain": [
       "array([[0, 3, 6],\n",
       "       [1, 4, 7],\n",
       "       [2, 5, 8]])"
      ]
     },
     "execution_count": 83,
     "metadata": {},
     "output_type": "execute_result"
    }
   ],
   "source": [
    "a.reshape([3,3],order=\"F\")"
   ]
  },
  {
   "cell_type": "markdown",
   "metadata": {},
   "source": [
    "There is also an A style ordering,  which automatically (A) choices to use either A or C ordering depending on how the data \n",
    "is currently stored in memory.  If the memory storage is contiguous in C format, you will get C ordering,  if it is contiguous \n",
    "in F format,  it will use F ordering.\n",
    "\n",
    "Note that this feature would be helpful working with subroutines written in C or Fortran,   using the C API feature in Numpy"
   ]
  },
  {
   "cell_type": "markdown",
   "metadata": {},
   "source": [
    "# The major use I've seen in reshaping is in working with images.\n",
    "\n",
    "Images are typically stored as c x h x w  arrays\n",
    "\n",
    "where   c is the number of channels,  c=1 for greyscale,   c=3 for RGB images,  with 3 layers of colors\n",
    "\n",
    "It is also possible to store images as h x w x c\n",
    "\n",
    "When you work with images,  you need to know if the channels are first or the channels are last\n",
    "\n",
    "It is not uncommon to store images in data tables, with one image per row of the data tables.   The original c x h x w matrix \n",
    "been \"raveled\" to flatten it,  we'll discuss raveling later.   Storing each image along the row of a data table is an easy way to store the images,  but for many purposes, such as view the image, we will need to convert the image back to c x h x w form"
   ]
  },
  {
   "cell_type": "markdown",
   "metadata": {},
   "source": [
    "We are going to look at the classic lab rat data set,  the MNIST digits file.   This returns the information about the images\n",
    "as a dicitonary"
   ]
  },
  {
   "cell_type": "code",
   "execution_count": 84,
   "metadata": {},
   "outputs": [
    {
     "data": {
      "text/plain": [
       "dict_keys(['data', 'target', 'frame', 'categories', 'feature_names', 'target_names', 'DESCR', 'details', 'url'])"
      ]
     },
     "execution_count": 84,
     "metadata": {},
     "output_type": "execute_result"
    }
   ],
   "source": [
    "from sklearn.datasets import fetch_openml\n",
    "mnist = fetch_openml('mnist_784', version=1)\n",
    "mnist.keys()\n"
   ]
  },
  {
   "cell_type": "code",
   "execution_count": 86,
   "metadata": {},
   "outputs": [
    {
     "name": "stdout",
     "output_type": "stream",
     "text": [
      "<class 'numpy.ndarray'>\n",
      "float64\n",
      "(70000, 784)\n"
     ]
    }
   ],
   "source": [
    "X=mnist[\"data\"]\n",
    "print(type(X))\n",
    "print(X.dtype)\n",
    "print(X.shape)"
   ]
  },
  {
   "cell_type": "markdown",
   "metadata": {},
   "source": [
    "These are 1 channel, or greyscale, images and the h and w are both 28,  so these are interpreted as 1 x 28 x 28 images\n",
    "\n",
    "To plot a digit image,  we need to convert it to a 1 x 28 x 28 np matrix and then use imshow from matplotlib to display the\n",
    "image"
   ]
  },
  {
   "cell_type": "code",
   "execution_count": 88,
   "metadata": {},
   "outputs": [
    {
     "data": {
      "image/png": "[encoded data removed]",
      "text/plain": [
       "<Figure size 432x288 with 1 Axes>"
      ]
     },
     "metadata": {
      "needs_background": "light"
     },
     "output_type": "display_data"
    }
   ],
   "source": [
    "import matplotlib as mpl\n",
    "import matplotlib.pyplot as plt\n",
    "\n",
    "some_digit = X[0]\n",
    "some_digit_image = some_digit.reshape(28, 28)\n",
    "\n",
    "plt.imshow(some_digit_image, cmap=\"binary\")\n",
    "plt.axis(\"off\")\n",
    "plt.show()"
   ]
  },
  {
   "cell_type": "markdown",
   "metadata": {},
   "source": [
    "# Flattening and  Raveling\n",
    "\n",
    "This is the process of converting a matrix to a vector form,  the reverse operation\n",
    "\n",
    "Note that we can do this using either C or F style ordering of the flattening\n",
    "\n"
   ]
  },
  {
   "cell_type": "code",
   "execution_count": 92,
   "metadata": {},
   "outputs": [
    {
     "data": {
      "text/plain": [
       "array([[0, 1, 2],\n",
       "       [3, 4, 5],\n",
       "       [6, 7, 8]])"
      ]
     },
     "execution_count": 92,
     "metadata": {},
     "output_type": "execute_result"
    }
   ],
   "source": [
    "a=np.array([[0,1,2],[3,4,5],[6,7,8]])\n",
    "a"
   ]
  },
  {
   "cell_type": "code",
   "execution_count": 93,
   "metadata": {
    "scrolled": true
   },
   "outputs": [
    {
     "data": {
      "text/plain": [
       "array([0, 1, 2, 3, 4, 5, 6, 7, 8])"
      ]
     },
     "execution_count": 93,
     "metadata": {},
     "output_type": "execute_result"
    }
   ],
   "source": [
    "a.flatten(order=\"C\")"
   ]
  },
  {
   "cell_type": "code",
   "execution_count": 94,
   "metadata": {},
   "outputs": [
    {
     "data": {
      "text/plain": [
       "array([0, 3, 6, 1, 4, 7, 2, 5, 8])"
      ]
     },
     "execution_count": 94,
     "metadata": {},
     "output_type": "execute_result"
    }
   ],
   "source": [
    "a.flatten(order=\"F\")"
   ]
  },
  {
   "cell_type": "code",
   "execution_count": 95,
   "metadata": {},
   "outputs": [
    {
     "data": {
      "text/plain": [
       "array([[0, 1, 2],\n",
       "       [3, 4, 5],\n",
       "       [6, 7, 8]])"
      ]
     },
     "execution_count": 95,
     "metadata": {},
     "output_type": "execute_result"
    }
   ],
   "source": [
    "#note that flattening produces a new array,  it doesn't alter the original input array\n",
    "a"
   ]
  },
  {
   "cell_type": "code",
   "execution_count": 99,
   "metadata": {},
   "outputs": [
    {
     "name": "stdout",
     "output_type": "stream",
     "text": [
      "[[0 1 2]\n",
      " [3 4 5]\n",
      " [6 7 8]]\n",
      "<class 'numpy.ndarray'>\n",
      "(3, 3)\n"
     ]
    }
   ],
   "source": [
    "# a ravel flattens an array in place.  According to the manuals at least.   This doesn't seem to be working.  Hmm.\n",
    "\n",
    "\n",
    "\n",
    "\n",
    "np.ravel(a)\n",
    "print(a)\n",
    "print(type(a))\n",
    "print(a.shape)"
   ]
  },
  {
   "cell_type": "code",
   "execution_count": null,
   "metadata": {},
   "outputs": [],
   "source": []
  }
 ],
 "metadata": {
  "kernelspec": {
   "display_name": "Python 3 (ipykernel)",
   "language": "python",
   "name": "python3"
  },
  "language_info": {
   "codemirror_mode": {
    "name": "ipython",
    "version": 3
   },
   "file_extension": ".py",
   "mimetype": "text/x-python",
   "name": "python",
   "nbconvert_exporter": "python",
   "pygments_lexer": "ipython3",
   "version": "3.11.5"
  }
 },
 "nbformat": 4,
 "nbformat_minor": 4
}
