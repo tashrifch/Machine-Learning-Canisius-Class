{
 "cells": [
  {
   "cell_type": "markdown",
   "metadata": {},
   "source": [
    "# 0:  Loading the MNIST fashion data set\n",
    "\n",
    "It is already split out into a train and test set,  but the X and y values (label or target) are in single file\n"
   ]
  },
  {
   "cell_type": "markdown",
   "metadata": {},
   "source": [
    "I'm going to get you started here a bit,  but pay attention to how I load the data here and the data formats used.\n",
    "\n",
    "This data came as two csv files, with the filenames as shown\n",
    "\n",
    "I got the data files from kaggle.com,  this data set is widely distributed\n",
    "\n",
    "I loaded this as a pandas data frame,  this is a relatively reliable, easy data frame to use\n",
    "\n",
    "I think this file has a header\n",
    "\n",
    "See\n",
    "\n",
    "https://www.kaggle.com/zalando-research/fashionmnist\n"
   ]
  },
  {
   "cell_type": "markdown",
   "metadata": {},
   "source": [
    "# load the pandas and numpy libraries \n",
    "used for the data frame tools (Pandas) and to define matrices and do linear algebra (Numpy)"
   ]
  },
  {
   "cell_type": "code",
   "execution_count": 1,
   "metadata": {
    "tags": []
   },
   "outputs": [],
   "source": [
    "import pandas as pd\n",
    "import numpy as np"
   ]
  },
  {
   "cell_type": "markdown",
   "metadata": {},
   "source": [
    "The next steps load the test and training data into pandas data frames\n",
    "\n",
    "Pandas has a dataframe structure much like the R dataframe, or an SQL table\n",
    "\n",
    "There are many pandas member functions that do useful operations on the data frame,  here the \n",
    "read_csv() member function is used to load csv files into data frames.\n",
    "\n",
    "The infile style variables need to have the full path name to the location of the data files \n",
    "in us"
   ]
  },
  {
   "cell_type": "code",
   "execution_count": 2,
   "metadata": {
    "tags": []
   },
   "outputs": [],
   "source": [
    "train_infile=\"fashion-mnist_train.csv\"\n",
    "\n",
    "test_infile=\"fashion-mnist_test.csv\"\n",
    "\n",
    "train_df=pd.read_csv(train_infile)\n",
    "\n",
    "test_df=pd.read_csv(test_infile)"
   ]
  },
  {
   "cell_type": "markdown",
   "metadata": {},
   "source": [
    "Let's look at the available member function for a pandas data frame"
   ]
  },
  {
   "cell_type": "code",
   "execution_count": 3,
   "metadata": {
    "tags": []
   },
   "outputs": [
    {
     "data": {
      "text/plain": [
       "['T',\n",
       " '_AXIS_LEN',\n",
       " '_AXIS_ORDERS',\n",
       " '_AXIS_TO_AXIS_NUMBER',\n",
       " '_HANDLED_TYPES',\n",
       " '__abs__',\n",
       " '__add__',\n",
       " '__and__',\n",
       " '__annotations__',\n",
       " '__array__',\n",
       " '__array_priority__',\n",
       " '__array_ufunc__',\n",
       " '__bool__',\n",
       " '__class__',\n",
       " '__contains__',\n",
       " '__copy__',\n",
       " '__dataframe__',\n",
       " '__deepcopy__',\n",
       " '__delattr__',\n",
       " '__delitem__',\n",
       " '__dict__',\n",
       " '__dir__',\n",
       " '__divmod__',\n",
       " '__doc__',\n",
       " '__eq__',\n",
       " '__finalize__',\n",
       " '__floordiv__',\n",
       " '__format__',\n",
       " '__ge__',\n",
       " '__getattr__',\n",
       " '__getattribute__',\n",
       " '__getitem__',\n",
       " '__getstate__',\n",
       " '__gt__',\n",
       " '__hash__',\n",
       " '__iadd__',\n",
       " '__iand__',\n",
       " '__ifloordiv__',\n",
       " '__imod__',\n",
       " '__imul__',\n",
       " '__init__',\n",
       " '__init_subclass__',\n",
       " '__invert__',\n",
       " '__ior__',\n",
       " '__ipow__',\n",
       " '__isub__',\n",
       " '__iter__',\n",
       " '__itruediv__',\n",
       " '__ixor__',\n",
       " '__le__',\n",
       " '__len__',\n",
       " '__lt__',\n",
       " '__matmul__',\n",
       " '__mod__',\n",
       " '__module__',\n",
       " '__mul__',\n",
       " '__ne__',\n",
       " '__neg__',\n",
       " '__new__',\n",
       " '__nonzero__',\n",
       " '__or__',\n",
       " '__pos__',\n",
       " '__pow__',\n",
       " '__radd__',\n",
       " '__rand__',\n",
       " '__rdivmod__',\n",
       " '__reduce__',\n",
       " '__reduce_ex__',\n",
       " '__repr__',\n",
       " '__rfloordiv__',\n",
       " '__rmatmul__',\n",
       " '__rmod__',\n",
       " '__rmul__',\n",
       " '__ror__',\n",
       " '__round__',\n",
       " '__rpow__',\n",
       " '__rsub__',\n",
       " '__rtruediv__',\n",
       " '__rxor__',\n",
       " '__setattr__',\n",
       " '__setitem__',\n",
       " '__setstate__',\n",
       " '__sizeof__',\n",
       " '__str__',\n",
       " '__sub__',\n",
       " '__subclasshook__',\n",
       " '__truediv__',\n",
       " '__weakref__',\n",
       " '__xor__',\n",
       " '_accessors',\n",
       " '_accum_func',\n",
       " '_add_numeric_operations',\n",
       " '_agg_examples_doc',\n",
       " '_agg_summary_and_see_also_doc',\n",
       " '_align_frame',\n",
       " '_align_series',\n",
       " '_append',\n",
       " '_arith_method',\n",
       " '_as_manager',\n",
       " '_attrs',\n",
       " '_box_col_values',\n",
       " '_can_fast_transpose',\n",
       " '_check_inplace_and_allows_duplicate_labels',\n",
       " '_check_inplace_setting',\n",
       " '_check_is_chained_assignment_possible',\n",
       " '_check_label_or_level_ambiguity',\n",
       " '_check_setitem_copy',\n",
       " '_clear_item_cache',\n",
       " '_clip_with_one_bound',\n",
       " '_clip_with_scalar',\n",
       " '_cmp_method',\n",
       " '_combine_frame',\n",
       " '_consolidate',\n",
       " '_consolidate_inplace',\n",
       " '_construct_axes_dict',\n",
       " '_construct_result',\n",
       " '_constructor',\n",
       " '_constructor_sliced',\n",
       " '_create_data_for_split_and_tight_to_dict',\n",
       " '_data',\n",
       " '_dir_additions',\n",
       " '_dir_deletions',\n",
       " '_dispatch_frame_op',\n",
       " '_drop_axis',\n",
       " '_drop_labels_or_levels',\n",
       " '_ensure_valid_index',\n",
       " '_find_valid_index',\n",
       " '_flags',\n",
       " '_from_arrays',\n",
       " '_get_agg_axis',\n",
       " '_get_axis',\n",
       " '_get_axis_name',\n",
       " '_get_axis_number',\n",
       " '_get_axis_resolvers',\n",
       " '_get_block_manager_axis',\n",
       " '_get_bool_data',\n",
       " '_get_cleaned_column_resolvers',\n",
       " '_get_column_array',\n",
       " '_get_index_resolvers',\n",
       " '_get_item_cache',\n",
       " '_get_label_or_level_values',\n",
       " '_get_numeric_data',\n",
       " '_get_value',\n",
       " '_getitem_bool_array',\n",
       " '_getitem_multilevel',\n",
       " '_getitem_nocopy',\n",
       " '_gotitem',\n",
       " '_hidden_attrs',\n",
       " '_indexed_same',\n",
       " '_info_axis',\n",
       " '_info_axis_name',\n",
       " '_info_axis_number',\n",
       " '_info_repr',\n",
       " '_init_mgr',\n",
       " '_inplace_method',\n",
       " '_internal_names',\n",
       " '_internal_names_set',\n",
       " '_is_copy',\n",
       " '_is_homogeneous_type',\n",
       " '_is_label_or_level_reference',\n",
       " '_is_label_reference',\n",
       " '_is_level_reference',\n",
       " '_is_mixed_type',\n",
       " '_is_view',\n",
       " '_iset_item',\n",
       " '_iset_item_mgr',\n",
       " '_iset_not_inplace',\n",
       " '_item_cache',\n",
       " '_iter_column_arrays',\n",
       " '_ixs',\n",
       " '_join_compat',\n",
       " '_logical_func',\n",
       " '_logical_method',\n",
       " '_maybe_cache_changed',\n",
       " '_maybe_update_cacher',\n",
       " '_metadata',\n",
       " '_mgr',\n",
       " '_min_count_stat_function',\n",
       " '_needs_reindex_multi',\n",
       " '_protect_consolidate',\n",
       " '_reduce',\n",
       " '_reduce_axis1',\n",
       " '_reindex_axes',\n",
       " '_reindex_columns',\n",
       " '_reindex_index',\n",
       " '_reindex_multi',\n",
       " '_reindex_with_indexers',\n",
       " '_rename',\n",
       " '_replace_columnwise',\n",
       " '_repr_data_resource_',\n",
       " '_repr_fits_horizontal_',\n",
       " '_repr_fits_vertical_',\n",
       " '_repr_html_',\n",
       " '_repr_latex_',\n",
       " '_reset_cache',\n",
       " '_reset_cacher',\n",
       " '_sanitize_column',\n",
       " '_series',\n",
       " '_set_axis',\n",
       " '_set_axis_name',\n",
       " '_set_axis_nocheck',\n",
       " '_set_is_copy',\n",
       " '_set_item',\n",
       " '_set_item_frame_value',\n",
       " '_set_item_mgr',\n",
       " '_set_value',\n",
       " '_setitem_array',\n",
       " '_setitem_frame',\n",
       " '_setitem_slice',\n",
       " '_slice',\n",
       " '_stat_axis',\n",
       " '_stat_axis_name',\n",
       " '_stat_axis_number',\n",
       " '_stat_function',\n",
       " '_stat_function_ddof',\n",
       " '_take',\n",
       " '_take_with_is_copy',\n",
       " '_to_dict_of_blocks',\n",
       " '_to_latex_via_styler',\n",
       " '_typ',\n",
       " '_update_inplace',\n",
       " '_validate_dtype',\n",
       " '_values',\n",
       " '_where',\n",
       " 'abs',\n",
       " 'add',\n",
       " 'add_prefix',\n",
       " 'add_suffix',\n",
       " 'agg',\n",
       " 'aggregate',\n",
       " 'align',\n",
       " 'all',\n",
       " 'any',\n",
       " 'apply',\n",
       " 'applymap',\n",
       " 'asfreq',\n",
       " 'asof',\n",
       " 'assign',\n",
       " 'astype',\n",
       " 'at',\n",
       " 'at_time',\n",
       " 'attrs',\n",
       " 'axes',\n",
       " 'backfill',\n",
       " 'between_time',\n",
       " 'bfill',\n",
       " 'bool',\n",
       " 'boxplot',\n",
       " 'clip',\n",
       " 'columns',\n",
       " 'combine',\n",
       " 'combine_first',\n",
       " 'compare',\n",
       " 'convert_dtypes',\n",
       " 'copy',\n",
       " 'corr',\n",
       " 'corrwith',\n",
       " 'count',\n",
       " 'cov',\n",
       " 'cummax',\n",
       " 'cummin',\n",
       " 'cumprod',\n",
       " 'cumsum',\n",
       " 'describe',\n",
       " 'diff',\n",
       " 'div',\n",
       " 'divide',\n",
       " 'dot',\n",
       " 'drop',\n",
       " 'drop_duplicates',\n",
       " 'droplevel',\n",
       " 'dropna',\n",
       " 'dtypes',\n",
       " 'duplicated',\n",
       " 'empty',\n",
       " 'eq',\n",
       " 'equals',\n",
       " 'eval',\n",
       " 'ewm',\n",
       " 'expanding',\n",
       " 'explode',\n",
       " 'ffill',\n",
       " 'fillna',\n",
       " 'filter',\n",
       " 'first',\n",
       " 'first_valid_index',\n",
       " 'flags',\n",
       " 'floordiv',\n",
       " 'from_dict',\n",
       " 'from_records',\n",
       " 'ge',\n",
       " 'get',\n",
       " 'groupby',\n",
       " 'gt',\n",
       " 'head',\n",
       " 'hist',\n",
       " 'iat',\n",
       " 'idxmax',\n",
       " 'idxmin',\n",
       " 'iloc',\n",
       " 'index',\n",
       " 'infer_objects',\n",
       " 'info',\n",
       " 'insert',\n",
       " 'interpolate',\n",
       " 'isetitem',\n",
       " 'isin',\n",
       " 'isna',\n",
       " 'isnull',\n",
       " 'items',\n",
       " 'iterrows',\n",
       " 'itertuples',\n",
       " 'join',\n",
       " 'keys',\n",
       " 'kurt',\n",
       " 'kurtosis',\n",
       " 'label',\n",
       " 'last',\n",
       " 'last_valid_index',\n",
       " 'le',\n",
       " 'loc',\n",
       " 'lt',\n",
       " 'mask',\n",
       " 'max',\n",
       " 'mean',\n",
       " 'median',\n",
       " 'melt',\n",
       " 'memory_usage',\n",
       " 'merge',\n",
       " 'min',\n",
       " 'mod',\n",
       " 'mode',\n",
       " 'mul',\n",
       " 'multiply',\n",
       " 'ndim',\n",
       " 'ne',\n",
       " 'nlargest',\n",
       " 'notna',\n",
       " 'notnull',\n",
       " 'nsmallest',\n",
       " 'nunique',\n",
       " 'pad',\n",
       " 'pct_change',\n",
       " 'pipe',\n",
       " 'pivot',\n",
       " 'pivot_table',\n",
       " 'pixel1',\n",
       " 'pixel10',\n",
       " 'pixel11',\n",
       " 'pixel12',\n",
       " 'pixel13',\n",
       " 'pixel14',\n",
       " 'pixel15',\n",
       " 'pixel16',\n",
       " 'pixel17',\n",
       " 'pixel18',\n",
       " 'pixel19',\n",
       " 'pixel2',\n",
       " 'pixel20',\n",
       " 'pixel21',\n",
       " 'pixel22',\n",
       " 'pixel23',\n",
       " 'pixel24',\n",
       " 'pixel25',\n",
       " 'pixel26',\n",
       " 'pixel27',\n",
       " 'pixel28',\n",
       " 'pixel29',\n",
       " 'pixel3',\n",
       " 'pixel30',\n",
       " 'pixel31',\n",
       " 'pixel32',\n",
       " 'pixel33',\n",
       " 'pixel34',\n",
       " 'pixel35',\n",
       " 'pixel36',\n",
       " 'pixel37',\n",
       " 'pixel38',\n",
       " 'pixel39',\n",
       " 'pixel4',\n",
       " 'pixel40',\n",
       " 'pixel41',\n",
       " 'pixel42',\n",
       " 'pixel43',\n",
       " 'pixel44',\n",
       " 'pixel45',\n",
       " 'pixel46',\n",
       " 'pixel47',\n",
       " 'pixel48',\n",
       " 'pixel49',\n",
       " 'pixel5',\n",
       " 'pixel50',\n",
       " 'pixel51',\n",
       " 'pixel52',\n",
       " 'pixel53',\n",
       " 'pixel54',\n",
       " 'pixel55',\n",
       " 'pixel56',\n",
       " 'pixel57',\n",
       " 'pixel58',\n",
       " 'pixel59',\n",
       " 'pixel6',\n",
       " 'pixel60',\n",
       " 'pixel61',\n",
       " 'pixel62',\n",
       " 'pixel63',\n",
       " 'pixel64',\n",
       " 'pixel65',\n",
       " 'pixel66',\n",
       " 'pixel67',\n",
       " 'pixel68',\n",
       " 'pixel69',\n",
       " 'pixel7',\n",
       " 'pixel70',\n",
       " 'pixel71',\n",
       " 'pixel72',\n",
       " 'pixel73',\n",
       " 'pixel74',\n",
       " 'pixel75',\n",
       " 'pixel76',\n",
       " 'pixel77',\n",
       " 'pixel78',\n",
       " 'pixel79',\n",
       " 'pixel8',\n",
       " 'pixel80',\n",
       " 'pixel81',\n",
       " 'pixel82',\n",
       " 'pixel83',\n",
       " 'pixel84',\n",
       " 'pixel85',\n",
       " 'pixel86',\n",
       " 'pixel87',\n",
       " 'pixel88',\n",
       " 'pixel89',\n",
       " 'pixel9',\n",
       " 'pixel90',\n",
       " 'pixel91',\n",
       " 'pixel92',\n",
       " 'pixel93',\n",
       " 'pixel94',\n",
       " 'pixel95',\n",
       " 'pixel96',\n",
       " 'pixel97',\n",
       " 'pixel98',\n",
       " 'pixel99',\n",
       " 'plot',\n",
       " 'pop',\n",
       " 'pow',\n",
       " 'prod',\n",
       " 'product',\n",
       " 'quantile',\n",
       " 'query',\n",
       " 'radd',\n",
       " 'rank',\n",
       " 'rdiv',\n",
       " 'reindex',\n",
       " 'reindex_like',\n",
       " 'rename',\n",
       " 'rename_axis',\n",
       " 'reorder_levels',\n",
       " 'replace',\n",
       " 'resample',\n",
       " 'reset_index',\n",
       " 'rfloordiv',\n",
       " 'rmod',\n",
       " 'rmul',\n",
       " 'rolling',\n",
       " 'round',\n",
       " 'rpow',\n",
       " 'rsub',\n",
       " 'rtruediv',\n",
       " 'sample',\n",
       " 'select_dtypes',\n",
       " 'sem',\n",
       " 'set_axis',\n",
       " 'set_flags',\n",
       " 'set_index',\n",
       " 'shape',\n",
       " 'shift',\n",
       " 'size',\n",
       " 'skew',\n",
       " 'sort_index',\n",
       " 'sort_values',\n",
       " 'squeeze',\n",
       " 'stack',\n",
       " 'std',\n",
       " 'style',\n",
       " 'sub',\n",
       " 'subtract',\n",
       " 'sum',\n",
       " 'swapaxes',\n",
       " 'swaplevel',\n",
       " 'tail',\n",
       " 'take',\n",
       " 'to_clipboard',\n",
       " 'to_csv',\n",
       " 'to_dict',\n",
       " 'to_excel',\n",
       " 'to_feather',\n",
       " 'to_gbq',\n",
       " 'to_hdf',\n",
       " 'to_html',\n",
       " 'to_json',\n",
       " 'to_latex',\n",
       " 'to_markdown',\n",
       " 'to_numpy',\n",
       " 'to_orc',\n",
       " 'to_parquet',\n",
       " 'to_period',\n",
       " 'to_pickle',\n",
       " 'to_records',\n",
       " 'to_sql',\n",
       " 'to_stata',\n",
       " 'to_string',\n",
       " 'to_timestamp',\n",
       " 'to_xarray',\n",
       " 'to_xml',\n",
       " 'transform',\n",
       " 'transpose',\n",
       " 'truediv',\n",
       " 'truncate',\n",
       " 'tz_convert',\n",
       " 'tz_localize',\n",
       " 'unstack',\n",
       " 'update',\n",
       " 'value_counts',\n",
       " 'values',\n",
       " 'var',\n",
       " 'where',\n",
       " 'xs']"
      ]
     },
     "execution_count": 3,
     "metadata": {},
     "output_type": "execute_result"
    }
   ],
   "source": [
    "dir(test_df)"
   ]
  },
  {
   "cell_type": "code",
   "execution_count": 4,
   "metadata": {
    "tags": []
   },
   "outputs": [
    {
     "data": {
      "text/plain": [
       "Index(['label', 'pixel1', 'pixel2', 'pixel3', 'pixel4'], dtype='object')"
      ]
     },
     "execution_count": 4,
     "metadata": {},
     "output_type": "execute_result"
    }
   ],
   "source": [
    "test_df.columns[0:5]"
   ]
  },
  {
   "cell_type": "code",
   "execution_count": 5,
   "metadata": {
    "tags": []
   },
   "outputs": [
    {
     "data": {
      "text/plain": [
       "(10000, 785)"
      ]
     },
     "execution_count": 5,
     "metadata": {},
     "output_type": "execute_result"
    }
   ],
   "source": [
    "test_df.shape"
   ]
  },
  {
   "cell_type": "code",
   "execution_count": 6,
   "metadata": {
    "tags": []
   },
   "outputs": [
    {
     "data": {
      "text/plain": [
       "(60000, 785)"
      ]
     },
     "execution_count": 6,
     "metadata": {},
     "output_type": "execute_result"
    }
   ],
   "source": [
    "train_df.shape"
   ]
  },
  {
   "cell_type": "markdown",
   "metadata": {},
   "source": [
    "Okay,  I'm expecting 28 x 28 greyscale images again,  we have the first column as the label, the rest of this is the pixels\n",
    "\n",
    "Most skearn models will accept pandas dataframes as input data,   so I don't think we need to do much here except split out \n",
    "the first column as y and the rest of the df as X\n",
    "\n",
    "pandas has a member function called pop that removes a row from the dataframe.  We'll use that to both set y_train equal to the labels, and X_train to the remaining df"
   ]
  },
  {
   "cell_type": "code",
   "execution_count": 7,
   "metadata": {
    "tags": []
   },
   "outputs": [],
   "source": [
    "y_train=train_df.pop('label')\n",
    "X_train=train_df\n"
   ]
  },
  {
   "cell_type": "code",
   "execution_count": 8,
   "metadata": {
    "tags": []
   },
   "outputs": [
    {
     "name": "stdout",
     "output_type": "stream",
     "text": [
      "(60000,)\n",
      "(60000, 784)\n"
     ]
    }
   ],
   "source": [
    "print(y_train.shape)\n",
    "print(X_train.shape)"
   ]
  },
  {
   "cell_type": "code",
   "execution_count": 9,
   "metadata": {
    "tags": []
   },
   "outputs": [],
   "source": [
    "y_test=test_df.pop('label')\n",
    "X_test=test_df"
   ]
  },
  {
   "cell_type": "markdown",
   "metadata": {},
   "source": [
    "Labels\n",
    "\n",
    "Each training and test example is assigned to one of the following labels:\n",
    "\n",
    "0 T-shirt/top\n",
    "1 Trouser\n",
    "2 Pullover\n",
    "3 Dress\n",
    "4 Coat\n",
    "5 Sandal\n",
    "6 Shirt\n",
    "7 Sneaker\n",
    "8 Bag\n",
    "9 Ankle boot"
   ]
  },
  {
   "cell_type": "markdown",
   "metadata": {},
   "source": [
    "The % symbol indicates that this is a magic function,  that is to say a function\n",
    "command for the jupyter notebook server, not to the python kernel\n",
    "\n",
    "This particular command causes plots created using the matplotlib libary to print in the \n",
    "notebook not in a new window"
   ]
  },
  {
   "cell_type": "code",
   "execution_count": 10,
   "metadata": {
    "tags": []
   },
   "outputs": [],
   "source": [
    "%matplotlib inline"
   ]
  },
  {
   "cell_type": "markdown",
   "metadata": {},
   "source": [
    "## 1: Data plots\n",
    "\n",
    "Okay here is the visualization of one image, a shirt\n",
    "\n",
    "Note:   I use a location slice of the X_train dataframe,    X_train.loc[0,:] to get row zero, all entries,  or the first\n",
    "    image in the array.   I then force that into the np.array form so I can use the reshape() member function to reshape the\n",
    "    row of data into a 28 x 28 image.\n",
    "    \n",
    "    I don't think that pandas easily allows the reshape maneuver, so that's why I converted to an np.array,  the\n",
    "    reshape operation produces an np matrix that can be plotted with imshow.  There may be a better way to do this.  Hmm.\n",
    "    \n",
    "Also I checked, and we can feed X_train into the training input of the classifier as a pd.dataframe, there is no need to change\n",
    "the format\n",
    "\n",
    "Most sklearn models will accept either pandas dataframes or np matrices as inputs,  which is a help"
   ]
  },
  {
   "cell_type": "code",
   "execution_count": 11,
   "metadata": {
    "tags": []
   },
   "outputs": [
    {
     "data": {
      "image/png": "[encoded data removed]",
      "text/plain": [
       "<Figure size 640x480 with 1 Axes>"
      ]
     },
     "metadata": {},
     "output_type": "display_data"
    }
   ],
   "source": [
    "import matplotlib as mpl\n",
    "import matplotlib.pyplot as plt\n",
    "\n",
    "some_digit = np.array(X_train.loc[0,:])\n",
    "some_digit_image = some_digit.reshape(28, 28)\n",
    "\n",
    "plt.imshow(some_digit_image, cmap=\"binary\")\n",
    "plt.axis(\"off\")\n",
    "plt.show()"
   ]
  },
  {
   "cell_type": "code",
   "execution_count": 12,
   "metadata": {
    "tags": []
   },
   "outputs": [
    {
     "data": {
      "text/plain": [
       "2"
      ]
     },
     "execution_count": 12,
     "metadata": {},
     "output_type": "execute_result"
    }
   ],
   "source": [
    "y_train[0]"
   ]
  },
  {
   "cell_type": "markdown",
   "metadata": {},
   "source": [
    "# Question/Action\n",
    "\n",
    "What type of cloting is this image supposed to be?   Insert a cell with your answer below"
   ]
  },
  {
   "cell_type": "markdown",
   "metadata": {},
   "source": [
    "This is the 2nd kind in the target so Pullover."
   ]
  },
  {
   "cell_type": "markdown",
   "metadata": {},
   "source": [
    "#Question/Action\n",
    "\n",
    "Show images of a sandal and a sneaker from this data set, show them in cells below\n",
    "\n",
    "Show all your steps"
   ]
  },
  {
   "cell_type": "code",
   "execution_count": 13,
   "metadata": {
    "tags": []
   },
   "outputs": [],
   "source": [
    "#Going to show sandal(5) and a sneaker(7)\n",
    "#print(y_train[7])\n",
    "#print(y_train[21])\n",
    "\n",
    "\n",
    "mask = y_train.isin([5])\n",
    "#mask[:21]\n",
    "SandleIndex = np.nonzero(np.array(mask))\n",
    "SandleIndex=SandleIndex[0][0]\n",
    "mask = y_train.isin([7])\n",
    "#mask[:21]\n",
    "SneakerIndex = np.nonzero(np.array(mask))[0][0]\n"
   ]
  },
  {
   "cell_type": "code",
   "execution_count": null,
   "metadata": {},
   "outputs": [],
   "source": []
  },
  {
   "cell_type": "code",
   "execution_count": 14,
   "metadata": {
    "tags": []
   },
   "outputs": [
    {
     "data": {
      "image/png": "[encoded data removed]",
      "text/plain": [
       "<Figure size 640x480 with 1 Axes>"
      ]
     },
     "metadata": {},
     "output_type": "display_data"
    }
   ],
   "source": [
    "import matplotlib as mpl\n",
    "import matplotlib.pyplot as plt\n",
    "\n",
    "some_digit = np.array(X_train.loc[SandleIndex,:])\n",
    "some_digit_image = some_digit.reshape(28, 28)\n",
    "\n",
    "plt.imshow(some_digit_image, cmap=\"binary\")\n",
    "plt.axis(\"off\")\n",
    "plt.show()"
   ]
  },
  {
   "cell_type": "code",
   "execution_count": 15,
   "metadata": {
    "tags": []
   },
   "outputs": [
    {
     "data": {
      "image/png": "[encoded data removed]",
      "text/plain": [
       "<Figure size 640x480 with 1 Axes>"
      ]
     },
     "metadata": {},
     "output_type": "display_data"
    }
   ],
   "source": [
    "import matplotlib as mpl\n",
    "import matplotlib.pyplot as plt\n",
    "\n",
    "some_digit = np.array(X_train.loc[SneakerIndex,:])\n",
    "some_digit_image = some_digit.reshape(28, 28)\n",
    "\n",
    "plt.imshow(some_digit_image, cmap=\"binary\")\n",
    "plt.axis(\"off\")\n",
    "plt.show()"
   ]
  },
  {
   "cell_type": "code",
   "execution_count": 16,
   "metadata": {
    "tags": []
   },
   "outputs": [
    {
     "data": {
      "image/png": "[encoded data removed]",
      "text/plain": [
       "<Figure size 640x480 with 1 Axes>"
      ]
     },
     "metadata": {},
     "output_type": "display_data"
    }
   ],
   "source": [
    "import matplotlib as mpl\n",
    "import matplotlib.pyplot as plt\n",
    "\n",
    "some_digit = np.array(X_train.loc[1,:])\n",
    "some_digit_image = some_digit.reshape(28, 28)\n",
    "\n",
    "plt.imshow(some_digit_image, cmap=\"binary\")\n",
    "plt.axis(\"off\")\n",
    "plt.show()"
   ]
  },
  {
   "cell_type": "code",
   "execution_count": 17,
   "metadata": {
    "tags": []
   },
   "outputs": [
    {
     "data": {
      "text/plain": [
       "9"
      ]
     },
     "execution_count": 17,
     "metadata": {},
     "output_type": "execute_result"
    }
   ],
   "source": [
    "y_train[1]"
   ]
  },
  {
   "cell_type": "markdown",
   "metadata": {},
   "source": [
    "## 2: Time to Build some models\n",
    "\n",
    "Lets build two different classifying neural net models\n",
    "\n",
    "fclf - this should classify each image to one of the ten label classes (0-9)\n",
    "\n",
    "fclf2- classify everything as either a pullover (2) or not a pullover, this is a binary categorization"
   ]
  },
  {
   "cell_type": "code",
   "execution_count": 18,
   "metadata": {
    "tags": []
   },
   "outputs": [],
   "source": [
    "y_train_2=(y_train==2)\n",
    "y_test_2=(y_test==2)"
   ]
  },
  {
   "cell_type": "markdown",
   "metadata": {},
   "source": [
    "## Okay, go build some models-Assignment\n",
    "\n",
    "1.) For each model find the accuracy, the confusion matrix, the precision and the recall, label these all/\n",
    "    Look at the confusion matrix,  explain which classes of objects were most likely to be confused with\n",
    "    each other and which were most distinct.  Explain why you think this happens,  does it make sense?\n",
    "\n",
    "    I ran these quickly (so I know this works) and got 87.7 % accuracy for the X-train data set using all 10 classes and \n",
    "    97.7 % accuracy  for the binary classification (ie the pullover detector).  See if you can beat the quick results I got.       Post your results in the discussion section of D2L for this week.  Discuss what you did to beat my score\n",
    "\n",
    "2.) Also, create the ROC curve for the binary classifier and compute the AUC for the ROC,  for the binary classifier,  but not for the 10 element classifier\n",
    "\n",
    "3.) When you are done with steps 1 and 2,   use your two classifier models to classify the test data.\n",
    "    Is there evidence of overfitting?  What tells you this?\n",
    "\n",
    "\n",
    "Print your completed jupyter notebook to a pdf file,  you can use the browser to print to pdf.  Upload this to dropbox in D2L to submit the homework."
   ]
  },
  {
   "cell_type": "markdown",
   "metadata": {},
   "source": [
    "## Model fclf,  classify fashion image to 10 categories"
   ]
  },
  {
   "cell_type": "markdown",
   "metadata": {},
   "source": [
    "## First lets build fclf - this should classify each image to one of the ten label classes (0-9)"
   ]
  },
  {
   "cell_type": "markdown",
   "metadata": {
    "tags": []
   },
   "source": [
    "To improve performance I am going to increase the hidden layer sizes."
   ]
  },
  {
   "cell_type": "code",
   "execution_count": 22,
   "metadata": {
    "tags": []
   },
   "outputs": [
    {
     "name": "stdout",
     "output_type": "stream",
     "text": [
      "Iteration 1, loss = 3.01173995\n",
      "Iteration 2, loss = 1.49290983\n",
      "Iteration 3, loss = 1.26351452\n",
      "Iteration 4, loss = 1.08092941\n",
      "Iteration 5, loss = 0.95217684\n",
      "Iteration 6, loss = 0.85769123\n",
      "Iteration 7, loss = 0.80354189\n",
      "Iteration 8, loss = 0.76014074\n",
      "Iteration 9, loss = 0.74071699\n",
      "Iteration 10, loss = 0.71992289\n",
      "Iteration 11, loss = 0.69498030\n",
      "Iteration 12, loss = 0.65479113\n",
      "Iteration 13, loss = 0.62746111\n",
      "Iteration 14, loss = 0.59328588\n",
      "Iteration 15, loss = 0.58704561\n",
      "Iteration 16, loss = 0.56617290\n",
      "Iteration 17, loss = 0.55038780\n",
      "Iteration 18, loss = 0.54214097\n",
      "Iteration 19, loss = 0.53381012\n",
      "Iteration 20, loss = 0.52889403\n",
      "Iteration 21, loss = 0.50821149\n",
      "Iteration 22, loss = 0.50475929\n",
      "Iteration 23, loss = 0.50099703\n",
      "Iteration 24, loss = 0.48823128\n",
      "Iteration 25, loss = 0.48066324\n",
      "Iteration 26, loss = 0.48427558\n",
      "Iteration 27, loss = 0.47471865\n",
      "Iteration 28, loss = 0.46706446\n",
      "Iteration 29, loss = 0.46301338\n",
      "Iteration 30, loss = 0.46183543\n",
      "Iteration 31, loss = 0.45288493\n",
      "Iteration 32, loss = 0.44283905\n",
      "Iteration 33, loss = 0.44759004\n",
      "Iteration 34, loss = 0.44385572\n",
      "Iteration 35, loss = 0.43309015\n",
      "Iteration 36, loss = 0.43914283\n",
      "Iteration 37, loss = 0.43572342\n",
      "Iteration 38, loss = 0.42392193\n",
      "Iteration 39, loss = 0.42643397\n",
      "Iteration 40, loss = 0.43354650\n",
      "Iteration 41, loss = 0.41869926\n",
      "Iteration 42, loss = 0.40742222\n",
      "Iteration 43, loss = 0.41771007\n",
      "Iteration 44, loss = 0.41401984\n",
      "Iteration 45, loss = 0.41173289\n",
      "Iteration 46, loss = 0.41391602\n",
      "Iteration 47, loss = 0.43219970\n",
      "Iteration 48, loss = 0.41754065\n",
      "Iteration 49, loss = 0.40944117\n",
      "Iteration 50, loss = 0.40672242\n",
      "Iteration 51, loss = 0.41118798\n",
      "Iteration 52, loss = 0.40192434\n",
      "Iteration 53, loss = 0.39669850\n",
      "Iteration 54, loss = 0.39084078\n",
      "Iteration 55, loss = 0.39804849\n",
      "Iteration 56, loss = 0.40436958\n",
      "Iteration 57, loss = 0.39793278\n",
      "Iteration 58, loss = 0.39621937\n",
      "Iteration 59, loss = 0.38609852\n",
      "Iteration 60, loss = 0.39851793\n",
      "Iteration 61, loss = 0.38956521\n",
      "Iteration 62, loss = 0.38762192\n",
      "Iteration 63, loss = 0.39172386\n",
      "Iteration 64, loss = 0.37681862\n",
      "Iteration 65, loss = 0.38654563\n",
      "Iteration 66, loss = 0.37867232\n",
      "Iteration 67, loss = 0.39791409\n",
      "Iteration 68, loss = 0.38217361\n",
      "Iteration 69, loss = 0.39023654\n",
      "Iteration 70, loss = 0.37500529\n",
      "Iteration 71, loss = 0.36843976\n",
      "Iteration 72, loss = 0.37181539\n",
      "Iteration 73, loss = 0.37394381\n",
      "Iteration 74, loss = 0.37184180\n",
      "Iteration 75, loss = 0.36591970\n",
      "Iteration 76, loss = 0.37254339\n",
      "Iteration 77, loss = 0.36271590\n",
      "Iteration 78, loss = 0.36953195\n",
      "Iteration 79, loss = 0.36905773\n",
      "Iteration 80, loss = 0.36072667\n",
      "Iteration 81, loss = 0.36312409\n",
      "Iteration 82, loss = 0.35446600\n",
      "Iteration 83, loss = 0.35891275\n",
      "Iteration 84, loss = 0.34908594\n",
      "Iteration 85, loss = 0.36807002\n",
      "Iteration 86, loss = 0.39533154\n",
      "Iteration 87, loss = 0.35205459\n",
      "Iteration 88, loss = 0.35211317\n",
      "Iteration 89, loss = 0.34699683\n",
      "Iteration 90, loss = 0.35156941\n",
      "Iteration 91, loss = 0.34863219\n",
      "Iteration 92, loss = 0.36369958\n",
      "Iteration 93, loss = 0.34930115\n",
      "Iteration 94, loss = 0.34839154\n",
      "Iteration 95, loss = 0.33510515\n",
      "Iteration 96, loss = 0.35424524\n",
      "Iteration 97, loss = 0.33912510\n",
      "Iteration 98, loss = 0.34122082\n",
      "Iteration 99, loss = 0.33556389\n",
      "Iteration 100, loss = 0.33697050\n",
      "Iteration 101, loss = 0.36096525\n",
      "Iteration 102, loss = 0.35152700\n",
      "Iteration 103, loss = 0.33536601\n",
      "Iteration 104, loss = 0.33325380\n",
      "Iteration 105, loss = 0.33229259\n",
      "Iteration 106, loss = 0.32235253\n",
      "Iteration 107, loss = 0.33294542\n",
      "Iteration 108, loss = 0.32488096\n",
      "Iteration 109, loss = 0.32520606\n",
      "Iteration 110, loss = 0.33507492\n",
      "Iteration 111, loss = 0.33531570\n",
      "Iteration 112, loss = 0.33842996\n",
      "Iteration 113, loss = 0.32469261\n",
      "Iteration 114, loss = 0.32421156\n",
      "Iteration 115, loss = 0.32015625\n",
      "Iteration 116, loss = 0.32738395\n",
      "Iteration 117, loss = 0.32589614\n",
      "Iteration 118, loss = 0.32298735\n",
      "Iteration 119, loss = 0.31630763\n",
      "Iteration 120, loss = 0.30907182\n",
      "Iteration 121, loss = 0.31298654\n",
      "Iteration 122, loss = 0.31264618\n",
      "Iteration 123, loss = 0.31097222\n",
      "Iteration 124, loss = 0.33040078\n",
      "Iteration 125, loss = 0.32684590\n",
      "Iteration 126, loss = 0.31039409\n",
      "Iteration 127, loss = 0.33007555\n",
      "Iteration 128, loss = 0.30772820\n",
      "Iteration 129, loss = 0.31415958\n",
      "Iteration 130, loss = 0.31295699\n",
      "Iteration 131, loss = 0.30940005\n",
      "Iteration 132, loss = 0.29922357\n",
      "Iteration 133, loss = 0.32413835\n",
      "Iteration 134, loss = 0.31213957\n",
      "Iteration 135, loss = 0.29900907\n",
      "Iteration 136, loss = 0.31372807\n",
      "Iteration 137, loss = 0.30875980\n",
      "Iteration 138, loss = 0.30057243\n",
      "Iteration 139, loss = 0.31420285\n",
      "Iteration 140, loss = 0.30136406\n",
      "Iteration 141, loss = 0.30385283\n",
      "Iteration 142, loss = 0.30164876\n",
      "Iteration 143, loss = 0.31410024\n",
      "Iteration 144, loss = 0.29944695\n",
      "Iteration 145, loss = 0.30462179\n",
      "Iteration 146, loss = 0.28714868\n",
      "Iteration 147, loss = 0.29783341\n",
      "Iteration 148, loss = 0.29602423\n",
      "Iteration 149, loss = 0.30178636\n",
      "Iteration 150, loss = 0.29980097\n",
      "Iteration 151, loss = 0.29146905\n",
      "Iteration 152, loss = 0.30756637\n",
      "Iteration 153, loss = 0.29417022\n",
      "Iteration 154, loss = 0.29321751\n",
      "Iteration 155, loss = 0.28149216\n",
      "Iteration 156, loss = 0.28330084\n",
      "Iteration 157, loss = 0.28575766\n",
      "Iteration 158, loss = 0.30897121\n",
      "Iteration 159, loss = 0.29747836\n",
      "Iteration 160, loss = 0.29859504\n",
      "Iteration 161, loss = 0.29281105\n",
      "Iteration 162, loss = 0.29393801\n",
      "Iteration 163, loss = 0.29189864\n",
      "Iteration 164, loss = 0.28807453\n",
      "Iteration 165, loss = 0.29403225\n",
      "Iteration 166, loss = 0.28118665\n",
      "Iteration 167, loss = 0.28317904\n",
      "Iteration 168, loss = 0.28989026\n",
      "Iteration 169, loss = 0.28646838\n",
      "Iteration 170, loss = 0.27796494\n",
      "Iteration 171, loss = 0.28531746\n",
      "Iteration 172, loss = 0.28207046\n",
      "Iteration 173, loss = 0.28117502\n",
      "Iteration 174, loss = 0.28206774\n",
      "Iteration 175, loss = 0.29045917\n",
      "Iteration 176, loss = 0.30543444\n",
      "Iteration 177, loss = 0.28493231\n",
      "Iteration 178, loss = 0.28428712\n",
      "Iteration 179, loss = 0.27722737\n",
      "Iteration 180, loss = 0.28217762\n",
      "Iteration 181, loss = 0.28251284\n",
      "Iteration 182, loss = 0.27618934\n",
      "Iteration 183, loss = 0.27691964\n",
      "Iteration 184, loss = 0.28390293\n",
      "Iteration 185, loss = 0.27963575\n",
      "Iteration 186, loss = 0.27063410\n",
      "Iteration 187, loss = 0.27266894\n",
      "Iteration 188, loss = 0.27162090\n",
      "Iteration 189, loss = 0.26974672\n",
      "Iteration 190, loss = 0.26727682\n",
      "Iteration 191, loss = 0.27270629\n",
      "Iteration 192, loss = 0.27171512\n",
      "Iteration 193, loss = 0.27261739\n",
      "Iteration 194, loss = 0.26650492\n",
      "Iteration 195, loss = 0.28348722\n",
      "Iteration 196, loss = 0.26883685\n",
      "Iteration 197, loss = 0.28647118\n",
      "Iteration 198, loss = 0.27550712\n",
      "Iteration 199, loss = 0.26911626\n",
      "Iteration 200, loss = 0.27067847\n",
      "Iteration 201, loss = 0.27144764\n",
      "Iteration 202, loss = 0.27043691\n",
      "Iteration 203, loss = 0.27505217\n",
      "Iteration 204, loss = 0.26813297\n",
      "Iteration 205, loss = 0.27402962\n",
      "Training loss did not improve more than tol=0.000100 for 10 consecutive epochs. Stopping.\n"
     ]
    },
    {
     "data": {
      "text/html": [
       "<style>#sk-container-id-2 {color: black;}#sk-container-id-2 pre{padding: 0;}#sk-container-id-2 div.sk-toggleable {background-color: white;}#sk-container-id-2 label.sk-toggleable__label {cursor: pointer;display: block;width: 100%;margin-bottom: 0;padding: 0.3em;box-sizing: border-box;text-align: center;}#sk-container-id-2 label.sk-toggleable__label-arrow:before {content: \"▸\";float: left;margin-right: 0.25em;color: #696969;}#sk-container-id-2 label.sk-toggleable__label-arrow:hover:before {color: black;}#sk-container-id-2 div.sk-estimator:hover label.sk-toggleable__label-arrow:before {color: black;}#sk-container-id-2 div.sk-toggleable__content {max-height: 0;max-width: 0;overflow: hidden;text-align: left;background-color: #f0f8ff;}#sk-container-id-2 div.sk-toggleable__content pre {margin: 0.2em;color: black;border-radius: 0.25em;background-color: #f0f8ff;}#sk-container-id-2 input.sk-toggleable__control:checked~div.sk-toggleable__content {max-height: 200px;max-width: 100%;overflow: auto;}#sk-container-id-2 input.sk-toggleable__control:checked~label.sk-toggleable__label-arrow:before {content: \"▾\";}#sk-container-id-2 div.sk-estimator input.sk-toggleable__control:checked~label.sk-toggleable__label {background-color: #d4ebff;}#sk-container-id-2 div.sk-label input.sk-toggleable__control:checked~label.sk-toggleable__label {background-color: #d4ebff;}#sk-container-id-2 input.sk-hidden--visually {border: 0;clip: rect(1px 1px 1px 1px);clip: rect(1px, 1px, 1px, 1px);height: 1px;margin: -1px;overflow: hidden;padding: 0;position: absolute;width: 1px;}#sk-container-id-2 div.sk-estimator {font-family: monospace;background-color: #f0f8ff;border: 1px dotted black;border-radius: 0.25em;box-sizing: border-box;margin-bottom: 0.5em;}#sk-container-id-2 div.sk-estimator:hover {background-color: #d4ebff;}#sk-container-id-2 div.sk-parallel-item::after {content: \"\";width: 100%;border-bottom: 1px solid gray;flex-grow: 1;}#sk-container-id-2 div.sk-label:hover label.sk-toggleable__label {background-color: #d4ebff;}#sk-container-id-2 div.sk-serial::before {content: \"\";position: absolute;border-left: 1px solid gray;box-sizing: border-box;top: 0;bottom: 0;left: 50%;z-index: 0;}#sk-container-id-2 div.sk-serial {display: flex;flex-direction: column;align-items: center;background-color: white;padding-right: 0.2em;padding-left: 0.2em;position: relative;}#sk-container-id-2 div.sk-item {position: relative;z-index: 1;}#sk-container-id-2 div.sk-parallel {display: flex;align-items: stretch;justify-content: center;background-color: white;position: relative;}#sk-container-id-2 div.sk-item::before, #sk-container-id-2 div.sk-parallel-item::before {content: \"\";position: absolute;border-left: 1px solid gray;box-sizing: border-box;top: 0;bottom: 0;left: 50%;z-index: -1;}#sk-container-id-2 div.sk-parallel-item {display: flex;flex-direction: column;z-index: 1;position: relative;background-color: white;}#sk-container-id-2 div.sk-parallel-item:first-child::after {align-self: flex-end;width: 50%;}#sk-container-id-2 div.sk-parallel-item:last-child::after {align-self: flex-start;width: 50%;}#sk-container-id-2 div.sk-parallel-item:only-child::after {width: 0;}#sk-container-id-2 div.sk-dashed-wrapped {border: 1px dashed gray;margin: 0 0.4em 0.5em 0.4em;box-sizing: border-box;padding-bottom: 0.4em;background-color: white;}#sk-container-id-2 div.sk-label label {font-family: monospace;font-weight: bold;display: inline-block;line-height: 1.2em;}#sk-container-id-2 div.sk-label-container {text-align: center;}#sk-container-id-2 div.sk-container {/* jupyter's `normalize.less` sets `[hidden] { display: none; }` but bootstrap.min.css set `[hidden] { display: none !important; }` so we also need the `!important` here to be able to override the default hidden behavior on the sphinx rendered scikit-learn.org. See: https://github.com/scikit-learn/scikit-learn/issues/21755 */display: inline-block !important;position: relative;}#sk-container-id-2 div.sk-text-repr-fallback {display: none;}</style><div id=\"sk-container-id-2\" class=\"sk-top-container\"><div class=\"sk-text-repr-fallback\"><pre>MLPClassifier(alpha=1e-05, hidden_layer_sizes=(28, 14, 7), max_iter=500,\n",
       "              random_state=1, verbose=True)</pre><b>In a Jupyter environment, please rerun this cell to show the HTML representation or trust the notebook. <br />On GitHub, the HTML representation is unable to render, please try loading this page with nbviewer.org.</b></div><div class=\"sk-container\" hidden><div class=\"sk-item\"><div class=\"sk-estimator sk-toggleable\"><input class=\"sk-toggleable__control sk-hidden--visually\" id=\"sk-estimator-id-2\" type=\"checkbox\" checked><label for=\"sk-estimator-id-2\" class=\"sk-toggleable__label sk-toggleable__label-arrow\">MLPClassifier</label><div class=\"sk-toggleable__content\"><pre>MLPClassifier(alpha=1e-05, hidden_layer_sizes=(28, 14, 7), max_iter=500,\n",
       "              random_state=1, verbose=True)</pre></div></div></div></div></div>"
      ],
      "text/plain": [
       "MLPClassifier(alpha=1e-05, hidden_layer_sizes=(28, 14, 7), max_iter=500,\n",
       "              random_state=1, verbose=True)"
      ]
     },
     "execution_count": 22,
     "metadata": {},
     "output_type": "execute_result"
    }
   ],
   "source": [
    "# multi catagory classification\n",
    "from sklearn.neural_network import MLPClassifier\n",
    "clf = MLPClassifier(solver='adam', alpha=1e-5, random_state=1, max_iter=500,hidden_layer_sizes=(28,14,7), verbose=True, warm_start=False)\n",
    "\n",
    "clf.fit(X_train, y_train)\n"
   ]
  },
  {
   "cell_type": "markdown",
   "metadata": {},
   "source": [
    "# prediction outputs"
   ]
  },
  {
   "cell_type": "code",
   "execution_count": 24,
   "metadata": {
    "tags": []
   },
   "outputs": [
    {
     "data": {
      "text/plain": [
       "array([[9.31739650e-001, 6.16362198e-005, 1.09991332e-003,\n",
       "        2.55270534e-003, 1.68522453e-004, 4.48340385e-005,\n",
       "        5.84922959e-002, 3.06156353e-006, 5.83530156e-003,\n",
       "        2.07973552e-006],\n",
       "       [3.29474679e-017, 9.99999996e-001, 6.60667054e-016,\n",
       "        2.21178613e-009, 7.37123342e-010, 1.09426641e-018,\n",
       "        3.54877942e-019, 1.92911295e-010, 4.27977476e-014,\n",
       "        8.79375645e-010],\n",
       "       [9.70858118e-003, 7.20311121e-009, 8.43359470e-001,\n",
       "        4.72993536e-005, 2.03016564e-002, 3.94472669e-048,\n",
       "        1.22118943e-001, 8.83120683e-054, 4.46404368e-003,\n",
       "        4.14802867e-046],\n",
       "       [2.53959745e-001, 1.23272834e-004, 5.74443878e-001,\n",
       "        3.52174531e-003, 1.54316419e-002, 1.69421160e-022,\n",
       "        1.36364564e-001, 2.63767586e-023, 1.61551523e-002,\n",
       "        2.77514620e-021],\n",
       "       [4.67791878e-007, 4.83021231e-005, 8.23149217e-008,\n",
       "        9.49788391e-001, 5.00498110e-002, 4.50276023e-021,\n",
       "        8.76634266e-005, 8.34198438e-032, 2.52823280e-005,\n",
       "        3.36248482e-022],\n",
       "       [1.94838052e-001, 6.50671509e-006, 2.15224073e-001,\n",
       "        9.69319233e-003, 2.44531959e-002, 1.28443419e-023,\n",
       "        5.39572232e-001, 1.80137231e-027, 1.62127483e-002,\n",
       "        1.01656748e-023],\n",
       "       [1.16884545e-002, 2.70195358e-004, 1.96626017e-003,\n",
       "        7.50145781e-004, 8.78857032e-004, 1.62182051e-003,\n",
       "        1.26033404e-002, 3.13815864e-004, 9.69829090e-001,\n",
       "        7.80206680e-005],\n",
       "       [5.41123163e-002, 5.60647843e-008, 9.60722911e-002,\n",
       "        3.38233768e-003, 1.97157173e-002, 8.53918910e-031,\n",
       "        8.19054529e-001, 1.42550510e-037, 7.66275260e-003,\n",
       "        1.71587813e-031],\n",
       "       [3.64204720e-045, 0.00000000e+000, 0.00000000e+000,\n",
       "        0.00000000e+000, 0.00000000e+000, 1.00000000e+000,\n",
       "        1.25285410e-234, 1.81734777e-024, 5.89834242e-148,\n",
       "        2.96042830e-046],\n",
       "       [9.66524548e-001, 3.86900633e-005, 2.58496316e-004,\n",
       "        2.70698228e-004, 2.80260039e-005, 3.87230539e-006,\n",
       "        2.93874650e-002, 5.06533899e-007, 3.48747014e-003,\n",
       "        2.27774937e-007]])"
      ]
     },
     "execution_count": 24,
     "metadata": {},
     "output_type": "execute_result"
    }
   ],
   "source": [
    "clf.predict_proba(X_test[:10])"
   ]
  },
  {
   "cell_type": "code",
   "execution_count": 25,
   "metadata": {
    "tags": []
   },
   "outputs": [
    {
     "data": {
      "text/plain": [
       "array([0, 1, 2, 2, 3, 6, 8, 6, 5, 0, 3, 4, 4, 6, 8, 5, 6, 3, 6, 4],\n",
       "      dtype=int64)"
      ]
     },
     "execution_count": 25,
     "metadata": {},
     "output_type": "execute_result"
    }
   ],
   "source": [
    "clf.predict(X_test[:20])\n",
    "\n",
    "# this is looking vary clean based on these first few outputs"
   ]
  },
  {
   "cell_type": "code",
   "execution_count": 26,
   "metadata": {
    "tags": []
   },
   "outputs": [],
   "source": [
    "y_pred=clf.predict(X_train)"
   ]
  },
  {
   "cell_type": "markdown",
   "metadata": {},
   "source": [
    "#Confusion Matrix"
   ]
  },
  {
   "cell_type": "code",
   "execution_count": 27,
   "metadata": {
    "tags": []
   },
   "outputs": [
    {
     "data": {
      "text/plain": [
       "array([[5287,    3,   43,  105,    9,    1,  484,    1,   67,    0],\n",
       "       [   6, 5917,    1,   68,    4,    0,    1,    0,    3,    0],\n",
       "       [ 147,    1, 4443,   27,  685,    0,  675,    0,   22,    0],\n",
       "       [ 157,   12,    3, 5638,   99,    1,   81,    1,    7,    1],\n",
       "       [  28,    3,  215,  343, 4996,    0,  406,    0,    9,    0],\n",
       "       [   0,    0,    0,    4,    0, 5979,    0,    1,   12,    4],\n",
       "       [ 899,    1,  216,  114,  207,    0, 4484,    0,   79,    0],\n",
       "       [   1,    0,    0,    0,    0,   24,    0, 5882,    2,   91],\n",
       "       [  30,    1,   16,   21,   21,    3,   53,    5, 5850,    0],\n",
       "       [   0,    0,    0,    0,    0,   13,    1,   72,    1, 5913]],\n",
       "      dtype=int64)"
      ]
     },
     "execution_count": 27,
     "metadata": {},
     "output_type": "execute_result"
    }
   ],
   "source": [
    "from sklearn.metrics import confusion_matrix\n",
    "\n",
    "my_cm=confusion_matrix(y_train,y_pred,labels=[0,1,2,3,4,5,6,7,8,9])\n",
    "my_cm"
   ]
  },
  {
   "cell_type": "markdown",
   "metadata": {},
   "source": [
    "add up all the correct predictions"
   ]
  },
  {
   "cell_type": "code",
   "execution_count": 28,
   "metadata": {
    "tags": []
   },
   "outputs": [
    {
     "data": {
      "text/plain": [
       "54389"
      ]
     },
     "execution_count": 28,
     "metadata": {},
     "output_type": "execute_result"
    }
   ],
   "source": [
    "my_cm.trace()"
   ]
  },
  {
   "cell_type": "markdown",
   "metadata": {
    "tags": []
   },
   "source": [
    "Sum everything"
   ]
  },
  {
   "cell_type": "code",
   "execution_count": 29,
   "metadata": {
    "tags": []
   },
   "outputs": [
    {
     "data": {
      "text/plain": [
       "60000"
      ]
     },
     "execution_count": 29,
     "metadata": {},
     "output_type": "execute_result"
    }
   ],
   "source": [
    "my_cm.sum()"
   ]
  },
  {
   "cell_type": "markdown",
   "metadata": {},
   "source": [
    "Now we computer the accuracy Accuracy= (sum along the diagonals)/(sum of all cells)"
   ]
  },
  {
   "cell_type": "code",
   "execution_count": 30,
   "metadata": {
    "tags": []
   },
   "outputs": [
    {
     "data": {
      "text/plain": [
       "0.9064833333333333"
      ]
     },
     "execution_count": 30,
     "metadata": {},
     "output_type": "execute_result"
    }
   ],
   "source": [
    "my_cm.trace()/my_cm.sum()"
   ]
  },
  {
   "cell_type": "code",
   "execution_count": null,
   "metadata": {},
   "outputs": [],
   "source": []
  },
  {
   "cell_type": "markdown",
   "metadata": {},
   "source": [
    "Accuracy of 90% as I increased the size of the hidden layers."
   ]
  },
  {
   "cell_type": "markdown",
   "metadata": {
    "tags": []
   },
   "source": [
    "#### fclf2- classify everything as either a pullover (2) or not a pullover, this is a binary categorization\n"
   ]
  },
  {
   "cell_type": "code",
   "execution_count": 31,
   "metadata": {
    "tags": []
   },
   "outputs": [
    {
     "name": "stdout",
     "output_type": "stream",
     "text": [
      "Iteration 1, loss = 0.33152647\n",
      "Iteration 2, loss = 0.17161349\n",
      "Iteration 3, loss = 0.15113460\n",
      "Iteration 4, loss = 0.14102883\n",
      "Iteration 5, loss = 0.13372817\n",
      "Iteration 6, loss = 0.13099708\n",
      "Iteration 7, loss = 0.12559481\n",
      "Iteration 8, loss = 0.12497487\n",
      "Iteration 9, loss = 0.12217216\n",
      "Iteration 10, loss = 0.12064623\n",
      "Iteration 11, loss = 0.12009686\n",
      "Iteration 12, loss = 0.11887566\n",
      "Iteration 13, loss = 0.11518302\n",
      "Iteration 14, loss = 0.11347581\n",
      "Iteration 15, loss = 0.11126001\n",
      "Iteration 16, loss = 0.11680107\n",
      "Iteration 17, loss = 0.11417252\n",
      "Iteration 18, loss = 0.11171394\n",
      "Iteration 19, loss = 0.11088090\n",
      "Iteration 20, loss = 0.10844318\n",
      "Iteration 21, loss = 0.11303384\n",
      "Iteration 22, loss = 0.10799046\n",
      "Iteration 23, loss = 0.11087234\n",
      "Iteration 24, loss = 0.10860177\n",
      "Iteration 25, loss = 0.10617928\n",
      "Iteration 26, loss = 0.10862779\n",
      "Iteration 27, loss = 0.10807904\n",
      "Iteration 28, loss = 0.10481950\n",
      "Iteration 29, loss = 0.10633957\n",
      "Iteration 30, loss = 0.10689126\n",
      "Iteration 31, loss = 0.10330957\n",
      "Iteration 32, loss = 0.10418850\n",
      "Iteration 33, loss = 0.10245793\n",
      "Iteration 34, loss = 0.11108966\n",
      "Iteration 35, loss = 0.10064503\n",
      "Iteration 36, loss = 0.10262237\n",
      "Iteration 37, loss = 0.09817878\n",
      "Iteration 38, loss = 0.10227063\n",
      "Iteration 39, loss = 0.10367949\n",
      "Iteration 40, loss = 0.10037866\n",
      "Iteration 41, loss = 0.09818956\n",
      "Iteration 42, loss = 0.10152246\n",
      "Iteration 43, loss = 0.09925959\n",
      "Iteration 44, loss = 0.09844151\n",
      "Iteration 45, loss = 0.09773979\n",
      "Iteration 46, loss = 0.09713425\n",
      "Iteration 47, loss = 0.09773515\n",
      "Iteration 48, loss = 0.09696000\n",
      "Iteration 49, loss = 0.09985230\n",
      "Iteration 50, loss = 0.09642001\n",
      "Iteration 51, loss = 0.09515176\n",
      "Iteration 52, loss = 0.09415637\n",
      "Iteration 53, loss = 0.09353004\n",
      "Iteration 54, loss = 0.09269436\n",
      "Iteration 55, loss = 0.09359979\n",
      "Iteration 56, loss = 0.09487613\n",
      "Iteration 57, loss = 0.09657351\n",
      "Iteration 58, loss = 0.09314639\n",
      "Iteration 59, loss = 0.09137600\n",
      "Iteration 60, loss = 0.09312757\n",
      "Iteration 61, loss = 0.09206497\n",
      "Iteration 62, loss = 0.09454637\n",
      "Iteration 63, loss = 0.09237567\n",
      "Iteration 64, loss = 0.09056524\n",
      "Iteration 65, loss = 0.09160856\n",
      "Iteration 66, loss = 0.08852130\n",
      "Iteration 67, loss = 0.08808569\n",
      "Iteration 68, loss = 0.08925780\n",
      "Iteration 69, loss = 0.08733154\n",
      "Iteration 70, loss = 0.08927723\n",
      "Iteration 71, loss = 0.08960775\n",
      "Iteration 72, loss = 0.08852421\n",
      "Iteration 73, loss = 0.08672168\n",
      "Iteration 74, loss = 0.08848134\n",
      "Iteration 75, loss = 0.08735876\n",
      "Iteration 76, loss = 0.09132535\n",
      "Iteration 77, loss = 0.08772213\n",
      "Iteration 78, loss = 0.08615016\n",
      "Iteration 79, loss = 0.08529329\n",
      "Iteration 80, loss = 0.08637692\n",
      "Iteration 81, loss = 0.08673274\n",
      "Iteration 82, loss = 0.08384119\n",
      "Iteration 83, loss = 0.08527760\n",
      "Iteration 84, loss = 0.08630236\n",
      "Iteration 85, loss = 0.08385789\n",
      "Iteration 86, loss = 0.08120860\n",
      "Iteration 87, loss = 0.08479953\n",
      "Iteration 88, loss = 0.08333714\n",
      "Iteration 89, loss = 0.08195083\n",
      "Iteration 90, loss = 0.08154542\n",
      "Iteration 91, loss = 0.08285526\n",
      "Iteration 92, loss = 0.08544039\n",
      "Iteration 93, loss = 0.08114302\n",
      "Iteration 94, loss = 0.08327020\n",
      "Iteration 95, loss = 0.08177937\n",
      "Iteration 96, loss = 0.08322019\n",
      "Iteration 97, loss = 0.08173104\n",
      "Training loss did not improve more than tol=0.000100 for 10 consecutive epochs. Stopping.\n"
     ]
    },
    {
     "data": {
      "text/html": [
       "<style>#sk-container-id-3 {color: black;}#sk-container-id-3 pre{padding: 0;}#sk-container-id-3 div.sk-toggleable {background-color: white;}#sk-container-id-3 label.sk-toggleable__label {cursor: pointer;display: block;width: 100%;margin-bottom: 0;padding: 0.3em;box-sizing: border-box;text-align: center;}#sk-container-id-3 label.sk-toggleable__label-arrow:before {content: \"▸\";float: left;margin-right: 0.25em;color: #696969;}#sk-container-id-3 label.sk-toggleable__label-arrow:hover:before {color: black;}#sk-container-id-3 div.sk-estimator:hover label.sk-toggleable__label-arrow:before {color: black;}#sk-container-id-3 div.sk-toggleable__content {max-height: 0;max-width: 0;overflow: hidden;text-align: left;background-color: #f0f8ff;}#sk-container-id-3 div.sk-toggleable__content pre {margin: 0.2em;color: black;border-radius: 0.25em;background-color: #f0f8ff;}#sk-container-id-3 input.sk-toggleable__control:checked~div.sk-toggleable__content {max-height: 200px;max-width: 100%;overflow: auto;}#sk-container-id-3 input.sk-toggleable__control:checked~label.sk-toggleable__label-arrow:before {content: \"▾\";}#sk-container-id-3 div.sk-estimator input.sk-toggleable__control:checked~label.sk-toggleable__label {background-color: #d4ebff;}#sk-container-id-3 div.sk-label input.sk-toggleable__control:checked~label.sk-toggleable__label {background-color: #d4ebff;}#sk-container-id-3 input.sk-hidden--visually {border: 0;clip: rect(1px 1px 1px 1px);clip: rect(1px, 1px, 1px, 1px);height: 1px;margin: -1px;overflow: hidden;padding: 0;position: absolute;width: 1px;}#sk-container-id-3 div.sk-estimator {font-family: monospace;background-color: #f0f8ff;border: 1px dotted black;border-radius: 0.25em;box-sizing: border-box;margin-bottom: 0.5em;}#sk-container-id-3 div.sk-estimator:hover {background-color: #d4ebff;}#sk-container-id-3 div.sk-parallel-item::after {content: \"\";width: 100%;border-bottom: 1px solid gray;flex-grow: 1;}#sk-container-id-3 div.sk-label:hover label.sk-toggleable__label {background-color: #d4ebff;}#sk-container-id-3 div.sk-serial::before {content: \"\";position: absolute;border-left: 1px solid gray;box-sizing: border-box;top: 0;bottom: 0;left: 50%;z-index: 0;}#sk-container-id-3 div.sk-serial {display: flex;flex-direction: column;align-items: center;background-color: white;padding-right: 0.2em;padding-left: 0.2em;position: relative;}#sk-container-id-3 div.sk-item {position: relative;z-index: 1;}#sk-container-id-3 div.sk-parallel {display: flex;align-items: stretch;justify-content: center;background-color: white;position: relative;}#sk-container-id-3 div.sk-item::before, #sk-container-id-3 div.sk-parallel-item::before {content: \"\";position: absolute;border-left: 1px solid gray;box-sizing: border-box;top: 0;bottom: 0;left: 50%;z-index: -1;}#sk-container-id-3 div.sk-parallel-item {display: flex;flex-direction: column;z-index: 1;position: relative;background-color: white;}#sk-container-id-3 div.sk-parallel-item:first-child::after {align-self: flex-end;width: 50%;}#sk-container-id-3 div.sk-parallel-item:last-child::after {align-self: flex-start;width: 50%;}#sk-container-id-3 div.sk-parallel-item:only-child::after {width: 0;}#sk-container-id-3 div.sk-dashed-wrapped {border: 1px dashed gray;margin: 0 0.4em 0.5em 0.4em;box-sizing: border-box;padding-bottom: 0.4em;background-color: white;}#sk-container-id-3 div.sk-label label {font-family: monospace;font-weight: bold;display: inline-block;line-height: 1.2em;}#sk-container-id-3 div.sk-label-container {text-align: center;}#sk-container-id-3 div.sk-container {/* jupyter's `normalize.less` sets `[hidden] { display: none; }` but bootstrap.min.css set `[hidden] { display: none !important; }` so we also need the `!important` here to be able to override the default hidden behavior on the sphinx rendered scikit-learn.org. See: https://github.com/scikit-learn/scikit-learn/issues/21755 */display: inline-block !important;position: relative;}#sk-container-id-3 div.sk-text-repr-fallback {display: none;}</style><div id=\"sk-container-id-3\" class=\"sk-top-container\"><div class=\"sk-text-repr-fallback\"><pre>MLPClassifier(alpha=1e-05, hidden_layer_sizes=(28, 14, 7), max_iter=500,\n",
       "              random_state=1, verbose=True)</pre><b>In a Jupyter environment, please rerun this cell to show the HTML representation or trust the notebook. <br />On GitHub, the HTML representation is unable to render, please try loading this page with nbviewer.org.</b></div><div class=\"sk-container\" hidden><div class=\"sk-item\"><div class=\"sk-estimator sk-toggleable\"><input class=\"sk-toggleable__control sk-hidden--visually\" id=\"sk-estimator-id-3\" type=\"checkbox\" checked><label for=\"sk-estimator-id-3\" class=\"sk-toggleable__label sk-toggleable__label-arrow\">MLPClassifier</label><div class=\"sk-toggleable__content\"><pre>MLPClassifier(alpha=1e-05, hidden_layer_sizes=(28, 14, 7), max_iter=500,\n",
       "              random_state=1, verbose=True)</pre></div></div></div></div></div>"
      ],
      "text/plain": [
       "MLPClassifier(alpha=1e-05, hidden_layer_sizes=(28, 14, 7), max_iter=500,\n",
       "              random_state=1, verbose=True)"
      ]
     },
     "execution_count": 31,
     "metadata": {},
     "output_type": "execute_result"
    }
   ],
   "source": [
    "from sklearn.neural_network import MLPClassifier\n",
    "clf = MLPClassifier(solver='adam', alpha=1e-5, random_state=1, max_iter=500,hidden_layer_sizes=(28,14,7), verbose=True, warm_start=False)\n",
    "\n",
    "clf.fit(X_train, y_train_2)\n"
   ]
  },
  {
   "cell_type": "code",
   "execution_count": 32,
   "metadata": {
    "tags": []
   },
   "outputs": [],
   "source": [
    "#Testing how well the model works"
   ]
  },
  {
   "cell_type": "code",
   "execution_count": 33,
   "metadata": {
    "tags": []
   },
   "outputs": [],
   "source": [
    "silent_clf = MLPClassifier(solver='adam',activation='relu', alpha=1e-5, random_state=1, max_iter=500,hidden_layer_sizes=(20,20,5), verbose=False, warm_start=True)"
   ]
  },
  {
   "cell_type": "code",
   "execution_count": 34,
   "metadata": {
    "tags": []
   },
   "outputs": [],
   "source": [
    "#Import cross validation to do the same thing as the multi_group classifier"
   ]
  },
  {
   "cell_type": "code",
   "execution_count": 35,
   "metadata": {
    "tags": []
   },
   "outputs": [],
   "source": [
    "from sklearn.model_selection import cross_val_predict\n",
    "\n",
    "y_train_pred = cross_val_predict(silent_clf, X_train, y_train_2, cv=3)"
   ]
  },
  {
   "cell_type": "markdown",
   "metadata": {},
   "source": [
    "Get the confusion mattrix"
   ]
  },
  {
   "cell_type": "code",
   "execution_count": 36,
   "metadata": {
    "tags": []
   },
   "outputs": [
    {
     "data": {
      "text/plain": [
       "array([[52791,  1209],\n",
       "       [ 1352,  4648]], dtype=int64)"
      ]
     },
     "execution_count": 36,
     "metadata": {},
     "output_type": "execute_result"
    }
   ],
   "source": [
    "from sklearn.metrics import confusion_matrix\n",
    "\n",
    "confusion_matrix(y_train_2,y_train_pred)"
   ]
  },
  {
   "cell_type": "markdown",
   "metadata": {
    "tags": []
   },
   "source": [
    "Fraction of correct classification"
   ]
  },
  {
   "cell_type": "code",
   "execution_count": 37,
   "metadata": {
    "tags": []
   },
   "outputs": [
    {
     "name": "stdout",
     "output_type": "stream",
     "text": [
      "0.9573166666666667\n"
     ]
    }
   ],
   "source": [
    "n_correct = sum(y_train_pred == y_train_2)\n",
    "print(n_correct / len(y_train_pred))"
   ]
  },
  {
   "cell_type": "markdown",
   "metadata": {},
   "source": [
    "# Action\n",
    "show all the performance measures used in the MNIST digit classifier answer \n",
    "seen in class"
   ]
  },
  {
   "cell_type": "code",
   "execution_count": null,
   "metadata": {},
   "outputs": [],
   "source": []
  },
  {
   "cell_type": "code",
   "execution_count": null,
   "metadata": {},
   "outputs": [],
   "source": []
  },
  {
   "cell_type": "code",
   "execution_count": null,
   "metadata": {},
   "outputs": [],
   "source": []
  }
 ],
 "metadata": {
  "kernelspec": {
   "display_name": "Python 3 (ipykernel)",
   "language": "python",
   "name": "python3"
  },
  "language_info": {
   "codemirror_mode": {
    "name": "ipython",
    "version": 3
   },
   "file_extension": ".py",
   "mimetype": "text/x-python",
   "name": "python",
   "nbconvert_exporter": "python",
   "pygments_lexer": "ipython3",
   "version": "3.11.5"
  }
 },
 "nbformat": 4,
 "nbformat_minor": 4
}
