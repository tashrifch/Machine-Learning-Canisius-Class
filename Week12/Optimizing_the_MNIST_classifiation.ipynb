{
 "cells": [
  {
   "cell_type": "markdown",
   "id": "e73e79b1-b6f6-4a7d-b795-dd06d30fe34a",
   "metadata": {},
   "source": [
    "# Optimizing the MNIST Data Set Classification\n",
    "\n",
    "This is a problem taken from Chapter 10 of Geron\n",
    "\n",
    "Train a deep MLP on the MNIST dataset (you can load it using keras.datasets.mnist.load_data(). See if you can get over 98% precision. Try searching for the optimal learning rate by using the approach presented in this chapter (i.e., by growing the learning rate exponentially, plotting the loss, and finding the point where the loss shoots up). Try adding all the bells and whistles—save checkpoints, use early stopping, and plot learning curves using TensorBoard.\n",
    "\n",
    "You can also use a 2D Convnet model, as discussed in class\n",
    "\n",
    "Try to get to 98% without using Convolution layers, then see how far you can go with them.\n",
    "\n",
    "\n",
    "You could start with the CNN_MNIST_fashion example file, use tactics from the \"Functional_Keras_Approach\" file"
   ]
  }
 ],
 "metadata": {
  "kernelspec": {
   "display_name": "Python 3 (ipykernel)",
   "language": "python",
   "name": "python3"
  },
  "language_info": {
   "codemirror_mode": {
    "name": "ipython",
    "version": 3
   },
   "file_extension": ".py",
   "mimetype": "text/x-python",
   "name": "python",
   "nbconvert_exporter": "python",
   "pygments_lexer": "ipython3",
   "version": "3.9.7"
  }
 },
 "nbformat": 4,
 "nbformat_minor": 5
}
