{
 "cells": [
  {
   "cell_type": "markdown",
   "id": "2840009f-6918-4d47-b422-cfc0445afa18",
   "metadata": {},
   "source": [
    "# Revisiting Neural Nets and the Fashion Data Set\n",
    "\n",
    "Chapter 10 from \"Hands on Maching Learning with Scikit-learn, Keras and Tensorflow\" by Geron\n",
    "\n",
    "Using the MNIST Fashion set\n",
    "\n",
    "Using several Neural Net Systems, including a convolutional neural network (CNN)\n",
    "\n",
    "Note:  The book discusses Keras from a time when Keras and Tensorflow from a time when Keras and Tensorflow were separate packages\n",
    "\n",
    "Keras is now entirely within Tensorflow, so the code changes a bit"
   ]
  },
  {
   "cell_type": "code",
   "execution_count": 1,
   "id": "61b2fd8d-eefc-404c-991b-4a4e6c55c9cc",
   "metadata": {},
   "outputs": [],
   "source": [
    "import tensorflow as tf\n",
    "\n",
    "from tensorflow.keras.datasets import fashion_mnist\n",
    "\n",
    "(X_train_full, y_train_full), (X_test, y_test) = fashion_mnist.load_data()"
   ]
  },
  {
   "cell_type": "markdown",
   "id": "e034fa62-a76b-4332-83d1-1019c3e70b58",
   "metadata": {},
   "source": [
    "What does this data look like?   Is this flat data or images"
   ]
  },
  {
   "cell_type": "code",
   "execution_count": 2,
   "id": "e425d47e-1bd0-417e-9149-ccd454e2d6f9",
   "metadata": {},
   "outputs": [
    {
     "data": {
      "text/plain": [
       "(60000, 28, 28)"
      ]
     },
     "execution_count": 2,
     "metadata": {},
     "output_type": "execute_result"
    }
   ],
   "source": [
    "X_train_full.shape"
   ]
  },
  {
   "cell_type": "code",
   "execution_count": 3,
   "id": "de0eba1d-48da-4a75-9a43-7da6449220bb",
   "metadata": {},
   "outputs": [
    {
     "data": {
      "text/plain": [
       "dtype('uint8')"
      ]
     },
     "execution_count": 3,
     "metadata": {},
     "output_type": "execute_result"
    }
   ],
   "source": [
    "X_train_full.dtype"
   ]
  },
  {
   "cell_type": "code",
   "execution_count": 4,
   "id": "0995de79-820c-429c-808e-f2b5f401e382",
   "metadata": {},
   "outputs": [
    {
     "data": {
      "text/plain": [
       "(60000,)"
      ]
     },
     "execution_count": 4,
     "metadata": {},
     "output_type": "execute_result"
    }
   ],
   "source": [
    "y_train_full.shape"
   ]
  },
  {
   "cell_type": "markdown",
   "id": "84aae29a-537c-4d48-bc6a-ce3237e9fa93",
   "metadata": {},
   "source": [
    "Split into test and train, and scale to the range 0-1 as floating point"
   ]
  },
  {
   "cell_type": "code",
   "execution_count": 5,
   "id": "9d6a56ab-2656-4492-be66-bdf8c18c272e",
   "metadata": {},
   "outputs": [],
   "source": [
    "X_valid, X_train = X_train_full[:5000] / 255.0, X_train_full[5000:] / 255.0\n",
    "y_valid, y_train = y_train_full[:5000], y_train_full[5000:]\n",
    "X_test = X_test / 255.0"
   ]
  },
  {
   "cell_type": "code",
   "execution_count": 6,
   "id": "a7e29d3a-6c0a-450e-8c5b-1e14dec64b36",
   "metadata": {},
   "outputs": [],
   "source": [
    "class_names = [\"T-shirt/top\", \"Trouser\", \"Pullover\", \"Dress\", \"Coat\",\n",
    "               \"Sandal\", \"Shirt\", \"Sneaker\", \"Bag\", \"Ankle boot\"]"
   ]
  },
  {
   "cell_type": "code",
   "execution_count": 7,
   "id": "8135838d-eedb-40b7-b744-9bcf21314306",
   "metadata": {},
   "outputs": [
    {
     "data": {
      "text/plain": [
       "'Coat'"
      ]
     },
     "execution_count": 7,
     "metadata": {},
     "output_type": "execute_result"
    }
   ],
   "source": [
    "class_names[y_train[0]]"
   ]
  },
  {
   "cell_type": "markdown",
   "id": "62f5dab1-0f9a-4514-b1ba-b9946209eec1",
   "metadata": {},
   "source": [
    "This example is using the keras sequential API to create the model\n",
    "\n",
    "We will see some alternative approaches to model creation in Keras shortly\n",
    "\n",
    "The first line in the model flattens the input from 28x28 to a linear array of 784 elements"
   ]
  },
  {
   "cell_type": "code",
   "execution_count": 8,
   "id": "e52df8de-9278-46b9-bbc7-048833ce6752",
   "metadata": {},
   "outputs": [],
   "source": [
    "from tensorflow import keras\n",
    "\n",
    "model = keras.models.Sequential()\n",
    "model.add(keras.layers.Flatten(input_shape=[28, 28]))\n",
    "model.add(keras.layers.Dense(300, activation=\"relu\"))\n",
    "model.add(keras.layers.Dense(100, activation=\"relu\"))\n",
    "model.add(keras.layers.Dense(10, activation=\"softmax\"))"
   ]
  },
  {
   "cell_type": "markdown",
   "id": "4b2c3b31-3924-41b9-a653-713383291bec",
   "metadata": {},
   "source": [
    "We'll use model summary to look at the structure\n",
    "\n",
    "Note-this model has 266,610 fitted parameters in it..."
   ]
  },
  {
   "cell_type": "code",
   "execution_count": 10,
   "id": "c3aca2b0-667f-43a9-a356-d1b0e71d866b",
   "metadata": {},
   "outputs": [
    {
     "name": "stdout",
     "output_type": "stream",
     "text": [
      "Model: \"sequential\"\n",
      "_________________________________________________________________\n",
      "Layer (type)                 Output Shape              Param #   \n",
      "=================================================================\n",
      "flatten (Flatten)            (None, 784)               0         \n",
      "_________________________________________________________________\n",
      "dense (Dense)                (None, 300)               235500    \n",
      "_________________________________________________________________\n",
      "dense_1 (Dense)              (None, 100)               30100     \n",
      "_________________________________________________________________\n",
      "dense_2 (Dense)              (None, 10)                1010      \n",
      "=================================================================\n",
      "Total params: 266,610\n",
      "Trainable params: 266,610\n",
      "Non-trainable params: 0\n",
      "_________________________________________________________________\n"
     ]
    }
   ],
   "source": [
    "model.summary()"
   ]
  },
  {
   "cell_type": "code",
   "execution_count": 11,
   "id": "cb551a11-66d8-4aea-b05a-9dc9e7bd166e",
   "metadata": {},
   "outputs": [
    {
     "data": {
      "text/plain": [
       "[<tensorflow.python.keras.layers.core.Flatten at 0x293d079c280>,\n",
       " <tensorflow.python.keras.layers.core.Dense at 0x293d079c250>,\n",
       " <tensorflow.python.keras.layers.core.Dense at 0x2938eef57c0>,\n",
       " <tensorflow.python.keras.layers.core.Dense at 0x2938ef512e0>]"
      ]
     },
     "execution_count": 11,
     "metadata": {},
     "output_type": "execute_result"
    }
   ],
   "source": [
    "model.layers"
   ]
  },
  {
   "cell_type": "markdown",
   "id": "679e68c2-2d3f-4206-b56c-046d46848d5c",
   "metadata": {},
   "source": [
    "Accessing information about the layers in the model"
   ]
  },
  {
   "cell_type": "code",
   "execution_count": 12,
   "id": "b764c635-99a4-45e6-9df0-a1611c3da597",
   "metadata": {},
   "outputs": [],
   "source": [
    "hidden1 = model.layers[1]"
   ]
  },
  {
   "cell_type": "code",
   "execution_count": 13,
   "id": "32fd74d9-2bdc-4209-8f43-b7286b481e2d",
   "metadata": {},
   "outputs": [],
   "source": [
    "weights, biases = hidden1.get_weights()"
   ]
  },
  {
   "cell_type": "code",
   "execution_count": 14,
   "id": "43a30b76-6899-49a6-b272-866ff7584f11",
   "metadata": {},
   "outputs": [
    {
     "data": {
      "text/plain": [
       "(784, 300)"
      ]
     },
     "execution_count": 14,
     "metadata": {},
     "output_type": "execute_result"
    }
   ],
   "source": [
    "weights.shape"
   ]
  },
  {
   "cell_type": "code",
   "execution_count": 15,
   "id": "24390e51-99c8-47a3-ad0b-dc5973cdc0fa",
   "metadata": {},
   "outputs": [
    {
     "data": {
      "text/plain": [
       "array([[-0.02773496, -0.00802758,  0.0738873 , ...,  0.04725776,\n",
       "         0.05033705,  0.00122352],\n",
       "       [ 0.01885939,  0.04588819, -0.01682349, ...,  0.0678314 ,\n",
       "        -0.03067577, -0.04150062],\n",
       "       [ 0.00079258,  0.06567664,  0.06118095, ..., -0.01030447,\n",
       "        -0.05516519,  0.06651123],\n",
       "       ...,\n",
       "       [-0.02994388,  0.06598555, -0.04224728, ..., -0.01444571,\n",
       "         0.03809534,  0.02032288],\n",
       "       [-0.06870545,  0.02228687, -0.05006249, ..., -0.06733651,\n",
       "        -0.02956121,  0.03827229],\n",
       "       [ 0.01743324,  0.06066372, -0.004968  , ..., -0.01925364,\n",
       "         0.06343381,  0.00594452]], dtype=float32)"
      ]
     },
     "execution_count": 15,
     "metadata": {},
     "output_type": "execute_result"
    }
   ],
   "source": [
    "weights"
   ]
  },
  {
   "cell_type": "markdown",
   "id": "1fb4cd57-4615-43d0-9007-6151f8c7cc5f",
   "metadata": {},
   "source": [
    "In the model compile,  the loss function used is \"sparse_categorical_crossentropy\",  this is a version of cross_entropy that works with \"sparse\" category labels\n",
    "meaning that the labels are integer codes, not one hot encoding\n",
    "\n",
    "That means that we don't need to one-hot encode the input data- yay!\n",
    "\n",
    "    categorical_crossentropy- one hot encoding\n",
    "    sparse_categorical_crossentropy-digital encoding"
   ]
  },
  {
   "cell_type": "code",
   "execution_count": 16,
   "id": "40cc1e6c-4487-4d38-9e3d-5d774ba16497",
   "metadata": {},
   "outputs": [],
   "source": [
    "model.compile(loss=\"sparse_categorical_crossentropy\",\n",
    "              optimizer=\"adam\",\n",
    "              metrics=[\"accuracy\"])"
   ]
  },
  {
   "cell_type": "markdown",
   "id": "9308a05d-88c5-4e6c-8c4d-133b97d564ef",
   "metadata": {
    "tags": []
   },
   "source": [
    "### Keras tools for one-hot encoding\n",
    "\n",
    "There are nice tools in Keras for one-hot encoding,  there is a quick demo,  we won't use these in the model"
   ]
  },
  {
   "cell_type": "code",
   "execution_count": 17,
   "id": "b80f8c34-e246-4000-a29f-78a81840de64",
   "metadata": {},
   "outputs": [
    {
     "data": {
      "text/plain": [
       "(55000, 28, 28)"
      ]
     },
     "execution_count": 17,
     "metadata": {},
     "output_type": "execute_result"
    }
   ],
   "source": [
    "X_train.shape"
   ]
  },
  {
   "cell_type": "code",
   "execution_count": 18,
   "id": "40c9510b-c665-4817-81ff-87a8cf0d55f7",
   "metadata": {},
   "outputs": [
    {
     "name": "stdout",
     "output_type": "stream",
     "text": [
      "Epoch 1/30\n",
      "3438/3438 [==============================] - 8s 2ms/step - loss: 0.4808 - accuracy: 0.8256 - val_loss: 0.3782 - val_accuracy: 0.8638\n",
      "Epoch 2/30\n",
      "3438/3438 [==============================] - 8s 2ms/step - loss: 0.3637 - accuracy: 0.8660 - val_loss: 0.3271 - val_accuracy: 0.8832\n",
      "Epoch 3/30\n",
      "3438/3438 [==============================] - 8s 2ms/step - loss: 0.3269 - accuracy: 0.8772 - val_loss: 0.3112 - val_accuracy: 0.8880\n",
      "Epoch 4/30\n",
      "3438/3438 [==============================] - 8s 2ms/step - loss: 0.3035 - accuracy: 0.8865 - val_loss: 0.3065 - val_accuracy: 0.8858\n",
      "Epoch 5/30\n",
      "3438/3438 [==============================] - 8s 2ms/step - loss: 0.2877 - accuracy: 0.8926 - val_loss: 0.3172 - val_accuracy: 0.8836\n",
      "Epoch 6/30\n",
      "3438/3438 [==============================] - 8s 2ms/step - loss: 0.2720 - accuracy: 0.8965 - val_loss: 0.3094 - val_accuracy: 0.8866\n",
      "Epoch 7/30\n",
      "3438/3438 [==============================] - 8s 2ms/step - loss: 0.2639 - accuracy: 0.8995 - val_loss: 0.3483 - val_accuracy: 0.8796\n",
      "Epoch 8/30\n",
      "3438/3438 [==============================] - 8s 2ms/step - loss: 0.2520 - accuracy: 0.9040 - val_loss: 0.3403 - val_accuracy: 0.8852\n",
      "Epoch 9/30\n",
      "3438/3438 [==============================] - 8s 2ms/step - loss: 0.2439 - accuracy: 0.9073 - val_loss: 0.3062 - val_accuracy: 0.8930\n",
      "Epoch 10/30\n",
      "3438/3438 [==============================] - 8s 2ms/step - loss: 0.2348 - accuracy: 0.9092 - val_loss: 0.3189 - val_accuracy: 0.8916\n",
      "Epoch 11/30\n",
      "3438/3438 [==============================] - 8s 2ms/step - loss: 0.2260 - accuracy: 0.9157 - val_loss: 0.3024 - val_accuracy: 0.9008\n",
      "Epoch 12/30\n",
      "3438/3438 [==============================] - 8s 2ms/step - loss: 0.2182 - accuracy: 0.9172 - val_loss: 0.3429 - val_accuracy: 0.8920\n",
      "Epoch 13/30\n",
      "3438/3438 [==============================] - 7s 2ms/step - loss: 0.2127 - accuracy: 0.9184 - val_loss: 0.3139 - val_accuracy: 0.8978\n",
      "Epoch 14/30\n",
      "3438/3438 [==============================] - 7s 2ms/step - loss: 0.2070 - accuracy: 0.9213 - val_loss: 0.3472 - val_accuracy: 0.8890\n",
      "Epoch 15/30\n",
      "3438/3438 [==============================] - 8s 2ms/step - loss: 0.2043 - accuracy: 0.9216 - val_loss: 0.3215 - val_accuracy: 0.8990\n",
      "Epoch 16/30\n",
      "3438/3438 [==============================] - 8s 2ms/step - loss: 0.1967 - accuracy: 0.9244 - val_loss: 0.3554 - val_accuracy: 0.8902\n",
      "Epoch 17/30\n",
      "3438/3438 [==============================] - 7s 2ms/step - loss: 0.1908 - accuracy: 0.9263 - val_loss: 0.3418 - val_accuracy: 0.8976\n",
      "Epoch 18/30\n",
      "3438/3438 [==============================] - 7s 2ms/step - loss: 0.1858 - accuracy: 0.9291 - val_loss: 0.3553 - val_accuracy: 0.8996\n",
      "Epoch 19/30\n",
      "3438/3438 [==============================] - 8s 2ms/step - loss: 0.1805 - accuracy: 0.9299 - val_loss: 0.3491 - val_accuracy: 0.8974\n",
      "Epoch 20/30\n",
      "3438/3438 [==============================] - 8s 2ms/step - loss: 0.1778 - accuracy: 0.9321 - val_loss: 0.3841 - val_accuracy: 0.8958\n",
      "Epoch 21/30\n",
      "3438/3438 [==============================] - 8s 2ms/step - loss: 0.1743 - accuracy: 0.9336 - val_loss: 0.3549 - val_accuracy: 0.8990\n",
      "Epoch 22/30\n",
      "3438/3438 [==============================] - 7s 2ms/step - loss: 0.1688 - accuracy: 0.9357 - val_loss: 0.4080 - val_accuracy: 0.8952\n",
      "Epoch 23/30\n",
      "3438/3438 [==============================] - 8s 2ms/step - loss: 0.1678 - accuracy: 0.9362 - val_loss: 0.3936 - val_accuracy: 0.8988\n",
      "Epoch 24/30\n",
      "3438/3438 [==============================] - 7s 2ms/step - loss: 0.1645 - accuracy: 0.9369 - val_loss: 0.3975 - val_accuracy: 0.9050\n",
      "Epoch 25/30\n",
      "3438/3438 [==============================] - 8s 2ms/step - loss: 0.1599 - accuracy: 0.9393 - val_loss: 0.4041 - val_accuracy: 0.9020\n",
      "Epoch 26/30\n",
      "3438/3438 [==============================] - 8s 2ms/step - loss: 0.1570 - accuracy: 0.9400 - val_loss: 0.4192 - val_accuracy: 0.8992\n",
      "Epoch 27/30\n",
      "3438/3438 [==============================] - 7s 2ms/step - loss: 0.1541 - accuracy: 0.9407 - val_loss: 0.4208 - val_accuracy: 0.8950\n",
      "Epoch 28/30\n",
      "3438/3438 [==============================] - 7s 2ms/step - loss: 0.1551 - accuracy: 0.9401 - val_loss: 0.4168 - val_accuracy: 0.8940\n",
      "Epoch 29/30\n",
      "3438/3438 [==============================] - 8s 2ms/step - loss: 0.1466 - accuracy: 0.9438 - val_loss: 0.4331 - val_accuracy: 0.8998\n",
      "Epoch 30/30\n",
      "3438/3438 [==============================] - 7s 2ms/step - loss: 0.1453 - accuracy: 0.9445 - val_loss: 0.4383 - val_accuracy: 0.8964\n"
     ]
    }
   ],
   "source": [
    "history = model.fit(X_train, y_train, epochs=30,batch_size=16,validation_data=(X_valid, y_valid))"
   ]
  },
  {
   "cell_type": "code",
   "execution_count": 19,
   "id": "efbbb50a-5146-4310-83f4-aebb5f6563f5",
   "metadata": {},
   "outputs": [
    {
     "data": {
      "image/png": "[encoded data removed]",
      "text/plain": [
       "<Figure size 576x360 with 1 Axes>"
      ]
     },
     "metadata": {
      "needs_background": "light"
     },
     "output_type": "display_data"
    }
   ],
   "source": [
    "import pandas as pd\n",
    "import matplotlib.pyplot as plt\n",
    "\n",
    "pd.DataFrame(history.history).plot(figsize=(8, 5))\n",
    "plt.grid(True)\n",
    "plt.gca().set_ylim(0, 1) # set the vertical range to [0-1]\n",
    "plt.show()"
   ]
  },
  {
   "cell_type": "code",
   "execution_count": 20,
   "id": "1558d55d-ab03-4fb0-b048-844204451673",
   "metadata": {},
   "outputs": [
    {
     "name": "stdout",
     "output_type": "stream",
     "text": [
      "313/313 [==============================] - 0s 1ms/step - loss: 0.4806 - accuracy: 0.8824\n"
     ]
    },
    {
     "data": {
      "text/plain": [
       "[0.48061132431030273, 0.8823999762535095]"
      ]
     },
     "execution_count": 20,
     "metadata": {},
     "output_type": "execute_result"
    }
   ],
   "source": [
    " model.evaluate(X_test, y_test)"
   ]
  },
  {
   "cell_type": "markdown",
   "id": "4b7590d7-33e6-47ce-b515-b37bacba6463",
   "metadata": {},
   "source": [
    "## Adding a tensorboard callback"
   ]
  },
  {
   "cell_type": "code",
   "execution_count": 21,
   "id": "8906837e-c75a-4f22-9814-c38631e1af02",
   "metadata": {},
   "outputs": [],
   "source": [
    "import os\n",
    "root_logdir = os.path.join(os.curdir, \"my_logs\")\n",
    "\n",
    "def get_run_logdir():\n",
    "    import time\n",
    "    run_id = time.strftime(\"run_%Y_%m_%d-%H_%M_%S\")\n",
    "    return os.path.join(root_logdir, run_id)\n",
    "\n",
    "run_logdir = get_run_logdir()"
   ]
  },
  {
   "cell_type": "code",
   "execution_count": 22,
   "id": "7bd611ca-a17c-4432-93e3-7533d217430d",
   "metadata": {},
   "outputs": [
    {
     "name": "stdout",
     "output_type": "stream",
     "text": [
      "Epoch 1/30\n",
      "430/430 [==============================] - 1s 3ms/step - loss: 0.1013 - accuracy: 0.9601 - val_loss: 0.4438 - val_accuracy: 0.9080\n",
      "Epoch 2/30\n",
      "430/430 [==============================] - 1s 2ms/step - loss: 0.0918 - accuracy: 0.9642 - val_loss: 0.4663 - val_accuracy: 0.9072\n",
      "Epoch 3/30\n",
      "430/430 [==============================] - 1s 2ms/step - loss: 0.0880 - accuracy: 0.9661 - val_loss: 0.4793 - val_accuracy: 0.9074\n",
      "Epoch 4/30\n",
      "430/430 [==============================] - 1s 2ms/step - loss: 0.0858 - accuracy: 0.9674 - val_loss: 0.4933 - val_accuracy: 0.9082\n",
      "Epoch 5/30\n",
      "430/430 [==============================] - 1s 2ms/step - loss: 0.0844 - accuracy: 0.9676 - val_loss: 0.4840 - val_accuracy: 0.9080\n",
      "Epoch 6/30\n",
      "430/430 [==============================] - 1s 2ms/step - loss: 0.0831 - accuracy: 0.9671 - val_loss: 0.5186 - val_accuracy: 0.9066\n",
      "Epoch 7/30\n",
      "430/430 [==============================] - 1s 2ms/step - loss: 0.0817 - accuracy: 0.9677 - val_loss: 0.5200 - val_accuracy: 0.9042\n",
      "Epoch 8/30\n",
      "430/430 [==============================] - 1s 2ms/step - loss: 0.0808 - accuracy: 0.9681 - val_loss: 0.5222 - val_accuracy: 0.9042\n",
      "Epoch 9/30\n",
      "430/430 [==============================] - 1s 2ms/step - loss: 0.0796 - accuracy: 0.9684 - val_loss: 0.5620 - val_accuracy: 0.9050\n",
      "Epoch 10/30\n",
      "430/430 [==============================] - 1s 2ms/step - loss: 0.0774 - accuracy: 0.9699 - val_loss: 0.5323 - val_accuracy: 0.9006\n",
      "Epoch 11/30\n",
      "430/430 [==============================] - 1s 2ms/step - loss: 0.0790 - accuracy: 0.9694 - val_loss: 0.5455 - val_accuracy: 0.9030\n",
      "Epoch 12/30\n",
      "430/430 [==============================] - 1s 2ms/step - loss: 0.0737 - accuracy: 0.9707 - val_loss: 0.5694 - val_accuracy: 0.8988\n",
      "Epoch 13/30\n",
      "430/430 [==============================] - 1s 2ms/step - loss: 0.0740 - accuracy: 0.9715 - val_loss: 0.5684 - val_accuracy: 0.9018\n",
      "Epoch 14/30\n",
      "430/430 [==============================] - 1s 2ms/step - loss: 0.0708 - accuracy: 0.9721 - val_loss: 0.5986 - val_accuracy: 0.9004\n",
      "Epoch 15/30\n",
      "430/430 [==============================] - 1s 2ms/step - loss: 0.0676 - accuracy: 0.9735 - val_loss: 0.5988 - val_accuracy: 0.8998\n",
      "Epoch 16/30\n",
      "430/430 [==============================] - 1s 2ms/step - loss: 0.0656 - accuracy: 0.9746 - val_loss: 0.6039 - val_accuracy: 0.8988\n",
      "Epoch 17/30\n",
      "430/430 [==============================] - 1s 2ms/step - loss: 0.0650 - accuracy: 0.9747 - val_loss: 0.6178 - val_accuracy: 0.9062\n",
      "Epoch 18/30\n",
      "430/430 [==============================] - 1s 2ms/step - loss: 0.0607 - accuracy: 0.9770 - val_loss: 0.6410 - val_accuracy: 0.9054\n",
      "Epoch 19/30\n",
      "430/430 [==============================] - 1s 2ms/step - loss: 0.0624 - accuracy: 0.9757 - val_loss: 0.6379 - val_accuracy: 0.9050\n",
      "Epoch 20/30\n",
      "430/430 [==============================] - 1s 2ms/step - loss: 0.0629 - accuracy: 0.9757 - val_loss: 0.6810 - val_accuracy: 0.8968\n",
      "Epoch 21/30\n",
      "430/430 [==============================] - 1s 2ms/step - loss: 0.0611 - accuracy: 0.9764 - val_loss: 0.6716 - val_accuracy: 0.9062\n",
      "Epoch 22/30\n",
      "430/430 [==============================] - 1s 2ms/step - loss: 0.0555 - accuracy: 0.9790 - val_loss: 0.6601 - val_accuracy: 0.9004\n",
      "Epoch 23/30\n",
      "430/430 [==============================] - 1s 2ms/step - loss: 0.0531 - accuracy: 0.9803 - val_loss: 0.7008 - val_accuracy: 0.9038\n",
      "Epoch 24/30\n",
      "430/430 [==============================] - 1s 2ms/step - loss: 0.0564 - accuracy: 0.9783 - val_loss: 0.7141 - val_accuracy: 0.9036\n",
      "Epoch 25/30\n",
      "430/430 [==============================] - 1s 2ms/step - loss: 0.0516 - accuracy: 0.9802 - val_loss: 0.7121 - val_accuracy: 0.9042\n",
      "Epoch 26/30\n",
      "430/430 [==============================] - 1s 2ms/step - loss: 0.0508 - accuracy: 0.9805 - val_loss: 0.7073 - val_accuracy: 0.9060\n",
      "Epoch 27/30\n",
      "430/430 [==============================] - 1s 2ms/step - loss: 0.0518 - accuracy: 0.9801 - val_loss: 0.7728 - val_accuracy: 0.8994\n",
      "Epoch 28/30\n",
      "430/430 [==============================] - 1s 2ms/step - loss: 0.0475 - accuracy: 0.9819 - val_loss: 0.7575 - val_accuracy: 0.9068\n",
      "Epoch 29/30\n",
      "430/430 [==============================] - 1s 2ms/step - loss: 0.0445 - accuracy: 0.9829 - val_loss: 0.7787 - val_accuracy: 0.9046\n",
      "Epoch 30/30\n",
      "430/430 [==============================] - 1s 2ms/step - loss: 0.0466 - accuracy: 0.9821 - val_loss: 0.7927 - val_accuracy: 0.9050\n"
     ]
    }
   ],
   "source": [
    "# Build and compile your model\n",
    "tensorboard_cb = keras.callbacks.TensorBoard(run_logdir)\n",
    "\n",
    "history = model.fit(X_train, y_train, epochs=30,batch_size=128,\n",
    "                    validation_data=(X_valid, y_valid),\n",
    "                    callbacks=[tensorboard_cb])"
   ]
  },
  {
   "cell_type": "code",
   "execution_count": 23,
   "id": "92dcaf16-c20f-433a-8c31-fbc3964d5cdd",
   "metadata": {},
   "outputs": [],
   "source": [
    "# tensorboard does not shut down cleanly on it's own.  You have to manually delete a file so that it does not restart\n",
    "# using the previous data set.   Shut it down (on Windows) using this command,   you need to change the user name from hdavi to your\n",
    "# user name\n",
    "\n",
    "dir = \"C:\\\\Users\\\\hdavi\\\\AppData\\\\Local\\\\Temp\\\\.tensorboard-info\"\n",
    "for f in os.listdir(dir):\n",
    "    os.remove(os.path.join(dir, f))"
   ]
  },
  {
   "cell_type": "code",
   "execution_count": 24,
   "id": "4fc46736-74fe-4748-91d0-1174723dd905",
   "metadata": {},
   "outputs": [
    {
     "data": {
      "text/html": [
       "\n",
       "      <iframe id=\"tensorboard-frame-f9e1a02a92648d7e\" width=\"100%\" height=\"800\" frameborder=\"0\">\n",
       "      </iframe>\n",
       "      <script>\n",
       "        (function() {\n",
       "          const frame = document.getElementById(\"tensorboard-frame-f9e1a02a92648d7e\");\n",
       "          const url = new URL(\"/\", window.location);\n",
       "          const port = 6006;\n",
       "          if (port) {\n",
       "            url.port = port;\n",
       "          }\n",
       "          frame.src = url;\n",
       "        })();\n",
       "      </script>\n",
       "    "
      ],
      "text/plain": [
       "<IPython.core.display.HTML object>"
      ]
     },
     "metadata": {},
     "output_type": "display_data"
    }
   ],
   "source": [
    "%load_ext tensorboard\n",
    "%tensorboard --logdir=./my_logs --port=6006"
   ]
  },
  {
   "cell_type": "markdown",
   "id": "bff948b5-eb17-42ee-8981-8dd4d3075404",
   "metadata": {},
   "source": [
    "# Convolutional Neural networks for the same data set\n",
    "\n",
    "See Geron, chapter 14 for a discussion of CNN\n"
   ]
  },
  {
   "cell_type": "markdown",
   "id": "dbc53b03-0098-4cc5-8f75-d5304e78f6de",
   "metadata": {},
   "source": [
    "# The CNN expects a channel number, which is not in the current input data\n",
    "\n",
    "Color images have three channels RGB, so data is usally stored as,  width x height x channel\n",
    "\n",
    "We will need to reshape the data for the ConvNet so that the number of channels is 1"
   ]
  },
  {
   "cell_type": "code",
   "execution_count": 26,
   "id": "eff9150e-7773-4123-ba3a-2360e5063dc1",
   "metadata": {},
   "outputs": [
    {
     "name": "stdout",
     "output_type": "stream",
     "text": [
      "(10000, 28, 28)\n",
      "(5000, 28, 28)\n",
      "(55000, 28, 28)\n"
     ]
    }
   ],
   "source": [
    "print(X_test.shape)\n",
    "print(X_valid.shape)\n",
    "print(X_train.shape)"
   ]
  },
  {
   "cell_type": "code",
   "execution_count": 27,
   "id": "6afe567c-e41f-4d5a-a5db-f19a5091a705",
   "metadata": {},
   "outputs": [],
   "source": [
    "X_test=X_test.reshape(10000,28,28,1)\n",
    "X_valid=X_valid.reshape(5000,28,28,1)\n",
    "X_train=X_train.reshape(55000,28,28,1)"
   ]
  },
  {
   "cell_type": "code",
   "execution_count": 28,
   "id": "53989aa7-84e9-4166-8688-fa0aa2c152e4",
   "metadata": {},
   "outputs": [],
   "source": [
    "### Here is the Convolutional Network set up "
   ]
  },
  {
   "cell_type": "code",
   "execution_count": 29,
   "id": "91600e0b-6a3f-49aa-8d73-d4995fddd9f1",
   "metadata": {},
   "outputs": [],
   "source": [
    "modelc = keras.models.Sequential([\n",
    "    keras.layers.Conv2D(64, 7, activation=\"relu\", padding=\"same\",\n",
    "                        input_shape=[28, 28,1]),\n",
    "    keras.layers.MaxPooling2D(2),\n",
    "    keras.layers.Conv2D(128, 3, activation=\"relu\", padding=\"same\"),\n",
    "    keras.layers.MaxPooling2D(2),\n",
    "    keras.layers.Conv2D(256, 3, activation=\"relu\", padding=\"same\"),\n",
    "    keras.layers.MaxPooling2D(2),\n",
    "    keras.layers.Flatten(),\n",
    "    keras.layers.Dense(128, activation=\"relu\"),\n",
    "    keras.layers.Dropout(0.5),\n",
    "    keras.layers.Dense(64, activation=\"relu\"),\n",
    "    keras.layers.Dropout(0.5),\n",
    "    keras.layers.Dense(10, activation=\"softmax\")\n",
    "])"
   ]
  },
  {
   "cell_type": "code",
   "execution_count": 30,
   "id": "a0967e19-c62d-4fb7-a934-f906a56e79df",
   "metadata": {},
   "outputs": [
    {
     "name": "stdout",
     "output_type": "stream",
     "text": [
      "Model: \"sequential_1\"\n",
      "_________________________________________________________________\n",
      "Layer (type)                 Output Shape              Param #   \n",
      "=================================================================\n",
      "conv2d (Conv2D)              (None, 28, 28, 64)        3200      \n",
      "_________________________________________________________________\n",
      "max_pooling2d (MaxPooling2D) (None, 14, 14, 64)        0         \n",
      "_________________________________________________________________\n",
      "conv2d_1 (Conv2D)            (None, 14, 14, 128)       73856     \n",
      "_________________________________________________________________\n",
      "max_pooling2d_1 (MaxPooling2 (None, 7, 7, 128)         0         \n",
      "_________________________________________________________________\n",
      "conv2d_2 (Conv2D)            (None, 7, 7, 256)         295168    \n",
      "_________________________________________________________________\n",
      "max_pooling2d_2 (MaxPooling2 (None, 3, 3, 256)         0         \n",
      "_________________________________________________________________\n",
      "flatten_1 (Flatten)          (None, 2304)              0         \n",
      "_________________________________________________________________\n",
      "dense_3 (Dense)              (None, 128)               295040    \n",
      "_________________________________________________________________\n",
      "dropout (Dropout)            (None, 128)               0         \n",
      "_________________________________________________________________\n",
      "dense_4 (Dense)              (None, 64)                8256      \n",
      "_________________________________________________________________\n",
      "dropout_1 (Dropout)          (None, 64)                0         \n",
      "_________________________________________________________________\n",
      "dense_5 (Dense)              (None, 10)                650       \n",
      "=================================================================\n",
      "Total params: 676,170\n",
      "Trainable params: 676,170\n",
      "Non-trainable params: 0\n",
      "_________________________________________________________________\n"
     ]
    }
   ],
   "source": [
    "modelc.summary()"
   ]
  },
  {
   "cell_type": "code",
   "execution_count": 31,
   "id": "ed0b4ad4-420a-4a49-bb1a-9482da653573",
   "metadata": {},
   "outputs": [],
   "source": [
    "modelc.compile(loss=\"sparse_categorical_crossentropy\",\n",
    "              optimizer=\"adam\",\n",
    "              metrics=[\"accuracy\"])"
   ]
  },
  {
   "cell_type": "code",
   "execution_count": 32,
   "id": "51df3218-cf02-48ec-9614-f07a21b4b2c1",
   "metadata": {},
   "outputs": [],
   "source": [
    "run_logdir_c = get_run_logdir()"
   ]
  },
  {
   "cell_type": "code",
   "execution_count": 43,
   "id": "b6311f6a-4cf4-4c66-9c7b-7896c7f26f3e",
   "metadata": {},
   "outputs": [
    {
     "name": "stdout",
     "output_type": "stream",
     "text": [
      "Epoch 1/30\n",
      "860/860 [==============================] - 5s 6ms/step - loss: 0.0503 - accuracy: 0.9853 - val_loss: 0.5702 - val_accuracy: 0.9218\n",
      "Epoch 2/30\n",
      "860/860 [==============================] - 5s 6ms/step - loss: 0.0515 - accuracy: 0.9853 - val_loss: 0.5453 - val_accuracy: 0.9224\n",
      "Epoch 3/30\n",
      "860/860 [==============================] - 5s 6ms/step - loss: 0.0474 - accuracy: 0.9856 - val_loss: 0.5603 - val_accuracy: 0.9220\n",
      "Epoch 4/30\n",
      "860/860 [==============================] - 5s 6ms/step - loss: 0.0507 - accuracy: 0.9858 - val_loss: 0.5965 - val_accuracy: 0.9212\n",
      "Epoch 5/30\n",
      "860/860 [==============================] - 5s 5ms/step - loss: 0.0460 - accuracy: 0.9860 - val_loss: 0.6076 - val_accuracy: 0.9230\n",
      "Epoch 6/30\n",
      "860/860 [==============================] - 5s 5ms/step - loss: 0.0503 - accuracy: 0.9856 - val_loss: 0.5438 - val_accuracy: 0.9220\n",
      "Epoch 7/30\n",
      "860/860 [==============================] - 5s 6ms/step - loss: 0.0535 - accuracy: 0.9856 - val_loss: 0.5583 - val_accuracy: 0.9250\n",
      "Epoch 8/30\n",
      "860/860 [==============================] - 5s 5ms/step - loss: 0.0414 - accuracy: 0.9878 - val_loss: 0.5168 - val_accuracy: 0.9232\n",
      "Epoch 9/30\n",
      "860/860 [==============================] - 5s 5ms/step - loss: 0.0453 - accuracy: 0.9872 - val_loss: 0.6121 - val_accuracy: 0.9258\n",
      "Epoch 10/30\n",
      "860/860 [==============================] - 5s 5ms/step - loss: 0.0439 - accuracy: 0.9872 - val_loss: 0.5953 - val_accuracy: 0.9216: 0s - loss: 0.0441 - accuracy:  - ETA: 0s - loss: 0.0439 - accuracy: \n",
      "Epoch 11/30\n",
      "860/860 [==============================] - 5s 5ms/step - loss: 0.0474 - accuracy: 0.9865 - val_loss: 0.5610 - val_accuracy: 0.9188\n",
      "Epoch 12/30\n",
      "860/860 [==============================] - 5s 5ms/step - loss: 0.0400 - accuracy: 0.9884 - val_loss: 0.5464 - val_accuracy: 0.9228\n",
      "Epoch 13/30\n",
      "860/860 [==============================] - 5s 5ms/step - loss: 0.0458 - accuracy: 0.9868 - val_loss: 0.6335 - val_accuracy: 0.9258\n",
      "Epoch 14/30\n",
      "860/860 [==============================] - 5s 5ms/step - loss: 0.0372 - accuracy: 0.9890 - val_loss: 0.6442 - val_accuracy: 0.9264\n",
      "Epoch 15/30\n",
      "860/860 [==============================] - 5s 5ms/step - loss: 0.0442 - accuracy: 0.9873 - val_loss: 0.5690 - val_accuracy: 0.9248\n",
      "Epoch 16/30\n",
      "860/860 [==============================] - 5s 5ms/step - loss: 0.0434 - accuracy: 0.9872 - val_loss: 0.6042 - val_accuracy: 0.9214\n",
      "Epoch 17/30\n",
      "860/860 [==============================] - 5s 5ms/step - loss: 0.0435 - accuracy: 0.9879 - val_loss: 0.5495 - val_accuracy: 0.9228\n",
      "Epoch 18/30\n",
      "860/860 [==============================] - 5s 5ms/step - loss: 0.0354 - accuracy: 0.9885 - val_loss: 0.6893 - val_accuracy: 0.9230\n",
      "Epoch 19/30\n",
      "860/860 [==============================] - 5s 5ms/step - loss: 0.0445 - accuracy: 0.9869 - val_loss: 0.6442 - val_accuracy: 0.9204 - loss: 0.0445 - accuracy: 0.\n",
      "Epoch 20/30\n",
      "860/860 [==============================] - 5s 5ms/step - loss: 0.0386 - accuracy: 0.9886 - val_loss: 0.6436 - val_accuracy: 0.9218\n",
      "Epoch 21/30\n",
      "860/860 [==============================] - 5s 5ms/step - loss: 0.0390 - accuracy: 0.9889 - val_loss: 0.6246 - val_accuracy: 0.9228\n",
      "Epoch 22/30\n",
      "860/860 [==============================] - 5s 5ms/step - loss: 0.0417 - accuracy: 0.9878 - val_loss: 0.5936 - val_accuracy: 0.9214\n",
      "Epoch 23/30\n",
      "860/860 [==============================] - 5s 5ms/step - loss: 0.0404 - accuracy: 0.9887 - val_loss: 0.7050 - val_accuracy: 0.9172 - loss: 0.0382 - \n",
      "Epoch 24/30\n",
      "860/860 [==============================] - 5s 5ms/step - loss: 0.0370 - accuracy: 0.9894 - val_loss: 0.6836 - val_accuracy: 0.9218\n",
      "Epoch 25/30\n",
      "860/860 [==============================] - 5s 5ms/step - loss: 0.0410 - accuracy: 0.9884 - val_loss: 0.6745 - val_accuracy: 0.9224\n",
      "Epoch 26/30\n",
      "860/860 [==============================] - 5s 5ms/step - loss: 0.0368 - accuracy: 0.9895 - val_loss: 0.6795 - val_accuracy: 0.9238\n",
      "Epoch 27/30\n",
      "860/860 [==============================] - 5s 5ms/step - loss: 0.0434 - accuracy: 0.9882 - val_loss: 0.6141 - val_accuracy: 0.9206\n",
      "Epoch 28/30\n",
      "860/860 [==============================] - 5s 6ms/step - loss: 0.0339 - accuracy: 0.9907 - val_loss: 0.6779 - val_accuracy: 0.9244\n",
      "Epoch 29/30\n",
      "860/860 [==============================] - 5s 5ms/step - loss: 0.0306 - accuracy: 0.9911 - val_loss: 0.7237 - val_accuracy: 0.9200\n",
      "Epoch 30/30\n",
      "860/860 [==============================] - 5s 5ms/step - loss: 0.0423 - accuracy: 0.9887 - val_loss: 0.5385 - val_accuracy: 0.9184\n"
     ]
    }
   ],
   "source": [
    "# Build and compile your model\n",
    "tensorboard_cb = keras.callbacks.TensorBoard(run_logdir)\n",
    "\n",
    "history = modelc.fit(X_train, y_train, epochs=30,batch_size=64,\n",
    "                    validation_data=(X_valid, y_valid),\n",
    "                    callbacks=[tensorboard_cb])"
   ]
  },
  {
   "cell_type": "code",
   "execution_count": 34,
   "id": "566dd54b-9388-40be-81d4-cb185b81d406",
   "metadata": {},
   "outputs": [
    {
     "name": "stdout",
     "output_type": "stream",
     "text": [
      "313/313 [==============================] - 1s 2ms/step - loss: 0.4072 - accuracy: 0.9178\n"
     ]
    },
    {
     "data": {
      "text/plain": [
       "[0.40720805525779724, 0.9178000092506409]"
      ]
     },
     "execution_count": 34,
     "metadata": {},
     "output_type": "execute_result"
    }
   ],
   "source": [
    " modelc.evaluate(X_test, y_test)"
   ]
  },
  {
   "cell_type": "code",
   "execution_count": 35,
   "id": "2531917d-dcbf-4531-b984-89bd5cf5f34c",
   "metadata": {},
   "outputs": [
    {
     "data": {
      "text/plain": [
       "Reusing TensorBoard on port 6006 (pid 29932), started 0:42:41 ago. (Use '!kill 29932' to kill it.)"
      ]
     },
     "metadata": {},
     "output_type": "display_data"
    },
    {
     "data": {
      "text/html": [
       "\n",
       "      <iframe id=\"tensorboard-frame-ded09646ad42ae55\" width=\"100%\" height=\"800\" frameborder=\"0\">\n",
       "      </iframe>\n",
       "      <script>\n",
       "        (function() {\n",
       "          const frame = document.getElementById(\"tensorboard-frame-ded09646ad42ae55\");\n",
       "          const url = new URL(\"/\", window.location);\n",
       "          const port = 6006;\n",
       "          if (port) {\n",
       "            url.port = port;\n",
       "          }\n",
       "          frame.src = url;\n",
       "        })();\n",
       "      </script>\n",
       "    "
      ],
      "text/plain": [
       "<IPython.core.display.HTML object>"
      ]
     },
     "metadata": {},
     "output_type": "display_data"
    }
   ],
   "source": [
    "%tensorboard --logdir=./my_logs --port=6006"
   ]
  },
  {
   "cell_type": "markdown",
   "id": "2b935b7d-7d77-4366-ab5a-c9db6ddfe82f",
   "metadata": {},
   "source": [
    "## ResNet-34\n",
    "\n",
    "This is a Residual Network (see Geron chapter 14), aka a ResNet\n",
    "\n",
    "it has a \"skip layer\" connection implmented in the the keras API so that there is a skipping of layers from convolutions to the classifier layer"
   ]
  },
  {
   "cell_type": "code",
   "execution_count": 36,
   "id": "aeb09506-f4f5-4cdb-b14f-ddbe8c0a10f5",
   "metadata": {},
   "outputs": [],
   "source": [
    "class ResidualUnit(keras.layers.Layer):\n",
    "    def __init__(self, filters, strides=1, activation=\"relu\", **kwargs):\n",
    "        super().__init__(**kwargs)\n",
    "        self.activation = keras.activations.get(activation)\n",
    "        self.main_layers = [\n",
    "            keras.layers.Conv2D(filters, 3, strides=strides,\n",
    "                                padding=\"same\", use_bias=False),\n",
    "            keras.layers.BatchNormalization(),\n",
    "            self.activation,\n",
    "            keras.layers.Conv2D(filters, 3, strides=1,\n",
    "                                padding=\"same\", use_bias=False),\n",
    "            keras.layers.BatchNormalization()]\n",
    "        self.skip_layers = []\n",
    "        if strides > 1:\n",
    "            self.skip_layers = [\n",
    "                keras.layers.Conv2D(filters, 1, strides=strides,\n",
    "                                    padding=\"same\", use_bias=False),\n",
    "                keras.layers.BatchNormalization()]\n",
    "\n",
    "    def call(self, inputs):\n",
    "        Z = inputs\n",
    "        for layer in self.main_layers:\n",
    "            Z = layer(Z)\n",
    "        skip_Z = inputs\n",
    "        for layer in self.skip_layers:\n",
    "            skip_Z = layer(skip_Z)\n",
    "        return self.activation(Z + skip_Z)"
   ]
  },
  {
   "cell_type": "code",
   "execution_count": 37,
   "id": "806ba174-e122-461e-9650-561ad9873978",
   "metadata": {},
   "outputs": [],
   "source": [
    "model2 = keras.models.Sequential()\n",
    "model2.add(keras.layers.Conv2D(64, 7, strides=2, input_shape=[224, 224, 3],\n",
    "                              padding=\"same\", use_bias=False))\n",
    "model2.add(keras.layers.BatchNormalization())\n",
    "model2.add(keras.layers.Activation(\"relu\"))\n",
    "model2.add(keras.layers.MaxPool2D(pool_size=3, strides=2, padding=\"same\"))\n",
    "prev_filters = 64\n",
    "for filters in [64] * 3 + [128] * 4 + [256] * 6 + [512] * 3:\n",
    "    strides = 1 if filters == prev_filters else 2\n",
    "    model2.add(ResidualUnit(filters, strides=strides))\n",
    "    prev_filters = filters\n",
    "model2.add(keras.layers.GlobalAvgPool2D())\n",
    "model2.add(keras.layers.Flatten())\n",
    "model2.add(keras.layers.Dense(10, activation=\"softmax\"))"
   ]
  },
  {
   "cell_type": "code",
   "execution_count": 38,
   "id": "c58541ba-27bb-4fd0-b02c-f02b63af91df",
   "metadata": {},
   "outputs": [],
   "source": [
    "model2.compile(loss=\"sparse_categorical_crossentropy\",\n",
    "              optimizer=\"adam\",\n",
    "              metrics=[\"accuracy\"])"
   ]
  },
  {
   "cell_type": "code",
   "execution_count": 40,
   "id": "cd266815-1426-4fe2-b0df-3b6656efcdd1",
   "metadata": {},
   "outputs": [],
   "source": [
    "# Watch Tensorboard (above) as this model is fitted, it will show the fitting progress graph in real-time as it runs"
   ]
  },
  {
   "cell_type": "code",
   "execution_count": 45,
   "id": "51e33ced-b8aa-4b2f-98f0-fd76592b63f5",
   "metadata": {},
   "outputs": [
    {
     "name": "stdout",
     "output_type": "stream",
     "text": [
      "Epoch 1/30\n",
      "860/860 [==============================] - 5s 6ms/step - loss: 0.0370 - accuracy: 0.9892 - val_loss: 0.6404 - val_accuracy: 0.9152\n",
      "Epoch 2/30\n",
      "860/860 [==============================] - 5s 5ms/step - loss: 0.0386 - accuracy: 0.9893 - val_loss: 0.6439 - val_accuracy: 0.9196\n",
      "Epoch 3/30\n",
      "860/860 [==============================] - 5s 5ms/step - loss: 0.0421 - accuracy: 0.9880 - val_loss: 0.7158 - val_accuracy: 0.9212\n",
      "Epoch 4/30\n",
      "860/860 [==============================] - 5s 5ms/step - loss: 0.0327 - accuracy: 0.9916 - val_loss: 0.7641 - val_accuracy: 0.9208\n",
      "Epoch 5/30\n",
      "860/860 [==============================] - 5s 5ms/step - loss: 0.0346 - accuracy: 0.9901 - val_loss: 0.7646 - val_accuracy: 0.9260\n",
      "Epoch 6/30\n",
      "860/860 [==============================] - 5s 5ms/step - loss: 0.0303 - accuracy: 0.9913 - val_loss: 0.8050 - val_accuracy: 0.9244\n",
      "Epoch 7/30\n",
      "860/860 [==============================] - 5s 6ms/step - loss: 0.0515 - accuracy: 0.9869 - val_loss: 0.6588 - val_accuracy: 0.9242\n",
      "Epoch 8/30\n",
      "860/860 [==============================] - 5s 6ms/step - loss: 0.0307 - accuracy: 0.9920 - val_loss: 0.7156 - val_accuracy: 0.9218\n",
      "Epoch 9/30\n",
      "860/860 [==============================] - 5s 5ms/step - loss: 0.0352 - accuracy: 0.9899 - val_loss: 0.6747 - val_accuracy: 0.9164\n",
      "Epoch 10/30\n",
      "860/860 [==============================] - 5s 6ms/step - loss: 0.0357 - accuracy: 0.9898 - val_loss: 0.7857 - val_accuracy: 0.9212\n",
      "Epoch 11/30\n",
      "860/860 [==============================] - 5s 6ms/step - loss: 0.0397 - accuracy: 0.9898 - val_loss: 0.6357 - val_accuracy: 0.9168\n",
      "Epoch 12/30\n",
      "860/860 [==============================] - 5s 6ms/step - loss: 0.0348 - accuracy: 0.9905 - val_loss: 0.8252 - val_accuracy: 0.9208\n",
      "Epoch 13/30\n",
      "860/860 [==============================] - 5s 6ms/step - loss: 0.0371 - accuracy: 0.9902 - val_loss: 0.7079 - val_accuracy: 0.9208\n",
      "Epoch 14/30\n",
      "860/860 [==============================] - 5s 6ms/step - loss: 0.0322 - accuracy: 0.9916 - val_loss: 0.7515 - val_accuracy: 0.9266\n",
      "Epoch 15/30\n",
      "860/860 [==============================] - 5s 6ms/step - loss: 0.0395 - accuracy: 0.9897 - val_loss: 0.6847 - val_accuracy: 0.9272\n",
      "Epoch 16/30\n",
      "860/860 [==============================] - 5s 6ms/step - loss: 0.0374 - accuracy: 0.9897 - val_loss: 0.7206 - val_accuracy: 0.9126\n",
      "Epoch 17/30\n",
      "860/860 [==============================] - 5s 6ms/step - loss: 0.0423 - accuracy: 0.9888 - val_loss: 0.7108 - val_accuracy: 0.9198\n",
      "Epoch 18/30\n",
      "860/860 [==============================] - 5s 6ms/step - loss: 0.0263 - accuracy: 0.9927 - val_loss: 0.7694 - val_accuracy: 0.9264\n",
      "Epoch 19/30\n",
      "860/860 [==============================] - 5s 6ms/step - loss: 0.0323 - accuracy: 0.9915 - val_loss: 0.8654 - val_accuracy: 0.9206\n",
      "Epoch 20/30\n",
      "860/860 [==============================] - 5s 6ms/step - loss: 0.0323 - accuracy: 0.9912 - val_loss: 0.6786 - val_accuracy: 0.9174\n",
      "Epoch 21/30\n",
      "860/860 [==============================] - 5s 6ms/step - loss: 0.0336 - accuracy: 0.9912 - val_loss: 0.7627 - val_accuracy: 0.9184\n",
      "Epoch 22/30\n",
      "860/860 [==============================] - 5s 6ms/step - loss: 0.0315 - accuracy: 0.9922 - val_loss: 0.7406 - val_accuracy: 0.9128\n",
      "Epoch 23/30\n",
      "860/860 [==============================] - 5s 6ms/step - loss: 0.0375 - accuracy: 0.9901 - val_loss: 0.8517 - val_accuracy: 0.9256\n",
      "Epoch 24/30\n",
      "860/860 [==============================] - 5s 6ms/step - loss: 0.0269 - accuracy: 0.9924 - val_loss: 0.8518 - val_accuracy: 0.9210\n",
      "Epoch 25/30\n",
      "860/860 [==============================] - 5s 6ms/step - loss: 0.0329 - accuracy: 0.9908 - val_loss: 0.7441 - val_accuracy: 0.9266\n",
      "Epoch 26/30\n",
      "860/860 [==============================] - 5s 5ms/step - loss: 0.0329 - accuracy: 0.9914 - val_loss: 0.9141 - val_accuracy: 0.9222\n",
      "Epoch 27/30\n",
      "860/860 [==============================] - 5s 6ms/step - loss: 0.0373 - accuracy: 0.9906 - val_loss: 0.7803 - val_accuracy: 0.9238\n",
      "Epoch 28/30\n",
      "860/860 [==============================] - 5s 6ms/step - loss: 0.0256 - accuracy: 0.9931 - val_loss: 0.9046 - val_accuracy: 0.9226\n",
      "Epoch 29/30\n",
      "860/860 [==============================] - 5s 5ms/step - loss: 0.0346 - accuracy: 0.9911 - val_loss: 0.8842 - val_accuracy: 0.9190 0\n",
      "Epoch 30/30\n",
      "860/860 [==============================] - 5s 6ms/step - loss: 0.0332 - accuracy: 0.9913 - val_loss: 0.7845 - val_accuracy: 0.9234\n"
     ]
    }
   ],
   "source": [
    "# Build and compile your model\n",
    "logdir2=get_run_logdir()\n",
    "tensorboard_cb2 = keras.callbacks.TensorBoard(logdir2)\n",
    "\n",
    "history = modelc.fit(X_train, y_train, epochs=30,batch_size=64,\n",
    "                    validation_data=(X_valid, y_valid),\n",
    "                    callbacks=[tensorboard_cb2])"
   ]
  },
  {
   "cell_type": "code",
   "execution_count": 46,
   "id": "db121d42-ba7a-4518-8787-a5a54bc5de49",
   "metadata": {},
   "outputs": [
    {
     "data": {
      "text/plain": [
       "Reusing TensorBoard on port 6006 (pid 29932), started 0:57:36 ago. (Use '!kill 29932' to kill it.)"
      ]
     },
     "metadata": {},
     "output_type": "display_data"
    },
    {
     "data": {
      "text/html": [
       "\n",
       "      <iframe id=\"tensorboard-frame-d3ee079d6871a11d\" width=\"100%\" height=\"800\" frameborder=\"0\">\n",
       "      </iframe>\n",
       "      <script>\n",
       "        (function() {\n",
       "          const frame = document.getElementById(\"tensorboard-frame-d3ee079d6871a11d\");\n",
       "          const url = new URL(\"/\", window.location);\n",
       "          const port = 6006;\n",
       "          if (port) {\n",
       "            url.port = port;\n",
       "          }\n",
       "          frame.src = url;\n",
       "        })();\n",
       "      </script>\n",
       "    "
      ],
      "text/plain": [
       "<IPython.core.display.HTML object>"
      ]
     },
     "metadata": {},
     "output_type": "display_data"
    }
   ],
   "source": [
    "%tensorboard --logdir=./my_logs --port=6006"
   ]
  },
  {
   "cell_type": "code",
   "execution_count": null,
   "id": "ceb89969-2769-4a83-afdc-238a7d221207",
   "metadata": {},
   "outputs": [],
   "source": [
    "%load_ext watermark\n",
    "%watermark"
   ]
  },
  {
   "cell_type": "code",
   "execution_count": null,
   "id": "138fe8a5-3670-47dd-bd95-4efa8efead80",
   "metadata": {},
   "outputs": [],
   "source": [
    "%watermark --iversions"
   ]
  },
  {
   "cell_type": "code",
   "execution_count": null,
   "id": "bfe0dc59-11d1-49e9-ba91-20da9a0e1bc1",
   "metadata": {},
   "outputs": [],
   "source": []
  }
 ],
 "metadata": {
  "kernelspec": {
   "display_name": "Python 3 (ipykernel)",
   "language": "python",
   "name": "python3"
  },
  "language_info": {
   "codemirror_mode": {
    "name": "ipython",
    "version": 3
   },
   "file_extension": ".py",
   "mimetype": "text/x-python",
   "name": "python",
   "nbconvert_exporter": "python",
   "pygments_lexer": "ipython3",
   "version": "3.9.7"
  }
 },
 "nbformat": 4,
 "nbformat_minor": 5
}
